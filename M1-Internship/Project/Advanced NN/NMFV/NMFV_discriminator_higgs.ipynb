{
 "cells": [
  {
   "cell_type": "markdown",
   "id": "c3f38a5f",
   "metadata": {},
   "source": [
    "# Setup"
   ]
  },
  {
   "cell_type": "code",
   "execution_count": 1,
   "id": "49305665",
   "metadata": {},
   "outputs": [
    {
     "name": "stderr",
     "output_type": "stream",
     "text": [
      "2022-06-23 11:51:46.157046: W tensorflow/stream_executor/platform/default/dso_loader.cc:64] Could not load dynamic library 'libcudart.so.11.0'; dlerror: libcudart.so.11.0: cannot open shared object file: No such file or directory\n",
      "2022-06-23 11:51:46.157072: I tensorflow/stream_executor/cuda/cudart_stub.cc:29] Ignore above cudart dlerror if you do not have a GPU set up on your machine.\n"
     ]
    }
   ],
   "source": [
    "import numpy as np\n",
    "import tensorflow as tf\n",
    "from tensorflow import keras\n",
    "from tensorflow.keras import layers\n",
    "import tensorflow_probability as tfp\n",
    "import matplotlib.pyplot as plt\n",
    "import random as rd\n",
    "import os\n",
    "from tqdm import tqdm\n",
    "import tensorflow_addons as tfa\n",
    "import pandas as pd\n",
    "import matplotlib.gridspec as gridspec\n",
    "from matplotlib.colorbar import Colorbar\n",
    "\n",
    "\n",
    "plt.style.use(['science','ieee'])"
   ]
  },
  {
   "cell_type": "markdown",
   "id": "8e73bed5",
   "metadata": {},
   "source": [
    "# Oracle"
   ]
  },
  {
   "cell_type": "code",
   "execution_count": 2,
   "id": "63516bc9",
   "metadata": {},
   "outputs": [],
   "source": [
    "#GeV [min,max]\n",
    "\n",
    "tanB_range = [2, 60]\n",
    "mu_range = [-10**4, 10**4]\n",
    "M1_range = M2_range = M3_range = [50, 5000]\n",
    "mA_range = [50, 5000]\n",
    "\n",
    "mQ_ii_range = mu_ii_range = md_ii_range = mL_ii_range = me_ii_range = [10**2,10**7]\n",
    "ae_33_range = [-10**4,10**4]\n",
    "au_ii_range = ad_ii_range = [-10**4,10**4]\n",
    "mQ_23_range = [0,10**3]\n",
    "md_23_range = [0,10**3]\n",
    "au_ij_range = ad_ij_range = [-100,100]\n",
    "\n",
    "NMFV_range_big= [tanB_range, mu_range, M1_range, M2_range, M3_range, mA_range, mQ_ii_range,\n",
    "                 mQ_ii_range, mQ_ii_range, mu_ii_range, mu_ii_range, mu_ii_range, md_ii_range,\n",
    "                 md_ii_range, md_ii_range, mL_ii_range, mL_ii_range, mL_ii_range, me_ii_range,\n",
    "                 me_ii_range, me_ii_range, ae_33_range, au_ii_range, au_ii_range, au_ii_range,\n",
    "                 ad_ii_range, ad_ii_range, ad_ii_range, mQ_23_range, md_23_range, au_ij_range,\n",
    "                 au_ij_range, au_ij_range, au_ij_range, au_ij_range, au_ij_range, ad_ij_range,\n",
    "                 ad_ij_range, ad_ij_range, ad_ij_range, ad_ij_range, ad_ij_range]\n",
    "\n",
    "\n",
    "NMFV_min = np.array([i[0] for i in NMFV_range_big])\n",
    "NMFV_max = np.array([i[1] for i in NMFV_range_big])\n",
    "\n",
    "NMFV_sub = np.subtract(NMFV_max, NMFV_min)\n",
    "\n",
    "NMFV_range = [NMFV_min,NMFV_max,NMFV_sub]"
   ]
  },
  {
   "cell_type": "code",
   "execution_count": 3,
   "id": "bd866885",
   "metadata": {},
   "outputs": [],
   "source": [
    "def write_slha(NMFV, nom_slha):\n",
    "    f = open(nom_slha, \"w\")\n",
    "    \n",
    "    f.write(\"BLOCK MODSEL \\n\")\n",
    "    f.write(\" 1    0                               #MSSM \\n\")\n",
    "    f.write(\" 6    1                               #flavour violation \\n\")\n",
    "                                                    \n",
    "    f.write(\"BLOCK SMINPUTS \\n\")                    \n",
    "    f.write(\"  1   1.27931417e+02                  # alpha^(-1) SM MSbar(M1) \\n\")\n",
    "    f.write(\"  2   1.663900000e-05                 # G_Fermi \\n\")\n",
    "    f.write(\"  3   0.119                           # alphas(MS) SM MSbar \\n\")\n",
    "    f.write(\"  4   91.1876                         # MZ(pole) \\n\")\n",
    "    f.write(\"  5   4.18                            # mb(mb) SM MSbar \\n\")\n",
    "    f.write(\"  6   172.9                           # mtop(pole) \\n\")\n",
    "    f.write(\"  7   1.776860000e+00                 # m mtau(pole) \\n\")\n",
    "                                                      \n",
    "    f.write(\"BLOCK MINPAR \\n\")                     \n",
    "    f.write(\"  3   \"+str(NMFV[0])+\"                # tanb \\n\")\n",
    "    f.write(\"  4   1                               # sign mu \\n\")\n",
    "                                                   \n",
    "    f.write(\"BLOCK EXTPAR \\n\")                    \n",
    "    f.write(\"  0    \"+str(-1.0)+\"                  # Q \\n\")\n",
    "    f.write(\"  1    \"+str(NMFV[2])+\"               # M1 \\n\")\n",
    "    f.write(\"  2    \"+str(NMFV[3])+\"               # M2 \\n\")\n",
    "    f.write(\"  3    \"+str(NMFV[4])+\"               # M3 \\n\")\n",
    "    f.write(\"  23   \"+str(NMFV[1])+\"               # mu \\n\")\n",
    "    f.write(\"  26   \"+str(NMFV[5])+\"               # mA \\n\")\n",
    "    f.write(\"  25   \"+str(NMFV[0])+\"               # tanb \\n\")\n",
    "    \n",
    "    f.write(\"BLOCK MSQ2IN \\n\")                            \n",
    "    f.write(\"  1  1    \"+str(NMFV[6])+\"            # mq2_11 \\n\")\n",
    "    f.write(\"  2  1    \"+str(0)+\"                  # mq2_12 \\n\")\n",
    "    f.write(\"  3  1    \"+str(0)+\"                  # mq2_13 \\n\")\n",
    "    f.write(\"  1  2    \"+str(0)+\"                  # mq2_21 \\n\")\n",
    "    f.write(\"  2  2    \"+str(NMFV[7])+\"            # mq2_22 \\n\")\n",
    "    f.write(\"  3  2    \"+str(0)+\"                  # mq2_23 \\n\")\n",
    "    f.write(\"  1  3    \"+str(0)+\"                  # mq2_31 \\n\")\n",
    "    f.write(\"  2  3    \"+str(NMFV[28])+\"           # mq2_32 \\n\")\n",
    "    f.write(\"  3  3    \"+str(NMFV[8])+\"            # mq2_33 \\n\")\n",
    "    \n",
    "    f.write(\"BLOCK MSU2IN \\n\")                            \n",
    "    f.write(\"  1  1    \"+str(NMFV[9])+\"            # mu2_11 \\n\")\n",
    "    f.write(\"  2  1    \"+str(0)+\"                  # mu2_12 \\n\")\n",
    "    f.write(\"  3  1    \"+str(0)+\"                  # mu2_13 \\n\")\n",
    "    f.write(\"  1  2    \"+str(0)+\"                  # mu2_21 \\n\")\n",
    "    f.write(\"  2  2    \"+str(NMFV[10])+\"           # mu2_22 \\n\")\n",
    "    f.write(\"  3  2    \"+str(0)+\"                  # mu2_23 \\n\")\n",
    "    f.write(\"  1  3    \"+str(0)+\"                  # mu2_31 \\n\")\n",
    "    f.write(\"  2  3    \"+str(0)+\"                  # mu2_32 \\n\")\n",
    "    f.write(\"  3  3    \"+str(NMFV[11])+\"           # mu2_33 \\n\")\n",
    "    \n",
    "    f.write(\"BLOCK MSD2IN \\n\")                            \n",
    "    f.write(\"  1  1    \"+str(NMFV[12])+\"           # md2_11 \\n\")\n",
    "    f.write(\"  2  1    \"+str(0)+\"                  # md2_12 \\n\")\n",
    "    f.write(\"  3  1    \"+str(0)+\"                  # md2_13 \\n\")\n",
    "    f.write(\"  1  2    \"+str(0)+\"                  # md2_21 \\n\")\n",
    "    f.write(\"  2  2    \"+str(NMFV[13])+\"           # md2_22 \\n\")\n",
    "    f.write(\"  3  2    \"+str(0)+\"                  # md2_23 \\n\")\n",
    "    f.write(\"  1  3    \"+str(0)+\"                  # md2_31 \\n\")\n",
    "    f.write(\"  2  3    \"+str(NMFV[29])+\"           # md2_32 \\n\")\n",
    "    f.write(\"  3  3    \"+str(NMFV[14])+\"           # md2_33 \\n\")\n",
    "    \n",
    "    f.write(\"BLOCK MSL2IN \\n\")                            \n",
    "    f.write(\"  1  1    \"+str(NMFV[15])+\"           # ml2_11 \\n\")\n",
    "    f.write(\"  2  1    \"+str(0)+\"                  # ml2_12 \\n\")\n",
    "    f.write(\"  3  1    \"+str(0)+\"                  # ml2_13 \\n\")\n",
    "    f.write(\"  1  2    \"+str(0)+\"                  # ml2_21 \\n\")\n",
    "    f.write(\"  2  2    \"+str(NMFV[16])+\"           # ml2_22 \\n\")\n",
    "    f.write(\"  3  2    \"+str(0)+\"                  # ml2_23 \\n\")\n",
    "    f.write(\"  1  3    \"+str(0)+\"                  # ml2_31 \\n\")\n",
    "    f.write(\"  2  3    \"+str(0)+\"                  # ml2_32 \\n\")\n",
    "    f.write(\"  3  3    \"+str(NMFV[17])+\"           # ml2_33 \\n\")\n",
    "    \n",
    "    f.write(\"BLOCK MSE2IN \\n\")                            \n",
    "    f.write(\"  1  1    \"+str(NMFV[18])+\"           # me2_11 \\n\")\n",
    "    f.write(\"  2  1    \"+str(0)+\"                  # me2_12 \\n\")\n",
    "    f.write(\"  3  1    \"+str(0)+\"                  # me2_13 \\n\")\n",
    "    f.write(\"  1  2    \"+str(0)+\"                  # me2_21 \\n\")\n",
    "    f.write(\"  2  2    \"+str(NMFV[19])+\"           # me2_22 \\n\")\n",
    "    f.write(\"  3  2    \"+str(0)+\"                  # me2_23 \\n\")\n",
    "    f.write(\"  1  3    \"+str(0)+\"                  # me2_31 \\n\")\n",
    "    f.write(\"  2  3    \"+str(0)+\"                  # me2_32 \\n\")\n",
    "    f.write(\"  3  3    \"+str(NMFV[20])+\"           # me2_33 \\n\")\n",
    "    \n",
    "    f.write(\"BLOCK TEIN \\n\")                            \n",
    "    f.write(\"  1  1    \"+str(0)+\"                  # T_e_11 \\n\")\n",
    "    f.write(\"  2  1    \"+str(0)+\"                  # T_e_21 \\n\")\n",
    "    f.write(\"  3  1    \"+str(0)+\"                  # T_e_31 \\n\")\n",
    "    f.write(\"  1  2    \"+str(0)+\"                  # T_e_12 \\n\")\n",
    "    f.write(\"  2  2    \"+str(0)+\"                  # T_e_22 \\n\")\n",
    "    f.write(\"  3  2    \"+str(0)+\"                  # T_e_32 \\n\")\n",
    "    f.write(\"  1  3    \"+str(0)+\"                  # T_e_13 \\n\")\n",
    "    f.write(\"  2  3    \"+str(0)+\"                  # T_e_23 \\n\")\n",
    "    f.write(\"  3  3    \"+str(NMFV[21])+\"           # T_e_33 \\n\")\n",
    "    \n",
    "    f.write(\"BLOCK TUIN \\n\")                            \n",
    "    f.write(\"  1  1    \"+str(NMFV[22])+\"           # T_u_11 \\n\")\n",
    "    f.write(\"  2  1    \"+str(NMFV[30])+\"           # T_u_21 \\n\")\n",
    "    f.write(\"  3  1    \"+str(NMFV[31])+\"           # T_u_31 \\n\")\n",
    "    f.write(\"  1  2    \"+str(NMFV[32])+\"           # T_u_12 \\n\")\n",
    "    f.write(\"  2  2    \"+str(NMFV[23])+\"           # T_u_22 \\n\")\n",
    "    f.write(\"  3  2    \"+str(NMFV[33])+\"           # T_u_32 \\n\")\n",
    "    f.write(\"  1  3    \"+str(NMFV[34])+\"           # T_u_13 \\n\")\n",
    "    f.write(\"  2  3    \"+str(NMFV[35])+\"           # T_u_23 \\n\")\n",
    "    f.write(\"  3  3    \"+str(NMFV[24])+\"           # T_u_33 \\n\")\n",
    "    \n",
    "    f.write(\"BLOCK TDIN \\n\")                            \n",
    "    f.write(\"  1  1    \"+str(NMFV[25])+\"           # T_d_11 \\n\")\n",
    "    f.write(\"  2  1    \"+str(NMFV[36])+\"           # T_d_21 \\n\")\n",
    "    f.write(\"  3  1    \"+str(NMFV[37])+\"           # T_d_31 \\n\")\n",
    "    f.write(\"  1  2    \"+str(NMFV[38])+\"           # T_d_12 \\n\")\n",
    "    f.write(\"  2  2    \"+str(NMFV[26])+\"           # T_d_22 \\n\")\n",
    "    f.write(\"  3  2    \"+str(NMFV[39])+\"           # T_d_32 \\n\")\n",
    "    f.write(\"  1  3    \"+str(NMFV[40])+\"           # T_d_13 \\n\")\n",
    "    f.write(\"  2  3    \"+str(NMFV[41])+\"           # T_d_23 \\n\")\n",
    "    f.write(\"  3  3    \"+str(NMFV[27])+\"           # T_d_33 \\n\")\n",
    "    \n",
    "    f.close()"
   ]
  },
  {
   "cell_type": "code",
   "execution_count": 22,
   "id": "bfce5dc4",
   "metadata": {
    "scrolled": true
   },
   "outputs": [
    {
     "name": "stdout",
     "output_type": "stream",
     "text": [
      "0.01110899653824131\n",
      "1.0\n",
      "0.6065306597126273\n"
     ]
    },
    {
     "data": {
      "image/png": "[encoded data removed]",
      "text/plain": [
       "<Figure size 432x288 with 1 Axes>"
      ]
     },
     "metadata": {
      "needs_background": "light"
     },
     "output_type": "display_data"
    }
   ],
   "source": [
    "def Gauss(mu_gauss,sigma_gauss,x):\n",
    "    return np.exp(-0.5*((x-mu_gauss)/sigma_gauss)**2)\n",
    "\n",
    "mu_gauss = 125.25\n",
    "sigma_gauss = 0.17\n",
    "\n",
    "x = np.linspace(124,126.25,1000)\n",
    "y = [Gauss(mu_gauss,sigma_gauss,i) for i in x]\n",
    "plt.plot(x,y,'-b',label=r'$e^{(x-\\mu)^2 / 2\\sigma^2}$')\n",
    "plt.plot([125.25,125.25],[0,1],'--k',label=r'$\\mu = 125.25$')\n",
    "plt.plot([125.25,125.25+0.17],[Gauss(mu_gauss,sigma_gauss,mu_gauss+sigma_gauss),\n",
    "                               Gauss(mu_gauss,sigma_gauss,mu_gauss+sigma_gauss)],\n",
    "        '--r',label=r'$\\sigma = 0.17$')\n",
    "plt.plot(mu_gauss+3*sigma_gauss,Gauss(mu_gauss,sigma_gauss,mu_gauss+3*sigma_gauss),'or')\n",
    "plt.plot(mu_gauss+3*sigma_gauss,Gauss(mu_gauss,sigma_gauss,mu_gauss+3*sigma_gauss),'or',\n",
    "        label='$3\\sig:')\n",
    "plt.xlabel('x')\n",
    "plt.ylabel('f(x)')\n",
    "plt.title('Gaussian Higgs distribution')\n",
    "plt.legend()\n",
    "\n",
    "\n",
    "print(Gauss(mu_gauss,sigma_gauss,mu_gauss+3*sigma_gauss))\n",
    "print(Gauss(mu_gauss,sigma_gauss,mu_gauss))\n",
    "print(Gauss(mu_gauss,sigma_gauss,mu_gauss+sigma_gauss))\n",
    "\n",
    "gauss_3sigma = Gauss(mu_gauss,sigma_gauss,mu_gauss+3*sigma_gauss)"
   ]
  },
  {
   "cell_type": "code",
   "execution_count": 5,
   "id": "46ebbf42",
   "metadata": {},
   "outputs": [],
   "source": [
    "def Oracle(logits, NMFV_range, ratio, succes_path):\n",
    "    \n",
    "    NMFV_AL = np.add(np.multiply(logits,NMFV_range[2]),NMFV_range[0])\n",
    "    \n",
    "    write_slha(NMFV_AL, \"Advanced NN/NMFV/nmfv_al.in\")    \n",
    "    \n",
    "    os.system('./SUSY/softsusy-4.1.9/softpoint.x leshouches < Advanced\\ NN/NMFV/nmfv_al.in > Advanced\\ NN/NMFV/nmfv_al.out')\n",
    "            \n",
    "          \n",
    "    if os.path.getsize('/home/mathis/Stage M1/Advanced NN/NMFV/nmfv_al.out') == 0 :\n",
    "        ratio[0]+=1\n",
    "        return 0\n",
    "        \n",
    "    with open('Advanced NN/NMFV/nmfv_al.out') as slha_out:\n",
    "        content = slha_out.read()\n",
    "        if 'SOFTSUSY problem' in content:\n",
    "            ratio[0]+=1\n",
    "            return 0\n",
    "        if 'LSP # Warning' in content:\n",
    "            ratio[0]+=1\n",
    "            return 0\n",
    "    \n",
    "    with open('Advanced NN/NMFV/nmfv_al.out') as file:\n",
    "        for indice, ligne in enumerate(file):\n",
    "            if '# h0' in ligne:\n",
    "                h0_value = float(ligne.split()[1])\n",
    "    \n",
    "    h0_gauss = Gauss(mu_gauss,sigma_gauss,h0_value)\n",
    "    \n",
    "    if h0_gauss < gauss_3sigma:\n",
    "        ratio[0]+=1\n",
    "        return 0\n",
    "    else:\n",
    "        ratio[1]+=1\n",
    "        commande = 'mv Advanced\\ NN/NMFV/nmfv_al.out '\n",
    "        nom_fichier = 'nmfv_al_succes_'+str(ratio[1])+'.out'\n",
    "        os.system(commande+succes_path+nom_fichier)\n",
    "        return h0_gauss   "
   ]
  },
  {
   "cell_type": "markdown",
   "id": "f6553a13",
   "metadata": {},
   "source": [
    "# Model"
   ]
  },
  {
   "cell_type": "code",
   "execution_count": 6,
   "id": "7be63031",
   "metadata": {},
   "outputs": [
    {
     "name": "stdout",
     "output_type": "stream",
     "text": [
      "Model: \"model\"\n",
      "_________________________________________________________________\n",
      " Layer (type)                Output Shape              Param #   \n",
      "=================================================================\n",
      " input_1 (InputLayer)        [(None, 42)]              0         \n",
      "                                                                 \n",
      " dense (Dense)               (None, 100)               4300      \n",
      "                                                                 \n",
      " dense_1 (Dense)             (None, 100)               10100     \n",
      "                                                                 \n",
      " dense_2 (Dense)             (None, 1)                 101       \n",
      "                                                                 \n",
      "=================================================================\n",
      "Total params: 14,501\n",
      "Trainable params: 14,501\n",
      "Non-trainable params: 0\n",
      "_________________________________________________________________\n"
     ]
    },
    {
     "name": "stderr",
     "output_type": "stream",
     "text": [
      "2022-06-21 15:07:13.187120: W tensorflow/stream_executor/platform/default/dso_loader.cc:64] Could not load dynamic library 'libcuda.so.1'; dlerror: libcuda.so.1: cannot open shared object file: No such file or directory\n",
      "2022-06-21 15:07:13.187153: W tensorflow/stream_executor/cuda/cuda_driver.cc:269] failed call to cuInit: UNKNOWN ERROR (303)\n",
      "2022-06-21 15:07:13.187178: I tensorflow/stream_executor/cuda/cuda_diagnostics.cc:156] kernel driver does not appear to be running on this host (MPC): /proc/driver/nvidia/version does not exist\n",
      "2022-06-21 15:07:13.187489: I tensorflow/core/platform/cpu_feature_guard.cc:151] This TensorFlow binary is optimized with oneAPI Deep Neural Network Library (oneDNN) to use the following CPU instructions in performance-critical operations:  AVX2 FMA\n",
      "To enable them in other operations, rebuild TensorFlow with the appropriate compiler flags.\n"
     ]
    }
   ],
   "source": [
    "fnc_activation = 'relu'\n",
    "fnc_activation_output = 'sigmoid'\n",
    "inputs = tf.keras.Input(shape=(42,), dtype='float32')\n",
    "x = keras.layers.Dense(100, trainable=True, activation=fnc_activation)(inputs)\n",
    "x = keras.layers.Dense(100, trainable=True, activation=fnc_activation)(x)\n",
    "outputs = keras.layers.Dense(1, activation=fnc_activation_output)(x)\n",
    "model = tf.keras.Model(inputs,outputs)\n",
    "\n",
    "lr = 1e-3\n",
    "\n",
    "optimizer = tf.keras.optimizers.Adam(learning_rate=lr)\n",
    "\n",
    "model.summary()\n",
    "\n",
    "\n",
    "\n",
    "loss_fn = tf.keras.losses.BinaryCrossentropy(from_logits=False, reduction='sum_over_batch_size')\n",
    "#False pour une probabilité ie [0;1]"
   ]
  },
  {
   "cell_type": "markdown",
   "id": "23df54be",
   "metadata": {},
   "source": [
    "# Initial training"
   ]
  },
  {
   "cell_type": "code",
   "execution_count": 7,
   "id": "24227af5",
   "metadata": {},
   "outputs": [
    {
     "name": "stdout",
     "output_type": "stream",
     "text": [
      "Step 1 / 1\n",
      "   Verite\n"
     ]
    },
    {
     "name": "stderr",
     "output_type": "stream",
     "text": [
      "100%|███████████████████████████████████████| 1000/1000 [01:31<00:00, 10.90it/s]\n"
     ]
    },
    {
     "name": "stdout",
     "output_type": "stream",
     "text": [
      "   Optimisation\n",
      "Nombre d'échecs: 999\n",
      "Nombre de succes: 1\n"
     ]
    }
   ],
   "source": [
    "os.chdir('/home/mathis/Stage M1/')\n",
    "os.system('rm -r Advanced\\ NN/NMFV/softsusy_succes/')\n",
    "os.system('mkdir -p Advanced\\ NN/NMFV/softsusy_succes')\n",
    "succes_path = 'Advanced\\ NN/NMFV/softsusy_succes/'\n",
    "\n",
    "ratio = [0,0]\n",
    "\n",
    "L_size = 500000\n",
    "K_size = 1000\n",
    "train_step = 1\n",
    "\n",
    "a = 0.0001\n",
    "alpha = 0.5\n",
    "\n",
    "K_pool = []\n",
    "K_pred = []\n",
    "\n",
    "compteur = 0\n",
    "full_train = 0\n",
    "\n",
    "q = 1\n",
    "\n",
    "for step , i in enumerate(range(train_step)):\n",
    "    print('Step {} / {}'.format(i+1,train_step))\n",
    "    \n",
    "    p = 2*min(q,0.5)\n",
    "    p = round(p,1)\n",
    "    \n",
    "    if p == 1:\n",
    "        K = [[rd.uniform(0,1) for j in range(42)] for k in range(K_size)]\n",
    "    \n",
    "    if p < 1:\n",
    "        print('   Recherche points')\n",
    "        pK_size = int(K_size*p)\n",
    "        pm1 = round((1-p),1)\n",
    "        \n",
    "        pK = [[rd.uniform(0,1) for j in range(42)] for k in range(pK_size)]\n",
    "        \n",
    "        L = [[rd.uniform(0,1) for j in range(42)] for k in range(L_size)]\n",
    "        L = tf.convert_to_tensor(L)\n",
    "        L_logits = model(tf.convert_to_tensor(L))\n",
    "\n",
    "        s = tf.math.multiply(L_logits,tf.math.subtract(1,L_logits))\n",
    "        index = tf.math.argmax(s, axis=0).numpy()[0]\n",
    "\n",
    "        K = []\n",
    "        K.append(L[index].numpy().tolist())\n",
    "        s = tf.concat([s[0:index], s[index+1:len(s)]],0)\n",
    "        L = tf.concat([L[0:index], L[index+1:len(L)]],0)\n",
    "\n",
    "\n",
    "        rj_tensor = tf.zeros([len(s),1])\n",
    "        for j in range(int(pm1*K_size)-1):\n",
    "\n",
    "            ri = tf.convert_to_tensor(K[-1])\n",
    "            ri = tf.math.multiply(tf.ones([len(s),1]),ri)\n",
    "\n",
    "            dabs = tf.math.abs(tf.math.subtract(ri,L))\n",
    "            dsquared = tf.math.multiply(dabs, dabs)\n",
    "            dsquared = tf.reduce_mean(dsquared, axis=1)\n",
    "\n",
    "            rj_list = dsquared.numpy()\n",
    "            rj_list = np.where(rj_list<0.01**2, -a/(a+rj_list), rj_list*0)\n",
    "            rj_min = np.amin(rj_list)\n",
    "\n",
    "            rj_list = tf.convert_to_tensor([rj_list])\n",
    "            rj_list = tf.transpose(rj_list)\n",
    "            rj_tensor = tf.math.add(rj_tensor,rj_list)\n",
    "\n",
    "            sigma = s.numpy().std() \n",
    "\n",
    "            S_part1 = tf.math.multiply((1-alpha),s)\n",
    "            S_part2 = tf.math.multiply((alpha*sigma/(4*rj_min)),rj_tensor)\n",
    "            S = tf.math.add(S_part1 , S_part2)\n",
    "\n",
    "            index2 = tf.math.argmax(S, axis=0).numpy()[0]\n",
    "\n",
    "            K.append(L[index2].numpy().tolist())\n",
    "\n",
    "            s = tf.concat([s[0:index2], s[index2+1:len(s)]],0)\n",
    "            L = tf.concat([L[0:index2], L[index2+1:len(L)]],0)\n",
    "            rj_tensor = tf.concat([rj_tensor[0:index2], rj_tensor[index2+1:len(rj_tensor)]],0)\n",
    "        \n",
    "        K = K + pK\n",
    "        \n",
    "    assert len(K) == K_size\n",
    "    K_pool.append(K)\n",
    "    \n",
    "    pred_liste = []\n",
    "    print('   Verite')\n",
    "    for j in tqdm(K):\n",
    "        pred = Oracle(j, NMFV_range, ratio, succes_path)\n",
    "        pred_liste.append(pred)\n",
    "    \n",
    "    assert len(pred_liste) == K_size\n",
    "    K_pred.append(pred_liste)     \n",
    "    \n",
    "    batch_pred = [K_pred[-1]]\n",
    "    all_batch = [K_pool[-1]]\n",
    "    '''\n",
    "    if compteur == full_train:\n",
    "        compteur = 0\n",
    "        all_batch = K_pool\n",
    "        batch_pred = K_pred\n",
    "    '''\n",
    "    \n",
    "    print('   Optimisation')\n",
    "    for j in range(len(all_batch)): \n",
    "        with tf.GradientTape() as tape:\n",
    "            logits = model(tf.convert_to_tensor(all_batch[j]))\n",
    "\n",
    "            true = tf.convert_to_tensor([batch_pred[j]])\n",
    "            true = tf.transpose(true)\n",
    "            \n",
    "            true_prime = tf.cast(true, dtype=tf.float32)\n",
    "            q = tf.math.abs(tf.math.subtract(true_prime,logits))\n",
    "            q = tf.reduce_mean(q, axis=0)\n",
    "            q = round(q.numpy()[0],1)\n",
    "            \n",
    "            loss = loss_fn(true,logits)\n",
    "\n",
    "        gradients = tape.gradient(loss, model.trainable_weights)\n",
    "        optimizer.apply_gradients(zip(gradients, model.trainable_weights))\n",
    "    \n",
    "    compteur += 1\n",
    "    \n",
    "    \n",
    "print(\"Nombre d'échecs:\",ratio[0])\n",
    "print(\"Nombre de succes:\",ratio[1])"
   ]
  },
  {
   "cell_type": "markdown",
   "id": "5935970d",
   "metadata": {},
   "source": [
    "# Récupération data"
   ]
  },
  {
   "cell_type": "code",
   "execution_count": 8,
   "id": "94816a95",
   "metadata": {},
   "outputs": [],
   "source": [
    "def recuperation_slha(folder,filename,sus_mass,param,ms2_param,t_param,succes):\n",
    "    warning = 0\n",
    "    for j in range(succes):\n",
    "        file_name =folder+filename+str(j+1)+'.out' \n",
    "        \n",
    "        with open(file_name) as file:\n",
    "            for indice, ligne in enumerate(file):\n",
    "                if 'tanb' in ligne:\n",
    "                    indice_tanb = indice\n",
    "                \n",
    "                if 'M_1(MX)' in ligne:\n",
    "                    indices_M = [indice+i for i in range(3)]\n",
    "                if 'mu(MX)' in ligne:\n",
    "                    indice_mu = indice\n",
    "                if 'mA(pole)' in ligne:\n",
    "                    indice_mA = indice\n",
    "                    \n",
    "                if 'MW' in ligne:\n",
    "                    indices_masses = [indice+i for i in range(33)]\n",
    "                    \n",
    "                if 'input (mhat_Q^2)_{1,1}' in ligne:\n",
    "                    indices_msq2 = [indice, indice+3, indice+4, indice+5]\n",
    "                if 'input (mhat_u^2)_{1,1}' in ligne:\n",
    "                    indices_msu2 = [indice, indice+3, indice+5]\n",
    "                if 'input (mhat_d^2)_{1,1}' in ligne:\n",
    "                    indices_msd2 = [indice, indice+3, indice+4, indice+5]\n",
    "                if 'Block MSL2IN' in ligne:\n",
    "                    indices_msl2 = [indice+1, indice+4, indice+6]\n",
    "                if 'Block MSE2IN' in ligne:\n",
    "                    indices_mse2 = [indice+1, indice+4, indice+6]\n",
    "                    \n",
    "                if 'input (That_U)_{1,1}' in ligne:\n",
    "                    indices_tu = [indice+i for i in range(9)]\n",
    "                if 'input (That_D)_{1,1}' in ligne:\n",
    "                    indices_td = [indice+i for i in range(9)]\n",
    "                if 'input (That_E)_{3,3}' in ligne:\n",
    "                    indice_te = indice\n",
    "        \n",
    "        \n",
    "        file = open(file_name)\n",
    "        lignes = file.readlines()\n",
    "        \n",
    "        \n",
    "        param[0].append(float(lignes[indice_tanb].split()[1]))\n",
    "        \n",
    "        for step, i in enumerate(param[1]):\n",
    "            i.append(float(lignes[indices_M[step]].split()[1]))\n",
    "            \n",
    "        param[2].append(float(lignes[indice_mu].split()[1]))\n",
    "        \n",
    "        param[3].append(float(lignes[indice_mA].split()[1]))\n",
    "            \n",
    "        \n",
    "            \n",
    "        \n",
    "        sus_mass[0].append(float(lignes[indices_masses[0]].split()[1]))\n",
    "        \n",
    "        for step, i in enumerate(sus_mass[1]):\n",
    "            i.append(float(lignes[indices_masses[step+1]].split()[1]))\n",
    "        \n",
    "        sus_mass[2].append(float(lignes[indices_masses[5]].split()[1]))\n",
    "        \n",
    "        sus_mass[3][0].append(float(lignes[indices_masses[6]].split()[1]))\n",
    "        sus_mass[3][1].append(float(lignes[indices_masses[7]].split()[1]))\n",
    "        sus_mass[3][2].append(float(lignes[indices_masses[9]].split()[1]))\n",
    "        sus_mass[3][3].append(float(lignes[indices_masses[10]].split()[1]))\n",
    "        \n",
    "        sus_mass[4][0].append(float(lignes[indices_masses[8]].split()[1]))\n",
    "        sus_mass[4][1].append(float(lignes[indices_masses[11]].split()[1]))\n",
    "        \n",
    "        for step, i in enumerate(sus_mass[5]):\n",
    "            i.append(float(lignes[indices_masses[step+12]].split()[1]))\n",
    "        \n",
    "        for step, i in enumerate(sus_mass[6]):\n",
    "            i.append(float(lignes[indices_masses[step+18]].split()[1]))\n",
    "\n",
    "        for step, i in enumerate(sus_mass[7]):\n",
    "            i.append(float(lignes[indices_masses[step+21]].split()[1]))        \n",
    "        \n",
    "        for step, i in enumerate(sus_mass[8]):\n",
    "            i.append(float(lignes[indices_masses[step+27]].split()[1]))\n",
    "            \n",
    "            \n",
    "            \n",
    "        for step, i in enumerate(ms2_param[0]):\n",
    "            i.append(float(lignes[indices_msq2[step]].split()[2]))\n",
    "        for step, i in enumerate(ms2_param[1]):\n",
    "            i.append(float(lignes[indices_msu2[step]].split()[2]))    \n",
    "        for step, i in enumerate(ms2_param[2]):\n",
    "            i.append(float(lignes[indices_msd2[step]].split()[2]))\n",
    "        for step, i in enumerate(ms2_param[3]):\n",
    "            i.append(float(lignes[indices_msl2[step]].split()[2]))\n",
    "        for step, i in enumerate(ms2_param[4]):\n",
    "            i.append(float(lignes[indices_mse2[step]].split()[2])) \n",
    "            \n",
    "            \n",
    "            \n",
    "        for step, i in enumerate(t_param[0]):\n",
    "            i.append(float(lignes[indices_tu[step]].split()[2]))\n",
    "        for step, i in enumerate(t_param[1]):\n",
    "            i.append(float(lignes[indices_td[step]].split()[2])) \n",
    "        t_param[2].append(float(lignes[indice_te].split()[2]))\n",
    "    \n",
    "    \n",
    "    \n",
    "        with open(file_name) as file:\n",
    "            if 'LSP # Warning' in file.read():\n",
    "                warning+=1\n",
    "    return warning"
   ]
  },
  {
   "cell_type": "code",
   "execution_count": 9,
   "id": "add38be6",
   "metadata": {},
   "outputs": [
    {
     "name": "stdout",
     "output_type": "stream",
     "text": [
      "Nombre warning: 0\n"
     ]
    }
   ],
   "source": [
    "MW_mass = []\n",
    "higgs_mass = [[] for i in range(4)]        #[h0 , H0 , A0 , H+]\n",
    "g_mass = []\n",
    "neutralino_mass = [[] for i in range(4)]   #[N1 , N2 , N3 , N4]\n",
    "chargino_mass = [[] for i in range(2)]     #[neutralino1 , neutralino2]     \n",
    "e_mass = [[] for i in range(6)]\n",
    "nu_mass = [[] for i in range(3)]\n",
    "d_mass = [[] for i in range(6)]\n",
    "u_mass = [[] for i in range(6)]\n",
    "\n",
    "sus_mass = [MW_mass,higgs_mass,g_mass,neutralino_mass,chargino_mass,e_mass,nu_mass,d_mass,u_mass]\n",
    "\n",
    "\n",
    "tanB_param = []\n",
    "M_param = [[] for i in range(3)]           #[M1 , M2 , M3\n",
    "mu_param = []\n",
    "mA_param = []\n",
    "\n",
    "param = [tanB_param,M_param,mu_param,mA_param]\n",
    "\n",
    "\n",
    "msq2_param = [[] for i in range(4)]\n",
    "msu2_param = [[] for i in range(3)]\n",
    "msd2_param = [[] for i in range(4)]\n",
    "msl2_param = [[] for i in range(3)]\n",
    "mse2_param = [[] for i in range(3)]\n",
    "\n",
    "ms2_param = [msq2_param,msu2_param,msd2_param,msl2_param,mse2_param]\n",
    "\n",
    "\n",
    "tu_param = [[] for i in range(9)]\n",
    "td_param = [[] for i in range(9)]\n",
    "te_param = []\n",
    "\n",
    "t_param = [tu_param,td_param,te_param]\n",
    "\n",
    "folder = 'Advanced NN/NMFV/softsusy_succes/'\n",
    "file_name = 'nmfv_al_succes_'\n",
    "warning = recuperation_slha(folder,file_name,sus_mass,param,ms2_param,t_param,ratio[1])\n",
    "\n",
    "print('Nombre warning:',warning)"
   ]
  },
  {
   "cell_type": "markdown",
   "id": "6fdd25eb",
   "metadata": {},
   "source": [
    "# Sauvegarde Run"
   ]
  },
  {
   "cell_type": "code",
   "execution_count": 10,
   "id": "0c4a27ca",
   "metadata": {},
   "outputs": [
    {
     "name": "stdout",
     "output_type": "stream",
     "text": [
      "WARNING:tensorflow:Compiled the loaded model, but the compiled metrics have yet to be built. `model.compile_metrics` will be empty until you train or evaluate the model.\n"
     ]
    }
   ],
   "source": [
    "from datetime import date, datetime\n",
    "\n",
    "folder_name = str(date.today())+'-'+str(datetime.now().time().strftime(\"%H:%M:%S\"))\n",
    "commande = 'mkdir -p Advanced\\ NN/NMFV/NMFV_run/'+folder_name\n",
    "os.system(commande)\n",
    "\n",
    "with open('Advanced NN/NMFV/NMFV_run/'+folder_name+'/config.txt', 'w') as f:\n",
    "    f.write('L: '+str(L_size)+'\\n')\n",
    "    f.write('K: '+str(K_size)+'\\n')\n",
    "    f.write('alpha: '+str(alpha)+'\\n')\n",
    "    f.write('a: '+str(a)+'\\n')\n",
    "    f.write('train steps: '+str(train_step)+'\\n')\n",
    "    f.write(\"Nombre d'échecs: \"+str(ratio[0])+'\\n')\n",
    "    f.write(\"Nombre de succes: \"+str(ratio[1])+'\\n')\n",
    "    f.write(\"Nombre Warning LSP: \"+str(warning)+'\\n')\n",
    "    f.write('\\n')\n",
    "    f.write(\"Fonctions d'activations: \"+fnc_activation+'\\n')\n",
    "    f.write(\"Fonctions d'activations output: \"+fnc_activation_output+'\\n')\n",
    "    f.write('Learning rate:'+str(lr)+'\\n')\n",
    "    f.write('Optimizer: '+str(optimizer)+'\\n')\n",
    "    f.write('\\n')\n",
    "    model.summary(print_fn=lambda x: f.write(x + '\\n'))\n",
    "    f.write('\\n')\n",
    "    f.write('\\n')\n",
    "    f.write('Range:')\n",
    "    f.write('tanB: '+str(NMFV_range_big[0])+'\\n')\n",
    "    f.write('mu: '+str(NMFV_range_big[1])+'\\n')\n",
    "    f.write('M1: '+str(NMFV_range_big[2])+'\\n')\n",
    "    f.write('M2: '+str(NMFV_range_big[3])+'\\n')\n",
    "    f.write('M3: '+str(NMFV_range_big[4])+'\\n')\n",
    "    f.write('mA: '+str(NMFV_range_big[5])+'\\n')\n",
    "    \n",
    "    f.write('mQ2_ii: '+str(mQ_ii_range)+'\\n')\n",
    "    f.write('mQ2_23: '+str(mQ_23_range)+'\\n')\n",
    "    f.write('mu2_ii: '+str(mu_ii_range)+'\\n')\n",
    "    f.write('md2_ii: '+str(md_ii_range)+'\\n')\n",
    "    f.write('md2_23: '+str(md_23_range)+'\\n')\n",
    "    f.write('mL2_ii: '+str(mL_ii_range)+'\\n')\n",
    "    f.write('me2_ii: '+str(me_ii_range)+'\\n')\n",
    "    \n",
    "    f.write('au_ii: '+str(au_ii_range)+'\\n')\n",
    "    f.write('au_ij: '+str(au_ij_range)+'\\n')\n",
    "    f.write('ad_ii: '+str(ad_ii_range)+'\\n')\n",
    "    f.write('ad_ij: '+str(ad_ij_range)+'\\n')\n",
    "    f.write('ae_33: '+str(ae_33_range)+'\\n')\n",
    "    \n",
    "    \n",
    "model.save('Advanced NN/NMFV/NMFV_run/'+folder_name+'/model.h5')\n",
    "    \n",
    "param_file = zip(tanB_param, M_param[0], M_param[1], M_param[2], mu_param, mA_param, \n",
    "                 msq2_param[0], msq2_param[1], msq2_param[2], msq2_param[3], msu2_param[0], \n",
    "                 msu2_param[1], msu2_param[2], msd2_param[0], msd2_param[1], msd2_param[2], \n",
    "                 msd2_param[3], msl2_param[0], msl2_param[1], msl2_param[2], mse2_param[0], \n",
    "                 mse2_param[1], mse2_param[2], tu_param[0], tu_param[1], tu_param[2], \n",
    "                 tu_param[3], tu_param[4], tu_param[5], tu_param[6], tu_param[7], tu_param[8], \n",
    "                 td_param[0], td_param[1], td_param[2], td_param[3], td_param[4], td_param[5], \n",
    "                 td_param[6], td_param[7], td_param[8], te_param)\n",
    "\n",
    "header_param = ['tanb','M1','M2','M3','mu','mA','msq2_11','msq2_22','msq2_23','msq2_33','msu2_11',\n",
    "         'msu2_22','msu2_33','msd2_11','msd2_22','msd2_23','msd2_33','msl2_11','msl2_22',\n",
    "         'msl2_33','mse2_11','mse2_22','mse2_33','tu_11','tu_12','tu_13','tu_21','tu_22',\n",
    "         'tu_23','tu_31','tu_32','tu_33','td_11','td_12','td_13','td_21','td_22',\n",
    "         'td_23','td_31','td_32','td_33','te_33']\n",
    "\n",
    "\n",
    "import csv\n",
    "with open('Advanced NN/NMFV/NMFV_run/'+folder_name+'/data.csv', 'w') as f:\n",
    "    writer = csv.writer(f, delimiter='\\t')\n",
    "    writer.writerow(header_param)\n",
    "    writer.writerows(param_file)\n",
    "\n",
    "K_file = []\n",
    "\n",
    "for indice_i,i in enumerate(K_pool):\n",
    "    for indice_j,j in enumerate(i):\n",
    "        K_file.append(j+[K_pred[indice_i][indice_j]])\n",
    "\n",
    "with open('Advanced NN/NMFV/NMFV_run/'+folder_name+'/K_pool.csv', 'w') as f:\n",
    "    writer = csv.writer(f, delimiter='\\t')\n",
    "    writer.writerow(header_param+['pred'])\n",
    "    writer.writerows(K_file)"
   ]
  },
  {
   "cell_type": "markdown",
   "id": "ec48281f",
   "metadata": {},
   "source": [
    "# Plot "
   ]
  },
  {
   "cell_type": "code",
   "execution_count": 11,
   "id": "9f388374",
   "metadata": {},
   "outputs": [],
   "source": [
    "def plot_histo(title, xlabel, ylabel, list_hist,bins, label, legend = False, histtype='bar', save=False, file_folder=''):\n",
    "    plt.figure()\n",
    "    for indice, hist in enumerate(list_hist):\n",
    "        plt.hist(hist,bins,label=label[indice],histtype=histtype)\n",
    "    plt.title(title)\n",
    "    plt.xlabel(xlabel)\n",
    "    plt.ylabel(ylabel)\n",
    "    if legend == True:\n",
    "        plt.legend()\n",
    "    if save == True:\n",
    "        plt.savefig(file_folder)\n",
    "    \n",
    "def subplot_histo(titre, xlabel, ylabel, x, y, share, subtitle, hist_list, label, legend = False, histtype='bar', save=False, file_folder=''):  \n",
    "    fig , ax = plt.subplots(x, y, sharex=share[0], sharey=share[1], constrained_layout = True)\n",
    "    plt.suptitle(titre)\n",
    "    fig.text(0.5, -0.05, xlabel, ha='center')\n",
    "    fig.text(-0.04, 0.5, ylabel, va='center', rotation='vertical')\n",
    "\n",
    "    for indice, hist in enumerate(hist_list): \n",
    "        compteur = 0\n",
    "        for i in range(x):\n",
    "            if y != 1:\n",
    "                for j in range(y):\n",
    "                    ax[i, j].hist(hist[compteur],100,histtype=histtype,label=label[indice])\n",
    "                    ax[i, j].set_title(subtitle[compteur])\n",
    "                    compteur+=1\n",
    "                    if legend == True:\n",
    "                        ax[i, j].legend()\n",
    "            else:\n",
    "                ax[i].hist(hist[compteur],100,histtype=histtype, label=label[indice])\n",
    "                ax[i].set_title(subtitle[compteur])\n",
    "                compteur+=1\n",
    "                if legend == True:\n",
    "                    ax[i].legend()\n",
    "    if save == True:\n",
    "        plt.savefig(file_folder)"
   ]
  },
  {
   "cell_type": "code",
   "execution_count": 12,
   "id": "1a141f83",
   "metadata": {},
   "outputs": [
    {
     "data": {
      "image/png": "[encoded data removed]",
      "text/plain": [
       "<Figure size 432x288 with 1 Axes>"
      ]
     },
     "metadata": {
      "needs_background": "light"
     },
     "output_type": "display_data"
    },
    {
     "data": {
      "image/png": "[encoded data removed]",
      "text/plain": [
       "<Figure size 432x288 with 1 Axes>"
      ]
     },
     "metadata": {
      "needs_background": "light"
     },
     "output_type": "display_data"
    },
    {
     "data": {
      "image/png": "[encoded data removed]",
      "text/plain": [
       "<Figure size 432x288 with 4 Axes>"
      ]
     },
     "metadata": {
      "needs_background": "light"
     },
     "output_type": "display_data"
    },
    {
     "data": {
      "image/png": "[encoded data removed]",
      "text/plain": [
       "<Figure size 432x288 with 4 Axes>"
      ]
     },
     "metadata": {
      "needs_background": "light"
     },
     "output_type": "display_data"
    },
    {
     "data": {
      "image/png": "[encoded data removed]",
      "text/plain": [
       "<Figure size 432x288 with 2 Axes>"
      ]
     },
     "metadata": {
      "needs_background": "light"
     },
     "output_type": "display_data"
    },
    {
     "data": {
      "image/png": "[encoded data removed]",
      "text/plain": [
       "<Figure size 432x288 with 6 Axes>"
      ]
     },
     "metadata": {
      "needs_background": "light"
     },
     "output_type": "display_data"
    },
    {
     "data": {
      "image/png": "[encoded data removed]",
      "text/plain": [
       "<Figure size 432x288 with 6 Axes>"
      ]
     },
     "metadata": {
      "needs_background": "light"
     },
     "output_type": "display_data"
    },
    {
     "data": {
      "image/png": "[encoded data removed]",
      "text/plain": [
       "<Figure size 432x288 with 6 Axes>"
      ]
     },
     "metadata": {
      "needs_background": "light"
     },
     "output_type": "display_data"
    },
    {
     "data": {
      "image/png": "[encoded data removed]",
      "text/plain": [
       "<Figure size 432x288 with 3 Axes>"
      ]
     },
     "metadata": {
      "needs_background": "light"
     },
     "output_type": "display_data"
    }
   ],
   "source": [
    "folder = 'Advanced NN/NMFV/NMFV_run/'+folder_name\n",
    "\n",
    "file = '/histo_W.svg'\n",
    "titre = r'Histogramme de la masse du W'\n",
    "xlabel = 'Masse (GeV)'\n",
    "ylabel = 'N'\n",
    "plot_histo(titre,xlabel,ylabel,[MW_mass],100,['NN'],save=True,file_folder=folder+file)\n",
    "\n",
    "file = '/histo_g.svg'\n",
    "titre = r'Histogramme de la masse du gluino $\\widetilde{g}$'\n",
    "plot_histo(titre,xlabel,ylabel,[g_mass],100,['NN'],save=True,file_folder=folder+file)\n",
    "\n",
    "file = '/histo_neutralinos.svg'\n",
    "titre = 'Histogramme de la masse des neutralinos'\n",
    "subtitle = [r'$\\widetilde{\\chi_1^0}$',r'$\\widetilde{\\chi_2^0}$',r'$\\widetilde{\\chi_3^0}$',r'$\\widetilde{\\chi_4^0}$']\n",
    "share = [False,True]\n",
    "subplot_histo(titre,xlabel,ylabel,2,2,share,subtitle,[neutralino_mass],['NN'],save=True,file_folder=folder+file)\n",
    "\n",
    "file = '/histo_higgs.svg'\n",
    "titre = 'Histogramme de la masse des bosons de Higgs'    \n",
    "subtitle = [r'$h_0$',r'$H_0$',r'$A_0$',r'$H^+$']\n",
    "subplot_histo(titre,xlabel,ylabel,2,2,share,subtitle,[higgs_mass],['NN'],save=True,file_folder=folder+file)\n",
    "\n",
    "file = '/histo_charginos.svg'\n",
    "titre = 'Histogramme de la masse des charginos'    \n",
    "subtitle = [r'$\\widetilde{\\chi_1^\\pm}$',r'$\\widetilde{\\chi_2^\\pm}$']\n",
    "subplot_histo(titre,xlabel,ylabel,2,1,share,subtitle,[chargino_mass],['NN'],save=True,file_folder=folder+file)\n",
    "\n",
    "file = '/histo_e.svg'\n",
    "titre = 'Histogramme des élements de la matrice e'    \n",
    "subtitle = ['e1','e2','e3','e4','e5','e6']\n",
    "subplot_histo(titre,xlabel,ylabel,2,3,share,subtitle,[e_mass],['NN'],save=True,file_folder=folder+file)\n",
    "\n",
    "file = '/histo_d.svg'\n",
    "titre = 'Histogramme des élements de la matrice d'    \n",
    "subtitle = ['d1','d2','d3','d4','d5','d6']\n",
    "subplot_histo(titre,xlabel,ylabel,2,3,share,subtitle,[d_mass],['NN'],save=True,file_folder=folder+file)\n",
    "\n",
    "file = '/histo_e.svg'\n",
    "titre = 'Histogramme des élements de la matrice u'    \n",
    "subtitle = ['u1','u2','u3','u4','u5','u6']\n",
    "subplot_histo(titre,xlabel,ylabel,2,3,share,subtitle,[u_mass],['NN'],save=True,file_folder=folder+file)\n",
    "\n",
    "file = '/histo_nu.svg'\n",
    "titre = r'Histogramme des $\\nu$'    \n",
    "subtitle = [r'$\\nu_1$',r'$\\nu_2$',r'$\\nu_3$']\n",
    "subplot_histo(titre,xlabel,ylabel,3,1,share,subtitle,[nu_mass],['NN'],save=True,file_folder=folder+file)"
   ]
  },
  {
   "cell_type": "code",
   "execution_count": 13,
   "id": "c57f3930",
   "metadata": {},
   "outputs": [
    {
     "data": {
      "image/png": "[encoded data removed]",
      "text/plain": [
       "<Figure size 432x288 with 1 Axes>"
      ]
     },
     "metadata": {
      "needs_background": "light"
     },
     "output_type": "display_data"
    },
    {
     "data": {
      "image/png": "[encoded data removed]",
      "text/plain": [
       "<Figure size 432x288 with 3 Axes>"
      ]
     },
     "metadata": {
      "needs_background": "light"
     },
     "output_type": "display_data"
    },
    {
     "data": {
      "image/png": "[encoded data removed]",
      "text/plain": [
       "<Figure size 432x288 with 1 Axes>"
      ]
     },
     "metadata": {
      "needs_background": "light"
     },
     "output_type": "display_data"
    },
    {
     "data": {
      "image/png": "[encoded data removed]",
      "text/plain": [
       "<Figure size 432x288 with 1 Axes>"
      ]
     },
     "metadata": {
      "needs_background": "light"
     },
     "output_type": "display_data"
    }
   ],
   "source": [
    "file = '/histo_mu.svg'\n",
    "titre = r'Histogramme du paramètre $\\mu$'\n",
    "plot_histo(titre,xlabel,ylabel,[mu_param],100,['NN'],save=True,file_folder=folder+file)\n",
    "\n",
    "file = '/histo_M.svg'\n",
    "titre = 'Histogramme des paramètres de masse'\n",
    "subtitle = [r'$M_1$',r'$M_2$',r'$M_3$']\n",
    "subplot_histo(titre,xlabel,ylabel,3,1,share,subtitle,[M_param],['NN'],save=True,file_folder=folder+file)\n",
    "\n",
    "file = '/histo_mA.svg'\n",
    "titre = r'Histogramme du paramètre $M_A$'\n",
    "plot_histo(titre,xlabel,ylabel,[mA_param],100,['NN'],save=True,file_folder=folder+file)\n",
    "\n",
    "file = '/histo_tanb.svg'\n",
    "titre = r'Histogramme du paramètre $\\tan \\beta$'\n",
    "plot_histo(titre,xlabel,ylabel,[tanB_param],100,['NN'],save=True,file_folder=folder+file)"
   ]
  },
  {
   "cell_type": "code",
   "execution_count": 14,
   "id": "0cbe5996",
   "metadata": {},
   "outputs": [
    {
     "data": {
      "image/png": "[encoded data removed]",
      "text/plain": [
       "<Figure size 432x288 with 4 Axes>"
      ]
     },
     "metadata": {
      "needs_background": "light"
     },
     "output_type": "display_data"
    },
    {
     "data": {
      "image/png": "[encoded data removed]",
      "text/plain": [
       "<Figure size 432x288 with 4 Axes>"
      ]
     },
     "metadata": {
      "needs_background": "light"
     },
     "output_type": "display_data"
    },
    {
     "data": {
      "image/png": "[encoded data removed]",
      "text/plain": [
       "<Figure size 432x288 with 3 Axes>"
      ]
     },
     "metadata": {
      "needs_background": "light"
     },
     "output_type": "display_data"
    },
    {
     "data": {
      "image/png": "[encoded data removed]",
      "text/plain": [
       "<Figure size 432x288 with 3 Axes>"
      ]
     },
     "metadata": {
      "needs_background": "light"
     },
     "output_type": "display_data"
    },
    {
     "data": {
      "image/png": "[encoded data removed]",
      "text/plain": [
       "<Figure size 432x288 with 3 Axes>"
      ]
     },
     "metadata": {
      "needs_background": "light"
     },
     "output_type": "display_data"
    }
   ],
   "source": [
    "file = '/histo_msq2.pdf'\n",
    "titre = r'Histogramme des éléments de matrice $m^2_Q$'\n",
    "subtitle = ['11','22','23','33']\n",
    "subplot_histo(titre,xlabel,ylabel,2,2,share,subtitle,[msq2_param],['NN'],save=True,file_folder=folder+file)\n",
    "\n",
    "file = '/histo_msd2.pdf'\n",
    "titre = r'Histogramme des éléments de matrice $m^2_d$'\n",
    "subtitle = ['11','22','23','33']\n",
    "subplot_histo(titre,xlabel,ylabel,2,2,share,subtitle,[msd2_param],['NN'],save=True,file_folder=folder+file)\n",
    "\n",
    "file = '/histo_msu2.pdf'\n",
    "titre = r'Histogramme des éléments de matrice $m^2_u$'\n",
    "subtitle = ['11','22','33']\n",
    "subplot_histo(titre,xlabel,ylabel,3,1,share,subtitle,[msu2_param],['NN'],save=True,file_folder=folder+file)\n",
    "\n",
    "file = '/histo_msl2.pdf'\n",
    "titre = r'Histogramme des éléments de matrice $m^2_L$'\n",
    "subtitle = ['11','22','33']\n",
    "subplot_histo(titre,xlabel,ylabel,3,1,share,subtitle,[msl2_param],['NN'],save=True,file_folder=folder+file)\n",
    "\n",
    "file = '/histo_mse2.pdf'\n",
    "titre = r'Histogramme des éléments de matrice $m^2_e$'\n",
    "subtitle = ['11','22','33']\n",
    "subplot_histo(titre,xlabel,ylabel,3,1,share,subtitle,[mse2_param],['NN'],save=True,file_folder=folder+file)"
   ]
  },
  {
   "cell_type": "code",
   "execution_count": 15,
   "id": "e36b2c43",
   "metadata": {},
   "outputs": [
    {
     "data": {
      "image/png": "[encoded data removed]",
      "text/plain": [
       "<Figure size 432x288 with 9 Axes>"
      ]
     },
     "metadata": {
      "needs_background": "light"
     },
     "output_type": "display_data"
    },
    {
     "data": {
      "image/png": "[encoded data removed]",
      "text/plain": [
       "<Figure size 432x288 with 9 Axes>"
      ]
     },
     "metadata": {
      "needs_background": "light"
     },
     "output_type": "display_data"
    },
    {
     "data": {
      "image/png": "[encoded data removed]",
      "text/plain": [
       "<Figure size 432x288 with 1 Axes>"
      ]
     },
     "metadata": {
      "needs_background": "light"
     },
     "output_type": "display_data"
    }
   ],
   "source": [
    "file = '/histo_tu.pdf'\n",
    "titre = r'Histogramme des éléments de matrice $T_u$'\n",
    "subtitle = ['11','12','13','21','22','23','31','32','33']\n",
    "subplot_histo(titre,xlabel,ylabel,3,3,share,subtitle,[tu_param],['NN'],save=True,file_folder=folder+file)\n",
    "\n",
    "file = '/histo_td.pdf'\n",
    "titre = r'Histogramme des éléments de matrice $T_d$'\n",
    "subtitle = ['11','12','13','21','22','23','31','32','33']\n",
    "subplot_histo(titre,xlabel,ylabel,3,3,share,subtitle,[td_param],['NN'],save=True,file_folder=folder+file)\n",
    "\n",
    "file = '/histo_te.svg'\n",
    "titre = r'Histogramme de $T_{e33}$'\n",
    "plot_histo(titre,xlabel,ylabel,[te_param],100,['NN'],save=True,file_folder=folder+file)"
   ]
  },
  {
   "cell_type": "code",
   "execution_count": 16,
   "id": "94c92df1",
   "metadata": {},
   "outputs": [
    {
     "name": "stdout",
     "output_type": "stream",
     "text": [
      "Statisique du Neural Network\n",
      "Nombre d'échecs: 999\n",
      "Nombre de succes: 1\n",
      "Nombre warning: 0\n",
      "Éfficacité du AL: 0.1 %\n",
      "\n",
      "\n"
     ]
    }
   ],
   "source": [
    "print('Statisique du Neural Network')\n",
    "print(\"Nombre d'échecs:\",ratio[0])\n",
    "print(\"Nombre de succes:\",ratio[1])\n",
    "print('Nombre warning:', warning)\n",
    "print('Éfficacité du AL:',100*ratio[1]/(ratio[0]+ratio[1]),'%')\n",
    "print('\\n')"
   ]
  }
 ],
 "metadata": {
  "kernelspec": {
   "display_name": "Python 3 (ipykernel)",
   "language": "python",
   "name": "python3"
  },
  "language_info": {
   "codemirror_mode": {
    "name": "ipython",
    "version": 3
   },
   "file_extension": ".py",
   "mimetype": "text/x-python",
   "name": "python",
   "nbconvert_exporter": "python",
   "pygments_lexer": "ipython3",
   "version": "3.8.10"
  }
 },
 "nbformat": 4,
 "nbformat_minor": 5
}
