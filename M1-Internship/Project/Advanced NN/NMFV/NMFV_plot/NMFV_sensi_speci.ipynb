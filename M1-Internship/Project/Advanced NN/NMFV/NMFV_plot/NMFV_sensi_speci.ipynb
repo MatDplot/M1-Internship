{
 "cells": [
  {
   "cell_type": "markdown",
   "id": "c3f38a5f",
   "metadata": {},
   "source": [
    "# Setup"
   ]
  },
  {
   "cell_type": "code",
   "execution_count": 1,
   "id": "49305665",
   "metadata": {},
   "outputs": [
    {
     "name": "stderr",
     "output_type": "stream",
     "text": [
      "2022-06-16 18:44:53.663832: W tensorflow/stream_executor/platform/default/dso_loader.cc:64] Could not load dynamic library 'libcudart.so.11.0'; dlerror: libcudart.so.11.0: cannot open shared object file: No such file or directory\n",
      "2022-06-16 18:44:53.663863: I tensorflow/stream_executor/cuda/cudart_stub.cc:29] Ignore above cudart dlerror if you do not have a GPU set up on your machine.\n"
     ]
    }
   ],
   "source": [
    "import numpy as np\n",
    "import tensorflow as tf\n",
    "from tensorflow import keras\n",
    "from tensorflow.keras import layers\n",
    "import tensorflow_probability as tfp\n",
    "import matplotlib.pyplot as plt\n",
    "import random as rd\n",
    "import os\n",
    "from tqdm import tqdm\n",
    "import tensorflow_addons as tfa\n",
    "import pandas as pd\n",
    "import matplotlib.gridspec as gridspec\n",
    "from matplotlib.colorbar import Colorbar\n",
    "\n",
    "\n",
    "plt.style.use(['science','ieee'])\n",
    "\n",
    "os.chdir('/home/mathis/Stage M1/')"
   ]
  },
  {
   "cell_type": "code",
   "execution_count": 2,
   "id": "e54b0857",
   "metadata": {},
   "outputs": [],
   "source": [
    "path = 'Advanced NN/NMFV/NMFV_run/'\n",
    "#folder_r = '2022-06-14-18:32:41_II/'\n",
    "#file = 'data_tot.csv'\n",
    "folder_r = '2022-06-15-17:39:01_II/'"
   ]
  },
  {
   "cell_type": "code",
   "execution_count": 3,
   "id": "94c92df1",
   "metadata": {},
   "outputs": [],
   "source": [
    "file = 'K_pool_tot.csv'\n",
    "\n",
    "import csv\n",
    "with open(path+folder_r+file) as f:\n",
    "    f.readline()\n",
    "    data = csv.reader(f, delimiter='\\t')\n",
    "    data = list(data)\n",
    "    \n",
    "good_data_logits = [[] for i in range(42)]\n",
    "bad_data_logits  = [[] for i in range(42)]"
   ]
  },
  {
   "cell_type": "code",
   "execution_count": null,
   "id": "368c86ea",
   "metadata": {},
   "outputs": [
    {
     "name": "stderr",
     "output_type": "stream",
     "text": [
      "100%|██████████████████████████████| 1000000/1000000 [01:21<00:00, 12296.07it/s]\n"
     ]
    }
   ],
   "source": [
    "for i in tqdm(data):\n",
    "    if i[-1] == '0':\n",
    "        for j in range(42):\n",
    "            bad_data_logits[j].append(float(i[j]))\n",
    "    \n",
    "    if i[-1] == '1':\n",
    "        for j in range(42):\n",
    "            good_data_logits[j].append(float(i[j]))\n",
    "            \n",
    "good_data_logits = tf.convert_to_tensor(good_data_logits)\n",
    "bad_data_logits = tf.convert_to_tensor(bad_data_logits)"
   ]
  },
  {
   "cell_type": "code",
   "execution_count": null,
   "id": "8803cba0",
   "metadata": {},
   "outputs": [],
   "source": [
    "#folder_model = '2022-06-08-08:57:07/'\n",
    "folder_model = folder_r\n",
    "model_name = 'model_II.h5'\n",
    "\n",
    "model = tf.keras.models.load_model(path+folder_model+model_name)\n",
    "model.summary()"
   ]
  },
  {
   "cell_type": "code",
   "execution_count": null,
   "id": "28968e23",
   "metadata": {},
   "outputs": [],
   "source": [
    "good_data_logits = tf.transpose(good_data_logits)\n",
    "good_logits_pred = model(good_data_logits)\n",
    "\n",
    "bad_data_logits = tf.transpose(bad_data_logits)\n",
    "bad_logits_pred = model(bad_data_logits)\n"
   ]
  },
  {
   "cell_type": "code",
   "execution_count": null,
   "id": "9b70baf3",
   "metadata": {},
   "outputs": [],
   "source": [
    "good_compteur_1 = 0\n",
    "good_compteur_0 = 0\n",
    "good_compteur_05 = 0\n",
    "\n",
    "for i in good_logits_pred:\n",
    "    if i.numpy() < 0.5:\n",
    "        good_compteur_0 += 1\n",
    "    if i.numpy() > 0.5:\n",
    "        good_compteur_1 += 1\n",
    "    if i.numpy() == 0.5:\n",
    "        good_compteur_05 += 1"
   ]
  },
  {
   "cell_type": "code",
   "execution_count": null,
   "id": "b0106dc8",
   "metadata": {},
   "outputs": [],
   "source": [
    "bad_compteur_1 = 0\n",
    "bad_compteur_0 = 0\n",
    "bad_compteur_05 = 0\n",
    "\n",
    "for i in bad_logits_pred:\n",
    "    if i.numpy() < 0.5:\n",
    "        bad_compteur_0 += 1\n",
    "    if i.numpy() > 0.5:\n",
    "        bad_compteur_1 += 1\n",
    "    if i.numpy() == 0.5:\n",
    "        bad_compteur_05 += 1"
   ]
  },
  {
   "cell_type": "code",
   "execution_count": null,
   "id": "220c6564",
   "metadata": {},
   "outputs": [],
   "source": [
    "print(bad_compteur_1,bad_compteur_0,bad_compteur_05)\n",
    "print(good_compteur_1,good_compteur_0,good_compteur_05)\n",
    "\n",
    "print(good_compteur_1+good_compteur_0+good_compteur_05)\n",
    "print(good_compteur_1+good_compteur_0)\n",
    "\n",
    "print(bad_compteur_1+bad_compteur_0+bad_compteur_05)\n",
    "print(bad_compteur_1+bad_compteur_0)"
   ]
  },
  {
   "cell_type": "code",
   "execution_count": null,
   "id": "6a46fa0c",
   "metadata": {},
   "outputs": [],
   "source": [
    "TP = good_compteur_1\n",
    "FN = good_compteur_0\n",
    "\n",
    "FP = bad_compteur_1\n",
    "TN = bad_compteur_0"
   ]
  },
  {
   "cell_type": "code",
   "execution_count": null,
   "id": "f84825ce",
   "metadata": {},
   "outputs": [],
   "source": [
    "print('True positive: ',TP)\n",
    "print('False positive: ',FP)\n",
    "print('True negative: ',TN)\n",
    "print('False negative: ',FN)\n",
    "\n",
    "print('Positive prediction: ',round(TP/(TP+FP)*100,2))\n",
    "print('Negative prediction: ',round(TN/(TN+FN)*100,2))\n",
    "\n",
    "print('Sensitivity: ',round(TP/(TP+FN)*100,2))\n",
    "print('Specificity: ',round(TN/(FP+TN)*100,2))"
   ]
  },
  {
   "cell_type": "code",
   "execution_count": null,
   "id": "059dd5e1",
   "metadata": {},
   "outputs": [],
   "source": [
    "with open('Advanced NN/NMFV/NMFV_plot/' + folder_r+'/Sensi_speci.txt', 'w') as f:\n",
    "    f.write('Data de la run: '+folder_r+'\\n')\n",
    "    f.write('Réseau de la run: '+folder_model+'\\n \\n')\n",
    "    f.write('True: '+str(len(good_data_logits.numpy()))+'\\n')\n",
    "    f.write('False: '+str(len(bad_data_logits.numpy()))+'\\n \\n')\n",
    "    f.write('True positive: '+str(TP)+'\\n')\n",
    "    f.write('False positive: '+str(FP)+'\\n')\n",
    "    f.write('True negative: '+str(TN)+'\\n')\n",
    "    f.write('False negative: '+str(FN)+'\\n \\n')\n",
    "    f.write('Positive prediction: '+str(round(TP/(TP+FP)*100,2))+'\\n')\n",
    "    f.write('Negative prediction: '+str(round(TN/(TN+FN)*100,2))+'\\n \\n')\n",
    "    f.write('Sensitivity: '+str(round(TP/(TP+FN)*100,2))+'\\n')\n",
    "    f.write('Specificity: '+str(round(TN/(FP+TN)*100,2))+'\\n')"
   ]
  }
 ],
 "metadata": {
  "kernelspec": {
   "display_name": "Python 3 (ipykernel)",
   "language": "python",
   "name": "python3"
  },
  "language_info": {
   "codemirror_mode": {
    "name": "ipython",
    "version": 3
   },
   "file_extension": ".py",
   "mimetype": "text/x-python",
   "name": "python",
   "nbconvert_exporter": "python",
   "pygments_lexer": "ipython3",
   "version": "3.8.10"
  }
 },
 "nbformat": 4,
 "nbformat_minor": 5
}
