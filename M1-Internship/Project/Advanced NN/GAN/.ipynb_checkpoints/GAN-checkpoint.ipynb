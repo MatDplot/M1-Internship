{
 "cells": [
  {
   "cell_type": "markdown",
   "id": "f976d2da",
   "metadata": {},
   "source": [
    "# Setup"
   ]
  },
  {
   "cell_type": "code",
   "execution_count": 1,
   "id": "ce72b7e9",
   "metadata": {},
   "outputs": [
    {
     "name": "stderr",
     "output_type": "stream",
     "text": [
      "2022-05-23 10:19:57.108195: W tensorflow/stream_executor/platform/default/dso_loader.cc:64] Could not load dynamic library 'libcudart.so.11.0'; dlerror: libcudart.so.11.0: cannot open shared object file: No such file or directory\n",
      "2022-05-23 10:19:57.108265: I tensorflow/stream_executor/cuda/cudart_stub.cc:29] Ignore above cudart dlerror if you do not have a GPU set up on your machine.\n"
     ]
    }
   ],
   "source": [
    "import numpy as np\n",
    "import tensorflow as tf\n",
    "from tensorflow import keras\n",
    "from tensorflow.keras import layers\n",
    "import tensorflow_probability as tfp\n",
    "import matplotlib.pyplot as plt\n",
    "import random as rd\n",
    "import os\n",
    "from tqdm import tqdm\n",
    "import tensorflow_addons as tfa\n",
    "import pandas as pd\n",
    "\n",
    "plt.style.use(['science','ieee'])"
   ]
  },
  {
   "cell_type": "markdown",
   "id": "95bf310c",
   "metadata": {},
   "source": [
    "# Intervalle paramètres"
   ]
  },
  {
   "cell_type": "code",
   "execution_count": 2,
   "id": "6e990fe7",
   "metadata": {},
   "outputs": [],
   "source": [
    "#GeV [min,max]\n",
    "\n",
    "M1_range = M2_range = M3_range = [50, 5000]\n",
    "mA_range = [50, 5000]\n",
    "tanB_range = [2, 60]\n",
    "mu_range = [-10**4, 10**4]\n",
    "At_range = Ab_range = Atau_range = [-10**4, 10**4]\n",
    "Mq1L_range = Mq3L_range = [50, 5000]\n",
    "MuR_range = MdR_range = MtR_range = MbR_range = [50, 5000]\n",
    "MeL_range = MtauL_range = MeR_range = MtauR_range = [50, 5000]\n",
    "\n",
    "PMSSM_range= [M1_range, M2_range, M3_range, mA_range, tanB_range, mu_range, At_range, Ab_range, \n",
    "              Atau_range, Mq1L_range, Mq3L_range, MuR_range, MdR_range, MtR_range, MbR_range,\n",
    "             MeL_range, MtauL_range, MeR_range, MtauR_range]"
   ]
  },
  {
   "cell_type": "markdown",
   "id": "9911c1c2",
   "metadata": {},
   "source": [
    "# Dataset "
   ]
  },
  {
   "cell_type": "code",
   "execution_count": 3,
   "id": "d5b378ec",
   "metadata": {},
   "outputs": [
    {
     "name": "stderr",
     "output_type": "stream",
     "text": [
      "  0%|                                                   | 0/100 [00:00<?, ?it/s]2022-05-23 10:20:02.690556: W tensorflow/stream_executor/platform/default/dso_loader.cc:64] Could not load dynamic library 'libcuda.so.1'; dlerror: libcuda.so.1: cannot open shared object file: No such file or directory\n",
      "2022-05-23 10:20:02.690612: W tensorflow/stream_executor/cuda/cuda_driver.cc:269] failed call to cuInit: UNKNOWN ERROR (303)\n",
      "2022-05-23 10:20:02.690631: I tensorflow/stream_executor/cuda/cuda_diagnostics.cc:156] kernel driver does not appear to be running on this host (MPC): /proc/driver/nvidia/version does not exist\n",
      "2022-05-23 10:20:02.691982: I tensorflow/core/platform/cpu_feature_guard.cc:151] This TensorFlow binary is optimized with oneAPI Deep Neural Network Library (oneDNN) to use the following CPU instructions in performance-critical operations:  AVX2 FMA\n",
      "To enable them in other operations, rebuild TensorFlow with the appropriate compiler flags.\n",
      "100%|███████████████████████████████████████| 100/100 [00:00<00:00, 2415.14it/s]"
     ]
    },
    {
     "name": "stdout",
     "output_type": "stream",
     "text": [
      "Features mean: 0.11\n",
      "Features std: 0.97\n"
     ]
    },
    {
     "name": "stderr",
     "output_type": "stream",
     "text": [
      "\n"
     ]
    }
   ],
   "source": [
    "taille_dataset = 100\n",
    "dataset = []\n",
    "taille_batch = 10\n",
    "\n",
    "for i in tqdm(range(taille_dataset)):\n",
    "    batch = [0 for k in range(taille_batch)]\n",
    "    for j in range(len(batch)):\n",
    "        batch[j] = np.random.normal(loc=0.0, scale=1.0, size=(4))\n",
    "    batch = tf.convert_to_tensor(batch)\n",
    "    \n",
    "    dataset.append(batch)\n",
    "    \n",
    "\n",
    "\n",
    "print(\"Features mean: %.2f\" % (dataset[0].numpy().mean()))\n",
    "print(\"Features std: %.2f\" % (dataset[0].numpy().std()))\n"
   ]
  },
  {
   "cell_type": "markdown",
   "id": "96bc65a8",
   "metadata": {},
   "source": [
    "# Fichier slha"
   ]
  },
  {
   "cell_type": "code",
   "execution_count": 4,
   "id": "9badb4bc",
   "metadata": {},
   "outputs": [],
   "source": [
    "def write_slha(PMSSM_NN, nom_slha):\n",
    "    f = open(nom_slha, \"w\")\n",
    "    \n",
    "    f.write(\"BLOCK MODSEL \\n\")\n",
    "    f.write(\" 1    0              #MSSM \\n\")\n",
    "    \n",
    "    f.write(\"BLOCK SMINPUTS \\n\")\n",
    "    f.write(\"  1   1.279340000e+02     # alpha^(-1) SM MSbar(M1) \\n\")\n",
    "    f.write(\"  2   1.663700000e-05     # G_Fermi \\n\")\n",
    "    f.write(\"  3   0.1179              # alphas(MS) SM MSbar \\n\")\n",
    "    f.write(\"  4   91.1876             # MZ(pole) \\n\")\n",
    "    f.write(\"  5   4.18                # mb(mb) SM MSbar \\n\")\n",
    "    f.write(\"  6   172.9               # mtop(pole) \\n\")\n",
    "    f.write(\"  7   1.776860000e+00     #m mtau(pole) \\n\")\n",
    "    \n",
    "    f.write(\"BLOCK MINPAR \\n\")\n",
    "    f.write(\"  3   \"+str(PMSSM_NN[4])+\"   #tanb \\n\")\n",
    "    \n",
    "    f.write(\"BLOCK VCKMIN   #CKM param (Wolfenstein) \\n\")\n",
    "    f.write(\"  1   0.22650  #lambda \\n\")\n",
    "    f.write(\"  2   0.790    #A \\n\")\n",
    "    f.write(\"  3   0.141    #rho \\n\")\n",
    "    f.write(\"  4   0.357    #eta \\n\")\n",
    "    \n",
    "    f.write(\"BLOCK EXTPAR \\n\")\n",
    "    f.write(\"  0   \"+str(-1.0)+\"               # Q \\n\")\n",
    "    f.write(\"  1   \"+str(PMSSM_NN[0])+\"        # M1 \\n\")\n",
    "    f.write(\"  2   \"+str(PMSSM_NN[1])+\"        # M2 \\n\")\n",
    "    f.write(\"  3   \"+str(PMSSM_NN[2])+\"        # M3 \\n\")\n",
    "    f.write(\"  11   \"+str(PMSSM_NN[6])+\"       # At \\n\")\n",
    "    f.write(\"  12   \"+str(PMSSM_NN[7])+\"       # Ab \\n\")\n",
    "    f.write(\"  13   \"+str(PMSSM_NN[8])+\"       # Atau \\n\")\n",
    "    f.write(\"  23   \"+str(PMSSM_NN[5])+\"       # Mu \\n\")\n",
    "    f.write(\"  26   \"+str(PMSSM_NN[3])+\"       # Ma \\n\")\n",
    "    f.write(\"  31   \"+str(PMSSM_NN[15])+\"      # MeL \\n\")\n",
    "    f.write(\"  32   \"+str(PMSSM_NN[15])+\"      # MmuL \\n\")\n",
    "    f.write(\"  33   \"+str(PMSSM_NN[16])+\"      # MstauL \\n\")\n",
    "    f.write(\"  34   \"+str(PMSSM_NN[17])+\"      # MeR \\n\")\n",
    "    f.write(\"  35   \"+str(PMSSM_NN[17])+\"      # MmuR \\n\")\n",
    "    f.write(\"  36   \"+str(PMSSM_NN[18])+\"      # MstauR \\n\")\n",
    "    f.write(\"  41   \"+str(PMSSM_NN[9])+\"       # Mq1L \\n\")\n",
    "    f.write(\"  42   \"+str(PMSSM_NN[9])+\"       # Mq2L \\n\")\n",
    "    f.write(\"  43   \"+str(PMSSM_NN[10])+\"      # Mq3L \\n\")\n",
    "    f.write(\"  44   \"+str(PMSSM_NN[11])+\"      # MquR \\n\")\n",
    "    f.write(\"  45   \"+str(PMSSM_NN[11])+\"      # MqcR \\n\")\n",
    "    f.write(\"  46   \"+str(PMSSM_NN[13])+\"      # MqtR \\n\")\n",
    "    f.write(\"  47   \"+str(PMSSM_NN[12])+\"      # MqdR \\n\")\n",
    "    f.write(\"  48   \"+str(PMSSM_NN[12])+\"      # MqsR \\n\")\n",
    "    f.write(\"  49   \"+str(PMSSM_NN[14])+\"      # MqbR \\n\")\n",
    "    \n",
    "    f.close()"
   ]
  },
  {
   "cell_type": "markdown",
   "id": "91f15305",
   "metadata": {},
   "source": [
    "# Neural Network "
   ]
  },
  {
   "cell_type": "markdown",
   "id": "a188ab3c",
   "metadata": {},
   "source": [
    "## Loss function"
   ]
  },
  {
   "cell_type": "code",
   "execution_count": 5,
   "id": "2319182a",
   "metadata": {},
   "outputs": [
    {
     "name": "stdout",
     "output_type": "stream",
     "text": [
      "Model: \"model\"\n",
      "_________________________________________________________________\n",
      " Layer (type)                Output Shape              Param #   \n",
      "=================================================================\n",
      " input_1 (InputLayer)        [(None, 4)]               0         \n",
      "                                                                 \n",
      " dense (Dense)               (None, 57)                285       \n",
      "                                                                 \n",
      " dense_1 (Dense)             (None, 19)                1102      \n",
      "                                                                 \n",
      " dense_2 (Dense)             (None, 76)                1520      \n",
      "                                                                 \n",
      " dense_3 (Dense)             (None, 19)                1463      \n",
      "                                                                 \n",
      " dense_4 (Dense)             (None, 19)                380       \n",
      "                                                                 \n",
      "=================================================================\n",
      "Total params: 4,750\n",
      "Trainable params: 4,750\n",
      "Non-trainable params: 0\n",
      "_________________________________________________________________\n"
     ]
    }
   ],
   "source": [
    "fnc_activation = 'sigmoid'\n",
    "fnc_activation_output = 'linear'\n",
    "inputs = tf.keras.Input(shape=(4,), dtype='float32')\n",
    "x = keras.layers.Dense(19*3, trainable=True, activation=fnc_activation)(inputs)\n",
    "#x = keras.layers.Dense(6, trainable=True, activation=fnc_activation)(x)\n",
    "#x = keras.layers.Dense(7, trainable=True, activation=fnc_activation)(x)\n",
    "#x = keras.layers.Dense(8, trainable=True, activation=fnc_activation)(x)\n",
    "#x = keras.layers.Dense(9, trainable=True, activation=fnc_activation)(x)\n",
    "#x = keras.layers.Dense(10, trainable=True, activation=fnc_activation)(x)\n",
    "#x = keras.layers.Dense(11, trainable=True, activation=fnc_activation)(x)\n",
    "#x = keras.layers.Dense(12, trainable=True, activation=fnc_activation)(x)\n",
    "#x = keras.layers.Dense(13, trainable=True, activation=fnc_activation)(x)\n",
    "#x = keras.layers.Dense(14, trainable=True, activation=fnc_activation)(x)\n",
    "#x = keras.layers.Dense(15, trainable=True, activation=fnc_activation)(x)\n",
    "#x = keras.layers.Dense(16, trainable=True, activation=fnc_activation)(x)\n",
    "#x = keras.layers.Dense(17, trainable=True, activation=fnc_activation)(x)\n",
    "#x = keras.layers.Dense(18, trainable=True, activation=fnc_activation)(x)\n",
    "x = keras.layers.Dense(19, activation=fnc_activation)(x)\n",
    "x = keras.layers.Dense(19*4, activation=fnc_activation)(x)\n",
    "#x = keras.layers.Dense(19*5, activation=fnc_activation)(x)\n",
    "#x = keras.layers.Dense(19*5, activation=fnc_activation)(x)\n",
    "#x = keras.layers.Lambda(lambda y: tf.keras.backend.random_uniform(shape=(19,),minval=0.0,maxval=1.0,)*y)(x)\n",
    "x = keras.layers.Dense(19, activation=fnc_activation)(x)\n",
    "outputs = keras.layers.Dense(19, activation=fnc_activation_output)(x)\n",
    "model = tf.keras.Model(inputs,outputs)\n",
    "\n",
    "learning_rate = 1e-4\n",
    "optimizer = tf.keras.optimizers.Adam(learning_rate=learning_rate)\n",
    "#optimizer = tf.keras.optimizers.SGD(learning_rate=1e-3)\n",
    "#optimizer = tfa.optimizers.SWA(optimizer, start_averaging=100, average_period=100)\n",
    "\n",
    "model.summary()"
   ]
  },
  {
   "cell_type": "code",
   "execution_count": 6,
   "id": "0e2495bf",
   "metadata": {},
   "outputs": [],
   "source": [
    "def denormalization(logits):\n",
    "    PMSSM_NN = []\n",
    "    \n",
    "    compteur = 0\n",
    "    for i in logits:\n",
    "        m = i * (PMSSM_range[compteur][1]-PMSSM_range[compteur][0]) + PMSSM_range[compteur][0]\n",
    "        compteur+=1\n",
    "        PMSSM_NN.append(m)\n",
    "        \n",
    "    return PMSSM_NN"
   ]
  },
  {
   "cell_type": "code",
   "execution_count": 7,
   "id": "2fab1b79",
   "metadata": {},
   "outputs": [],
   "source": [
    "def verification_param(PMSSM_NN, PMSSM_range):\n",
    "    loss = [rd.uniform(0, 1) for i in range(len(PMSSM_NN))]\n",
    "    correction = False\n",
    "    \n",
    "    for i in range(4):\n",
    "        if PMSSM_NN[i] < PMSSM_range[i][0] or PMSSM_NN[i] > PMSSM_range[i][1]:\n",
    "            loss[i] = 1.0\n",
    "            correction = True\n",
    "    \n",
    "    if PMSSM_NN[4] < PMSSM_range[4][0] or PMSSM_NN[4] > PMSSM_range[4][1]:\n",
    "        loss[4] = 1.0\n",
    "        correction = True\n",
    "    \n",
    "    for i in range(4):\n",
    "        if PMSSM_NN[i+5] < PMSSM_range[i+5][0] or PMSSM_NN[i+5] > PMSSM_range[i+5][1]:\n",
    "            loss[i+5] = 1.0\n",
    "            correction = True\n",
    "        \n",
    "    for i in range(10):\n",
    "        if PMSSM_NN[i+9] < PMSSM_range[i+9][0] or PMSSM_NN[i+9] > PMSSM_range[i+9][1]:\n",
    "            loss[i+9] = 1.0\n",
    "            correction = True\n",
    "    \n",
    "    loss = tf.convert_to_tensor(loss)\n",
    "    return loss , correction"
   ]
  },
  {
   "cell_type": "code",
   "execution_count": 8,
   "id": "ab40589e",
   "metadata": {},
   "outputs": [],
   "source": [
    "def loss_function(logits, PMSSM_range, ratio, succes_path):\n",
    "    logits_tensor = logits\n",
    "    logits = logits.numpy()\n",
    "    \n",
    "    PMSSM_NN = denormalization(logits)\n",
    "                   \n",
    "    loss , correction = verification_param(PMSSM_NN, PMSSM_range)\n",
    "    if correction == True:\n",
    "        squared_difference = tf.square(logits_tensor - loss)\n",
    "        ratio[0]+=1\n",
    "        return tf.reduce_mean(squared_difference, axis=-1)\n",
    "    \n",
    "    write_slha(PMSSM_NN, \"Advanced NN/GAN/pmssm_nn.in\")    \n",
    "    \n",
    "    os.system('./SUSY/softsusy-4.1.9/softpoint.x leshouches < Advanced\\ NN/GAN/pmssm_nn.in > Advanced\\ NN/GAN/pmssm_nn.out')\n",
    "    \n",
    "    erreur = False\n",
    "    \n",
    "    if os.path.getsize('/home/mathis/Stage M1/Advanced NN/GAN/pmssm_nn.out') == 0 :\n",
    "        erreur = True\n",
    "        \n",
    "    with open('Advanced NN/GAN/pmssm_nn.out') as slha_out:\n",
    "        content = slha_out.read()\n",
    "        if 'SOFTSUSY problem' in content:\n",
    "            erreur = True\n",
    "        if 'LSP # Warning' in content:\n",
    "            erreur = True\n",
    "        \n",
    "    \n",
    "    if erreur == True:\n",
    "        loss = [1.0 for i in range(len(logits))]\n",
    "        loss = tf.convert_to_tensor(loss)\n",
    "        squared_difference = tf.square(logits_tensor - loss)\n",
    "        ratio[0]+=1\n",
    "        return tf.reduce_mean(squared_difference, axis=-1)\n",
    "    \n",
    "    \n",
    "    if erreur == False:\n",
    "        ratio[1]+=1\n",
    "        commande = 'mv Advanced\\ NN/GAN/pmssm_nn.out '\n",
    "        nom_fichier = 'pmssm_nn_succes_'+str(ratio[1])+'.out'\n",
    "        os.system(commande+succes_path+nom_fichier)\n",
    "        loss = [rd.uniform(0,1) for i in range(len(logits))]\n",
    "        loss = tf.convert_to_tensor(loss)\n",
    "        squared_difference = tf.square(logits_tensor - loss)\n",
    "        return tf.reduce_mean(squared_difference, axis=-1)        "
   ]
  },
  {
   "cell_type": "code",
   "execution_count": 9,
   "id": "3de3d821",
   "metadata": {
    "scrolled": true
   },
   "outputs": [
    {
     "name": "stdout",
     "output_type": "stream",
     "text": [
      "Epochs 1 / 25\n"
     ]
    },
    {
     "name": "stderr",
     "output_type": "stream",
     "text": [
      "\r",
      "  0%|                                                   | 0/100 [00:00<?, ?it/s]"
     ]
    },
    {
     "name": "stdout",
     "output_type": "stream",
     "text": [
      "WARNING:tensorflow:Calling GradientTape.gradient on a persistent tape inside its context is significantly less efficient than calling it outside the context (it causes the gradient ops to be recorded on the tape, leading to increased CPU and memory usage). Only call GradientTape.gradient inside the context if you actually want to trace the gradient in order to compute higher order derivatives.\n"
     ]
    },
    {
     "name": "stderr",
     "output_type": "stream",
     "text": [
      "100%|█████████████████████████████████████████| 100/100 [00:52<00:00,  1.91it/s]\n"
     ]
    },
    {
     "name": "stdout",
     "output_type": "stream",
     "text": [
      "Loss: 0.0008628390729427338\n",
      "Efficacité: 0.558\n",
      "\n",
      "\n",
      "Epochs 2 / 25\n"
     ]
    },
    {
     "name": "stderr",
     "output_type": "stream",
     "text": [
      "100%|█████████████████████████████████████████| 100/100 [01:07<00:00,  1.48it/s]\n"
     ]
    },
    {
     "name": "stdout",
     "output_type": "stream",
     "text": [
      "Loss: 0.0007883312553167343\n",
      "Efficacité: 0.779\n",
      "\n",
      "\n",
      "Epochs 3 / 25\n"
     ]
    },
    {
     "name": "stderr",
     "output_type": "stream",
     "text": [
      "100%|█████████████████████████████████████████| 100/100 [01:11<00:00,  1.39it/s]\n"
     ]
    },
    {
     "name": "stdout",
     "output_type": "stream",
     "text": [
      "Loss: 0.0009021047502756119\n",
      "Efficacité: 0.8526666666666667\n",
      "\n",
      "\n",
      "Epochs 4 / 25\n"
     ]
    },
    {
     "name": "stderr",
     "output_type": "stream",
     "text": [
      "100%|█████████████████████████████████████████| 100/100 [01:15<00:00,  1.32it/s]\n"
     ]
    },
    {
     "name": "stdout",
     "output_type": "stream",
     "text": [
      "Loss: 0.0007949213683605194\n",
      "Efficacité: 0.8895\n",
      "\n",
      "\n",
      "Epochs 5 / 25\n"
     ]
    },
    {
     "name": "stderr",
     "output_type": "stream",
     "text": [
      "100%|█████████████████████████████████████████| 100/100 [01:13<00:00,  1.35it/s]\n"
     ]
    },
    {
     "name": "stdout",
     "output_type": "stream",
     "text": [
      "Loss: 0.0008327639847993851\n",
      "Efficacité: 0.9116\n",
      "\n",
      "\n",
      "Epochs 6 / 25\n"
     ]
    },
    {
     "name": "stderr",
     "output_type": "stream",
     "text": [
      "100%|█████████████████████████████████████████| 100/100 [01:09<00:00,  1.44it/s]\n"
     ]
    },
    {
     "name": "stdout",
     "output_type": "stream",
     "text": [
      "Loss: 0.0008580239117145539\n",
      "Efficacité: 0.9263333333333333\n",
      "\n",
      "\n",
      "Epochs 7 / 25\n"
     ]
    },
    {
     "name": "stderr",
     "output_type": "stream",
     "text": [
      " 42%|█████████████████▋                        | 42/100 [00:32<00:48,  1.20it/s]SOFTSUSY problem: Nans present in linalg.cpp:sym2by2. Cannot calculate further\n",
      "Diagonalising: (2,2):\n",
      "nan nan \n",
      "nan nan \n",
      " pars=(1,49):\n",
      " 2358.8  2502.8  2778.54  0  0\n",
      " 0  0  0  0  0\n",
      " 13.0057 -280.927  354.569  0  0\n",
      " 0  0  0  0  0\n",
      " 0  0  0  0  0\n",
      " 0  0  0  0  0\n",
      " 2546.31  2546.31  2453.52  2440.98  2440.98\n",
      " 2579.03  0  0  0  0\n",
      " 2455.81  2455.81  2487.9  2466.84  2466.84\n",
      " 2514.84  2446.3  2446.3  2518.33\n",
      " tanb=30.0501 oneset=alpha(MZ)^-1: 127.934  alpha_s(MZ): 0.1179\n",
      "mU: 0.00120458  mC: 0.600254  mt: 164.635  mt^pole: 172.9\n",
      "mD: 0.0025875  mS: 0.0528511  mB: 2.71778  mb(mb):  4.18\n",
      "mE: 0.000501458  mM: 0.103686  mT: 1.7472  mb^pole: 4.92752\n",
      "aE: 127.742  aS: 0.107536   Q: 172.9  mT^pole: 1.77686\n",
      "loops: 3        thresholds: 1\n",
      "\n",
      "100%|█████████████████████████████████████████| 100/100 [01:15<00:00,  1.33it/s]\n"
     ]
    },
    {
     "name": "stdout",
     "output_type": "stream",
     "text": [
      "Loss: 0.0007565226405858994\n",
      "Efficacité: 0.9367142857142857\n",
      "\n",
      "\n",
      "Epochs 8 / 25\n"
     ]
    },
    {
     "name": "stderr",
     "output_type": "stream",
     "text": [
      "100%|█████████████████████████████████████████| 100/100 [01:10<00:00,  1.42it/s]\n"
     ]
    },
    {
     "name": "stdout",
     "output_type": "stream",
     "text": [
      "Loss: 0.0008875755220651626\n",
      "Efficacité: 0.944625\n",
      "\n",
      "\n",
      "Epochs 9 / 25\n"
     ]
    },
    {
     "name": "stderr",
     "output_type": "stream",
     "text": [
      "100%|█████████████████████████████████████████| 100/100 [01:14<00:00,  1.34it/s]\n"
     ]
    },
    {
     "name": "stdout",
     "output_type": "stream",
     "text": [
      "Loss: 0.0008142536878585815\n",
      "Efficacité: 0.9507777777777778\n",
      "\n",
      "\n",
      "Epochs 10 / 25\n"
     ]
    },
    {
     "name": "stderr",
     "output_type": "stream",
     "text": [
      "100%|█████████████████████████████████████████| 100/100 [01:14<00:00,  1.34it/s]\n"
     ]
    },
    {
     "name": "stdout",
     "output_type": "stream",
     "text": [
      "Loss: 0.0007874117791652679\n",
      "Efficacité: 0.9557\n",
      "\n",
      "\n",
      "Epochs 11 / 25\n"
     ]
    },
    {
     "name": "stderr",
     "output_type": "stream",
     "text": [
      "100%|█████████████████████████████████████████| 100/100 [01:12<00:00,  1.38it/s]\n"
     ]
    },
    {
     "name": "stdout",
     "output_type": "stream",
     "text": [
      "Loss: 0.000820746198296547\n",
      "Efficacité: 0.9597272727272728\n",
      "\n",
      "\n",
      "Epochs 12 / 25\n"
     ]
    },
    {
     "name": "stderr",
     "output_type": "stream",
     "text": [
      "100%|█████████████████████████████████████████| 100/100 [01:08<00:00,  1.45it/s]\n"
     ]
    },
    {
     "name": "stdout",
     "output_type": "stream",
     "text": [
      "Loss: 0.0007692645490169525\n",
      "Efficacité: 0.9630833333333333\n",
      "\n",
      "\n",
      "Epochs 13 / 25\n"
     ]
    },
    {
     "name": "stderr",
     "output_type": "stream",
     "text": [
      "100%|█████████████████████████████████████████| 100/100 [01:14<00:00,  1.35it/s]\n"
     ]
    },
    {
     "name": "stdout",
     "output_type": "stream",
     "text": [
      "Loss: 0.0007712744921445847\n",
      "Efficacité: 0.9659230769230769\n",
      "\n",
      "\n",
      "Epochs 14 / 25\n"
     ]
    },
    {
     "name": "stderr",
     "output_type": "stream",
     "text": [
      "100%|█████████████████████████████████████████| 100/100 [01:05<00:00,  1.52it/s]\n"
     ]
    },
    {
     "name": "stdout",
     "output_type": "stream",
     "text": [
      "Loss: 0.0007658389210700989\n",
      "Efficacité: 0.9683571428571428\n",
      "\n",
      "\n",
      "Epochs 15 / 25\n"
     ]
    },
    {
     "name": "stderr",
     "output_type": "stream",
     "text": [
      "100%|█████████████████████████████████████████| 100/100 [01:02<00:00,  1.59it/s]\n"
     ]
    },
    {
     "name": "stdout",
     "output_type": "stream",
     "text": [
      "Loss: 0.0008462555706501007\n",
      "Efficacité: 0.9704666666666667\n",
      "\n",
      "\n",
      "Epochs 16 / 25\n"
     ]
    },
    {
     "name": "stderr",
     "output_type": "stream",
     "text": [
      "100%|█████████████████████████████████████████| 100/100 [01:04<00:00,  1.56it/s]\n"
     ]
    },
    {
     "name": "stdout",
     "output_type": "stream",
     "text": [
      "Loss: 0.0007854729890823364\n",
      "Efficacité: 0.9723125\n",
      "\n",
      "\n",
      "Epochs 17 / 25\n"
     ]
    },
    {
     "name": "stderr",
     "output_type": "stream",
     "text": [
      "100%|█████████████████████████████████████████| 100/100 [01:16<00:00,  1.30it/s]\n"
     ]
    },
    {
     "name": "stdout",
     "output_type": "stream",
     "text": [
      "Loss: 0.0008133774995803832\n",
      "Efficacité: 0.9739411764705882\n",
      "\n",
      "\n",
      "Epochs 18 / 25\n"
     ]
    },
    {
     "name": "stderr",
     "output_type": "stream",
     "text": [
      "100%|█████████████████████████████████████████| 100/100 [01:12<00:00,  1.38it/s]\n"
     ]
    },
    {
     "name": "stdout",
     "output_type": "stream",
     "text": [
      "Loss: 0.0007740218937397004\n",
      "Efficacité: 0.9753888888888889\n",
      "\n",
      "\n",
      "Epochs 19 / 25\n"
     ]
    },
    {
     "name": "stderr",
     "output_type": "stream",
     "text": [
      "100%|█████████████████████████████████████████| 100/100 [01:07<00:00,  1.47it/s]\n"
     ]
    },
    {
     "name": "stdout",
     "output_type": "stream",
     "text": [
      "Loss: 0.0008295191824436187\n",
      "Efficacité: 0.9766842105263158\n",
      "\n",
      "\n",
      "Epochs 20 / 25\n"
     ]
    },
    {
     "name": "stderr",
     "output_type": "stream",
     "text": [
      "100%|█████████████████████████████████████████| 100/100 [01:02<00:00,  1.61it/s]\n"
     ]
    },
    {
     "name": "stdout",
     "output_type": "stream",
     "text": [
      "Loss: 0.0008516882359981537\n",
      "Efficacité: 0.97785\n",
      "\n",
      "\n",
      "Epochs 21 / 25\n"
     ]
    },
    {
     "name": "stderr",
     "output_type": "stream",
     "text": [
      "100%|█████████████████████████████████████████| 100/100 [01:08<00:00,  1.46it/s]\n"
     ]
    },
    {
     "name": "stdout",
     "output_type": "stream",
     "text": [
      "Loss: 0.0009004264324903488\n",
      "Efficacité: 0.9789047619047619\n",
      "\n",
      "\n",
      "Epochs 22 / 25\n"
     ]
    },
    {
     "name": "stderr",
     "output_type": "stream",
     "text": [
      "100%|█████████████████████████████████████████| 100/100 [01:23<00:00,  1.20it/s]\n"
     ]
    },
    {
     "name": "stdout",
     "output_type": "stream",
     "text": [
      "Loss: 0.0008472467958927154\n",
      "Efficacité: 0.9798636363636364\n",
      "\n",
      "\n",
      "Epochs 23 / 25\n"
     ]
    },
    {
     "name": "stderr",
     "output_type": "stream",
     "text": [
      "100%|█████████████████████████████████████████| 100/100 [01:04<00:00,  1.56it/s]\n"
     ]
    },
    {
     "name": "stdout",
     "output_type": "stream",
     "text": [
      "Loss: 0.0008656176924705506\n",
      "Efficacité: 0.9807391304347826\n",
      "\n",
      "\n",
      "Epochs 24 / 25\n"
     ]
    },
    {
     "name": "stderr",
     "output_type": "stream",
     "text": [
      "100%|█████████████████████████████████████████| 100/100 [01:03<00:00,  1.56it/s]\n"
     ]
    },
    {
     "name": "stdout",
     "output_type": "stream",
     "text": [
      "Loss: 0.0008689109236001968\n",
      "Efficacité: 0.9815416666666666\n",
      "\n",
      "\n",
      "Epochs 25 / 25\n"
     ]
    },
    {
     "name": "stderr",
     "output_type": "stream",
     "text": [
      "100%|█████████████████████████████████████████| 100/100 [01:02<00:00,  1.61it/s]"
     ]
    },
    {
     "name": "stdout",
     "output_type": "stream",
     "text": [
      "Loss: 0.0008818958699703216\n",
      "Efficacité: 0.98228\n",
      "\n",
      "\n",
      "Nombre d'échecs: 443\n",
      "Nombre de succes: 24557\n"
     ]
    },
    {
     "name": "stderr",
     "output_type": "stream",
     "text": [
      "\n"
     ]
    }
   ],
   "source": [
    "loss_evolution = []\n",
    "efficacite = []\n",
    "ratio = [0,0]\n",
    "os.chdir('/home/mathis/Stage M1/')\n",
    "os.system('rm -r Advanced\\ NN/GAN/softsusy_succes/')\n",
    "os.system('mkdir -p Advanced\\ NN/GANsoftsusy_succes')\n",
    "succes_path = 'Advanced\\ NN/softsusy_succes/'\n",
    "\n",
    "\n",
    "epoch = 25\n",
    "for k in range(epoch):\n",
    "    print('Epochs {} / {}'.format(k+1,epoch))\n",
    "    sum_loss_tot = 0\n",
    "    for i in tqdm(dataset):\n",
    "        sum_loss_batch = 0\n",
    "        with tf.GradientTape(persistent=True) as tape:\n",
    "            logits = model(i)\n",
    "            for j in logits:\n",
    "                loss = loss_function(j, PMSSM_range, ratio, succes_path) \n",
    "            \n",
    "                gradients = tape.gradient(loss/len(logits), model.trainable_weights)\n",
    "                optimizer.apply_gradients(zip(gradients, model.trainable_weights))\n",
    "            \n",
    "                sum_loss_batch += loss\n",
    "        \n",
    "        sum_loss_tot = sum_loss_batch / len(logits)\n",
    "        \n",
    "    loss_evolution.append(sum_loss_tot/len(dataset))\n",
    "    efficacite.append(ratio[1]/(ratio[0]+ratio[1]))\n",
    "    \n",
    "    print('Loss:',sum_loss_tot.numpy()/len(dataset))\n",
    "    print('Efficacité:',ratio[1]/(ratio[0]+ratio[1]))\n",
    "    print('\\n')\n",
    "    \n",
    "print(\"Nombre d'échecs:\",ratio[0])\n",
    "print(\"Nombre de succes:\",ratio[1])"
   ]
  },
  {
   "cell_type": "markdown",
   "id": "f07dd7e9",
   "metadata": {},
   "source": [
    "# Récupération données"
   ]
  },
  {
   "cell_type": "code",
   "execution_count": 10,
   "id": "96c86e74",
   "metadata": {},
   "outputs": [],
   "source": [
    "def recuperation_slha(folder,filename,sus_mass,param,succes):\n",
    "    warning = 0\n",
    "    for j in range(succes):\n",
    "        file_name =folder+filename+str(j+1)+'.out' \n",
    "        \n",
    "        with open(file_name) as file:\n",
    "            for indice, ligne in enumerate(file):\n",
    "                if 'tanb' in ligne:\n",
    "                    indice_tanb = indice\n",
    "                \n",
    "                if 'M_1(MX)' in ligne:\n",
    "                    indices_M = [indice+i for i in range(3)]\n",
    "                if 'At(MX)' in ligne:\n",
    "                    indices_A = [indice+i for i in range(3)]\n",
    "                if 'mu(MX)' in ligne:\n",
    "                    indice_mu = indice\n",
    "                if 'mA(pole)' in ligne:\n",
    "                    indice_mA = indice\n",
    "                if 'meL(MX)' in ligne:\n",
    "                    indices_mlL = [indice+i for i in range(3)]\n",
    "                if 'meR(MX)' in ligne:\n",
    "                    indices_mlR = [indice+i for i in range(3)]\n",
    "                if 'mqL1(MX)' in ligne:\n",
    "                    indices_qL = [indice+i for i in range(3)]\n",
    "                if 'muR(MX)' in ligne:\n",
    "                    indices_q = [indice+i for i in range(6)]\n",
    "                    \n",
    "                if 'h0' in ligne:\n",
    "                    indices_higgs = [indice+i for i in range(2)]\n",
    "                if '~g' in ligne:\n",
    "                    indice_g = indice\n",
    "                if '~neutralino(1)' in ligne:\n",
    "                    indices_neutralino = [indice,indice+1,indice+3,indice+4]\n",
    "                if '~d_L' in ligne:\n",
    "                    indices_squarkL = [indice+i for i in range(6)]\n",
    "                if '~d_R' in ligne:\n",
    "                    indices_squarkR = [indice+i for i in range(6)]\n",
    "                if '~chargino(1)' in ligne:\n",
    "                    indices_chargino = [indice,indice+3]\n",
    "        \n",
    "        \n",
    "        file = open(file_name)\n",
    "        lignes = file.readlines()\n",
    "        \n",
    "        for step, i in enumerate(param[0]):\n",
    "            i.append(float(lignes[indices_M[step]].split()[1]))\n",
    "\n",
    "        for step, i in enumerate(param[1]):\n",
    "            i.append(float(lignes[indices_A[step]].split()[1]))  \n",
    "            \n",
    "        param[2].append(float(lignes[indice_mu].split()[1]))\n",
    "        \n",
    "        param[3].append(float(lignes[indice_mA].split()[1]))\n",
    "        \n",
    "        for step, i in enumerate(param[4]):\n",
    "            i.append(float(lignes[indices_mlL[step]].split()[1]))\n",
    "            \n",
    "        for step, i in enumerate(param[5]):\n",
    "            i.append(float(lignes[indices_mlR[step]].split()[1]))\n",
    "            \n",
    "        for step, i in enumerate(param[6]):\n",
    "            i.append(float(lignes[indices_qL[step]].split()[1]))\n",
    "        \n",
    "        for step, i in enumerate(param[7]):\n",
    "            i.append(float(lignes[indices_q[step]].split()[1]))\n",
    "            \n",
    "        param[8].append(float(lignes[indice_tanb].split()[1]))\n",
    "            \n",
    "        \n",
    "        sus_mass[0].append(float(lignes[indice_g].split()[1]))\n",
    "        \n",
    "        for step, i in enumerate(sus_mass[1]):\n",
    "            i.append(float(lignes[indices_neutralino[step]].split()[1]))\n",
    "            \n",
    "        for step, i in enumerate(sus_mass[2]):\n",
    "            i.append(float(lignes[indices_squarkL[step]].split()[1]))\n",
    "\n",
    "        for step, i in enumerate(sus_mass[3]):\n",
    "            i.append(float(lignes[indices_squarkR[step]].split()[1]))\n",
    "        \n",
    "        for step, i in enumerate(sus_mass[4]):\n",
    "            i.append(float(lignes[indices_higgs[step]].split()[1]))\n",
    "\n",
    "        for step, i in enumerate(sus_mass[5]):\n",
    "            i.append(float(lignes[indices_chargino[step]].split()[1]))        \n",
    "    \n",
    "    \n",
    "        with open(file_name) as file:\n",
    "            if 'LSP # Warning' in file.read():\n",
    "                warning+=1\n",
    "    return warning"
   ]
  },
  {
   "cell_type": "code",
   "execution_count": 11,
   "id": "61189b10",
   "metadata": {},
   "outputs": [
    {
     "name": "stdout",
     "output_type": "stream",
     "text": [
      "Nombre warning: 0\n"
     ]
    }
   ],
   "source": [
    "g_mass = []\n",
    "neutralino_mass = [[] for i in range(4)]   #[N1 , N2 , N3 , N4]\n",
    "squarkL_mass = [[] for i in range(6)]      #[d , u , s , c , b , t]\n",
    "squarkR_mass = [[] for i in range(6)]       \n",
    "higgs_mass = [[] for i in range(2)]        #[h0 , H0]\n",
    "chargino_mass = [[] for i in range(2)]     #[neutralino1 , neutralino2]\n",
    "\n",
    "M_param = [[] for i in range(3)]           #[M1 , M2 , M3]\n",
    "A_param = [[] for i in range(3)]           #[At , Ab , Atau]\n",
    "mu = []\n",
    "mA_param = []\n",
    "mlL_param = [[] for i in range(3)]         #[meL , mmuL , mtauL]\n",
    "mlR_param = [[] for i in range(3)]         #[meR , mmuR , mtauR]\n",
    "mqL_param = [[] for i in range(3)]         #[mqL1 , mqL2 , mqL3]\n",
    "quark_param = [[] for i in range(6)]       #[u , c , t , d , s , b]\n",
    "tanB = []\n",
    "\n",
    "sus_mass = [g_mass,neutralino_mass,squarkL_mass,squarkR_mass,higgs_mass,chargino_mass]\n",
    "param = [M_param,A_param,mu,mA_param,mlL_param,mlR_param,mqL_param,quark_param,tanB]\n",
    "\n",
    "folder = 'Advanced NN/softsusy_succes/'\n",
    "file_name = 'pmssm_nn_succes_'\n",
    "warning = recuperation_slha(folder,file_name,sus_mass,param,ratio[1])\n",
    "\n",
    "print('Nombre warning:',warning)"
   ]
  },
  {
   "cell_type": "markdown",
   "id": "16699b10",
   "metadata": {},
   "source": [
    "# Sauvegarde Run "
   ]
  },
  {
   "cell_type": "code",
   "execution_count": 12,
   "id": "636b239f",
   "metadata": {},
   "outputs": [
    {
     "name": "stdout",
     "output_type": "stream",
     "text": [
      "WARNING:tensorflow:Compiled the loaded model, but the compiled metrics have yet to be built. `model.compile_metrics` will be empty until you train or evaluate the model.\n"
     ]
    }
   ],
   "source": [
    "from datetime import date, datetime\n",
    "\n",
    "folder_name = str(date.today())+'-'+str(datetime.now().time().strftime(\"%H:%M:%S\"))\n",
    "commande = 'mkdir -p Advanced\\ NN/GAN_run/'+folder_name\n",
    "os.system(commande)\n",
    "\n",
    "with open('Advanced NN/GAN_run/'+folder_name+'/config.txt', 'w') as f:\n",
    "    f.write('taile dataset: '+str(taille_dataset)+'\\n')\n",
    "    f.write('taile batch: '+str(taille_batch)+'\\n')\n",
    "    f.write('nombre epochs: '+str(epoch)+'\\n')\n",
    "    f.write(\"Nombre d'échecs: \"+str(ratio[0])+'\\n')\n",
    "    f.write(\"Nombre de succes: \"+str(ratio[1])+'\\n')\n",
    "    f.write(\"Nombre Warning LSP: \"+str(warning)+'\\n')\n",
    "    f.write('\\n')\n",
    "    f.write(\"Fonctions d'activations: \"+fnc_activation+'\\n')\n",
    "    f.write(\"Fonctions d'activations output: \"+fnc_activation_output+'\\n')\n",
    "    f.write('Learning rate:'+str(learning_rate)+'\\n')\n",
    "    f.write('Optimizer: '+str(optimizer)+'\\n')\n",
    "    f.write('\\n')\n",
    "    model.summary(print_fn=lambda x: f.write(x + '\\n'))\n",
    "    f.write('\\n')\n",
    "    f.write('\\n')\n",
    "    f.write('Range:')\n",
    "    f.write('M1: '+str(PMSSM_range[0])+'\\n')\n",
    "    f.write('M2: '+str(PMSSM_range[1])+'\\n')\n",
    "    f.write('M3: '+str(PMSSM_range[2])+'\\n')\n",
    "    f.write('mA: '+str(PMSSM_range[3])+'\\n')\n",
    "    f.write('tanB: '+str(PMSSM_range[4])+'\\n')\n",
    "    f.write('mu: '+str(PMSSM_range[5])+'\\n')\n",
    "    f.write('At: '+str(PMSSM_range[6])+'\\n')\n",
    "    f.write('Ab: '+str(PMSSM_range[7])+'\\n')\n",
    "    f.write('Atau: '+str(PMSSM_range[8])+'\\n')\n",
    "    f.write('Mq1L: '+str(PMSSM_range[9])+'\\n')\n",
    "    f.write('Mq3L: '+str(PMSSM_range[10])+'\\n')\n",
    "    f.write('MuR: '+str(PMSSM_range[11])+'\\n')\n",
    "    f.write('dR: '+str(PMSSM_range[12])+'\\n')\n",
    "    f.write('MtR: '+str(PMSSM_range[13])+'\\n')\n",
    "    f.write('MbR: '+str(PMSSM_range[14])+'\\n')\n",
    "    f.write('MeL: '+str(PMSSM_range[15])+'\\n')\n",
    "    f.write('MtauL: '+str(PMSSM_range[16])+'\\n')\n",
    "    f.write('MeR: '+str(PMSSM_range[17])+'\\n')\n",
    "    f.write('MtauR: '+str(PMSSM_range[18])+'\\n')\n",
    "    \n",
    "\n",
    "model.save('Advanced NN/GAN_run/'+folder_name+'/model.h5')\n",
    "    \n",
    "param_file = zip(M_param[0],M_param[1],M_param[2],A_param[0],A_param[1],A_param[2],mu,mA_param,\n",
    "                 mlL_param[0],mlL_param[1],mlL_param[2],mlR_param[0],mlR_param[2],mlR_param[2],\n",
    "                 mqL_param[0],mqL_param[1],mqL_param[2],quark_param[0],quark_param[1],quark_param[2],\n",
    "                 quark_param[3],quark_param[4],quark_param[5],tanB)\n",
    "\n",
    "header = ['M1', 'M2', 'M3', 'At', 'Ab', 'Atau', 'mu', 'mA', 'meL', 'mmuL', 'mtauL', 'meR', 'mmuR', 'mtauR', 'mqL1', 'mqL2', 'mqL3', 'muR', 'mcR', 'mtR', 'mdR', 'msR', 'mbR', 'tanb']\n",
    "\n",
    "import csv\n",
    "with open('Advanced NN/GAN_run/'+folder_name+'/data.csv', 'w') as f:\n",
    "    writer = csv.writer(f, delimiter='\\t')\n",
    "    writer.writerow(header)\n",
    "    writer.writerows(param_file)"
   ]
  },
  {
   "cell_type": "markdown",
   "id": "0fead181",
   "metadata": {},
   "source": [
    "# Plot"
   ]
  },
  {
   "cell_type": "markdown",
   "id": "a4fec06d",
   "metadata": {},
   "source": [
    "## Loss"
   ]
  },
  {
   "cell_type": "code",
   "execution_count": 13,
   "id": "a996c24f",
   "metadata": {},
   "outputs": [
    {
     "data": {
      "image/png": "[encoded data removed]",
      "text/plain": [
       "<Figure size 432x288 with 1 Axes>"
      ]
     },
     "metadata": {
      "needs_background": "light"
     },
     "output_type": "display_data"
    },
    {
     "data": {
      "image/png": "[encoded data removed]",
      "text/plain": [
       "<Figure size 432x288 with 1 Axes>"
      ]
     },
     "metadata": {
      "needs_background": "light"
     },
     "output_type": "display_data"
    }
   ],
   "source": [
    "time_epoch = [i+1 for i in range(epoch)]\n",
    "\n",
    "plt.figure()\n",
    "plt.title('Loss function evolution')\n",
    "plt.xlabel('Epochs')\n",
    "plt.ylabel('loss')\n",
    "plt.plot(time_epoch, loss_evolution, 'ob',label='loss')\n",
    "plt.yscale('log')\n",
    "plt.savefig('Advanced NN/GAN_run/'+folder_name+'/loss.svg')\n",
    "\n",
    "plt.figure()\n",
    "plt.title('Évolution efficacité')\n",
    "plt.xlabel('Epochs')\n",
    "plt.ylabel(r'Efficacité')\n",
    "plt.plot(time_epoch, efficacite, 'ob',label='efficacité')\n",
    "plt.savefig('Advanced NN/GAN_run/'+folder_name+'/efficacite.svg')"
   ]
  },
  {
   "cell_type": "markdown",
   "id": "764518c5",
   "metadata": {},
   "source": [
    "## Mass"
   ]
  },
  {
   "cell_type": "code",
   "execution_count": 14,
   "id": "c737191d",
   "metadata": {},
   "outputs": [],
   "source": [
    "def plot_histo(title, xlabel, ylabel, list_hist,bins, label, legend = False, histtype='bar', save=False, file_folder=''):\n",
    "    plt.figure()\n",
    "    for indice, hist in enumerate(list_hist):\n",
    "        plt.hist(hist,bins,label=label[indice],histtype=histtype)\n",
    "    plt.title(title)\n",
    "    plt.xlabel(xlabel)\n",
    "    plt.ylabel(ylabel)\n",
    "    if legend == True:\n",
    "        plt.legend()\n",
    "    if save == True:\n",
    "        plt.savefig(file_folder)\n",
    "    \n",
    "def subplot_histo(titre, xlabel, ylabel, x, y, share, subtitle, hist_list, label, legend = False, histtype='bar', save=False, file_folder=''):  \n",
    "    fig , ax = plt.subplots(x, y, sharex=share[0], sharey=share[1], constrained_layout = True)\n",
    "    plt.suptitle(titre)\n",
    "    fig.text(0.5, -0.05, xlabel, ha='center')\n",
    "    fig.text(-0.04, 0.5, ylabel, va='center', rotation='vertical')\n",
    "\n",
    "    for indice, hist in enumerate(hist_list): \n",
    "        compteur = 0\n",
    "        for i in range(x):\n",
    "            if y != 1:\n",
    "                for j in range(y):\n",
    "                    ax[i, j].hist(hist[compteur],100,histtype=histtype,label=label[indice])\n",
    "                    ax[i, j].set_title(subtitle[compteur])\n",
    "                    compteur+=1\n",
    "                    if legend == True:\n",
    "                        ax[i, j].legend()\n",
    "            else:\n",
    "                ax[i].hist(hist[compteur],100,histtype=histtype, label=label[indice])\n",
    "                ax[i].set_title(subtitle[compteur])\n",
    "                compteur+=1\n",
    "                if legend == True:\n",
    "                    ax[i].legend()\n",
    "    if save == True:\n",
    "        plt.savefig(file_folder)"
   ]
  },
  {
   "cell_type": "code",
   "execution_count": 15,
   "id": "3b5230bb",
   "metadata": {},
   "outputs": [
    {
     "data": {
      "image/png": "[encoded data removed]",
      "text/plain": [
       "<Figure size 432x288 with 1 Axes>"
      ]
     },
     "metadata": {
      "needs_background": "light"
     },
     "output_type": "display_data"
    },
    {
     "data": {
      "image/png": "[encoded data removed]",
      "text/plain": [
       "<Figure size 432x288 with 4 Axes>"
      ]
     },
     "metadata": {
      "needs_background": "light"
     },
     "output_type": "display_data"
    },
    {
     "data": {
      "image/png": "[encoded data removed]",
      "text/plain": [
       "<Figure size 432x288 with 6 Axes>"
      ]
     },
     "metadata": {
      "needs_background": "light"
     },
     "output_type": "display_data"
    },
    {
     "data": {
      "image/png": "[encoded data removed]",
      "text/plain": [
       "<Figure size 432x288 with 6 Axes>"
      ]
     },
     "metadata": {
      "needs_background": "light"
     },
     "output_type": "display_data"
    },
    {
     "data": {
      "image/png": "[encoded data removed]",
      "text/plain": [
       "<Figure size 432x288 with 2 Axes>"
      ]
     },
     "metadata": {
      "needs_background": "light"
     },
     "output_type": "display_data"
    },
    {
     "data": {
      "image/png": "[encoded data removed]",
      "text/plain": [
       "<Figure size 432x288 with 2 Axes>"
      ]
     },
     "metadata": {
      "needs_background": "light"
     },
     "output_type": "display_data"
    }
   ],
   "source": [
    "folder = 'Advanced NN/GAN_run/'+folder_name\n",
    "\n",
    "file = '/histo_gluinos.svg'\n",
    "titre = r'Histogramme de la masse du gluino $\\widetilde{g}$'\n",
    "xlabel = 'Masse (GeV)'\n",
    "ylabel = 'N'\n",
    "plot_histo(titre,xlabel,ylabel,[g_mass],100,['NN'],save=True,file_folder=folder+file)\n",
    "\n",
    "file = '/histo_neutralinos.svg'\n",
    "titre = 'Histogramme de la masse des neutralinos'\n",
    "subtitle = [r'$\\widetilde{\\chi_1^0}$',r'$\\widetilde{\\chi_2^0}$',r'$\\widetilde{\\chi_3^0}$',r'$\\widetilde{\\chi_4^0}$']\n",
    "share = [False,True]\n",
    "subplot_histo(titre,xlabel,ylabel,2,2,share,subtitle,[neutralino_mass],['NN'],save=True,file_folder=folder+file)\n",
    "\n",
    "file = '/histo_quarksL.svg'\n",
    "titre = 'Histogramme de la masse des quarks L'\n",
    "subtitle = [r'$\\widetilde{d}$',r'$\\widetilde{u}$',r'$\\widetilde{s}$',r'$\\widetilde{c}$',r'$\\widetilde{t}$',r'$\\widetilde{b}$']    \n",
    "subplot_histo(titre,xlabel,ylabel,2,3,share,subtitle,[squarkL_mass],['NN'],save=True,file_folder=folder+file)\n",
    "\n",
    "file = '/histo_quarksR.svg'\n",
    "titre = 'Histogramme de la masse des quarks R' \n",
    "subplot_histo(titre,xlabel,ylabel,2,3,share,subtitle,[squarkR_mass],['NN'],save=True,file_folder=folder+file)\n",
    "\n",
    "file = '/histo_higgs.svg'\n",
    "titre = 'Histogramme de la masse des bosons de Higgs'    \n",
    "subtitle = [r'$h_0$',r'$H_0$']\n",
    "subplot_histo(titre,xlabel,ylabel,2,1,share,subtitle,[higgs_mass],['NN'],save=True,file_folder=folder+file)\n",
    "\n",
    "file = '/histo_charginos.svg'\n",
    "titre = 'Histogramme de la masse des charginos'    \n",
    "subtitle = [r'$\\widetilde{\\chi_1^\\pm}$',r'$\\widetilde{\\chi_2^\\pm}$']\n",
    "subplot_histo(titre,xlabel,ylabel,2,1,share,subtitle,[chargino_mass],['NN'],save=True,file_folder=folder+file)"
   ]
  },
  {
   "cell_type": "markdown",
   "id": "ba64a010",
   "metadata": {},
   "source": [
    "## Param "
   ]
  },
  {
   "cell_type": "code",
   "execution_count": 16,
   "id": "f03e9344",
   "metadata": {
    "scrolled": false
   },
   "outputs": [
    {
     "data": {
      "image/png": "[encoded data removed]",
      "text/plain": [
       "<Figure size 432x288 with 1 Axes>"
      ]
     },
     "metadata": {
      "needs_background": "light"
     },
     "output_type": "display_data"
    },
    {
     "data": {
      "image/png": "[encoded data removed]",
      "text/plain": [
       "<Figure size 432x288 with 6 Axes>"
      ]
     },
     "metadata": {
      "needs_background": "light"
     },
     "output_type": "display_data"
    },
    {
     "data": {
      "image/png": "[encoded data removed]",
      "text/plain": [
       "<Figure size 432x288 with 3 Axes>"
      ]
     },
     "metadata": {
      "needs_background": "light"
     },
     "output_type": "display_data"
    },
    {
     "data": {
      "image/png": "[encoded data removed]",
      "text/plain": [
       "<Figure size 432x288 with 3 Axes>"
      ]
     },
     "metadata": {
      "needs_background": "light"
     },
     "output_type": "display_data"
    },
    {
     "data": {
      "image/png": "[encoded data removed]",
      "text/plain": [
       "<Figure size 432x288 with 1 Axes>"
      ]
     },
     "metadata": {
      "needs_background": "light"
     },
     "output_type": "display_data"
    },
    {
     "data": {
      "image/png": "[encoded data removed]",
      "text/plain": [
       "<Figure size 432x288 with 6 Axes>"
      ]
     },
     "metadata": {
      "needs_background": "light"
     },
     "output_type": "display_data"
    },
    {
     "data": {
      "image/png": "[encoded data removed]",
      "text/plain": [
       "<Figure size 432x288 with 3 Axes>"
      ]
     },
     "metadata": {
      "needs_background": "light"
     },
     "output_type": "display_data"
    },
    {
     "data": {
      "image/png": "[encoded data removed]",
      "text/plain": [
       "<Figure size 432x288 with 1 Axes>"
      ]
     },
     "metadata": {
      "needs_background": "light"
     },
     "output_type": "display_data"
    }
   ],
   "source": [
    "file = '/histo_mu.svg'\n",
    "titre = r'Histogramme du paramètre $\\mu$'\n",
    "plot_histo(titre,xlabel,ylabel,[mu],100,['NN'],save=True,file_folder=folder+file)\n",
    "\n",
    "file = '/histo_mquarks.svg'\n",
    "titre = 'Histogramme des paramètres de masse des quarks'\n",
    "subtitle = [r'$m_{\\widetilde{u_R}}$',r'$m_{\\widetilde{c_R}}$',r'$m_{\\widetilde{t_R}}$',r'$m_{\\widetilde{d_R}}$',r'$m_{\\widetilde{s_R}}$',r'$m_{\\widetilde{b_R}}$']\n",
    "subplot_histo(titre,xlabel,ylabel,2,3,share,subtitle,[quark_param],['NN'],save=True,file_folder=folder+file)\n",
    "\n",
    "file = '/histo_M.svg'\n",
    "titre = 'Histogramme des paramètres de masse'\n",
    "subtitle = [r'$M_1$',r'$M_2$',r'$M_3$']\n",
    "subplot_histo(titre,xlabel,ylabel,3,1,share,subtitle,[M_param],['NN'],save=True,file_folder=folder+file)\n",
    "\n",
    "file = '/histo_A.svg'\n",
    "titre = 'Histogramme des paramètres A'\n",
    "subtitle = [r'$A_t$',r'$A_b$',r'$A_\\tau$']\n",
    "subplot_histo(titre,xlabel,ylabel,3,1,share,subtitle,[A_param],['NN'],save=True,file_folder=folder+file)\n",
    "\n",
    "file = '/histo_mA.svg'\n",
    "titre = r'Histogramme du paramètre $M_A$'\n",
    "plot_histo(titre,xlabel,ylabel,[mA_param],100,['NN'],save=True,file_folder=folder+file)\n",
    "\n",
    "file = '/histo_mlL.svg'\n",
    "titre = r'Histogramme des paramètres $m_{\\widetilde{f}}$'\n",
    "subtitle = [r'$m_{\\widetilde{e_L}}$',r'$m_{\\widetilde{\\mu_L}}$',r'$m_{\\widetilde{\\tau_L}}$',r'$m_{\\widetilde{e_R}}$',r'$m_{\\widetilde{\\mu_R}}$',r'$m_{\\widetilde{\\tau_R}}$']\n",
    "subplot_histo(titre,xlabel,ylabel,2,3,share,subtitle,[mlL_param+mlR_param],['NN'],save=True,file_folder=folder+file)\n",
    "\n",
    "file = '/histo_mqL.svg'\n",
    "titre = 'Histogramme des paramètres de masse'\n",
    "subtitle = [r'$m_{\\widetilde{q_{1L}}}$',r'$m_{\\widetilde{q_{2L}}}$',r'$m_{\\widetilde{q_{3L}}}$']\n",
    "subplot_histo(titre,xlabel,ylabel,3,1,share,subtitle,[mqL_param],['NN'],save=True,file_folder=folder+file)\n",
    "\n",
    "file = '/histo_tanb.svg'\n",
    "titre = r'Histogramme du paramètre $\\tan \\beta$'\n",
    "plot_histo(titre,xlabel,ylabel,[tanB],100,['NN'],save=True,file_folder=folder+file)"
   ]
  },
  {
   "cell_type": "markdown",
   "id": "774304d5",
   "metadata": {},
   "source": [
    "# Statistique NN "
   ]
  },
  {
   "cell_type": "code",
   "execution_count": 17,
   "id": "903e9010",
   "metadata": {},
   "outputs": [
    {
     "name": "stdout",
     "output_type": "stream",
     "text": [
      "Statisique du Neural Network\n",
      "Nombre d'échecs: 443\n",
      "Nombre de succes: 24557\n",
      "Nombre warning: 0\n",
      "Éfficacité du Neural Network: 98.228 %\n",
      "\n",
      "\n"
     ]
    }
   ],
   "source": [
    "print('Statisique du Neural Network')\n",
    "print(\"Nombre d'échecs:\",ratio[0])\n",
    "print(\"Nombre de succes:\",ratio[1])\n",
    "print('Nombre warning:', warning)\n",
    "print('Éfficacité du Neural Network:',ratio[1]/taille_dataset*100/epoch/taille_batch,'%')\n",
    "print('\\n')"
   ]
  },
  {
   "cell_type": "code",
   "execution_count": 18,
   "id": "015cb8bf",
   "metadata": {},
   "outputs": [
    {
     "name": "stdout",
     "output_type": "stream",
     "text": [
      "[<tf.Variable 'dense/kernel:0' shape=(4, 57) dtype=float32, numpy=\n",
      "array([[-0.06266411,  0.16034372, -0.0334683 , -0.21954037, -0.21080562,\n",
      "        -0.01117546, -0.28156862,  0.27521628,  0.14726019,  0.14262095,\n",
      "        -0.17174071, -0.24740613, -0.10277399,  0.05261656,  0.04949148,\n",
      "        -0.23302776,  0.2008607 ,  0.09635999, -0.12366216,  0.2276659 ,\n",
      "         0.12541932,  0.08560976,  0.2749541 , -0.25324327, -0.14845677,\n",
      "        -0.25248164,  0.14079419,  0.00761185, -0.20546895, -0.23678075,\n",
      "         0.10864907,  0.1896562 , -0.025885  , -0.2030486 , -0.18966255,\n",
      "         0.14952159, -0.11456793, -0.19310471,  0.12886143,  0.04028386,\n",
      "         0.2508821 ,  0.08178179,  0.06834291, -0.06395506, -0.1483998 ,\n",
      "         0.10963727, -0.02939673,  0.23534542,  0.02707679,  0.15717496,\n",
      "        -0.26298824,  0.1184305 , -0.20121115, -0.05027027, -0.23258126,\n",
      "         0.08664356,  0.04772673],\n",
      "       [-0.08523624, -0.28444237, -0.16840655,  0.00284701, -0.02231304,\n",
      "         0.00565635, -0.04706187,  0.04871936,  0.03788846,  0.13500905,\n",
      "        -0.05100496, -0.22969013, -0.1576044 ,  0.06458335,  0.22312987,\n",
      "        -0.21866241,  0.28940898,  0.02428777, -0.11537205, -0.3136981 ,\n",
      "        -0.13064875, -0.2163159 , -0.17812978,  0.2852816 , -0.01662873,\n",
      "         0.19581433,  0.19110174,  0.22756258, -0.12782574,  0.1613675 ,\n",
      "        -0.18676019, -0.05828021, -0.25123638,  0.15814798, -0.2908776 ,\n",
      "         0.11226517, -0.312143  ,  0.10429937, -0.08563331, -0.25927275,\n",
      "        -0.2437994 ,  0.17940639,  0.08823117, -0.2292251 , -0.20362611,\n",
      "        -0.1956004 ,  0.1275793 ,  0.20405765,  0.10458788, -0.17639853,\n",
      "         0.02010525, -0.02991167,  0.28961858,  0.09809005, -0.21411861,\n",
      "         0.18834576, -0.06280607],\n",
      "       [ 0.2795496 ,  0.07425914, -0.13894205, -0.18534671,  0.07665146,\n",
      "         0.1033027 ,  0.06227801,  0.104394  , -0.15350181,  0.13708259,\n",
      "        -0.2662336 , -0.250371  ,  0.21688338, -0.3215173 ,  0.02161744,\n",
      "        -0.21818942,  0.28248644, -0.09576962,  0.23468696, -0.01476095,\n",
      "         0.05170013, -0.09465091,  0.00044113,  0.07824156, -0.17909761,\n",
      "         0.2293091 ,  0.3177387 , -0.2892676 , -0.15357356,  0.08798322,\n",
      "         0.12480716,  0.08277208, -0.23984009, -0.14017288, -0.21083824,\n",
      "        -0.03234146, -0.04174362,  0.11108931,  0.1749475 ,  0.18874918,\n",
      "         0.02933936,  0.18167712, -0.29202196,  0.3161881 ,  0.06248819,\n",
      "         0.094125  , -0.11448159,  0.09130143,  0.23385562,  0.16337527,\n",
      "        -0.11165507,  0.05761242, -0.07435173, -0.06665158, -0.21453871,\n",
      "         0.13381065,  0.24089313],\n",
      "       [-0.3042923 ,  0.13333677,  0.26649868,  0.16430652,  0.30822766,\n",
      "        -0.07832091,  0.08067067,  0.23674189, -0.15743856,  0.29103726,\n",
      "         0.09775914, -0.17190972, -0.09814017,  0.02057017,  0.27382413,\n",
      "        -0.02676797, -0.07354314,  0.07237902,  0.29102385, -0.16866541,\n",
      "        -0.2833072 , -0.26284164,  0.08272429,  0.22627497, -0.28844416,\n",
      "        -0.28849152,  0.02736825, -0.0886781 , -0.29259807,  0.2568419 ,\n",
      "         0.25449264, -0.059634  ,  0.2019109 ,  0.03563412,  0.2819383 ,\n",
      "        -0.23025571, -0.1325671 ,  0.05023897, -0.24752407,  0.30136803,\n",
      "        -0.11586027, -0.28687805,  0.27602232,  0.0340706 ,  0.1010089 ,\n",
      "        -0.20816661,  0.08696828,  0.09849612, -0.04558107,  0.10581633,\n",
      "         0.13890865,  0.10644387, -0.11029559, -0.27136895, -0.1619303 ,\n",
      "        -0.18204513,  0.22931057]], dtype=float32)>, <tf.Variable 'dense/bias:0' shape=(57,) dtype=float32, numpy=\n",
      "array([-0.00485371, -0.02827584,  0.05662132, -0.0162173 ,  0.05934005,\n",
      "       -0.00234007,  0.00323081, -0.0253035 ,  0.05361114, -0.03706926,\n",
      "        0.05462804,  0.03684539,  0.01432551,  0.03892932,  0.04713363,\n",
      "       -0.05938686,  0.04983494, -0.04609273, -0.00881389,  0.01603579,\n",
      "       -0.01575493,  0.04997589,  0.06341904,  0.03456514,  0.05981018,\n",
      "       -0.04701928,  0.01010173,  0.04085829,  0.003144  , -0.03122235,\n",
      "       -0.01526699, -0.00507279, -0.01366901,  0.04725324,  0.05176953,\n",
      "       -0.02320643, -0.01478968, -0.03024865, -0.02278346,  0.03180056,\n",
      "       -0.0099766 ,  0.04231902, -0.04127177, -0.03477118, -0.0044371 ,\n",
      "        0.05724805, -0.02165887,  0.02424207, -0.00848463,  0.03086822,\n",
      "        0.05141466, -0.00920853, -0.04505346, -0.01195373,  0.00209936,\n",
      "       -0.02061267, -0.03560474], dtype=float32)>, <tf.Variable 'dense_1/kernel:0' shape=(57, 19) dtype=float32, numpy=\n",
      "array([[-0.0314552 ,  0.00603429,  0.001588  , ..., -0.06399837,\n",
      "        -0.18782485, -0.2455833 ],\n",
      "       [ 0.02588027,  0.0452893 ,  0.235234  , ..., -0.15836489,\n",
      "        -0.22836283,  0.16724384],\n",
      "       [ 0.24611394,  0.26315907, -0.14419842, ..., -0.30446866,\n",
      "         0.29711702,  0.24847749],\n",
      "       ...,\n",
      "       [-0.2342255 ,  0.18603438, -0.03776999, ...,  0.17304577,\n",
      "        -0.15016751, -0.13757895],\n",
      "       [-0.22517058, -0.08271243, -0.16562483, ...,  0.07225505,\n",
      "         0.06963744,  0.00562735],\n",
      "       [-0.21930245, -0.1702028 ,  0.06728693, ...,  0.15813635,\n",
      "        -0.20230415, -0.06388544]], dtype=float32)>, <tf.Variable 'dense_1/bias:0' shape=(19,) dtype=float32, numpy=\n",
      "array([-0.01943021,  0.06186929,  0.04631544,  0.00403915, -0.02969175,\n",
      "        0.04081784,  0.04232999,  0.0421089 ,  0.04371371,  0.04946706,\n",
      "        0.01587971,  0.04036729,  0.05542148,  0.04658511,  0.04114646,\n",
      "       -0.00995176, -0.02510742,  0.03928095, -0.02262341], dtype=float32)>, <tf.Variable 'dense_2/kernel:0' shape=(19, 76) dtype=float32, numpy=\n",
      "array([[-0.23073946,  0.14130282,  0.2681393 , ..., -0.20687388,\n",
      "         0.28564975, -0.1716267 ],\n",
      "       [-0.07554161, -0.22179472,  0.27559808, ...,  0.02604553,\n",
      "        -0.0458662 ,  0.151968  ],\n",
      "       [-0.13723522, -0.24088944, -0.1994305 , ..., -0.07451061,\n",
      "         0.2667817 ,  0.07829244],\n",
      "       ...,\n",
      "       [-0.13263655,  0.10409086,  0.0638793 , ..., -0.15782382,\n",
      "         0.04311063,  0.082755  ],\n",
      "       [ 0.09330329, -0.26515615,  0.12702882, ..., -0.11957588,\n",
      "        -0.09345903,  0.27549204],\n",
      "       [-0.16754003,  0.049721  ,  0.11806224, ..., -0.09861817,\n",
      "        -0.07163096,  0.22961569]], dtype=float32)>, <tf.Variable 'dense_2/bias:0' shape=(76,) dtype=float32, numpy=\n",
      "array([-0.01754761, -0.02456621,  0.03070254, -0.00853043, -0.0502627 ,\n",
      "       -0.0002555 ,  0.02522006,  0.01626124, -0.0385603 ,  0.02694762,\n",
      "       -0.03414446,  0.04382184, -0.04344894,  0.04195032, -0.03485875,\n",
      "        0.05006943, -0.00315174, -0.04437258,  0.02481558, -0.05272863,\n",
      "        0.0053017 ,  0.03435306,  0.05000936,  0.00633725, -0.02674831,\n",
      "       -0.0411196 , -0.00281994, -0.04360385, -0.01964117, -0.00234805,\n",
      "       -0.01946888, -0.00914783, -0.01631574,  0.04288764, -0.01893453,\n",
      "       -0.02433768, -0.03117167,  0.0153466 ,  0.04156085,  0.03651648,\n",
      "        0.03182779, -0.02658807, -0.01609029,  0.02957085, -0.03828644,\n",
      "        0.03082019,  0.04412954,  0.02512905,  0.03236389, -0.01489066,\n",
      "        0.03583378,  0.03746432, -0.0430019 , -0.01206975,  0.0363057 ,\n",
      "       -0.05513201,  0.02788951, -0.00672751,  0.02084803,  0.01408422,\n",
      "        0.03549013, -0.03532629,  0.02878254, -0.01515467,  0.04675477,\n",
      "        0.02875708, -0.02690485, -0.02245245,  0.00875702, -0.01957493,\n",
      "        0.04541294,  0.03297104,  0.03699518,  0.04177451,  0.04558825,\n",
      "        0.04030627], dtype=float32)>, <tf.Variable 'dense_3/kernel:0' shape=(76, 19) dtype=float32, numpy=\n",
      "array([[ 0.22696714,  0.05177872, -0.02006774, ..., -0.25475734,\n",
      "        -0.03952284, -0.13488264],\n",
      "       [ 0.03910004,  0.10977143, -0.14107381, ..., -0.02168616,\n",
      "         0.15232377,  0.11192002],\n",
      "       [-0.03324447, -0.21115501, -0.13053598, ...,  0.17499217,\n",
      "         0.00731069,  0.25272006],\n",
      "       ...,\n",
      "       [ 0.15597062,  0.12767084, -0.04166178, ..., -0.15497288,\n",
      "        -0.09185498,  0.07278984],\n",
      "       [ 0.15990052,  0.11048719, -0.06775893, ...,  0.08921241,\n",
      "        -0.22701561,  0.00127079],\n",
      "       [ 0.27873403, -0.21086574, -0.21259765, ...,  0.09444514,\n",
      "        -0.04526279,  0.05880037]], dtype=float32)>, <tf.Variable 'dense_3/bias:0' shape=(19,) dtype=float32, numpy=\n",
      "array([ 0.03352397, -0.02457456, -0.00973054, -0.03797953, -0.02824295,\n",
      "       -0.01085938, -0.01900913,  0.0112419 , -0.0447579 ,  0.02472012,\n",
      "        0.02349034, -0.03917398,  0.0423682 ,  0.02804506, -0.04362212,\n",
      "        0.01993031, -0.01690042, -0.00998164,  0.01472093], dtype=float32)>, <tf.Variable 'dense_4/kernel:0' shape=(19, 19) dtype=float32, numpy=\n",
      "array([[-0.1652296 ,  0.12898062, -0.08957841, -0.18317744,  0.14533868,\n",
      "        -0.27687657,  0.16900796, -0.02726475, -0.18891498,  0.25679836,\n",
      "        -0.19088033,  0.14875789,  0.1338008 , -0.01311087,  0.35549912,\n",
      "        -0.1618952 ,  0.325189  , -0.17157905, -0.40847012],\n",
      "       [-0.01797946,  0.24311158,  0.18312831, -0.20408449,  0.025436  ,\n",
      "        -0.32265672,  0.1400319 , -0.03584467, -0.30254972, -0.06154976,\n",
      "         0.3069851 , -0.2184857 , -0.348173  , -0.32445204,  0.0772026 ,\n",
      "         0.06377654, -0.33961642, -0.09878369,  0.20474449],\n",
      "       [-0.30897912,  0.06475984,  0.4109459 ,  0.01943872,  0.12618852,\n",
      "         0.21450976,  0.05688014,  0.35035458, -0.3445946 , -0.300684  ,\n",
      "         0.04954896,  0.18703935,  0.3810738 ,  0.24374835, -0.16205536,\n",
      "         0.20426522,  0.08809602,  0.162668  ,  0.20320281],\n",
      "       [-0.06416298,  0.36013037,  0.03004658, -0.00770522,  0.25004074,\n",
      "         0.34230107, -0.17705752,  0.21995318,  0.14793071,  0.01336471,\n",
      "         0.01157503, -0.2085371 , -0.22201286, -0.057963  , -0.3577543 ,\n",
      "         0.1111606 ,  0.2927313 ,  0.22676903, -0.40523195],\n",
      "       [-0.32412314,  0.13719246, -0.32051376,  0.1498576 ,  0.18247248,\n",
      "         0.41778284, -0.35259145,  0.0718454 ,  0.13867564,  0.27796033,\n",
      "         0.16168655, -0.2019248 , -0.30503866,  0.04937547, -0.14968498,\n",
      "         0.32162532, -0.33300743,  0.24255244,  0.11054207],\n",
      "       [-0.01713505,  0.23784827, -0.15749033,  0.30069214,  0.11293808,\n",
      "         0.27581933, -0.17259736,  0.04514658, -0.15657058,  0.07028741,\n",
      "        -0.00114794,  0.36358997,  0.34804916,  0.03996419, -0.15023178,\n",
      "         0.1535334 ,  0.2775927 , -0.34896564,  0.17090775],\n",
      "       [-0.2562049 ,  0.279352  , -0.03471197, -0.3492629 , -0.40121526,\n",
      "         0.03717964, -0.31622013, -0.2345131 , -0.3354101 ,  0.30477154,\n",
      "        -0.05672818,  0.2312276 , -0.02286937, -0.3693382 ,  0.2388228 ,\n",
      "         0.20226352,  0.02505651,  0.23283055, -0.38591567],\n",
      "       [ 0.32532498, -0.21338445, -0.00514736,  0.10688081,  0.09082054,\n",
      "        -0.01144608,  0.12568282,  0.03254119,  0.32729754,  0.04853229,\n",
      "         0.12426654,  0.22746913, -0.1805893 , -0.17761049, -0.18862607,\n",
      "         0.37776586, -0.33973622,  0.03721554,  0.32450935],\n",
      "       [-0.26685777,  0.13119912,  0.11601642, -0.113759  ,  0.3153043 ,\n",
      "        -0.06527343, -0.2839425 ,  0.18741767, -0.10644592,  0.3116967 ,\n",
      "        -0.17288655,  0.02988892,  0.37902483, -0.22241719, -0.14412622,\n",
      "         0.14219154,  0.29000577,  0.22752629,  0.22061348],\n",
      "       [ 0.39538696, -0.01587261, -0.01858012, -0.13693534,  0.01278238,\n",
      "         0.2383752 ,  0.33157688,  0.40847704,  0.31443825, -0.32757685,\n",
      "         0.39185745, -0.27426052,  0.12306271, -0.04013939,  0.12096122,\n",
      "        -0.12546462, -0.28315094,  0.16428797,  0.15336874],\n",
      "       [ 0.3334791 ,  0.1347189 , -0.25748914,  0.43582952, -0.10887557,\n",
      "         0.01927816, -0.07713703, -0.2161674 ,  0.28617582,  0.26852897,\n",
      "         0.03193481,  0.01721741,  0.18233609, -0.06875262,  0.07946973,\n",
      "        -0.23423593,  0.04241925,  0.28146982,  0.10591136],\n",
      "       [ 0.3758284 , -0.22536382, -0.16935681, -0.2414541 , -0.43336174,\n",
      "        -0.27195814, -0.23446551,  0.02798107, -0.01169262,  0.04461502,\n",
      "         0.32102412,  0.27783656, -0.10132219,  0.05974949, -0.13254568,\n",
      "        -0.313984  , -0.24185328, -0.08818778,  0.03913525],\n",
      "       [ 0.00991728, -0.1859028 ,  0.34178972, -0.02512786, -0.06253115,\n",
      "         0.08791368,  0.25605342, -0.28150254,  0.18157493,  0.45914775,\n",
      "        -0.18622547, -0.07388809,  0.3950526 ,  0.40824685,  0.1942428 ,\n",
      "        -0.07877721,  0.35367075,  0.28519776,  0.06595521],\n",
      "       [ 0.32394543,  0.14145948,  0.37813336,  0.33065224,  0.19312665,\n",
      "         0.26633283,  0.17841208, -0.2367515 ,  0.10836501, -0.29830405,\n",
      "        -0.21656857,  0.25668815, -0.19780485,  0.38683248, -0.01507093,\n",
      "         0.21797056,  0.3714151 ,  0.21523887,  0.18231569],\n",
      "       [ 0.3573723 , -0.04153752, -0.26837274, -0.04285434,  0.1707833 ,\n",
      "        -0.31334782, -0.0478119 , -0.04245224, -0.34271944, -0.24548817,\n",
      "        -0.30905327,  0.35118592,  0.10543248,  0.39836532, -0.1716588 ,\n",
      "        -0.0644327 ,  0.23544417,  0.3426275 , -0.01726362],\n",
      "       [-0.12823428,  0.38181737,  0.22139645, -0.14699836,  0.04880431,\n",
      "        -0.07080972, -0.03473124,  0.2173738 ,  0.10260999,  0.0274086 ,\n",
      "         0.28641143,  0.05175687,  0.00819246,  0.23353426,  0.123053  ,\n",
      "         0.3841904 , -0.09357711,  0.01224603,  0.3285658 ],\n",
      "       [-0.14974481,  0.11257943,  0.41152734, -0.23363994, -0.05504233,\n",
      "         0.24211249, -0.22049424,  0.2818483 , -0.1073387 ,  0.04440607,\n",
      "         0.35133234,  0.01176472,  0.15849434, -0.24704626,  0.30017656,\n",
      "         0.00567496, -0.11017784, -0.4013251 , -0.1355039 ],\n",
      "       [-0.04914682,  0.07810495,  0.11618505, -0.11637411,  0.25906175,\n",
      "        -0.32495078,  0.2656513 ,  0.2381425 ,  0.37683907, -0.18375188,\n",
      "        -0.03800478, -0.04258172, -0.17176916,  0.00695368,  0.04316251,\n",
      "         0.31011534, -0.3026381 ,  0.1050157 , -0.12636845],\n",
      "       [-0.10528015, -0.20735285, -0.27590036,  0.3929857 ,  0.19281325,\n",
      "         0.02389191,  0.06710909,  0.10604797, -0.17505644,  0.14674638,\n",
      "         0.03141329, -0.09702789, -0.27467194, -0.10800102,  0.0345263 ,\n",
      "        -0.18453553,  0.34278294, -0.198755  , -0.20680358]],\n",
      "      dtype=float32)>, <tf.Variable 'dense_4/bias:0' shape=(19,) dtype=float32, numpy=\n",
      "array([ 0.01800692,  0.00308393,  0.02475108,  0.03943241, -0.04889197,\n",
      "        0.04076804,  0.05536276,  0.03324337,  0.00926047,  0.05746848,\n",
      "        0.01845047,  0.03940529, -0.00076693,  0.03226119,  0.0386695 ,\n",
      "        0.04289653,  0.00950589, -0.0098556 , -0.01993035], dtype=float32)>]\n"
     ]
    }
   ],
   "source": [
    "print(model.trainable_weights)"
   ]
  }
 ],
 "metadata": {
  "kernelspec": {
   "display_name": "Python 3 (ipykernel)",
   "language": "python",
   "name": "python3"
  },
  "language_info": {
   "codemirror_mode": {
    "name": "ipython",
    "version": 3
   },
   "file_extension": ".py",
   "mimetype": "text/x-python",
   "name": "python",
   "nbconvert_exporter": "python",
   "pygments_lexer": "ipython3",
   "version": "3.8.10"
  }
 },
 "nbformat": 4,
 "nbformat_minor": 5
}
