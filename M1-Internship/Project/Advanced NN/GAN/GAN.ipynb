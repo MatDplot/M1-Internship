{
 "cells": [
  {
   "cell_type": "markdown",
   "id": "f976d2da",
   "metadata": {},
   "source": [
    "# Setup"
   ]
  },
  {
   "cell_type": "code",
   "execution_count": 1,
   "id": "ce72b7e9",
   "metadata": {},
   "outputs": [
    {
     "name": "stderr",
     "output_type": "stream",
     "text": [
      "2022-05-29 11:54:31.780434: W tensorflow/stream_executor/platform/default/dso_loader.cc:64] Could not load dynamic library 'libcudart.so.11.0'; dlerror: libcudart.so.11.0: cannot open shared object file: No such file or directory\n",
      "2022-05-29 11:54:31.780485: I tensorflow/stream_executor/cuda/cudart_stub.cc:29] Ignore above cudart dlerror if you do not have a GPU set up on your machine.\n"
     ]
    }
   ],
   "source": [
    "import numpy as np\n",
    "import tensorflow as tf\n",
    "from tensorflow import keras\n",
    "from tensorflow.keras import layers\n",
    "import tensorflow_probability as tfp\n",
    "import matplotlib.pyplot as plt\n",
    "import random as rd\n",
    "import os\n",
    "from tqdm import tqdm\n",
    "import tensorflow_addons as tfa\n",
    "import pandas as pd\n",
    "\n",
    "plt.style.use(['science','ieee'])"
   ]
  },
  {
   "cell_type": "markdown",
   "id": "95bf310c",
   "metadata": {},
   "source": [
    "# Intervalle paramètres"
   ]
  },
  {
   "cell_type": "code",
   "execution_count": 2,
   "id": "6e990fe7",
   "metadata": {},
   "outputs": [],
   "source": [
    "#GeV [min,max]\n",
    "\n",
    "M1_range = M2_range = M3_range = [50, 5000]\n",
    "mA_range = [50, 5000]\n",
    "tanB_range = [2, 60]\n",
    "mu_range = [-10**4, 10**4]\n",
    "At_range = Ab_range = Atau_range = [-10**4, 10**4]\n",
    "Mq1L_range = Mq3L_range = [50, 5000]\n",
    "MuR_range = MdR_range = MtR_range = MbR_range = [50, 5000]\n",
    "MeL_range = MtauL_range = MeR_range = MtauR_range = [50, 5000]\n",
    "\n",
    "PMSSM_range= [M1_range, M2_range, M3_range, mA_range, tanB_range, mu_range, At_range, Ab_range, \n",
    "              Atau_range, Mq1L_range, Mq3L_range, MuR_range, MdR_range, MtR_range, MbR_range,\n",
    "             MeL_range, MtauL_range, MeR_range, MtauR_range]"
   ]
  },
  {
   "cell_type": "markdown",
   "id": "9911c1c2",
   "metadata": {},
   "source": [
    "# Dataset "
   ]
  },
  {
   "cell_type": "code",
   "execution_count": 3,
   "id": "d5b378ec",
   "metadata": {},
   "outputs": [
    {
     "name": "stderr",
     "output_type": "stream",
     "text": [
      "  0%|                                                   | 0/100 [00:00<?, ?it/s]2022-05-29 11:54:36.841870: W tensorflow/stream_executor/platform/default/dso_loader.cc:64] Could not load dynamic library 'libcuda.so.1'; dlerror: libcuda.so.1: cannot open shared object file: No such file or directory\n",
      "2022-05-29 11:54:36.841901: W tensorflow/stream_executor/cuda/cuda_driver.cc:269] failed call to cuInit: UNKNOWN ERROR (303)\n",
      "2022-05-29 11:54:36.841920: I tensorflow/stream_executor/cuda/cuda_diagnostics.cc:156] kernel driver does not appear to be running on this host (MPC): /proc/driver/nvidia/version does not exist\n",
      "2022-05-29 11:54:36.843107: I tensorflow/core/platform/cpu_feature_guard.cc:151] This TensorFlow binary is optimized with oneAPI Deep Neural Network Library (oneDNN) to use the following CPU instructions in performance-critical operations:  AVX2 FMA\n",
      "To enable them in other operations, rebuild TensorFlow with the appropriate compiler flags.\n",
      "100%|███████████████████████████████████████| 100/100 [00:00<00:00, 1985.46it/s]"
     ]
    },
    {
     "name": "stdout",
     "output_type": "stream",
     "text": [
      "Features mean: 0.23\n",
      "Features std: 1.00\n"
     ]
    },
    {
     "name": "stderr",
     "output_type": "stream",
     "text": [
      "\n"
     ]
    }
   ],
   "source": [
    "taille_dataset = 100\n",
    "dataset = []\n",
    "taille_batch = 10\n",
    "\n",
    "for i in tqdm(range(taille_dataset)):\n",
    "    batch = [0 for k in range(taille_batch)]\n",
    "    for j in range(len(batch)):\n",
    "        batch[j] = np.random.normal(loc=0.0, scale=1.0, size=(4))\n",
    "    batch = tf.convert_to_tensor(batch)\n",
    "    \n",
    "    dataset.append(batch)\n",
    "    \n",
    "\n",
    "\n",
    "print(\"Features mean: %.2f\" % (dataset[0].numpy().mean()))\n",
    "print(\"Features std: %.2f\" % (dataset[0].numpy().std()))\n"
   ]
  },
  {
   "cell_type": "markdown",
   "id": "96bc65a8",
   "metadata": {},
   "source": [
    "# Fichier slha"
   ]
  },
  {
   "cell_type": "code",
   "execution_count": 4,
   "id": "9badb4bc",
   "metadata": {},
   "outputs": [],
   "source": [
    "def write_slha(PMSSM_NN, nom_slha):\n",
    "    f = open(nom_slha, \"w\")\n",
    "    \n",
    "    f.write(\"BLOCK MODSEL \\n\")\n",
    "    f.write(\" 1    0              #MSSM \\n\")\n",
    "    \n",
    "    f.write(\"BLOCK SMINPUTS \\n\")\n",
    "    f.write(\"  1   1.279340000e+02     # alpha^(-1) SM MSbar(M1) \\n\")\n",
    "    f.write(\"  2   1.663700000e-05     # G_Fermi \\n\")\n",
    "    f.write(\"  3   0.1179              # alphas(MS) SM MSbar \\n\")\n",
    "    f.write(\"  4   91.1876             # MZ(pole) \\n\")\n",
    "    f.write(\"  5   4.18                # mb(mb) SM MSbar \\n\")\n",
    "    f.write(\"  6   172.9               # mtop(pole) \\n\")\n",
    "    f.write(\"  7   1.776860000e+00     #m mtau(pole) \\n\")\n",
    "    \n",
    "    f.write(\"BLOCK MINPAR \\n\")\n",
    "    f.write(\"  3   \"+str(PMSSM_NN[4])+\"   #tanb \\n\")\n",
    "    \n",
    "    f.write(\"BLOCK VCKMIN   #CKM param (Wolfenstein) \\n\")\n",
    "    f.write(\"  1   0.22650  #lambda \\n\")\n",
    "    f.write(\"  2   0.790    #A \\n\")\n",
    "    f.write(\"  3   0.141    #rho \\n\")\n",
    "    f.write(\"  4   0.357    #eta \\n\")\n",
    "    \n",
    "    f.write(\"BLOCK EXTPAR \\n\")\n",
    "    f.write(\"  0   \"+str(-1.0)+\"               # Q \\n\")\n",
    "    f.write(\"  1   \"+str(PMSSM_NN[0])+\"        # M1 \\n\")\n",
    "    f.write(\"  2   \"+str(PMSSM_NN[1])+\"        # M2 \\n\")\n",
    "    f.write(\"  3   \"+str(PMSSM_NN[2])+\"        # M3 \\n\")\n",
    "    f.write(\"  11   \"+str(PMSSM_NN[6])+\"       # At \\n\")\n",
    "    f.write(\"  12   \"+str(PMSSM_NN[7])+\"       # Ab \\n\")\n",
    "    f.write(\"  13   \"+str(PMSSM_NN[8])+\"       # Atau \\n\")\n",
    "    f.write(\"  23   \"+str(PMSSM_NN[5])+\"       # Mu \\n\")\n",
    "    f.write(\"  26   \"+str(PMSSM_NN[3])+\"       # Ma \\n\")\n",
    "    f.write(\"  31   \"+str(PMSSM_NN[15])+\"      # MeL \\n\")\n",
    "    f.write(\"  32   \"+str(PMSSM_NN[15])+\"      # MmuL \\n\")\n",
    "    f.write(\"  33   \"+str(PMSSM_NN[16])+\"      # MstauL \\n\")\n",
    "    f.write(\"  34   \"+str(PMSSM_NN[17])+\"      # MeR \\n\")\n",
    "    f.write(\"  35   \"+str(PMSSM_NN[17])+\"      # MmuR \\n\")\n",
    "    f.write(\"  36   \"+str(PMSSM_NN[18])+\"      # MstauR \\n\")\n",
    "    f.write(\"  41   \"+str(PMSSM_NN[9])+\"       # Mq1L \\n\")\n",
    "    f.write(\"  42   \"+str(PMSSM_NN[9])+\"       # Mq2L \\n\")\n",
    "    f.write(\"  43   \"+str(PMSSM_NN[10])+\"      # Mq3L \\n\")\n",
    "    f.write(\"  44   \"+str(PMSSM_NN[11])+\"      # MquR \\n\")\n",
    "    f.write(\"  45   \"+str(PMSSM_NN[11])+\"      # MqcR \\n\")\n",
    "    f.write(\"  46   \"+str(PMSSM_NN[13])+\"      # MqtR \\n\")\n",
    "    f.write(\"  47   \"+str(PMSSM_NN[12])+\"      # MqdR \\n\")\n",
    "    f.write(\"  48   \"+str(PMSSM_NN[12])+\"      # MqsR \\n\")\n",
    "    f.write(\"  49   \"+str(PMSSM_NN[14])+\"      # MqbR \\n\")\n",
    "    \n",
    "    f.close()"
   ]
  },
  {
   "cell_type": "markdown",
   "id": "91f15305",
   "metadata": {},
   "source": [
    "# Neural Network "
   ]
  },
  {
   "cell_type": "markdown",
   "id": "a188ab3c",
   "metadata": {},
   "source": [
    "## Loss function"
   ]
  },
  {
   "cell_type": "code",
   "execution_count": 5,
   "id": "2319182a",
   "metadata": {},
   "outputs": [
    {
     "name": "stdout",
     "output_type": "stream",
     "text": [
      "Model: \"model\"\n",
      "_________________________________________________________________\n",
      " Layer (type)                Output Shape              Param #   \n",
      "=================================================================\n",
      " input_1 (InputLayer)        [(None, 4)]               0         \n",
      "                                                                 \n",
      " dense (Dense)               (None, 57)                285       \n",
      "                                                                 \n",
      " dense_1 (Dense)             (None, 19)                1102      \n",
      "                                                                 \n",
      " dense_2 (Dense)             (None, 76)                1520      \n",
      "                                                                 \n",
      " dense_3 (Dense)             (None, 19)                1463      \n",
      "                                                                 \n",
      " dense_4 (Dense)             (None, 19)                380       \n",
      "                                                                 \n",
      "=================================================================\n",
      "Total params: 4,750\n",
      "Trainable params: 4,750\n",
      "Non-trainable params: 0\n",
      "_________________________________________________________________\n"
     ]
    }
   ],
   "source": [
    "fnc_activation = 'sigmoid'\n",
    "fnc_activation_output = 'linear'\n",
    "inputs = tf.keras.Input(shape=(4,), dtype='float32')\n",
    "x = keras.layers.Dense(19*3, trainable=True, activation=fnc_activation)(inputs)\n",
    "#x = keras.layers.Dense(6, trainable=True, activation=fnc_activation)(x)\n",
    "#x = keras.layers.Dense(7, trainable=True, activation=fnc_activation)(x)\n",
    "#x = keras.layers.Dense(8, trainable=True, activation=fnc_activation)(x)\n",
    "#x = keras.layers.Dense(9, trainable=True, activation=fnc_activation)(x)\n",
    "#x = keras.layers.Dense(10, trainable=True, activation=fnc_activation)(x)\n",
    "#x = keras.layers.Dense(11, trainable=True, activation=fnc_activation)(x)\n",
    "#x = keras.layers.Dense(12, trainable=True, activation=fnc_activation)(x)\n",
    "#x = keras.layers.Dense(13, trainable=True, activation=fnc_activation)(x)\n",
    "#x = keras.layers.Dense(14, trainable=True, activation=fnc_activation)(x)\n",
    "#x = keras.layers.Dense(15, trainable=True, activation=fnc_activation)(x)\n",
    "#x = keras.layers.Dense(16, trainable=True, activation=fnc_activation)(x)\n",
    "#x = keras.layers.Dense(17, trainable=True, activation=fnc_activation)(x)\n",
    "#x = keras.layers.Dense(18, trainable=True, activation=fnc_activation)(x)\n",
    "x = keras.layers.Dense(19, activation=fnc_activation)(x)\n",
    "x = keras.layers.Dense(19*4, activation=fnc_activation)(x)\n",
    "#x = keras.layers.Dense(19*5, activation=fnc_activation)(x)\n",
    "#x = keras.layers.Dense(19*5, activation=fnc_activation)(x)\n",
    "#x = keras.layers.Lambda(lambda y: tf.keras.backend.random_uniform(shape=(19,),minval=0.0,maxval=1.0,)*y)(x)\n",
    "x = keras.layers.Dense(19, activation=fnc_activation)(x)\n",
    "outputs = keras.layers.Dense(19, activation=fnc_activation_output)(x)\n",
    "model = tf.keras.Model(inputs,outputs)\n",
    "\n",
    "learning_rate = 1e-4\n",
    "optimizer = tf.keras.optimizers.Adam(learning_rate=learning_rate)\n",
    "#optimizer = tf.keras.optimizers.SGD(learning_rate=1e-3)\n",
    "#optimizer = tfa.optimizers.SWA(optimizer, start_averaging=100, average_period=100)\n",
    "\n",
    "model.summary()"
   ]
  },
  {
   "cell_type": "code",
   "execution_count": 6,
   "id": "0e2495bf",
   "metadata": {},
   "outputs": [],
   "source": [
    "def denormalization(logits):\n",
    "    PMSSM_NN = []\n",
    "    \n",
    "    compteur = 0\n",
    "    for i in logits:\n",
    "        m = i * (PMSSM_range[compteur][1]-PMSSM_range[compteur][0]) + PMSSM_range[compteur][0]\n",
    "        compteur+=1\n",
    "        PMSSM_NN.append(m)\n",
    "        \n",
    "    return PMSSM_NN"
   ]
  },
  {
   "cell_type": "code",
   "execution_count": 7,
   "id": "2fab1b79",
   "metadata": {},
   "outputs": [],
   "source": [
    "def verification_param(PMSSM_NN, PMSSM_range):\n",
    "    loss = [rd.uniform(0, 1) for i in range(len(PMSSM_NN))]\n",
    "    correction = False\n",
    "    \n",
    "    for i in range(4):\n",
    "        if PMSSM_NN[i] < PMSSM_range[i][0] or PMSSM_NN[i] > PMSSM_range[i][1]:\n",
    "            loss[i] = 1.0\n",
    "            correction = True\n",
    "    \n",
    "    if PMSSM_NN[4] < PMSSM_range[4][0] or PMSSM_NN[4] > PMSSM_range[4][1]:\n",
    "        loss[4] = 1.0\n",
    "        correction = True\n",
    "    \n",
    "    for i in range(4):\n",
    "        if PMSSM_NN[i+5] < PMSSM_range[i+5][0] or PMSSM_NN[i+5] > PMSSM_range[i+5][1]:\n",
    "            loss[i+5] = 1.0\n",
    "            correction = True\n",
    "        \n",
    "    for i in range(10):\n",
    "        if PMSSM_NN[i+9] < PMSSM_range[i+9][0] or PMSSM_NN[i+9] > PMSSM_range[i+9][1]:\n",
    "            loss[i+9] = 1.0\n",
    "            correction = True\n",
    "    \n",
    "    loss = tf.convert_to_tensor(loss)\n",
    "    return loss , correction"
   ]
  },
  {
   "cell_type": "code",
   "execution_count": 8,
   "id": "ab40589e",
   "metadata": {},
   "outputs": [],
   "source": [
    "def loss_function(logits, PMSSM_range, ratio, succes_path):\n",
    "    logits_tensor = logits\n",
    "    logits = logits.numpy()\n",
    "    \n",
    "    PMSSM_NN = denormalization(logits)\n",
    "                   \n",
    "    loss , correction = verification_param(PMSSM_NN, PMSSM_range)\n",
    "    if correction == True:\n",
    "        squared_difference = tf.square(logits_tensor - loss)\n",
    "        ratio[0]+=1\n",
    "        return tf.reduce_mean(squared_difference, axis=-1)\n",
    "    \n",
    "    write_slha(PMSSM_NN, \"Advanced NN/GAN/pmssm_nn.in\")    \n",
    "    \n",
    "    os.system('./SUSY/softsusy-4.1.9/softpoint.x leshouches < Advanced\\ NN/GAN/pmssm_nn.in > Advanced\\ NN/GAN/pmssm_nn.out')\n",
    "    \n",
    "    erreur = False\n",
    "    \n",
    "    if os.path.getsize('/home/mathis/Stage M1/Advanced NN/GAN/pmssm_nn.out') == 0 :\n",
    "        erreur = True\n",
    "        \n",
    "    with open('Advanced NN/GAN/pmssm_nn.out') as slha_out:\n",
    "        content = slha_out.read()\n",
    "        if 'SOFTSUSY problem' in content:\n",
    "            erreur = True\n",
    "        if 'LSP # Warning' in content:\n",
    "            erreur = True\n",
    "        \n",
    "    \n",
    "    if erreur == True:\n",
    "        loss = [1.0 for i in range(len(logits))]\n",
    "        loss = tf.convert_to_tensor(loss)\n",
    "        squared_difference = tf.square(logits_tensor - loss)\n",
    "        ratio[0]+=1\n",
    "        return tf.reduce_mean(squared_difference, axis=-1)\n",
    "    \n",
    "    \n",
    "    if erreur == False:\n",
    "        ratio[1]+=1\n",
    "        commande = 'mv Advanced\\ NN/GAN/pmssm_nn.out '\n",
    "        nom_fichier = 'pmssm_nn_succes_'+str(ratio[1])+'.out'\n",
    "        os.system(commande+succes_path+nom_fichier)\n",
    "        loss = [rd.uniform(0,1) for i in range(len(logits))]\n",
    "        loss = tf.convert_to_tensor(loss)\n",
    "        squared_difference = tf.square(logits_tensor - loss)\n",
    "        return tf.reduce_mean(squared_difference, axis=-1)        "
   ]
  },
  {
   "cell_type": "code",
   "execution_count": 23,
   "id": "3de3d821",
   "metadata": {
    "scrolled": true
   },
   "outputs": [
    {
     "name": "stdout",
     "output_type": "stream",
     "text": [
      "Epochs 1 / 1\n"
     ]
    },
    {
     "name": "stderr",
     "output_type": "stream",
     "text": [
      "\r",
      "  0%|                                                   | 0/100 [00:00<?, ?it/s]"
     ]
    },
    {
     "name": "stdout",
     "output_type": "stream",
     "text": [
      "tf.Tensor(0.05277587, shape=(), dtype=float32)\n",
      "WARNING:tensorflow:Calling GradientTape.gradient on a persistent tape inside its context is significantly less efficient than calling it outside the context (it causes the gradient ops to be recorded on the tape, leading to increased CPU and memory usage). Only call GradientTape.gradient inside the context if you actually want to trace the gradient in order to compute higher order derivatives.\n",
      "tf.Tensor(0.0799522, shape=(), dtype=float32)\n",
      "tf.Tensor(0.06710349, shape=(), dtype=float32)\n",
      "tf.Tensor(0.10563483, shape=(), dtype=float32)\n",
      "tf.Tensor(0.07439295, shape=(), dtype=float32)\n",
      "tf.Tensor(0.11162791, shape=(), dtype=float32)\n",
      "tf.Tensor(0.09692858, shape=(), dtype=float32)\n",
      "tf.Tensor(0.08430369, shape=(), dtype=float32)\n",
      "tf.Tensor(0.07520006, shape=(), dtype=float32)\n"
     ]
    },
    {
     "name": "stderr",
     "output_type": "stream",
     "text": [
      "\r",
      "  1%|▍                                          | 1/100 [00:00<01:15,  1.32it/s]"
     ]
    },
    {
     "name": "stdout",
     "output_type": "stream",
     "text": [
      "tf.Tensor(0.09150768, shape=(), dtype=float32)\n",
      "tf.Tensor(0.07774244, shape=(), dtype=float32)\n",
      "tf.Tensor(0.09380098, shape=(), dtype=float32)\n",
      "tf.Tensor(0.085297294, shape=(), dtype=float32)\n",
      "tf.Tensor(0.09684376, shape=(), dtype=float32)\n",
      "tf.Tensor(0.06868296, shape=(), dtype=float32)\n",
      "tf.Tensor(0.08962053, shape=(), dtype=float32)\n",
      "tf.Tensor(0.07388253, shape=(), dtype=float32)\n",
      "tf.Tensor(0.0593178, shape=(), dtype=float32)\n"
     ]
    },
    {
     "name": "stderr",
     "output_type": "stream",
     "text": [
      "\r",
      "  2%|▊                                          | 2/100 [00:01<01:16,  1.28it/s]"
     ]
    },
    {
     "name": "stdout",
     "output_type": "stream",
     "text": [
      "tf.Tensor(0.0970456, shape=(), dtype=float32)\n",
      "tf.Tensor(0.10264534, shape=(), dtype=float32)\n",
      "tf.Tensor(0.06274257, shape=(), dtype=float32)\n",
      "tf.Tensor(0.054515675, shape=(), dtype=float32)\n",
      "tf.Tensor(0.071916625, shape=(), dtype=float32)\n",
      "tf.Tensor(0.07588636, shape=(), dtype=float32)\n",
      "tf.Tensor(0.07470078, shape=(), dtype=float32)\n",
      "tf.Tensor(0.08638935, shape=(), dtype=float32)\n",
      "tf.Tensor(0.06348432, shape=(), dtype=float32)\n"
     ]
    },
    {
     "name": "stderr",
     "output_type": "stream",
     "text": [
      "\r",
      "  3%|█▎                                         | 3/100 [00:02<01:12,  1.33it/s]"
     ]
    },
    {
     "name": "stdout",
     "output_type": "stream",
     "text": [
      "tf.Tensor(0.07736118, shape=(), dtype=float32)\n",
      "tf.Tensor(0.07516839, shape=(), dtype=float32)\n",
      "tf.Tensor(0.07489901, shape=(), dtype=float32)\n",
      "tf.Tensor(0.08897095, shape=(), dtype=float32)\n",
      "tf.Tensor(0.07374026, shape=(), dtype=float32)\n",
      "tf.Tensor(0.06314933, shape=(), dtype=float32)\n",
      "tf.Tensor(0.06755869, shape=(), dtype=float32)\n",
      "tf.Tensor(0.09135193, shape=(), dtype=float32)\n",
      "tf.Tensor(0.07328237, shape=(), dtype=float32)\n",
      "tf.Tensor(0.111948825, shape=(), dtype=float32)\n",
      "tf.Tensor(0.10986383, shape=(), dtype=float32)\n"
     ]
    },
    {
     "name": "stderr",
     "output_type": "stream",
     "text": [
      "\r",
      "  4%|█▋                                         | 4/100 [00:02<01:07,  1.42it/s]"
     ]
    },
    {
     "name": "stdout",
     "output_type": "stream",
     "text": [
      "tf.Tensor(0.081965186, shape=(), dtype=float32)\n",
      "tf.Tensor(0.0744967, shape=(), dtype=float32)\n",
      "tf.Tensor(0.1060707, shape=(), dtype=float32)\n",
      "tf.Tensor(0.115165286, shape=(), dtype=float32)\n",
      "tf.Tensor(0.0913218, shape=(), dtype=float32)\n",
      "tf.Tensor(0.08295808, shape=(), dtype=float32)\n",
      "tf.Tensor(0.100810885, shape=(), dtype=float32)\n",
      "tf.Tensor(0.09569957, shape=(), dtype=float32)\n",
      "tf.Tensor(0.10548806, shape=(), dtype=float32)\n",
      "tf.Tensor(0.066591315, shape=(), dtype=float32)\n"
     ]
    },
    {
     "name": "stderr",
     "output_type": "stream",
     "text": [
      "\r",
      "  5%|██▏                                        | 5/100 [00:03<01:07,  1.42it/s]"
     ]
    },
    {
     "name": "stdout",
     "output_type": "stream",
     "text": [
      "tf.Tensor(0.065500475, shape=(), dtype=float32)\n",
      "tf.Tensor(0.083761, shape=(), dtype=float32)\n",
      "tf.Tensor(0.08960623, shape=(), dtype=float32)\n",
      "tf.Tensor(0.08809569, shape=(), dtype=float32)\n",
      "tf.Tensor(0.07324003, shape=(), dtype=float32)\n",
      "tf.Tensor(0.08888047, shape=(), dtype=float32)\n",
      "tf.Tensor(0.103227325, shape=(), dtype=float32)\n",
      "tf.Tensor(0.07222851, shape=(), dtype=float32)\n",
      "tf.Tensor(0.07970588, shape=(), dtype=float32)\n"
     ]
    },
    {
     "name": "stderr",
     "output_type": "stream",
     "text": [
      "\r",
      "  6%|██▌                                        | 6/100 [00:04<01:05,  1.43it/s]"
     ]
    },
    {
     "name": "stdout",
     "output_type": "stream",
     "text": [
      "tf.Tensor(0.0832458, shape=(), dtype=float32)\n",
      "tf.Tensor(0.04911202, shape=(), dtype=float32)\n",
      "tf.Tensor(0.09881893, shape=(), dtype=float32)\n",
      "tf.Tensor(0.097864605, shape=(), dtype=float32)\n",
      "tf.Tensor(0.05949753, shape=(), dtype=float32)\n",
      "tf.Tensor(0.08477996, shape=(), dtype=float32)\n",
      "tf.Tensor(0.061072916, shape=(), dtype=float32)\n",
      "tf.Tensor(0.088647984, shape=(), dtype=float32)\n",
      "tf.Tensor(0.0551673, shape=(), dtype=float32)\n",
      "tf.Tensor(0.08260733, shape=(), dtype=float32)\n",
      "tf.Tensor(0.04731332, shape=(), dtype=float32)\n"
     ]
    },
    {
     "name": "stderr",
     "output_type": "stream",
     "text": [
      "\r",
      "  7%|███                                        | 7/100 [00:04<01:02,  1.48it/s]"
     ]
    },
    {
     "name": "stdout",
     "output_type": "stream",
     "text": [
      "tf.Tensor(0.112998426, shape=(), dtype=float32)\n",
      "tf.Tensor(0.058755625, shape=(), dtype=float32)\n",
      "tf.Tensor(0.058716938, shape=(), dtype=float32)\n",
      "tf.Tensor(0.08483683, shape=(), dtype=float32)\n",
      "tf.Tensor(0.114384964, shape=(), dtype=float32)\n",
      "tf.Tensor(0.09166231, shape=(), dtype=float32)\n",
      "tf.Tensor(0.12499213, shape=(), dtype=float32)\n",
      "tf.Tensor(0.07994718, shape=(), dtype=float32)\n",
      "tf.Tensor(0.049059223, shape=(), dtype=float32)\n",
      "tf.Tensor(0.05999113, shape=(), dtype=float32)\n"
     ]
    },
    {
     "name": "stderr",
     "output_type": "stream",
     "text": [
      "\r",
      "  8%|███▍                                       | 8/100 [00:05<01:03,  1.44it/s]"
     ]
    },
    {
     "name": "stdout",
     "output_type": "stream",
     "text": [
      "tf.Tensor(0.08951349, shape=(), dtype=float32)\n",
      "tf.Tensor(0.05567182, shape=(), dtype=float32)\n",
      "tf.Tensor(0.09836731, shape=(), dtype=float32)\n",
      "tf.Tensor(0.09965203, shape=(), dtype=float32)\n",
      "tf.Tensor(0.09235237, shape=(), dtype=float32)\n",
      "tf.Tensor(0.06590257, shape=(), dtype=float32)\n",
      "tf.Tensor(0.097529486, shape=(), dtype=float32)\n",
      "tf.Tensor(0.07413331, shape=(), dtype=float32)\n",
      "tf.Tensor(0.10389166, shape=(), dtype=float32)\n"
     ]
    },
    {
     "name": "stderr",
     "output_type": "stream",
     "text": [
      "\r",
      "  9%|███▊                                       | 9/100 [00:06<01:03,  1.42it/s]"
     ]
    },
    {
     "name": "stdout",
     "output_type": "stream",
     "text": [
      "tf.Tensor(0.06551209, shape=(), dtype=float32)\n",
      "tf.Tensor(0.091706246, shape=(), dtype=float32)\n",
      "tf.Tensor(0.060982063, shape=(), dtype=float32)\n",
      "tf.Tensor(0.10597779, shape=(), dtype=float32)\n",
      "tf.Tensor(0.09443996, shape=(), dtype=float32)\n",
      "tf.Tensor(0.06670052, shape=(), dtype=float32)\n",
      "tf.Tensor(0.09534067, shape=(), dtype=float32)\n",
      "tf.Tensor(0.1084052, shape=(), dtype=float32)\n",
      "tf.Tensor(0.07672377, shape=(), dtype=float32)\n",
      "tf.Tensor(0.08727366, shape=(), dtype=float32)\n"
     ]
    },
    {
     "name": "stderr",
     "output_type": "stream",
     "text": [
      "\r",
      " 10%|████▏                                     | 10/100 [00:07<01:01,  1.46it/s]"
     ]
    },
    {
     "name": "stdout",
     "output_type": "stream",
     "text": [
      "tf.Tensor(0.08043663, shape=(), dtype=float32)\n",
      "tf.Tensor(0.05320792, shape=(), dtype=float32)\n",
      "tf.Tensor(0.08976676, shape=(), dtype=float32)\n",
      "tf.Tensor(0.09445436, shape=(), dtype=float32)\n",
      "tf.Tensor(0.082187675, shape=(), dtype=float32)\n",
      "tf.Tensor(0.08552576, shape=(), dtype=float32)\n",
      "tf.Tensor(0.08509581, shape=(), dtype=float32)\n",
      "tf.Tensor(0.09224054, shape=(), dtype=float32)\n",
      "tf.Tensor(0.08280391, shape=(), dtype=float32)\n",
      "tf.Tensor(0.09140223, shape=(), dtype=float32)\n",
      "tf.Tensor(0.10163522, shape=(), dtype=float32)\n",
      "tf.Tensor(0.06573873, shape=(), dtype=float32)\n"
     ]
    },
    {
     "name": "stderr",
     "output_type": "stream",
     "text": [
      "\r",
      " 11%|████▌                                     | 11/100 [00:07<01:01,  1.45it/s]"
     ]
    },
    {
     "name": "stdout",
     "output_type": "stream",
     "text": [
      "tf.Tensor(0.058365326, shape=(), dtype=float32)\n",
      "tf.Tensor(0.06461444, shape=(), dtype=float32)\n",
      "tf.Tensor(0.10339729, shape=(), dtype=float32)\n",
      "tf.Tensor(0.047900274, shape=(), dtype=float32)\n",
      "tf.Tensor(0.08581508, shape=(), dtype=float32)\n",
      "tf.Tensor(0.09228534, shape=(), dtype=float32)\n",
      "tf.Tensor(0.07633331, shape=(), dtype=float32)\n",
      "tf.Tensor(0.115080975, shape=(), dtype=float32)\n"
     ]
    },
    {
     "name": "stderr",
     "output_type": "stream",
     "text": [
      "\r",
      " 12%|█████                                     | 12/100 [00:08<01:05,  1.35it/s]"
     ]
    },
    {
     "name": "stdout",
     "output_type": "stream",
     "text": [
      "tf.Tensor(0.09369406, shape=(), dtype=float32)\n",
      "tf.Tensor(0.09937825, shape=(), dtype=float32)\n",
      "tf.Tensor(0.079177596, shape=(), dtype=float32)\n",
      "tf.Tensor(0.06663044, shape=(), dtype=float32)\n",
      "tf.Tensor(0.085020825, shape=(), dtype=float32)\n",
      "tf.Tensor(0.065952525, shape=(), dtype=float32)\n",
      "tf.Tensor(0.07288515, shape=(), dtype=float32)\n",
      "tf.Tensor(0.06266546, shape=(), dtype=float32)\n",
      "tf.Tensor(0.06722518, shape=(), dtype=float32)\n",
      "tf.Tensor(0.10109428, shape=(), dtype=float32)\n",
      "tf.Tensor(0.09956873, shape=(), dtype=float32)\n"
     ]
    },
    {
     "name": "stderr",
     "output_type": "stream",
     "text": [
      "\r",
      " 13%|█████▍                                    | 13/100 [00:09<01:07,  1.28it/s]"
     ]
    },
    {
     "name": "stdout",
     "output_type": "stream",
     "text": [
      "tf.Tensor(0.10703149, shape=(), dtype=float32)\n",
      "tf.Tensor(0.07262282, shape=(), dtype=float32)\n",
      "tf.Tensor(0.09771465, shape=(), dtype=float32)\n",
      "tf.Tensor(0.0628055, shape=(), dtype=float32)\n",
      "tf.Tensor(0.079793274, shape=(), dtype=float32)\n",
      "tf.Tensor(0.071207166, shape=(), dtype=float32)\n",
      "tf.Tensor(0.09196695, shape=(), dtype=float32)\n",
      "tf.Tensor(0.07192322, shape=(), dtype=float32)\n",
      "tf.Tensor(0.07578008, shape=(), dtype=float32)\n",
      "tf.Tensor(0.085401826, shape=(), dtype=float32)\n"
     ]
    },
    {
     "name": "stderr",
     "output_type": "stream",
     "text": [
      "\r",
      " 14%|█████▉                                    | 14/100 [00:10<01:08,  1.25it/s]"
     ]
    },
    {
     "name": "stdout",
     "output_type": "stream",
     "text": [
      "tf.Tensor(0.07204496, shape=(), dtype=float32)\n",
      "tf.Tensor(0.097762324, shape=(), dtype=float32)\n",
      "tf.Tensor(0.050695322, shape=(), dtype=float32)\n",
      "tf.Tensor(0.08074119, shape=(), dtype=float32)\n",
      "tf.Tensor(0.09297989, shape=(), dtype=float32)\n",
      "tf.Tensor(0.086085476, shape=(), dtype=float32)\n",
      "tf.Tensor(0.086083785, shape=(), dtype=float32)\n",
      "tf.Tensor(0.09135928, shape=(), dtype=float32)\n",
      "tf.Tensor(0.07926962, shape=(), dtype=float32)\n",
      "tf.Tensor(0.070016645, shape=(), dtype=float32)\n",
      "tf.Tensor(0.05731734, shape=(), dtype=float32)\n"
     ]
    },
    {
     "name": "stderr",
     "output_type": "stream",
     "text": [
      "\r",
      " 15%|██████▎                                   | 15/100 [00:10<01:02,  1.35it/s]"
     ]
    },
    {
     "name": "stdout",
     "output_type": "stream",
     "text": [
      "tf.Tensor(0.08429821, shape=(), dtype=float32)\n",
      "tf.Tensor(0.045972005, shape=(), dtype=float32)\n",
      "tf.Tensor(0.0992452, shape=(), dtype=float32)\n",
      "tf.Tensor(0.10093566, shape=(), dtype=float32)\n",
      "tf.Tensor(0.07427257, shape=(), dtype=float32)\n",
      "tf.Tensor(0.10875275, shape=(), dtype=float32)\n",
      "tf.Tensor(0.09160894, shape=(), dtype=float32)\n",
      "tf.Tensor(0.0913832, shape=(), dtype=float32)\n",
      "tf.Tensor(0.11323054, shape=(), dtype=float32)\n"
     ]
    },
    {
     "name": "stderr",
     "output_type": "stream",
     "text": [
      "\r",
      " 16%|██████▋                                   | 16/100 [00:11<01:00,  1.38it/s]"
     ]
    },
    {
     "name": "stdout",
     "output_type": "stream",
     "text": [
      "tf.Tensor(0.069838524, shape=(), dtype=float32)\n",
      "tf.Tensor(0.109865114, shape=(), dtype=float32)\n",
      "tf.Tensor(0.08704569, shape=(), dtype=float32)\n",
      "tf.Tensor(0.07868876, shape=(), dtype=float32)\n",
      "tf.Tensor(0.06198077, shape=(), dtype=float32)\n",
      "tf.Tensor(0.096825145, shape=(), dtype=float32)\n",
      "tf.Tensor(0.06754255, shape=(), dtype=float32)\n",
      "tf.Tensor(0.10209096, shape=(), dtype=float32)\n",
      "tf.Tensor(0.06550875, shape=(), dtype=float32)\n",
      "tf.Tensor(0.05698615, shape=(), dtype=float32)\n"
     ]
    },
    {
     "name": "stderr",
     "output_type": "stream",
     "text": [
      "\r",
      " 17%|███████▏                                  | 17/100 [00:12<01:05,  1.27it/s]"
     ]
    },
    {
     "name": "stdout",
     "output_type": "stream",
     "text": [
      "tf.Tensor(0.086142704, shape=(), dtype=float32)\n",
      "tf.Tensor(0.09981647, shape=(), dtype=float32)\n",
      "tf.Tensor(0.106792875, shape=(), dtype=float32)\n",
      "tf.Tensor(0.06959047, shape=(), dtype=float32)\n",
      "tf.Tensor(0.108409114, shape=(), dtype=float32)\n",
      "tf.Tensor(0.073413655, shape=(), dtype=float32)\n",
      "tf.Tensor(0.06949509, shape=(), dtype=float32)\n",
      "tf.Tensor(0.07046888, shape=(), dtype=float32)\n",
      "tf.Tensor(0.07013137, shape=(), dtype=float32)\n",
      "tf.Tensor(0.07976677, shape=(), dtype=float32)\n",
      "tf.Tensor(0.0963811, shape=(), dtype=float32)\n"
     ]
    },
    {
     "name": "stderr",
     "output_type": "stream",
     "text": [
      "\r",
      " 18%|███████▌                                  | 18/100 [00:13<01:09,  1.18it/s]"
     ]
    },
    {
     "name": "stdout",
     "output_type": "stream",
     "text": [
      "tf.Tensor(0.10664326, shape=(), dtype=float32)\n",
      "tf.Tensor(0.04762386, shape=(), dtype=float32)\n",
      "tf.Tensor(0.079610616, shape=(), dtype=float32)\n",
      "tf.Tensor(0.10016948, shape=(), dtype=float32)\n",
      "tf.Tensor(0.07020626, shape=(), dtype=float32)\n",
      "tf.Tensor(0.089614995, shape=(), dtype=float32)\n",
      "tf.Tensor(0.08970616, shape=(), dtype=float32)\n",
      "tf.Tensor(0.061463017, shape=(), dtype=float32)\n"
     ]
    },
    {
     "name": "stderr",
     "output_type": "stream",
     "text": [
      "\r",
      " 19%|███████▉                                  | 19/100 [00:14<01:07,  1.20it/s]"
     ]
    },
    {
     "name": "stdout",
     "output_type": "stream",
     "text": [
      "tf.Tensor(0.073778175, shape=(), dtype=float32)\n",
      "tf.Tensor(0.04450733, shape=(), dtype=float32)\n",
      "tf.Tensor(0.073408015, shape=(), dtype=float32)\n",
      "tf.Tensor(0.10058329, shape=(), dtype=float32)\n",
      "tf.Tensor(0.06491308, shape=(), dtype=float32)\n",
      "tf.Tensor(0.107844256, shape=(), dtype=float32)\n",
      "tf.Tensor(0.101571515, shape=(), dtype=float32)\n",
      "tf.Tensor(0.07431263, shape=(), dtype=float32)\n",
      "tf.Tensor(0.08653984, shape=(), dtype=float32)\n",
      "tf.Tensor(0.07189726, shape=(), dtype=float32)\n",
      "tf.Tensor(0.08029271, shape=(), dtype=float32)\n",
      "tf.Tensor(0.07080517, shape=(), dtype=float32)\n"
     ]
    },
    {
     "name": "stderr",
     "output_type": "stream",
     "text": [
      "\r",
      " 20%|████████▍                                 | 20/100 [00:15<01:06,  1.21it/s]"
     ]
    },
    {
     "name": "stdout",
     "output_type": "stream",
     "text": [
      "tf.Tensor(0.09862942, shape=(), dtype=float32)\n",
      "tf.Tensor(0.09579096, shape=(), dtype=float32)\n",
      "tf.Tensor(0.073496506, shape=(), dtype=float32)\n",
      "tf.Tensor(0.08164304, shape=(), dtype=float32)\n",
      "tf.Tensor(0.09654289, shape=(), dtype=float32)\n",
      "tf.Tensor(0.096007645, shape=(), dtype=float32)\n",
      "tf.Tensor(0.089382395, shape=(), dtype=float32)\n",
      "tf.Tensor(0.11801617, shape=(), dtype=float32)\n",
      "tf.Tensor(0.09716975, shape=(), dtype=float32)\n"
     ]
    },
    {
     "name": "stderr",
     "output_type": "stream",
     "text": [
      "\r",
      " 21%|████████▊                                 | 21/100 [00:15<01:02,  1.27it/s]"
     ]
    },
    {
     "name": "stdout",
     "output_type": "stream",
     "text": [
      "tf.Tensor(0.10448649, shape=(), dtype=float32)\n",
      "tf.Tensor(0.058154453, shape=(), dtype=float32)\n",
      "tf.Tensor(0.07342043, shape=(), dtype=float32)\n",
      "tf.Tensor(0.09173006, shape=(), dtype=float32)\n",
      "tf.Tensor(0.075250514, shape=(), dtype=float32)\n",
      "tf.Tensor(0.09291531, shape=(), dtype=float32)\n",
      "tf.Tensor(0.07920808, shape=(), dtype=float32)\n",
      "tf.Tensor(0.07355413, shape=(), dtype=float32)\n",
      "tf.Tensor(0.059969414, shape=(), dtype=float32)\n",
      "tf.Tensor(0.111134656, shape=(), dtype=float32)\n"
     ]
    },
    {
     "name": "stderr",
     "output_type": "stream",
     "text": [
      "\r",
      " 22%|█████████▏                                | 22/100 [00:16<00:58,  1.33it/s]"
     ]
    },
    {
     "name": "stdout",
     "output_type": "stream",
     "text": [
      "tf.Tensor(0.066166796, shape=(), dtype=float32)\n",
      "tf.Tensor(0.09345406, shape=(), dtype=float32)\n",
      "tf.Tensor(0.074168265, shape=(), dtype=float32)\n",
      "tf.Tensor(0.06689074, shape=(), dtype=float32)\n",
      "tf.Tensor(0.06573347, shape=(), dtype=float32)\n",
      "tf.Tensor(0.08789963, shape=(), dtype=float32)\n",
      "tf.Tensor(0.07803548, shape=(), dtype=float32)\n",
      "tf.Tensor(0.07924285, shape=(), dtype=float32)\n",
      "tf.Tensor(0.059814326, shape=(), dtype=float32)\n",
      "tf.Tensor(0.092668556, shape=(), dtype=float32)\n",
      "tf.Tensor(0.07975318, shape=(), dtype=float32)\n"
     ]
    },
    {
     "name": "stderr",
     "output_type": "stream",
     "text": [
      "\r",
      " 23%|█████████▋                                | 23/100 [00:17<00:55,  1.38it/s]"
     ]
    },
    {
     "name": "stdout",
     "output_type": "stream",
     "text": [
      "tf.Tensor(0.10359719, shape=(), dtype=float32)\n",
      "tf.Tensor(0.0990955, shape=(), dtype=float32)\n",
      "tf.Tensor(0.048282374, shape=(), dtype=float32)\n",
      "tf.Tensor(0.10218073, shape=(), dtype=float32)\n",
      "tf.Tensor(0.06515372, shape=(), dtype=float32)\n",
      "tf.Tensor(0.07967164, shape=(), dtype=float32)\n",
      "tf.Tensor(0.06221617, shape=(), dtype=float32)\n",
      "tf.Tensor(0.09228053, shape=(), dtype=float32)\n",
      "tf.Tensor(0.10836699, shape=(), dtype=float32)\n",
      "tf.Tensor(0.09832439, shape=(), dtype=float32)\n"
     ]
    },
    {
     "name": "stderr",
     "output_type": "stream",
     "text": [
      "\r",
      " 24%|██████████                                | 24/100 [00:17<00:54,  1.40it/s]"
     ]
    },
    {
     "name": "stdout",
     "output_type": "stream",
     "text": [
      "tf.Tensor(0.07909427, shape=(), dtype=float32)\n",
      "tf.Tensor(0.07131943, shape=(), dtype=float32)\n",
      "tf.Tensor(0.05989672, shape=(), dtype=float32)\n",
      "tf.Tensor(0.06769443, shape=(), dtype=float32)\n",
      "tf.Tensor(0.08341478, shape=(), dtype=float32)\n",
      "tf.Tensor(0.055186253, shape=(), dtype=float32)\n",
      "tf.Tensor(0.04746504, shape=(), dtype=float32)\n",
      "tf.Tensor(0.09579849, shape=(), dtype=float32)\n",
      "tf.Tensor(0.09543412, shape=(), dtype=float32)\n",
      "tf.Tensor(0.10139129, shape=(), dtype=float32)\n"
     ]
    },
    {
     "name": "stderr",
     "output_type": "stream",
     "text": [
      "\r",
      " 25%|██████████▌                               | 25/100 [00:18<00:52,  1.42it/s]"
     ]
    },
    {
     "name": "stdout",
     "output_type": "stream",
     "text": [
      "tf.Tensor(0.12691249, shape=(), dtype=float32)\n",
      "tf.Tensor(0.059224468, shape=(), dtype=float32)\n",
      "tf.Tensor(0.096001945, shape=(), dtype=float32)\n",
      "tf.Tensor(0.096332274, shape=(), dtype=float32)\n",
      "tf.Tensor(0.07776164, shape=(), dtype=float32)\n",
      "tf.Tensor(0.077574246, shape=(), dtype=float32)\n",
      "tf.Tensor(0.08099374, shape=(), dtype=float32)\n",
      "tf.Tensor(0.06411418, shape=(), dtype=float32)\n",
      "tf.Tensor(0.09310408, shape=(), dtype=float32)\n",
      "tf.Tensor(0.079868376, shape=(), dtype=float32)\n"
     ]
    },
    {
     "name": "stderr",
     "output_type": "stream",
     "text": [
      "\r",
      " 26%|██████████▉                               | 26/100 [00:19<00:51,  1.44it/s]"
     ]
    },
    {
     "name": "stdout",
     "output_type": "stream",
     "text": [
      "tf.Tensor(0.09188052, shape=(), dtype=float32)\n",
      "tf.Tensor(0.075019985, shape=(), dtype=float32)\n",
      "tf.Tensor(0.07477221, shape=(), dtype=float32)\n",
      "tf.Tensor(0.10114823, shape=(), dtype=float32)\n",
      "tf.Tensor(0.08297361, shape=(), dtype=float32)\n",
      "tf.Tensor(0.055181164, shape=(), dtype=float32)\n",
      "tf.Tensor(0.07917013, shape=(), dtype=float32)\n",
      "tf.Tensor(0.09835173, shape=(), dtype=float32)\n",
      "tf.Tensor(0.06540616, shape=(), dtype=float32)\n"
     ]
    },
    {
     "name": "stderr",
     "output_type": "stream",
     "text": [
      "\r",
      " 27%|███████████▎                              | 27/100 [00:19<00:51,  1.41it/s]"
     ]
    },
    {
     "name": "stdout",
     "output_type": "stream",
     "text": [
      "tf.Tensor(0.09039674, shape=(), dtype=float32)\n",
      "tf.Tensor(0.09991179, shape=(), dtype=float32)\n",
      "tf.Tensor(0.09600699, shape=(), dtype=float32)\n",
      "tf.Tensor(0.09587856, shape=(), dtype=float32)\n",
      "tf.Tensor(0.09700159, shape=(), dtype=float32)\n",
      "tf.Tensor(0.09323581, shape=(), dtype=float32)\n",
      "tf.Tensor(0.10251797, shape=(), dtype=float32)\n",
      "tf.Tensor(0.06594166, shape=(), dtype=float32)\n",
      "tf.Tensor(0.076743096, shape=(), dtype=float32)\n",
      "tf.Tensor(0.09254521, shape=(), dtype=float32)\n"
     ]
    },
    {
     "name": "stderr",
     "output_type": "stream",
     "text": [
      "\r",
      " 28%|███████████▊                              | 28/100 [00:20<00:50,  1.42it/s]"
     ]
    },
    {
     "name": "stdout",
     "output_type": "stream",
     "text": [
      "tf.Tensor(0.07273374, shape=(), dtype=float32)\n",
      "tf.Tensor(0.06960742, shape=(), dtype=float32)\n",
      "tf.Tensor(0.062945746, shape=(), dtype=float32)\n",
      "tf.Tensor(0.10016195, shape=(), dtype=float32)\n",
      "tf.Tensor(0.0809517, shape=(), dtype=float32)\n",
      "tf.Tensor(0.045320354, shape=(), dtype=float32)\n",
      "tf.Tensor(0.06635022, shape=(), dtype=float32)\n",
      "tf.Tensor(0.07880879, shape=(), dtype=float32)\n",
      "tf.Tensor(0.09926802, shape=(), dtype=float32)\n",
      "tf.Tensor(0.0936098, shape=(), dtype=float32)\n"
     ]
    },
    {
     "name": "stderr",
     "output_type": "stream",
     "text": [
      "\r",
      " 29%|████████████▏                             | 29/100 [00:21<00:50,  1.41it/s]"
     ]
    },
    {
     "name": "stdout",
     "output_type": "stream",
     "text": [
      "tf.Tensor(0.10895001, shape=(), dtype=float32)\n",
      "tf.Tensor(0.079410486, shape=(), dtype=float32)\n",
      "tf.Tensor(0.09293884, shape=(), dtype=float32)\n",
      "tf.Tensor(0.101758935, shape=(), dtype=float32)\n",
      "tf.Tensor(0.08727785, shape=(), dtype=float32)\n",
      "tf.Tensor(0.0947398, shape=(), dtype=float32)\n",
      "tf.Tensor(0.08821615, shape=(), dtype=float32)\n",
      "tf.Tensor(0.09718972, shape=(), dtype=float32)\n",
      "tf.Tensor(0.07703811, shape=(), dtype=float32)\n",
      "tf.Tensor(0.097275026, shape=(), dtype=float32)\n"
     ]
    },
    {
     "name": "stderr",
     "output_type": "stream",
     "text": [
      "\r",
      " 30%|████████████▌                             | 30/100 [00:22<00:49,  1.41it/s]"
     ]
    },
    {
     "name": "stdout",
     "output_type": "stream",
     "text": [
      "tf.Tensor(0.08060953, shape=(), dtype=float32)\n",
      "tf.Tensor(0.1190528, shape=(), dtype=float32)\n",
      "tf.Tensor(0.0454334, shape=(), dtype=float32)\n",
      "tf.Tensor(0.105722375, shape=(), dtype=float32)\n",
      "tf.Tensor(0.10148285, shape=(), dtype=float32)\n",
      "tf.Tensor(0.07442026, shape=(), dtype=float32)\n",
      "tf.Tensor(0.074462995, shape=(), dtype=float32)\n",
      "tf.Tensor(0.07042163, shape=(), dtype=float32)\n",
      "tf.Tensor(0.07583721, shape=(), dtype=float32)\n",
      "tf.Tensor(0.09724036, shape=(), dtype=float32)\n"
     ]
    },
    {
     "name": "stderr",
     "output_type": "stream",
     "text": [
      "\r",
      " 31%|█████████████                             | 31/100 [00:22<00:48,  1.43it/s]"
     ]
    },
    {
     "name": "stdout",
     "output_type": "stream",
     "text": [
      "tf.Tensor(0.07533275, shape=(), dtype=float32)\n",
      "tf.Tensor(0.086258836, shape=(), dtype=float32)\n",
      "tf.Tensor(0.08160295, shape=(), dtype=float32)\n",
      "tf.Tensor(0.10752285, shape=(), dtype=float32)\n",
      "tf.Tensor(0.08748227, shape=(), dtype=float32)\n",
      "tf.Tensor(0.057028282, shape=(), dtype=float32)\n",
      "tf.Tensor(0.075133406, shape=(), dtype=float32)\n",
      "tf.Tensor(0.09813267, shape=(), dtype=float32)\n",
      "tf.Tensor(0.08335821, shape=(), dtype=float32)\n"
     ]
    },
    {
     "name": "stderr",
     "output_type": "stream",
     "text": [
      "\r",
      " 32%|█████████████▍                            | 32/100 [00:23<00:48,  1.40it/s]"
     ]
    },
    {
     "name": "stdout",
     "output_type": "stream",
     "text": [
      "tf.Tensor(0.08417677, shape=(), dtype=float32)\n",
      "tf.Tensor(0.08574011, shape=(), dtype=float32)\n",
      "tf.Tensor(0.0794023, shape=(), dtype=float32)\n",
      "tf.Tensor(0.0497348, shape=(), dtype=float32)\n",
      "tf.Tensor(0.10811507, shape=(), dtype=float32)\n",
      "tf.Tensor(0.08921145, shape=(), dtype=float32)\n",
      "tf.Tensor(0.089761175, shape=(), dtype=float32)\n",
      "tf.Tensor(0.11017878, shape=(), dtype=float32)\n",
      "tf.Tensor(0.07981247, shape=(), dtype=float32)\n",
      "tf.Tensor(0.07222345, shape=(), dtype=float32)\n",
      "tf.Tensor(0.09898976, shape=(), dtype=float32)\n",
      "tf.Tensor(0.093801945, shape=(), dtype=float32)\n"
     ]
    },
    {
     "name": "stderr",
     "output_type": "stream",
     "text": [
      "\r",
      " 33%|█████████████▊                            | 33/100 [00:24<00:48,  1.39it/s]"
     ]
    },
    {
     "name": "stdout",
     "output_type": "stream",
     "text": [
      "tf.Tensor(0.098027766, shape=(), dtype=float32)\n",
      "tf.Tensor(0.111318015, shape=(), dtype=float32)\n",
      "tf.Tensor(0.081747465, shape=(), dtype=float32)\n",
      "tf.Tensor(0.09337581, shape=(), dtype=float32)\n",
      "tf.Tensor(0.06090924, shape=(), dtype=float32)\n",
      "tf.Tensor(0.103304684, shape=(), dtype=float32)\n",
      "tf.Tensor(0.09241239, shape=(), dtype=float32)\n",
      "tf.Tensor(0.07667568, shape=(), dtype=float32)\n",
      "tf.Tensor(0.087755844, shape=(), dtype=float32)\n",
      "tf.Tensor(0.0839282, shape=(), dtype=float32)\n",
      "tf.Tensor(0.07027542, shape=(), dtype=float32)\n"
     ]
    },
    {
     "name": "stderr",
     "output_type": "stream",
     "text": [
      "\r",
      " 34%|██████████████▎                           | 34/100 [00:24<00:46,  1.41it/s]"
     ]
    },
    {
     "name": "stdout",
     "output_type": "stream",
     "text": [
      "tf.Tensor(0.073289834, shape=(), dtype=float32)\n",
      "tf.Tensor(0.07744689, shape=(), dtype=float32)\n",
      "tf.Tensor(0.12252903, shape=(), dtype=float32)\n",
      "tf.Tensor(0.08531588, shape=(), dtype=float32)\n",
      "tf.Tensor(0.068353936, shape=(), dtype=float32)\n",
      "tf.Tensor(0.07541162, shape=(), dtype=float32)\n",
      "tf.Tensor(0.084708214, shape=(), dtype=float32)\n",
      "tf.Tensor(0.087796785, shape=(), dtype=float32)\n",
      "tf.Tensor(0.09210425, shape=(), dtype=float32)\n"
     ]
    },
    {
     "name": "stderr",
     "output_type": "stream",
     "text": [
      "\r",
      " 35%|██████████████▋                           | 35/100 [00:25<00:46,  1.41it/s]"
     ]
    },
    {
     "name": "stdout",
     "output_type": "stream",
     "text": [
      "tf.Tensor(0.06562721, shape=(), dtype=float32)\n",
      "tf.Tensor(0.06454778, shape=(), dtype=float32)\n",
      "tf.Tensor(0.07799094, shape=(), dtype=float32)\n",
      "tf.Tensor(0.090012886, shape=(), dtype=float32)\n",
      "tf.Tensor(0.05401283, shape=(), dtype=float32)\n",
      "tf.Tensor(0.09680015, shape=(), dtype=float32)\n",
      "tf.Tensor(0.06786615, shape=(), dtype=float32)\n",
      "tf.Tensor(0.04730649, shape=(), dtype=float32)\n",
      "tf.Tensor(0.07532718, shape=(), dtype=float32)\n"
     ]
    },
    {
     "name": "stderr",
     "output_type": "stream",
     "text": [
      "\r",
      " 36%|███████████████                           | 36/100 [00:26<00:45,  1.42it/s]"
     ]
    },
    {
     "name": "stdout",
     "output_type": "stream",
     "text": [
      "tf.Tensor(0.094379924, shape=(), dtype=float32)\n",
      "tf.Tensor(0.09157032, shape=(), dtype=float32)\n",
      "tf.Tensor(0.093515806, shape=(), dtype=float32)\n",
      "tf.Tensor(0.08605216, shape=(), dtype=float32)\n",
      "tf.Tensor(0.047303155, shape=(), dtype=float32)\n",
      "tf.Tensor(0.094082385, shape=(), dtype=float32)\n",
      "tf.Tensor(0.09444153, shape=(), dtype=float32)\n",
      "tf.Tensor(0.09610008, shape=(), dtype=float32)\n",
      "tf.Tensor(0.122094855, shape=(), dtype=float32)\n",
      "tf.Tensor(0.09006355, shape=(), dtype=float32)\n"
     ]
    },
    {
     "name": "stderr",
     "output_type": "stream",
     "text": [
      "\r",
      " 37%|███████████████▌                          | 37/100 [00:26<00:42,  1.47it/s]"
     ]
    },
    {
     "name": "stdout",
     "output_type": "stream",
     "text": [
      "tf.Tensor(0.09659076, shape=(), dtype=float32)\n",
      "tf.Tensor(0.09661126, shape=(), dtype=float32)\n",
      "tf.Tensor(0.08063956, shape=(), dtype=float32)\n",
      "tf.Tensor(0.06358746, shape=(), dtype=float32)\n",
      "tf.Tensor(0.08931786, shape=(), dtype=float32)\n",
      "tf.Tensor(0.082645975, shape=(), dtype=float32)\n",
      "tf.Tensor(0.074839614, shape=(), dtype=float32)\n",
      "tf.Tensor(0.07073043, shape=(), dtype=float32)\n",
      "tf.Tensor(0.10040317, shape=(), dtype=float32)\n",
      "tf.Tensor(0.08049207, shape=(), dtype=float32)\n",
      "tf.Tensor(0.07252426, shape=(), dtype=float32)\n"
     ]
    },
    {
     "name": "stderr",
     "output_type": "stream",
     "text": [
      "\r",
      " 38%|███████████████▉                          | 38/100 [00:27<00:41,  1.48it/s]"
     ]
    },
    {
     "name": "stdout",
     "output_type": "stream",
     "text": [
      "tf.Tensor(0.10689952, shape=(), dtype=float32)\n",
      "tf.Tensor(0.08647561, shape=(), dtype=float32)\n",
      "tf.Tensor(0.08429198, shape=(), dtype=float32)\n",
      "tf.Tensor(0.07632246, shape=(), dtype=float32)\n",
      "tf.Tensor(0.08118833, shape=(), dtype=float32)\n",
      "tf.Tensor(0.06639046, shape=(), dtype=float32)\n",
      "tf.Tensor(0.09355035, shape=(), dtype=float32)\n",
      "tf.Tensor(0.079093546, shape=(), dtype=float32)\n",
      "tf.Tensor(0.086684056, shape=(), dtype=float32)\n",
      "tf.Tensor(0.07911848, shape=(), dtype=float32)\n"
     ]
    },
    {
     "name": "stderr",
     "output_type": "stream",
     "text": [
      "\r",
      " 39%|████████████████▍                         | 39/100 [00:28<00:41,  1.47it/s]"
     ]
    },
    {
     "name": "stdout",
     "output_type": "stream",
     "text": [
      "tf.Tensor(0.07745263, shape=(), dtype=float32)\n",
      "tf.Tensor(0.09028119, shape=(), dtype=float32)\n",
      "tf.Tensor(0.09358661, shape=(), dtype=float32)\n",
      "tf.Tensor(0.059260532, shape=(), dtype=float32)\n",
      "tf.Tensor(0.06531888, shape=(), dtype=float32)\n",
      "tf.Tensor(0.082180224, shape=(), dtype=float32)\n",
      "tf.Tensor(0.06889826, shape=(), dtype=float32)\n",
      "tf.Tensor(0.083697006, shape=(), dtype=float32)\n"
     ]
    },
    {
     "name": "stderr",
     "output_type": "stream",
     "text": [
      "\r",
      " 40%|████████████████▊                         | 40/100 [00:28<00:39,  1.53it/s]"
     ]
    },
    {
     "name": "stdout",
     "output_type": "stream",
     "text": [
      "tf.Tensor(0.098588526, shape=(), dtype=float32)\n",
      "tf.Tensor(0.087284975, shape=(), dtype=float32)\n",
      "tf.Tensor(0.067278475, shape=(), dtype=float32)\n",
      "tf.Tensor(0.11353375, shape=(), dtype=float32)\n",
      "tf.Tensor(0.07786407, shape=(), dtype=float32)\n",
      "tf.Tensor(0.11693622, shape=(), dtype=float32)\n",
      "tf.Tensor(0.084481835, shape=(), dtype=float32)\n",
      "tf.Tensor(0.06961038, shape=(), dtype=float32)\n",
      "tf.Tensor(0.06655233, shape=(), dtype=float32)\n",
      "tf.Tensor(0.08633347, shape=(), dtype=float32)\n"
     ]
    },
    {
     "name": "stderr",
     "output_type": "stream",
     "text": [
      "\r",
      " 41%|█████████████████▏                        | 41/100 [00:29<00:39,  1.51it/s]"
     ]
    },
    {
     "name": "stdout",
     "output_type": "stream",
     "text": [
      "tf.Tensor(0.057538755, shape=(), dtype=float32)\n",
      "tf.Tensor(0.07703761, shape=(), dtype=float32)\n",
      "tf.Tensor(0.062238354, shape=(), dtype=float32)\n",
      "tf.Tensor(0.053736538, shape=(), dtype=float32)\n",
      "tf.Tensor(0.095430076, shape=(), dtype=float32)\n",
      "tf.Tensor(0.07196134, shape=(), dtype=float32)\n",
      "tf.Tensor(0.07057538, shape=(), dtype=float32)\n",
      "tf.Tensor(0.06847837, shape=(), dtype=float32)\n",
      "tf.Tensor(0.089700066, shape=(), dtype=float32)\n",
      "tf.Tensor(0.051432032, shape=(), dtype=float32)\n",
      "tf.Tensor(0.103835694, shape=(), dtype=float32)\n",
      "tf.Tensor(0.09369695, shape=(), dtype=float32)\n"
     ]
    },
    {
     "name": "stderr",
     "output_type": "stream",
     "text": [
      "\r",
      " 42%|█████████████████▋                        | 42/100 [00:30<00:39,  1.47it/s]"
     ]
    },
    {
     "name": "stdout",
     "output_type": "stream",
     "text": [
      "tf.Tensor(0.08007584, shape=(), dtype=float32)\n",
      "tf.Tensor(0.08774787, shape=(), dtype=float32)\n",
      "tf.Tensor(0.102305464, shape=(), dtype=float32)\n",
      "tf.Tensor(0.08829856, shape=(), dtype=float32)\n",
      "tf.Tensor(0.09361157, shape=(), dtype=float32)\n",
      "tf.Tensor(0.07876557, shape=(), dtype=float32)\n",
      "tf.Tensor(0.063494936, shape=(), dtype=float32)\n",
      "tf.Tensor(0.09180804, shape=(), dtype=float32)\n"
     ]
    },
    {
     "name": "stderr",
     "output_type": "stream",
     "text": [
      "\r",
      " 43%|██████████████████                        | 43/100 [00:30<00:37,  1.51it/s]"
     ]
    },
    {
     "name": "stdout",
     "output_type": "stream",
     "text": [
      "tf.Tensor(0.08254796, shape=(), dtype=float32)\n",
      "tf.Tensor(0.09580298, shape=(), dtype=float32)\n",
      "tf.Tensor(0.063681945, shape=(), dtype=float32)\n",
      "tf.Tensor(0.10608339, shape=(), dtype=float32)\n",
      "tf.Tensor(0.10427506, shape=(), dtype=float32)\n",
      "tf.Tensor(0.09184035, shape=(), dtype=float32)\n",
      "tf.Tensor(0.097191624, shape=(), dtype=float32)\n",
      "tf.Tensor(0.08319793, shape=(), dtype=float32)\n",
      "tf.Tensor(0.09198428, shape=(), dtype=float32)\n",
      "tf.Tensor(0.098648965, shape=(), dtype=float32)\n",
      "tf.Tensor(0.07884735, shape=(), dtype=float32)\n",
      "tf.Tensor(0.07492728, shape=(), dtype=float32)\n"
     ]
    },
    {
     "name": "stderr",
     "output_type": "stream",
     "text": [
      "\r",
      " 44%|██████████████████▍                       | 44/100 [00:31<00:40,  1.40it/s]"
     ]
    },
    {
     "name": "stdout",
     "output_type": "stream",
     "text": [
      "tf.Tensor(0.07272738, shape=(), dtype=float32)\n",
      "tf.Tensor(0.0804409, shape=(), dtype=float32)\n",
      "tf.Tensor(0.047776498, shape=(), dtype=float32)\n",
      "tf.Tensor(0.08543695, shape=(), dtype=float32)\n",
      "tf.Tensor(0.074968286, shape=(), dtype=float32)\n",
      "tf.Tensor(0.05569581, shape=(), dtype=float32)\n",
      "tf.Tensor(0.08549859, shape=(), dtype=float32)\n"
     ]
    },
    {
     "name": "stderr",
     "output_type": "stream",
     "text": [
      "\r",
      " 45%|██████████████████▉                       | 45/100 [00:32<00:38,  1.43it/s]"
     ]
    },
    {
     "name": "stdout",
     "output_type": "stream",
     "text": [
      "tf.Tensor(0.091394104, shape=(), dtype=float32)\n",
      "tf.Tensor(0.09451969, shape=(), dtype=float32)\n",
      "tf.Tensor(0.084887415, shape=(), dtype=float32)\n",
      "tf.Tensor(0.093218036, shape=(), dtype=float32)\n",
      "tf.Tensor(0.0819277, shape=(), dtype=float32)\n",
      "tf.Tensor(0.084074296, shape=(), dtype=float32)\n",
      "tf.Tensor(0.08977622, shape=(), dtype=float32)\n",
      "tf.Tensor(0.06634909, shape=(), dtype=float32)\n",
      "tf.Tensor(0.089964665, shape=(), dtype=float32)\n",
      "tf.Tensor(0.11117659, shape=(), dtype=float32)\n",
      "tf.Tensor(0.080192365, shape=(), dtype=float32)\n"
     ]
    },
    {
     "name": "stderr",
     "output_type": "stream",
     "text": [
      "\r",
      " 46%|███████████████████▎                      | 46/100 [00:33<00:36,  1.48it/s]"
     ]
    },
    {
     "name": "stdout",
     "output_type": "stream",
     "text": [
      "tf.Tensor(0.08675229, shape=(), dtype=float32)\n",
      "tf.Tensor(0.100470416, shape=(), dtype=float32)\n",
      "tf.Tensor(0.070890285, shape=(), dtype=float32)\n",
      "tf.Tensor(0.087073624, shape=(), dtype=float32)\n",
      "tf.Tensor(0.06952009, shape=(), dtype=float32)\n",
      "tf.Tensor(0.10969137, shape=(), dtype=float32)\n",
      "tf.Tensor(0.11639256, shape=(), dtype=float32)\n",
      "tf.Tensor(0.10335398, shape=(), dtype=float32)\n",
      "tf.Tensor(0.09732934, shape=(), dtype=float32)\n",
      "tf.Tensor(0.0922185, shape=(), dtype=float32)\n",
      "tf.Tensor(0.10766899, shape=(), dtype=float32)\n",
      "tf.Tensor(0.09377547, shape=(), dtype=float32)\n"
     ]
    },
    {
     "name": "stderr",
     "output_type": "stream",
     "text": [
      "\r",
      " 47%|███████████████████▋                      | 47/100 [00:33<00:38,  1.39it/s]"
     ]
    },
    {
     "name": "stdout",
     "output_type": "stream",
     "text": [
      "tf.Tensor(0.100687325, shape=(), dtype=float32)\n",
      "tf.Tensor(0.08711907, shape=(), dtype=float32)\n",
      "tf.Tensor(0.10260135, shape=(), dtype=float32)\n",
      "tf.Tensor(0.09532818, shape=(), dtype=float32)\n",
      "tf.Tensor(0.057250958, shape=(), dtype=float32)\n",
      "tf.Tensor(0.10114311, shape=(), dtype=float32)\n",
      "tf.Tensor(0.12718971, shape=(), dtype=float32)\n"
     ]
    },
    {
     "name": "stderr",
     "output_type": "stream",
     "text": [
      "\r",
      " 48%|████████████████████▏                     | 48/100 [00:34<00:36,  1.43it/s]"
     ]
    },
    {
     "name": "stdout",
     "output_type": "stream",
     "text": [
      "tf.Tensor(0.0901101, shape=(), dtype=float32)\n",
      "tf.Tensor(0.090784535, shape=(), dtype=float32)\n",
      "tf.Tensor(0.11017213, shape=(), dtype=float32)\n",
      "tf.Tensor(0.061303765, shape=(), dtype=float32)\n",
      "tf.Tensor(0.07587364, shape=(), dtype=float32)\n",
      "tf.Tensor(0.08127584, shape=(), dtype=float32)\n",
      "tf.Tensor(0.09986161, shape=(), dtype=float32)\n",
      "tf.Tensor(0.09616535, shape=(), dtype=float32)\n",
      "tf.Tensor(0.074885085, shape=(), dtype=float32)\n",
      "tf.Tensor(0.075440906, shape=(), dtype=float32)\n",
      "tf.Tensor(0.06998243, shape=(), dtype=float32)\n"
     ]
    },
    {
     "name": "stderr",
     "output_type": "stream",
     "text": [
      "\r",
      " 49%|████████████████████▌                     | 49/100 [00:35<00:34,  1.47it/s]"
     ]
    },
    {
     "name": "stdout",
     "output_type": "stream",
     "text": [
      "tf.Tensor(0.09429771, shape=(), dtype=float32)\n",
      "tf.Tensor(0.066970475, shape=(), dtype=float32)\n",
      "tf.Tensor(0.07437366, shape=(), dtype=float32)\n",
      "tf.Tensor(0.076457195, shape=(), dtype=float32)\n",
      "tf.Tensor(0.06867116, shape=(), dtype=float32)\n",
      "tf.Tensor(0.1009901, shape=(), dtype=float32)\n",
      "tf.Tensor(0.106099, shape=(), dtype=float32)\n",
      "tf.Tensor(0.057159726, shape=(), dtype=float32)\n",
      "tf.Tensor(0.08007168, shape=(), dtype=float32)\n",
      "tf.Tensor(0.06041454, shape=(), dtype=float32)\n",
      "tf.Tensor(0.097221725, shape=(), dtype=float32)\n"
     ]
    },
    {
     "name": "stderr",
     "output_type": "stream",
     "text": [
      "\r",
      " 50%|█████████████████████                     | 50/100 [00:35<00:33,  1.48it/s]"
     ]
    },
    {
     "name": "stdout",
     "output_type": "stream",
     "text": [
      "tf.Tensor(0.10299593, shape=(), dtype=float32)\n",
      "tf.Tensor(0.12953086, shape=(), dtype=float32)\n",
      "tf.Tensor(0.073392265, shape=(), dtype=float32)\n",
      "tf.Tensor(0.094491646, shape=(), dtype=float32)\n",
      "tf.Tensor(0.07486867, shape=(), dtype=float32)\n",
      "tf.Tensor(0.09553085, shape=(), dtype=float32)\n",
      "tf.Tensor(0.1179745, shape=(), dtype=float32)\n",
      "tf.Tensor(0.08023424, shape=(), dtype=float32)\n",
      "tf.Tensor(0.08370894, shape=(), dtype=float32)\n",
      "tf.Tensor(0.10544755, shape=(), dtype=float32)\n",
      "tf.Tensor(0.052007277, shape=(), dtype=float32)\n"
     ]
    },
    {
     "name": "stderr",
     "output_type": "stream",
     "text": [
      "\r",
      " 51%|█████████████████████▍                    | 51/100 [00:36<00:32,  1.49it/s]"
     ]
    },
    {
     "name": "stdout",
     "output_type": "stream",
     "text": [
      "tf.Tensor(0.087569214, shape=(), dtype=float32)\n",
      "tf.Tensor(0.09647522, shape=(), dtype=float32)\n",
      "tf.Tensor(0.05777646, shape=(), dtype=float32)\n",
      "tf.Tensor(0.11023309, shape=(), dtype=float32)\n",
      "tf.Tensor(0.06841306, shape=(), dtype=float32)\n",
      "tf.Tensor(0.10371705, shape=(), dtype=float32)\n",
      "tf.Tensor(0.06864256, shape=(), dtype=float32)\n",
      "tf.Tensor(0.111630425, shape=(), dtype=float32)\n"
     ]
    },
    {
     "name": "stderr",
     "output_type": "stream",
     "text": [
      "\r",
      " 52%|█████████████████████▊                    | 52/100 [00:37<00:31,  1.52it/s]"
     ]
    },
    {
     "name": "stdout",
     "output_type": "stream",
     "text": [
      "tf.Tensor(0.1013283, shape=(), dtype=float32)\n",
      "tf.Tensor(0.077439494, shape=(), dtype=float32)\n",
      "tf.Tensor(0.06389008, shape=(), dtype=float32)\n",
      "tf.Tensor(0.110680565, shape=(), dtype=float32)\n",
      "tf.Tensor(0.1082142, shape=(), dtype=float32)\n",
      "tf.Tensor(0.065135, shape=(), dtype=float32)\n",
      "tf.Tensor(0.07869237, shape=(), dtype=float32)\n",
      "tf.Tensor(0.12001991, shape=(), dtype=float32)\n",
      "tf.Tensor(0.08342678, shape=(), dtype=float32)\n",
      "tf.Tensor(0.05073658, shape=(), dtype=float32)\n",
      "tf.Tensor(0.06994099, shape=(), dtype=float32)\n",
      "tf.Tensor(0.045068074, shape=(), dtype=float32)\n"
     ]
    },
    {
     "name": "stderr",
     "output_type": "stream",
     "text": [
      "\r",
      " 53%|██████████████████████▎                   | 53/100 [00:37<00:31,  1.49it/s]"
     ]
    },
    {
     "name": "stdout",
     "output_type": "stream",
     "text": [
      "tf.Tensor(0.061213505, shape=(), dtype=float32)\n",
      "tf.Tensor(0.077767394, shape=(), dtype=float32)\n",
      "tf.Tensor(0.0908267, shape=(), dtype=float32)\n",
      "tf.Tensor(0.06078103, shape=(), dtype=float32)\n",
      "tf.Tensor(0.10235843, shape=(), dtype=float32)\n",
      "tf.Tensor(0.082079984, shape=(), dtype=float32)\n",
      "tf.Tensor(0.10776348, shape=(), dtype=float32)\n",
      "tf.Tensor(0.11375425, shape=(), dtype=float32)\n",
      "tf.Tensor(0.09567565, shape=(), dtype=float32)\n",
      "tf.Tensor(0.103052236, shape=(), dtype=float32)\n"
     ]
    },
    {
     "name": "stderr",
     "output_type": "stream",
     "text": [
      "\r",
      " 54%|██████████████████████▋                   | 54/100 [00:38<00:31,  1.48it/s]"
     ]
    },
    {
     "name": "stdout",
     "output_type": "stream",
     "text": [
      "tf.Tensor(0.09581668, shape=(), dtype=float32)\n",
      "tf.Tensor(0.094216004, shape=(), dtype=float32)\n",
      "tf.Tensor(0.08209619, shape=(), dtype=float32)\n",
      "tf.Tensor(0.07775571, shape=(), dtype=float32)\n",
      "tf.Tensor(0.094436824, shape=(), dtype=float32)\n",
      "tf.Tensor(0.08409918, shape=(), dtype=float32)\n",
      "tf.Tensor(0.09899388, shape=(), dtype=float32)\n",
      "tf.Tensor(0.06274, shape=(), dtype=float32)\n",
      "tf.Tensor(0.084536426, shape=(), dtype=float32)\n",
      "tf.Tensor(0.07577542, shape=(), dtype=float32)\n"
     ]
    },
    {
     "name": "stderr",
     "output_type": "stream",
     "text": [
      "\r",
      " 55%|███████████████████████                   | 55/100 [00:39<00:30,  1.50it/s]"
     ]
    },
    {
     "name": "stdout",
     "output_type": "stream",
     "text": [
      "tf.Tensor(0.053343836, shape=(), dtype=float32)\n",
      "tf.Tensor(0.118314646, shape=(), dtype=float32)\n",
      "tf.Tensor(0.04450372, shape=(), dtype=float32)\n",
      "tf.Tensor(0.07040725, shape=(), dtype=float32)\n",
      "tf.Tensor(0.0935237, shape=(), dtype=float32)\n",
      "tf.Tensor(0.066112444, shape=(), dtype=float32)\n",
      "tf.Tensor(0.07898787, shape=(), dtype=float32)\n",
      "tf.Tensor(0.09165861, shape=(), dtype=float32)\n",
      "tf.Tensor(0.07307956, shape=(), dtype=float32)\n",
      "tf.Tensor(0.09263065, shape=(), dtype=float32)\n"
     ]
    },
    {
     "name": "stderr",
     "output_type": "stream",
     "text": [
      "\r",
      " 56%|███████████████████████▌                  | 56/100 [00:39<00:29,  1.49it/s]"
     ]
    },
    {
     "name": "stdout",
     "output_type": "stream",
     "text": [
      "tf.Tensor(0.09701452, shape=(), dtype=float32)\n",
      "tf.Tensor(0.06264859, shape=(), dtype=float32)\n",
      "tf.Tensor(0.091504484, shape=(), dtype=float32)\n",
      "tf.Tensor(0.1078371, shape=(), dtype=float32)\n",
      "tf.Tensor(0.09645685, shape=(), dtype=float32)\n",
      "tf.Tensor(0.082912005, shape=(), dtype=float32)\n",
      "tf.Tensor(0.0569096, shape=(), dtype=float32)\n",
      "tf.Tensor(0.069945015, shape=(), dtype=float32)\n",
      "tf.Tensor(0.064766444, shape=(), dtype=float32)\n",
      "tf.Tensor(0.06650068, shape=(), dtype=float32)\n"
     ]
    },
    {
     "name": "stderr",
     "output_type": "stream",
     "text": [
      "\r",
      " 57%|███████████████████████▉                  | 57/100 [00:40<00:29,  1.48it/s]"
     ]
    },
    {
     "name": "stdout",
     "output_type": "stream",
     "text": [
      "tf.Tensor(0.07952633, shape=(), dtype=float32)\n",
      "tf.Tensor(0.10507816, shape=(), dtype=float32)\n",
      "tf.Tensor(0.10029, shape=(), dtype=float32)\n",
      "tf.Tensor(0.07358432, shape=(), dtype=float32)\n",
      "tf.Tensor(0.102060266, shape=(), dtype=float32)\n",
      "tf.Tensor(0.097093076, shape=(), dtype=float32)\n",
      "tf.Tensor(0.076451525, shape=(), dtype=float32)\n"
     ]
    },
    {
     "name": "stderr",
     "output_type": "stream",
     "text": [
      "\r",
      " 58%|████████████████████████▎                 | 58/100 [00:41<00:28,  1.48it/s]"
     ]
    },
    {
     "name": "stdout",
     "output_type": "stream",
     "text": [
      "tf.Tensor(0.09849523, shape=(), dtype=float32)\n",
      "tf.Tensor(0.076187834, shape=(), dtype=float32)\n",
      "tf.Tensor(0.059398368, shape=(), dtype=float32)\n",
      "tf.Tensor(0.08209989, shape=(), dtype=float32)\n",
      "tf.Tensor(0.07902422, shape=(), dtype=float32)\n",
      "tf.Tensor(0.08877519, shape=(), dtype=float32)\n",
      "tf.Tensor(0.08353112, shape=(), dtype=float32)\n",
      "tf.Tensor(0.09955047, shape=(), dtype=float32)\n",
      "tf.Tensor(0.08413815, shape=(), dtype=float32)\n",
      "tf.Tensor(0.0882751, shape=(), dtype=float32)\n",
      "tf.Tensor(0.08222235, shape=(), dtype=float32)\n",
      "tf.Tensor(0.08230927, shape=(), dtype=float32)\n",
      "tf.Tensor(0.11239003, shape=(), dtype=float32)\n"
     ]
    },
    {
     "name": "stderr",
     "output_type": "stream",
     "text": [
      "\r",
      " 59%|████████████████████████▊                 | 59/100 [00:41<00:28,  1.44it/s]"
     ]
    },
    {
     "name": "stdout",
     "output_type": "stream",
     "text": [
      "tf.Tensor(0.080467805, shape=(), dtype=float32)\n",
      "tf.Tensor(0.04728738, shape=(), dtype=float32)\n",
      "tf.Tensor(0.09797839, shape=(), dtype=float32)\n",
      "tf.Tensor(0.08710988, shape=(), dtype=float32)\n",
      "tf.Tensor(0.079613276, shape=(), dtype=float32)\n",
      "tf.Tensor(0.07531566, shape=(), dtype=float32)\n",
      "tf.Tensor(0.06993456, shape=(), dtype=float32)\n",
      "tf.Tensor(0.10399844, shape=(), dtype=float32)\n",
      "tf.Tensor(0.10576879, shape=(), dtype=float32)\n",
      "tf.Tensor(0.08667159, shape=(), dtype=float32)\n"
     ]
    },
    {
     "name": "stderr",
     "output_type": "stream",
     "text": [
      "\r",
      " 60%|█████████████████████████▏                | 60/100 [00:42<00:27,  1.44it/s]"
     ]
    },
    {
     "name": "stdout",
     "output_type": "stream",
     "text": [
      "tf.Tensor(0.08902104, shape=(), dtype=float32)\n",
      "tf.Tensor(0.07506301, shape=(), dtype=float32)\n",
      "tf.Tensor(0.06862997, shape=(), dtype=float32)\n",
      "tf.Tensor(0.040391378, shape=(), dtype=float32)\n",
      "tf.Tensor(0.07657936, shape=(), dtype=float32)\n",
      "tf.Tensor(0.09090955, shape=(), dtype=float32)\n",
      "tf.Tensor(0.08301535, shape=(), dtype=float32)\n",
      "tf.Tensor(0.09656472, shape=(), dtype=float32)\n"
     ]
    },
    {
     "name": "stderr",
     "output_type": "stream",
     "text": [
      "\r",
      " 61%|█████████████████████████▌                | 61/100 [00:43<00:25,  1.52it/s]"
     ]
    },
    {
     "name": "stdout",
     "output_type": "stream",
     "text": [
      "tf.Tensor(0.06322843, shape=(), dtype=float32)\n",
      "tf.Tensor(0.0892375, shape=(), dtype=float32)\n",
      "tf.Tensor(0.077018596, shape=(), dtype=float32)\n",
      "tf.Tensor(0.08177355, shape=(), dtype=float32)\n",
      "tf.Tensor(0.07229252, shape=(), dtype=float32)\n",
      "tf.Tensor(0.079610966, shape=(), dtype=float32)\n",
      "tf.Tensor(0.053819682, shape=(), dtype=float32)\n",
      "tf.Tensor(0.08071289, shape=(), dtype=float32)\n",
      "tf.Tensor(0.10622707, shape=(), dtype=float32)\n",
      "tf.Tensor(0.08609885, shape=(), dtype=float32)\n",
      "tf.Tensor(0.099166095, shape=(), dtype=float32)\n",
      "tf.Tensor(0.10493691, shape=(), dtype=float32)\n"
     ]
    },
    {
     "name": "stderr",
     "output_type": "stream",
     "text": [
      "\r",
      " 62%|██████████████████████████                | 62/100 [00:43<00:24,  1.54it/s]"
     ]
    },
    {
     "name": "stdout",
     "output_type": "stream",
     "text": [
      "tf.Tensor(0.08567574, shape=(), dtype=float32)\n",
      "tf.Tensor(0.09979846, shape=(), dtype=float32)\n",
      "tf.Tensor(0.070195764, shape=(), dtype=float32)\n",
      "tf.Tensor(0.073202446, shape=(), dtype=float32)\n",
      "tf.Tensor(0.07322894, shape=(), dtype=float32)\n",
      "tf.Tensor(0.07638361, shape=(), dtype=float32)\n",
      "tf.Tensor(0.08988676, shape=(), dtype=float32)\n",
      "tf.Tensor(0.06147985, shape=(), dtype=float32)\n"
     ]
    },
    {
     "name": "stderr",
     "output_type": "stream",
     "text": [
      "\r",
      " 63%|██████████████████████████▍               | 63/100 [00:44<00:23,  1.59it/s]"
     ]
    },
    {
     "name": "stdout",
     "output_type": "stream",
     "text": [
      "tf.Tensor(0.09447686, shape=(), dtype=float32)\n",
      "tf.Tensor(0.06475397, shape=(), dtype=float32)\n",
      "tf.Tensor(0.07763313, shape=(), dtype=float32)\n",
      "tf.Tensor(0.099823296, shape=(), dtype=float32)\n",
      "tf.Tensor(0.09776768, shape=(), dtype=float32)\n",
      "tf.Tensor(0.07458327, shape=(), dtype=float32)\n",
      "tf.Tensor(0.09659717, shape=(), dtype=float32)\n",
      "tf.Tensor(0.09059057, shape=(), dtype=float32)\n",
      "tf.Tensor(0.0719797, shape=(), dtype=float32)\n",
      "tf.Tensor(0.09781898, shape=(), dtype=float32)\n",
      "tf.Tensor(0.097260416, shape=(), dtype=float32)\n"
     ]
    },
    {
     "name": "stderr",
     "output_type": "stream",
     "text": [
      "\r",
      " 64%|██████████████████████████▉               | 64/100 [00:44<00:22,  1.62it/s]"
     ]
    },
    {
     "name": "stdout",
     "output_type": "stream",
     "text": [
      "tf.Tensor(0.08857447, shape=(), dtype=float32)\n",
      "tf.Tensor(0.074640885, shape=(), dtype=float32)\n",
      "tf.Tensor(0.05875295, shape=(), dtype=float32)\n",
      "tf.Tensor(0.075796716, shape=(), dtype=float32)\n",
      "tf.Tensor(0.06149135, shape=(), dtype=float32)\n",
      "tf.Tensor(0.030135425, shape=(), dtype=float32)\n",
      "tf.Tensor(0.05776887, shape=(), dtype=float32)\n",
      "tf.Tensor(0.07713713, shape=(), dtype=float32)\n",
      "tf.Tensor(0.081454895, shape=(), dtype=float32)\n",
      "tf.Tensor(0.09270487, shape=(), dtype=float32)\n"
     ]
    },
    {
     "name": "stderr",
     "output_type": "stream",
     "text": [
      "\r",
      " 65%|███████████████████████████▎              | 65/100 [00:45<00:20,  1.73it/s]"
     ]
    },
    {
     "name": "stdout",
     "output_type": "stream",
     "text": [
      "tf.Tensor(0.054410074, shape=(), dtype=float32)\n",
      "tf.Tensor(0.13148692, shape=(), dtype=float32)\n",
      "tf.Tensor(0.08713166, shape=(), dtype=float32)\n",
      "tf.Tensor(0.0931262, shape=(), dtype=float32)\n",
      "tf.Tensor(0.13279574, shape=(), dtype=float32)\n",
      "tf.Tensor(0.066615, shape=(), dtype=float32)\n",
      "tf.Tensor(0.092060745, shape=(), dtype=float32)\n",
      "tf.Tensor(0.06586894, shape=(), dtype=float32)\n",
      "tf.Tensor(0.05319014, shape=(), dtype=float32)\n",
      "tf.Tensor(0.10194441, shape=(), dtype=float32)\n",
      "tf.Tensor(0.10257386, shape=(), dtype=float32)\n",
      "tf.Tensor(0.072438344, shape=(), dtype=float32)\n"
     ]
    },
    {
     "name": "stderr",
     "output_type": "stream",
     "text": [
      "\r",
      " 66%|███████████████████████████▋              | 66/100 [00:46<00:19,  1.70it/s]"
     ]
    },
    {
     "name": "stdout",
     "output_type": "stream",
     "text": [
      "tf.Tensor(0.07742085, shape=(), dtype=float32)\n",
      "tf.Tensor(0.11026716, shape=(), dtype=float32)\n",
      "tf.Tensor(0.10019076, shape=(), dtype=float32)\n",
      "tf.Tensor(0.08758037, shape=(), dtype=float32)\n",
      "tf.Tensor(0.08246871, shape=(), dtype=float32)\n",
      "tf.Tensor(0.06677319, shape=(), dtype=float32)\n",
      "tf.Tensor(0.096217945, shape=(), dtype=float32)\n",
      "tf.Tensor(0.0673543, shape=(), dtype=float32)\n"
     ]
    },
    {
     "name": "stderr",
     "output_type": "stream",
     "text": [
      "\r",
      " 67%|████████████████████████████▏             | 67/100 [00:46<00:19,  1.70it/s]"
     ]
    },
    {
     "name": "stdout",
     "output_type": "stream",
     "text": [
      "tf.Tensor(0.11823187, shape=(), dtype=float32)\n",
      "tf.Tensor(0.11404306, shape=(), dtype=float32)\n",
      "tf.Tensor(0.074766554, shape=(), dtype=float32)\n",
      "tf.Tensor(0.08965828, shape=(), dtype=float32)\n",
      "tf.Tensor(0.07479715, shape=(), dtype=float32)\n",
      "tf.Tensor(0.07625582, shape=(), dtype=float32)\n",
      "tf.Tensor(0.0736532, shape=(), dtype=float32)\n",
      "tf.Tensor(0.060233757, shape=(), dtype=float32)\n",
      "tf.Tensor(0.10297944, shape=(), dtype=float32)\n",
      "tf.Tensor(0.10463987, shape=(), dtype=float32)\n",
      "tf.Tensor(0.07756536, shape=(), dtype=float32)\n"
     ]
    },
    {
     "name": "stderr",
     "output_type": "stream",
     "text": [
      "\r",
      " 68%|████████████████████████████▌             | 68/100 [00:47<00:18,  1.68it/s]"
     ]
    },
    {
     "name": "stdout",
     "output_type": "stream",
     "text": [
      "tf.Tensor(0.07523503, shape=(), dtype=float32)\n",
      "tf.Tensor(0.09094641, shape=(), dtype=float32)\n",
      "tf.Tensor(0.09200206, shape=(), dtype=float32)\n",
      "tf.Tensor(0.0601248, shape=(), dtype=float32)\n",
      "tf.Tensor(0.11595292, shape=(), dtype=float32)\n",
      "tf.Tensor(0.06272843, shape=(), dtype=float32)\n",
      "tf.Tensor(0.05207971, shape=(), dtype=float32)\n",
      "tf.Tensor(0.094769694, shape=(), dtype=float32)\n",
      "tf.Tensor(0.07310231, shape=(), dtype=float32)\n"
     ]
    },
    {
     "name": "stderr",
     "output_type": "stream",
     "text": [
      "\r",
      " 69%|████████████████████████████▉             | 69/100 [00:47<00:18,  1.72it/s]"
     ]
    },
    {
     "name": "stdout",
     "output_type": "stream",
     "text": [
      "tf.Tensor(0.087565936, shape=(), dtype=float32)\n",
      "tf.Tensor(0.088031575, shape=(), dtype=float32)\n",
      "tf.Tensor(0.08908117, shape=(), dtype=float32)\n",
      "tf.Tensor(0.06782146, shape=(), dtype=float32)\n",
      "tf.Tensor(0.09419103, shape=(), dtype=float32)\n",
      "tf.Tensor(0.07417339, shape=(), dtype=float32)\n",
      "tf.Tensor(0.08371263, shape=(), dtype=float32)\n",
      "tf.Tensor(0.10517678, shape=(), dtype=float32)\n"
     ]
    },
    {
     "name": "stderr",
     "output_type": "stream",
     "text": [
      "\r",
      " 70%|█████████████████████████████▍            | 70/100 [00:48<00:17,  1.71it/s]"
     ]
    },
    {
     "name": "stdout",
     "output_type": "stream",
     "text": [
      "tf.Tensor(0.10573039, shape=(), dtype=float32)\n",
      "tf.Tensor(0.07054266, shape=(), dtype=float32)\n",
      "tf.Tensor(0.08080401, shape=(), dtype=float32)\n",
      "tf.Tensor(0.1061732, shape=(), dtype=float32)\n",
      "tf.Tensor(0.08535369, shape=(), dtype=float32)\n",
      "tf.Tensor(0.05764288, shape=(), dtype=float32)\n",
      "tf.Tensor(0.07378699, shape=(), dtype=float32)\n",
      "tf.Tensor(0.08853716, shape=(), dtype=float32)\n",
      "tf.Tensor(0.09670213, shape=(), dtype=float32)\n",
      "tf.Tensor(0.06491313, shape=(), dtype=float32)\n",
      "tf.Tensor(0.077459715, shape=(), dtype=float32)\n",
      "tf.Tensor(0.06320304, shape=(), dtype=float32)\n"
     ]
    },
    {
     "name": "stderr",
     "output_type": "stream",
     "text": [
      "\r",
      " 71%|█████████████████████████████▊            | 71/100 [00:48<00:17,  1.70it/s]"
     ]
    },
    {
     "name": "stdout",
     "output_type": "stream",
     "text": [
      "tf.Tensor(0.05177985, shape=(), dtype=float32)\n",
      "tf.Tensor(0.081751965, shape=(), dtype=float32)\n",
      "tf.Tensor(0.075025395, shape=(), dtype=float32)\n",
      "tf.Tensor(0.06561682, shape=(), dtype=float32)\n",
      "tf.Tensor(0.0664619, shape=(), dtype=float32)\n",
      "tf.Tensor(0.0935044, shape=(), dtype=float32)\n",
      "tf.Tensor(0.11035063, shape=(), dtype=float32)\n",
      "tf.Tensor(0.08557948, shape=(), dtype=float32)\n",
      "tf.Tensor(0.074830286, shape=(), dtype=float32)\n",
      "tf.Tensor(0.06885387, shape=(), dtype=float32)\n",
      "tf.Tensor(0.08079172, shape=(), dtype=float32)\n"
     ]
    },
    {
     "name": "stderr",
     "output_type": "stream",
     "text": [
      "\r",
      " 72%|██████████████████████████████▏           | 72/100 [00:49<00:16,  1.67it/s]"
     ]
    },
    {
     "name": "stdout",
     "output_type": "stream",
     "text": [
      "tf.Tensor(0.07636092, shape=(), dtype=float32)\n",
      "tf.Tensor(0.07754252, shape=(), dtype=float32)\n",
      "tf.Tensor(0.085579984, shape=(), dtype=float32)\n",
      "tf.Tensor(0.090161234, shape=(), dtype=float32)\n",
      "tf.Tensor(0.06430483, shape=(), dtype=float32)\n",
      "tf.Tensor(0.089828275, shape=(), dtype=float32)\n",
      "tf.Tensor(0.05734268, shape=(), dtype=float32)\n",
      "tf.Tensor(0.08736305, shape=(), dtype=float32)\n",
      "tf.Tensor(0.07842238, shape=(), dtype=float32)\n"
     ]
    },
    {
     "name": "stderr",
     "output_type": "stream",
     "text": [
      "\r",
      " 73%|██████████████████████████████▋           | 73/100 [00:50<00:15,  1.73it/s]"
     ]
    },
    {
     "name": "stdout",
     "output_type": "stream",
     "text": [
      "tf.Tensor(0.086345255, shape=(), dtype=float32)\n",
      "tf.Tensor(0.110535935, shape=(), dtype=float32)\n",
      "tf.Tensor(0.0943384, shape=(), dtype=float32)\n",
      "tf.Tensor(0.06980902, shape=(), dtype=float32)\n",
      "tf.Tensor(0.09954691, shape=(), dtype=float32)\n",
      "tf.Tensor(0.08674927, shape=(), dtype=float32)\n",
      "tf.Tensor(0.108878635, shape=(), dtype=float32)\n",
      "tf.Tensor(0.08786485, shape=(), dtype=float32)\n",
      "tf.Tensor(0.06689174, shape=(), dtype=float32)\n"
     ]
    },
    {
     "name": "stderr",
     "output_type": "stream",
     "text": [
      "\r",
      " 74%|███████████████████████████████           | 74/100 [00:50<00:14,  1.81it/s]"
     ]
    },
    {
     "name": "stdout",
     "output_type": "stream",
     "text": [
      "tf.Tensor(0.09814138, shape=(), dtype=float32)\n",
      "tf.Tensor(0.11187511, shape=(), dtype=float32)\n",
      "tf.Tensor(0.08000081, shape=(), dtype=float32)\n",
      "tf.Tensor(0.11423228, shape=(), dtype=float32)\n",
      "tf.Tensor(0.07989714, shape=(), dtype=float32)\n",
      "tf.Tensor(0.08392578, shape=(), dtype=float32)\n",
      "tf.Tensor(0.06458094, shape=(), dtype=float32)\n",
      "tf.Tensor(0.080657065, shape=(), dtype=float32)\n",
      "tf.Tensor(0.071648836, shape=(), dtype=float32)\n",
      "tf.Tensor(0.10598228, shape=(), dtype=float32)\n"
     ]
    },
    {
     "name": "stderr",
     "output_type": "stream",
     "text": [
      "\r",
      " 75%|███████████████████████████████▌          | 75/100 [00:51<00:13,  1.87it/s]"
     ]
    },
    {
     "name": "stdout",
     "output_type": "stream",
     "text": [
      "tf.Tensor(0.066551976, shape=(), dtype=float32)\n",
      "tf.Tensor(0.084226586, shape=(), dtype=float32)\n",
      "tf.Tensor(0.0969938, shape=(), dtype=float32)\n",
      "tf.Tensor(0.085936666, shape=(), dtype=float32)\n",
      "tf.Tensor(0.11195434, shape=(), dtype=float32)\n",
      "tf.Tensor(0.10539473, shape=(), dtype=float32)\n",
      "tf.Tensor(0.046187192, shape=(), dtype=float32)\n",
      "tf.Tensor(0.08549733, shape=(), dtype=float32)\n",
      "tf.Tensor(0.10582359, shape=(), dtype=float32)\n",
      "tf.Tensor(0.08047669, shape=(), dtype=float32)\n",
      "tf.Tensor(0.071412705, shape=(), dtype=float32)\n",
      "tf.Tensor(0.09182852, shape=(), dtype=float32)\n"
     ]
    },
    {
     "name": "stderr",
     "output_type": "stream",
     "text": [
      "\r",
      " 76%|███████████████████████████████▉          | 76/100 [00:51<00:13,  1.81it/s]"
     ]
    },
    {
     "name": "stdout",
     "output_type": "stream",
     "text": [
      "tf.Tensor(0.070507966, shape=(), dtype=float32)\n",
      "tf.Tensor(0.099850155, shape=(), dtype=float32)\n",
      "tf.Tensor(0.06471243, shape=(), dtype=float32)\n",
      "tf.Tensor(0.06537764, shape=(), dtype=float32)\n",
      "tf.Tensor(0.086613335, shape=(), dtype=float32)\n",
      "tf.Tensor(0.09256186, shape=(), dtype=float32)\n",
      "tf.Tensor(0.061630946, shape=(), dtype=float32)\n",
      "tf.Tensor(0.11452209, shape=(), dtype=float32)\n"
     ]
    },
    {
     "name": "stderr",
     "output_type": "stream",
     "text": [
      "\r",
      " 77%|████████████████████████████████▎         | 77/100 [00:52<00:12,  1.85it/s]"
     ]
    },
    {
     "name": "stdout",
     "output_type": "stream",
     "text": [
      "tf.Tensor(0.097814225, shape=(), dtype=float32)\n",
      "tf.Tensor(0.08374607, shape=(), dtype=float32)\n",
      "tf.Tensor(0.04407419, shape=(), dtype=float32)\n",
      "tf.Tensor(0.06030755, shape=(), dtype=float32)\n",
      "tf.Tensor(0.090871625, shape=(), dtype=float32)\n",
      "tf.Tensor(0.082232654, shape=(), dtype=float32)\n",
      "tf.Tensor(0.08954796, shape=(), dtype=float32)\n",
      "tf.Tensor(0.07410788, shape=(), dtype=float32)\n",
      "tf.Tensor(0.09122516, shape=(), dtype=float32)\n",
      "tf.Tensor(0.059191428, shape=(), dtype=float32)\n",
      "tf.Tensor(0.08781105, shape=(), dtype=float32)\n",
      "tf.Tensor(0.08848674, shape=(), dtype=float32)\n"
     ]
    },
    {
     "name": "stderr",
     "output_type": "stream",
     "text": [
      "\r",
      " 78%|████████████████████████████████▊         | 78/100 [00:52<00:12,  1.74it/s]"
     ]
    },
    {
     "name": "stdout",
     "output_type": "stream",
     "text": [
      "tf.Tensor(0.06312617, shape=(), dtype=float32)\n",
      "tf.Tensor(0.082252435, shape=(), dtype=float32)\n",
      "tf.Tensor(0.10907762, shape=(), dtype=float32)\n",
      "tf.Tensor(0.11067119, shape=(), dtype=float32)\n",
      "tf.Tensor(0.048398048, shape=(), dtype=float32)\n",
      "tf.Tensor(0.06387764, shape=(), dtype=float32)\n",
      "tf.Tensor(0.12078663, shape=(), dtype=float32)\n"
     ]
    },
    {
     "name": "stderr",
     "output_type": "stream",
     "text": [
      "\r",
      " 79%|█████████████████████████████████▏        | 79/100 [00:53<00:12,  1.70it/s]"
     ]
    },
    {
     "name": "stdout",
     "output_type": "stream",
     "text": [
      "tf.Tensor(0.10689876, shape=(), dtype=float32)\n",
      "tf.Tensor(0.06652845, shape=(), dtype=float32)\n",
      "tf.Tensor(0.063115984, shape=(), dtype=float32)\n",
      "tf.Tensor(0.08716319, shape=(), dtype=float32)\n",
      "tf.Tensor(0.07595855, shape=(), dtype=float32)\n",
      "tf.Tensor(0.061737746, shape=(), dtype=float32)\n",
      "tf.Tensor(0.114798546, shape=(), dtype=float32)\n",
      "tf.Tensor(0.074726574, shape=(), dtype=float32)\n",
      "tf.Tensor(0.066687286, shape=(), dtype=float32)\n"
     ]
    },
    {
     "name": "stderr",
     "output_type": "stream",
     "text": [
      "\r",
      " 80%|█████████████████████████████████▌        | 80/100 [00:54<00:11,  1.78it/s]"
     ]
    },
    {
     "name": "stdout",
     "output_type": "stream",
     "text": [
      "tf.Tensor(0.090038225, shape=(), dtype=float32)\n",
      "tf.Tensor(0.06900655, shape=(), dtype=float32)\n",
      "tf.Tensor(0.117235884, shape=(), dtype=float32)\n",
      "tf.Tensor(0.10022336, shape=(), dtype=float32)\n",
      "tf.Tensor(0.10903037, shape=(), dtype=float32)\n",
      "tf.Tensor(0.07103566, shape=(), dtype=float32)\n",
      "tf.Tensor(0.06603434, shape=(), dtype=float32)\n",
      "tf.Tensor(0.08268843, shape=(), dtype=float32)\n",
      "tf.Tensor(0.0969501, shape=(), dtype=float32)\n",
      "tf.Tensor(0.045992047, shape=(), dtype=float32)\n",
      "tf.Tensor(0.07797018, shape=(), dtype=float32)\n",
      "tf.Tensor(0.08805329, shape=(), dtype=float32)\n",
      "tf.Tensor(0.07433063, shape=(), dtype=float32)\n",
      "tf.Tensor(0.074633144, shape=(), dtype=float32)\n"
     ]
    },
    {
     "name": "stderr",
     "output_type": "stream",
     "text": [
      "\r",
      " 81%|██████████████████████████████████        | 81/100 [00:54<00:10,  1.80it/s]"
     ]
    },
    {
     "name": "stdout",
     "output_type": "stream",
     "text": [
      "tf.Tensor(0.100128524, shape=(), dtype=float32)\n",
      "tf.Tensor(0.09931748, shape=(), dtype=float32)\n",
      "tf.Tensor(0.074850306, shape=(), dtype=float32)\n",
      "tf.Tensor(0.074883044, shape=(), dtype=float32)\n",
      "tf.Tensor(0.096486025, shape=(), dtype=float32)\n",
      "tf.Tensor(0.07302251, shape=(), dtype=float32)\n",
      "tf.Tensor(0.0708745, shape=(), dtype=float32)\n",
      "tf.Tensor(0.099321894, shape=(), dtype=float32)\n",
      "tf.Tensor(0.08925038, shape=(), dtype=float32)\n"
     ]
    },
    {
     "name": "stderr",
     "output_type": "stream",
     "text": [
      "\r",
      " 82%|██████████████████████████████████▍       | 82/100 [00:55<00:09,  1.80it/s]"
     ]
    },
    {
     "name": "stdout",
     "output_type": "stream",
     "text": [
      "tf.Tensor(0.07809367, shape=(), dtype=float32)\n",
      "tf.Tensor(0.09842325, shape=(), dtype=float32)\n",
      "tf.Tensor(0.08609223, shape=(), dtype=float32)\n",
      "tf.Tensor(0.099128455, shape=(), dtype=float32)\n",
      "tf.Tensor(0.08871136, shape=(), dtype=float32)\n",
      "tf.Tensor(0.0596941, shape=(), dtype=float32)\n",
      "tf.Tensor(0.07858338, shape=(), dtype=float32)\n",
      "tf.Tensor(0.11927331, shape=(), dtype=float32)\n",
      "tf.Tensor(0.05548957, shape=(), dtype=float32)\n"
     ]
    },
    {
     "name": "stderr",
     "output_type": "stream",
     "text": [
      "\r",
      " 83%|██████████████████████████████████▊       | 83/100 [00:55<00:09,  1.85it/s]"
     ]
    },
    {
     "name": "stdout",
     "output_type": "stream",
     "text": [
      "tf.Tensor(0.087465376, shape=(), dtype=float32)\n",
      "tf.Tensor(0.083643556, shape=(), dtype=float32)\n",
      "tf.Tensor(0.068643756, shape=(), dtype=float32)\n",
      "tf.Tensor(0.080129474, shape=(), dtype=float32)\n",
      "tf.Tensor(0.102281004, shape=(), dtype=float32)\n",
      "tf.Tensor(0.094061986, shape=(), dtype=float32)\n",
      "tf.Tensor(0.07085987, shape=(), dtype=float32)\n",
      "tf.Tensor(0.0777431, shape=(), dtype=float32)\n",
      "tf.Tensor(0.057414085, shape=(), dtype=float32)\n",
      "tf.Tensor(0.08256219, shape=(), dtype=float32)\n"
     ]
    },
    {
     "name": "stderr",
     "output_type": "stream",
     "text": [
      "\r",
      " 84%|███████████████████████████████████▎      | 84/100 [00:56<00:08,  1.91it/s]"
     ]
    },
    {
     "name": "stdout",
     "output_type": "stream",
     "text": [
      "tf.Tensor(0.085449375, shape=(), dtype=float32)\n",
      "tf.Tensor(0.100849055, shape=(), dtype=float32)\n",
      "tf.Tensor(0.11141366, shape=(), dtype=float32)\n",
      "tf.Tensor(0.04779829, shape=(), dtype=float32)\n",
      "tf.Tensor(0.0913227, shape=(), dtype=float32)\n",
      "tf.Tensor(0.063535504, shape=(), dtype=float32)\n",
      "tf.Tensor(0.07027716, shape=(), dtype=float32)\n",
      "tf.Tensor(0.081126995, shape=(), dtype=float32)\n",
      "tf.Tensor(0.087256916, shape=(), dtype=float32)\n"
     ]
    },
    {
     "name": "stderr",
     "output_type": "stream",
     "text": [
      "\r",
      " 85%|███████████████████████████████████▋      | 85/100 [00:56<00:08,  1.87it/s]"
     ]
    },
    {
     "name": "stdout",
     "output_type": "stream",
     "text": [
      "tf.Tensor(0.08496191, shape=(), dtype=float32)\n",
      "tf.Tensor(0.06960977, shape=(), dtype=float32)\n",
      "tf.Tensor(0.06992762, shape=(), dtype=float32)\n",
      "tf.Tensor(0.08904567, shape=(), dtype=float32)\n",
      "tf.Tensor(0.117400296, shape=(), dtype=float32)\n",
      "tf.Tensor(0.06442144, shape=(), dtype=float32)\n",
      "tf.Tensor(0.056399483, shape=(), dtype=float32)\n",
      "tf.Tensor(0.07482922, shape=(), dtype=float32)\n",
      "tf.Tensor(0.09081114, shape=(), dtype=float32)\n",
      "tf.Tensor(0.11027739, shape=(), dtype=float32)\n",
      "tf.Tensor(0.06290168, shape=(), dtype=float32)\n",
      "tf.Tensor(0.1058187, shape=(), dtype=float32)\n"
     ]
    },
    {
     "name": "stderr",
     "output_type": "stream",
     "text": [
      "\r",
      " 86%|████████████████████████████████████      | 86/100 [00:57<00:07,  1.86it/s]"
     ]
    },
    {
     "name": "stdout",
     "output_type": "stream",
     "text": [
      "tf.Tensor(0.079724535, shape=(), dtype=float32)\n",
      "tf.Tensor(0.06954422, shape=(), dtype=float32)\n",
      "tf.Tensor(0.091103844, shape=(), dtype=float32)\n",
      "tf.Tensor(0.07796864, shape=(), dtype=float32)\n",
      "tf.Tensor(0.07222482, shape=(), dtype=float32)\n",
      "tf.Tensor(0.076120324, shape=(), dtype=float32)\n",
      "tf.Tensor(0.057773106, shape=(), dtype=float32)\n",
      "tf.Tensor(0.05402709, shape=(), dtype=float32)\n"
     ]
    },
    {
     "name": "stderr",
     "output_type": "stream",
     "text": [
      "\r",
      " 87%|████████████████████████████████████▌     | 87/100 [00:57<00:07,  1.85it/s]"
     ]
    },
    {
     "name": "stdout",
     "output_type": "stream",
     "text": [
      "tf.Tensor(0.13011308, shape=(), dtype=float32)\n",
      "tf.Tensor(0.084152006, shape=(), dtype=float32)\n",
      "tf.Tensor(0.08528323, shape=(), dtype=float32)\n",
      "tf.Tensor(0.07999147, shape=(), dtype=float32)\n",
      "tf.Tensor(0.08167968, shape=(), dtype=float32)\n",
      "tf.Tensor(0.071617626, shape=(), dtype=float32)\n",
      "tf.Tensor(0.093062796, shape=(), dtype=float32)\n",
      "tf.Tensor(0.07523622, shape=(), dtype=float32)\n",
      "tf.Tensor(0.09153728, shape=(), dtype=float32)\n"
     ]
    },
    {
     "name": "stderr",
     "output_type": "stream",
     "text": [
      "\r",
      " 88%|████████████████████████████████████▉     | 88/100 [00:58<00:06,  1.91it/s]"
     ]
    },
    {
     "name": "stdout",
     "output_type": "stream",
     "text": [
      "tf.Tensor(0.08373767, shape=(), dtype=float32)\n",
      "tf.Tensor(0.0824492, shape=(), dtype=float32)\n",
      "tf.Tensor(0.0999966, shape=(), dtype=float32)\n",
      "tf.Tensor(0.098594576, shape=(), dtype=float32)\n",
      "tf.Tensor(0.08411047, shape=(), dtype=float32)\n",
      "tf.Tensor(0.08922568, shape=(), dtype=float32)\n",
      "tf.Tensor(0.09286508, shape=(), dtype=float32)\n",
      "tf.Tensor(0.0917447, shape=(), dtype=float32)\n",
      "tf.Tensor(0.097877905, shape=(), dtype=float32)\n",
      "tf.Tensor(0.09556718, shape=(), dtype=float32)\n",
      "tf.Tensor(0.123600796, shape=(), dtype=float32)\n",
      "tf.Tensor(0.09664785, shape=(), dtype=float32)\n",
      "tf.Tensor(0.06541767, shape=(), dtype=float32)\n",
      "tf.Tensor(0.08475555, shape=(), dtype=float32)\n"
     ]
    },
    {
     "name": "stderr",
     "output_type": "stream",
     "text": [
      "\r",
      " 89%|█████████████████████████████████████▍    | 89/100 [00:58<00:05,  1.90it/s]"
     ]
    },
    {
     "name": "stdout",
     "output_type": "stream",
     "text": [
      "tf.Tensor(0.07703571, shape=(), dtype=float32)\n",
      "tf.Tensor(0.06943999, shape=(), dtype=float32)\n",
      "tf.Tensor(0.053598054, shape=(), dtype=float32)\n",
      "tf.Tensor(0.063360795, shape=(), dtype=float32)\n",
      "tf.Tensor(0.05602291, shape=(), dtype=float32)\n",
      "tf.Tensor(0.08209322, shape=(), dtype=float32)\n",
      "tf.Tensor(0.12106624, shape=(), dtype=float32)\n",
      "tf.Tensor(0.084373295, shape=(), dtype=float32)\n",
      "tf.Tensor(0.085739754, shape=(), dtype=float32)\n"
     ]
    },
    {
     "name": "stderr",
     "output_type": "stream",
     "text": [
      "\r",
      " 90%|█████████████████████████████████████▊    | 90/100 [00:59<00:05,  1.91it/s]"
     ]
    },
    {
     "name": "stdout",
     "output_type": "stream",
     "text": [
      "tf.Tensor(0.098484896, shape=(), dtype=float32)\n",
      "tf.Tensor(0.03749469, shape=(), dtype=float32)\n",
      "tf.Tensor(0.09281463, shape=(), dtype=float32)\n",
      "tf.Tensor(0.08142303, shape=(), dtype=float32)\n",
      "tf.Tensor(0.07056425, shape=(), dtype=float32)\n",
      "tf.Tensor(0.05295008, shape=(), dtype=float32)\n",
      "tf.Tensor(0.08564584, shape=(), dtype=float32)\n",
      "tf.Tensor(0.0983157, shape=(), dtype=float32)\n"
     ]
    },
    {
     "name": "stderr",
     "output_type": "stream",
     "text": [
      "\r",
      " 91%|██████████████████████████████████████▏   | 91/100 [00:59<00:04,  1.93it/s]"
     ]
    },
    {
     "name": "stdout",
     "output_type": "stream",
     "text": [
      "tf.Tensor(0.06536144, shape=(), dtype=float32)\n",
      "tf.Tensor(0.07127255, shape=(), dtype=float32)\n",
      "tf.Tensor(0.04604302, shape=(), dtype=float32)\n",
      "tf.Tensor(0.08637128, shape=(), dtype=float32)\n",
      "tf.Tensor(0.071615785, shape=(), dtype=float32)\n",
      "tf.Tensor(0.11703519, shape=(), dtype=float32)\n",
      "tf.Tensor(0.059040308, shape=(), dtype=float32)\n",
      "tf.Tensor(0.09158136, shape=(), dtype=float32)\n",
      "tf.Tensor(0.06957353, shape=(), dtype=float32)\n",
      "tf.Tensor(0.06455541, shape=(), dtype=float32)\n",
      "tf.Tensor(0.08617848, shape=(), dtype=float32)\n",
      "tf.Tensor(0.08742349, shape=(), dtype=float32)\n",
      "tf.Tensor(0.10418215, shape=(), dtype=float32)\n"
     ]
    },
    {
     "name": "stderr",
     "output_type": "stream",
     "text": [
      "\r",
      " 92%|██████████████████████████████████████▋   | 92/100 [01:00<00:04,  1.89it/s]"
     ]
    },
    {
     "name": "stdout",
     "output_type": "stream",
     "text": [
      "tf.Tensor(0.073508285, shape=(), dtype=float32)\n",
      "tf.Tensor(0.04756851, shape=(), dtype=float32)\n",
      "tf.Tensor(0.084629, shape=(), dtype=float32)\n",
      "tf.Tensor(0.081096016, shape=(), dtype=float32)\n",
      "tf.Tensor(0.07820936, shape=(), dtype=float32)\n",
      "tf.Tensor(0.08927379, shape=(), dtype=float32)\n",
      "tf.Tensor(0.07542242, shape=(), dtype=float32)\n",
      "tf.Tensor(0.07827266, shape=(), dtype=float32)\n",
      "tf.Tensor(0.08423446, shape=(), dtype=float32)\n",
      "tf.Tensor(0.11677724, shape=(), dtype=float32)\n"
     ]
    },
    {
     "name": "stderr",
     "output_type": "stream",
     "text": [
      "\r",
      " 93%|███████████████████████████████████████   | 93/100 [01:00<00:03,  1.94it/s]"
     ]
    },
    {
     "name": "stdout",
     "output_type": "stream",
     "text": [
      "tf.Tensor(0.1292222, shape=(), dtype=float32)\n",
      "tf.Tensor(0.09806736, shape=(), dtype=float32)\n",
      "tf.Tensor(0.077640794, shape=(), dtype=float32)\n",
      "tf.Tensor(0.102878034, shape=(), dtype=float32)\n",
      "tf.Tensor(0.09394482, shape=(), dtype=float32)\n",
      "tf.Tensor(0.09113038, shape=(), dtype=float32)\n",
      "tf.Tensor(0.09672811, shape=(), dtype=float32)\n",
      "tf.Tensor(0.1057705, shape=(), dtype=float32)\n",
      "tf.Tensor(0.09492596, shape=(), dtype=float32)\n"
     ]
    },
    {
     "name": "stderr",
     "output_type": "stream",
     "text": [
      "\r",
      " 94%|███████████████████████████████████████▍  | 94/100 [01:01<00:03,  1.96it/s]"
     ]
    },
    {
     "name": "stdout",
     "output_type": "stream",
     "text": [
      "tf.Tensor(0.10013176, shape=(), dtype=float32)\n",
      "tf.Tensor(0.08175621, shape=(), dtype=float32)\n",
      "tf.Tensor(0.12253783, shape=(), dtype=float32)\n",
      "tf.Tensor(0.069426306, shape=(), dtype=float32)\n",
      "tf.Tensor(0.09252943, shape=(), dtype=float32)\n",
      "tf.Tensor(0.07782228, shape=(), dtype=float32)\n",
      "tf.Tensor(0.073159575, shape=(), dtype=float32)\n",
      "tf.Tensor(0.07616392, shape=(), dtype=float32)\n",
      "tf.Tensor(0.08251477, shape=(), dtype=float32)\n",
      "tf.Tensor(0.08573075, shape=(), dtype=float32)\n"
     ]
    },
    {
     "name": "stderr",
     "output_type": "stream",
     "text": [
      "\r",
      " 95%|███████████████████████████████████████▉  | 95/100 [01:01<00:02,  2.00it/s]"
     ]
    },
    {
     "name": "stdout",
     "output_type": "stream",
     "text": [
      "tf.Tensor(0.06950079, shape=(), dtype=float32)\n",
      "tf.Tensor(0.078699835, shape=(), dtype=float32)\n",
      "tf.Tensor(0.073130526, shape=(), dtype=float32)\n",
      "tf.Tensor(0.1051085, shape=(), dtype=float32)\n",
      "tf.Tensor(0.0866857, shape=(), dtype=float32)\n",
      "tf.Tensor(0.098380126, shape=(), dtype=float32)\n",
      "tf.Tensor(0.08795001, shape=(), dtype=float32)\n",
      "tf.Tensor(0.08427996, shape=(), dtype=float32)\n",
      "tf.Tensor(0.07960556, shape=(), dtype=float32)\n"
     ]
    },
    {
     "name": "stderr",
     "output_type": "stream",
     "text": [
      "\r",
      " 96%|████████████████████████████████████████▎ | 96/100 [01:02<00:01,  2.01it/s]"
     ]
    },
    {
     "name": "stdout",
     "output_type": "stream",
     "text": [
      "tf.Tensor(0.09017322, shape=(), dtype=float32)\n",
      "tf.Tensor(0.08731594, shape=(), dtype=float32)\n",
      "tf.Tensor(0.110699765, shape=(), dtype=float32)\n",
      "tf.Tensor(0.10372758, shape=(), dtype=float32)\n",
      "tf.Tensor(0.056687318, shape=(), dtype=float32)\n",
      "tf.Tensor(0.060788374, shape=(), dtype=float32)\n",
      "tf.Tensor(0.07220622, shape=(), dtype=float32)\n",
      "tf.Tensor(0.04691233, shape=(), dtype=float32)\n",
      "tf.Tensor(0.075785466, shape=(), dtype=float32)\n",
      "tf.Tensor(0.09359929, shape=(), dtype=float32)\n"
     ]
    },
    {
     "name": "stderr",
     "output_type": "stream",
     "text": [
      "\r",
      " 97%|████████████████████████████████████████▋ | 97/100 [01:02<00:01,  2.02it/s]"
     ]
    },
    {
     "name": "stdout",
     "output_type": "stream",
     "text": [
      "tf.Tensor(0.096807234, shape=(), dtype=float32)\n",
      "tf.Tensor(0.08936074, shape=(), dtype=float32)\n",
      "tf.Tensor(0.0730923, shape=(), dtype=float32)\n",
      "tf.Tensor(0.10317344, shape=(), dtype=float32)\n",
      "tf.Tensor(0.07231636, shape=(), dtype=float32)\n",
      "tf.Tensor(0.060588744, shape=(), dtype=float32)\n",
      "tf.Tensor(0.08025468, shape=(), dtype=float32)\n",
      "tf.Tensor(0.10993794, shape=(), dtype=float32)\n",
      "tf.Tensor(0.055994976, shape=(), dtype=float32)\n"
     ]
    },
    {
     "name": "stderr",
     "output_type": "stream",
     "text": [
      "\r",
      " 98%|█████████████████████████████████████████▏| 98/100 [01:03<00:00,  2.05it/s]"
     ]
    },
    {
     "name": "stdout",
     "output_type": "stream",
     "text": [
      "tf.Tensor(0.10352491, shape=(), dtype=float32)\n",
      "tf.Tensor(0.09109281, shape=(), dtype=float32)\n",
      "tf.Tensor(0.09805351, shape=(), dtype=float32)\n",
      "tf.Tensor(0.07540536, shape=(), dtype=float32)\n",
      "tf.Tensor(0.07178625, shape=(), dtype=float32)\n",
      "tf.Tensor(0.08862132, shape=(), dtype=float32)\n",
      "tf.Tensor(0.09676715, shape=(), dtype=float32)\n",
      "tf.Tensor(0.06853118, shape=(), dtype=float32)\n",
      "tf.Tensor(0.08924277, shape=(), dtype=float32)\n",
      "tf.Tensor(0.06552515, shape=(), dtype=float32)\n"
     ]
    },
    {
     "name": "stderr",
     "output_type": "stream",
     "text": [
      "\r",
      " 99%|█████████████████████████████████████████▌| 99/100 [01:03<00:00,  2.05it/s]"
     ]
    },
    {
     "name": "stdout",
     "output_type": "stream",
     "text": [
      "tf.Tensor(0.11255622, shape=(), dtype=float32)\n",
      "tf.Tensor(0.09257278, shape=(), dtype=float32)\n",
      "tf.Tensor(0.07126765, shape=(), dtype=float32)\n",
      "tf.Tensor(0.12312902, shape=(), dtype=float32)\n",
      "tf.Tensor(0.09402273, shape=(), dtype=float32)\n",
      "tf.Tensor(0.08833063, shape=(), dtype=float32)\n",
      "tf.Tensor(0.123173274, shape=(), dtype=float32)\n",
      "tf.Tensor(0.10383744, shape=(), dtype=float32)\n",
      "tf.Tensor(0.07532221, shape=(), dtype=float32)\n",
      "tf.Tensor(0.056083314, shape=(), dtype=float32)\n",
      "tf.Tensor(0.07220585, shape=(), dtype=float32)\n",
      "tf.Tensor(0.06958083, shape=(), dtype=float32)\n",
      "tf.Tensor(0.08461513, shape=(), dtype=float32)\n",
      "tf.Tensor(0.06918917, shape=(), dtype=float32)\n"
     ]
    },
    {
     "name": "stderr",
     "output_type": "stream",
     "text": [
      "100%|█████████████████████████████████████████| 100/100 [01:04<00:00,  1.56it/s]"
     ]
    },
    {
     "name": "stdout",
     "output_type": "stream",
     "text": [
      "Loss: 0.0008363606035709381\n",
      "Efficacité: 1.0\n",
      "\n",
      "\n",
      "Nombre d'échecs: 0\n",
      "Nombre de succes: 1000\n"
     ]
    },
    {
     "name": "stderr",
     "output_type": "stream",
     "text": [
      "\n"
     ]
    }
   ],
   "source": [
    "loss_evolution = []\n",
    "efficacite = []\n",
    "ratio = [0,0]\n",
    "os.chdir('/home/mathis/Stage M1/')\n",
    "os.system('rm -r Advanced\\ NN/GAN/softsusy_succes/')\n",
    "os.system('mkdir -p Advanced\\ NN/GAN/softsusy_succes')\n",
    "succes_path = 'Advanced\\ NN/GAN/softsusy_succes/'\n",
    "\n",
    "\n",
    "epoch = 1\n",
    "for k in range(epoch):\n",
    "    print('Epochs {} / {}'.format(k+1,epoch))\n",
    "    sum_loss_tot = 0\n",
    "    for i in tqdm(dataset):\n",
    "        sum_loss_batch = 0\n",
    "        with tf.GradientTape(persistent=True) as tape:\n",
    "            logits = model(i)\n",
    "            for j in logits:\n",
    "                loss = loss_function(j, PMSSM_range, ratio, succes_path) \n",
    "                print(loss)\n",
    "                gradients = tape.gradient(loss/len(logits), model.trainable_weights)\n",
    "                optimizer.apply_gradients(zip(gradients, model.trainable_weights))\n",
    "            \n",
    "                sum_loss_batch += loss\n",
    "        \n",
    "        sum_loss_tot = sum_loss_batch / len(logits)\n",
    "        \n",
    "    loss_evolution.append(sum_loss_tot/len(dataset))\n",
    "    efficacite.append(ratio[1]/(ratio[0]+ratio[1]))\n",
    "    \n",
    "    print('Loss:',sum_loss_tot.numpy()/len(dataset))\n",
    "    print('Efficacité:',ratio[1]/(ratio[0]+ratio[1]))\n",
    "    print('\\n')\n",
    "    \n",
    "print(\"Nombre d'échecs:\",ratio[0])\n",
    "print(\"Nombre de succes:\",ratio[1])"
   ]
  },
  {
   "cell_type": "markdown",
   "id": "f07dd7e9",
   "metadata": {},
   "source": [
    "# Récupération données"
   ]
  },
  {
   "cell_type": "code",
   "execution_count": 10,
   "id": "96c86e74",
   "metadata": {},
   "outputs": [],
   "source": [
    "def recuperation_slha(folder,filename,sus_mass,param,succes):\n",
    "    warning = 0\n",
    "    for j in range(succes):\n",
    "        file_name =folder+filename+str(j+1)+'.out' \n",
    "        \n",
    "        with open(file_name) as file:\n",
    "            for indice, ligne in enumerate(file):\n",
    "                if 'tanb' in ligne:\n",
    "                    indice_tanb = indice\n",
    "                \n",
    "                if 'M_1(MX)' in ligne:\n",
    "                    indices_M = [indice+i for i in range(3)]\n",
    "                if 'At(MX)' in ligne:\n",
    "                    indices_A = [indice+i for i in range(3)]\n",
    "                if 'mu(MX)' in ligne:\n",
    "                    indice_mu = indice\n",
    "                if 'mA(pole)' in ligne:\n",
    "                    indice_mA = indice\n",
    "                if 'meL(MX)' in ligne:\n",
    "                    indices_mlL = [indice+i for i in range(3)]\n",
    "                if 'meR(MX)' in ligne:\n",
    "                    indices_mlR = [indice+i for i in range(3)]\n",
    "                if 'mqL1(MX)' in ligne:\n",
    "                    indices_qL = [indice+i for i in range(3)]\n",
    "                if 'muR(MX)' in ligne:\n",
    "                    indices_q = [indice+i for i in range(6)]\n",
    "                    \n",
    "                if 'h0' in ligne:\n",
    "                    indices_higgs = [indice+i for i in range(2)]\n",
    "                if '~g' in ligne:\n",
    "                    indice_g = indice\n",
    "                if '~neutralino(1)' in ligne:\n",
    "                    indices_neutralino = [indice,indice+1,indice+3,indice+4]\n",
    "                if '~d_L' in ligne:\n",
    "                    indices_squarkL = [indice+i for i in range(6)]\n",
    "                if '~d_R' in ligne:\n",
    "                    indices_squarkR = [indice+i for i in range(6)]\n",
    "                if '~chargino(1)' in ligne:\n",
    "                    indices_chargino = [indice,indice+3]\n",
    "        \n",
    "        \n",
    "        file = open(file_name)\n",
    "        lignes = file.readlines()\n",
    "        \n",
    "        for step, i in enumerate(param[0]):\n",
    "            i.append(float(lignes[indices_M[step]].split()[1]))\n",
    "\n",
    "        for step, i in enumerate(param[1]):\n",
    "            i.append(float(lignes[indices_A[step]].split()[1]))  \n",
    "            \n",
    "        param[2].append(float(lignes[indice_mu].split()[1]))\n",
    "        \n",
    "        param[3].append(float(lignes[indice_mA].split()[1]))\n",
    "        \n",
    "        for step, i in enumerate(param[4]):\n",
    "            i.append(float(lignes[indices_mlL[step]].split()[1]))\n",
    "            \n",
    "        for step, i in enumerate(param[5]):\n",
    "            i.append(float(lignes[indices_mlR[step]].split()[1]))\n",
    "            \n",
    "        for step, i in enumerate(param[6]):\n",
    "            i.append(float(lignes[indices_qL[step]].split()[1]))\n",
    "        \n",
    "        for step, i in enumerate(param[7]):\n",
    "            i.append(float(lignes[indices_q[step]].split()[1]))\n",
    "            \n",
    "        param[8].append(float(lignes[indice_tanb].split()[1]))\n",
    "            \n",
    "        \n",
    "        sus_mass[0].append(float(lignes[indice_g].split()[1]))\n",
    "        \n",
    "        for step, i in enumerate(sus_mass[1]):\n",
    "            i.append(float(lignes[indices_neutralino[step]].split()[1]))\n",
    "            \n",
    "        for step, i in enumerate(sus_mass[2]):\n",
    "            i.append(float(lignes[indices_squarkL[step]].split()[1]))\n",
    "\n",
    "        for step, i in enumerate(sus_mass[3]):\n",
    "            i.append(float(lignes[indices_squarkR[step]].split()[1]))\n",
    "        \n",
    "        for step, i in enumerate(sus_mass[4]):\n",
    "            i.append(float(lignes[indices_higgs[step]].split()[1]))\n",
    "\n",
    "        for step, i in enumerate(sus_mass[5]):\n",
    "            i.append(float(lignes[indices_chargino[step]].split()[1]))        \n",
    "    \n",
    "    \n",
    "        with open(file_name) as file:\n",
    "            if 'LSP # Warning' in file.read():\n",
    "                warning+=1\n",
    "    return warning"
   ]
  },
  {
   "cell_type": "code",
   "execution_count": 12,
   "id": "61189b10",
   "metadata": {},
   "outputs": [
    {
     "name": "stdout",
     "output_type": "stream",
     "text": [
      "Nombre warning: 0\n"
     ]
    }
   ],
   "source": [
    "g_mass = []\n",
    "neutralino_mass = [[] for i in range(4)]   #[N1 , N2 , N3 , N4]\n",
    "squarkL_mass = [[] for i in range(6)]      #[d , u , s , c , b , t]\n",
    "squarkR_mass = [[] for i in range(6)]       \n",
    "higgs_mass = [[] for i in range(2)]        #[h0 , H0]\n",
    "chargino_mass = [[] for i in range(2)]     #[neutralino1 , neutralino2]\n",
    "\n",
    "M_param = [[] for i in range(3)]           #[M1 , M2 , M3]\n",
    "A_param = [[] for i in range(3)]           #[At , Ab , Atau]\n",
    "mu = []\n",
    "mA_param = []\n",
    "mlL_param = [[] for i in range(3)]         #[meL , mmuL , mtauL]\n",
    "mlR_param = [[] for i in range(3)]         #[meR , mmuR , mtauR]\n",
    "mqL_param = [[] for i in range(3)]         #[mqL1 , mqL2 , mqL3]\n",
    "quark_param = [[] for i in range(6)]       #[u , c , t , d , s , b]\n",
    "tanB = []\n",
    "\n",
    "sus_mass = [g_mass,neutralino_mass,squarkL_mass,squarkR_mass,higgs_mass,chargino_mass]\n",
    "param = [M_param,A_param,mu,mA_param,mlL_param,mlR_param,mqL_param,quark_param,tanB]\n",
    "\n",
    "folder = 'Advanced NN/GAN/softsusy_succes/'\n",
    "file_name = 'pmssm_nn_succes_'\n",
    "warning = recuperation_slha(folder,file_name,sus_mass,param,ratio[1])\n",
    "\n",
    "print('Nombre warning:',warning)"
   ]
  },
  {
   "cell_type": "markdown",
   "id": "16699b10",
   "metadata": {},
   "source": [
    "# Sauvegarde Run "
   ]
  },
  {
   "cell_type": "code",
   "execution_count": 14,
   "id": "636b239f",
   "metadata": {},
   "outputs": [
    {
     "name": "stdout",
     "output_type": "stream",
     "text": [
      "WARNING:tensorflow:Compiled the loaded model, but the compiled metrics have yet to be built. `model.compile_metrics` will be empty until you train or evaluate the model.\n"
     ]
    }
   ],
   "source": [
    "from datetime import date, datetime\n",
    "\n",
    "folder_name = str(date.today())+'-'+str(datetime.now().time().strftime(\"%H:%M:%S\"))\n",
    "commande = 'mkdir -p Advanced\\ NN/GAN/GAN_run/'+folder_name\n",
    "os.system(commande)\n",
    "\n",
    "with open('Advanced NN/GAN/GAN_run/'+folder_name+'/config.txt', 'w') as f:\n",
    "    f.write('taile dataset: '+str(taille_dataset)+'\\n')\n",
    "    f.write('taile batch: '+str(taille_batch)+'\\n')\n",
    "    f.write('nombre epochs: '+str(epoch)+'\\n')\n",
    "    f.write(\"Nombre d'échecs: \"+str(ratio[0])+'\\n')\n",
    "    f.write(\"Nombre de succes: \"+str(ratio[1])+'\\n')\n",
    "    f.write(\"Nombre Warning LSP: \"+str(warning)+'\\n')\n",
    "    f.write('\\n')\n",
    "    f.write(\"Fonctions d'activations: \"+fnc_activation+'\\n')\n",
    "    f.write(\"Fonctions d'activations output: \"+fnc_activation_output+'\\n')\n",
    "    f.write('Learning rate:'+str(learning_rate)+'\\n')\n",
    "    f.write('Optimizer: '+str(optimizer)+'\\n')\n",
    "    f.write('\\n')\n",
    "    model.summary(print_fn=lambda x: f.write(x + '\\n'))\n",
    "    f.write('\\n')\n",
    "    f.write('\\n')\n",
    "    f.write('Range:')\n",
    "    f.write('M1: '+str(PMSSM_range[0])+'\\n')\n",
    "    f.write('M2: '+str(PMSSM_range[1])+'\\n')\n",
    "    f.write('M3: '+str(PMSSM_range[2])+'\\n')\n",
    "    f.write('mA: '+str(PMSSM_range[3])+'\\n')\n",
    "    f.write('tanB: '+str(PMSSM_range[4])+'\\n')\n",
    "    f.write('mu: '+str(PMSSM_range[5])+'\\n')\n",
    "    f.write('At: '+str(PMSSM_range[6])+'\\n')\n",
    "    f.write('Ab: '+str(PMSSM_range[7])+'\\n')\n",
    "    f.write('Atau: '+str(PMSSM_range[8])+'\\n')\n",
    "    f.write('Mq1L: '+str(PMSSM_range[9])+'\\n')\n",
    "    f.write('Mq3L: '+str(PMSSM_range[10])+'\\n')\n",
    "    f.write('MuR: '+str(PMSSM_range[11])+'\\n')\n",
    "    f.write('dR: '+str(PMSSM_range[12])+'\\n')\n",
    "    f.write('MtR: '+str(PMSSM_range[13])+'\\n')\n",
    "    f.write('MbR: '+str(PMSSM_range[14])+'\\n')\n",
    "    f.write('MeL: '+str(PMSSM_range[15])+'\\n')\n",
    "    f.write('MtauL: '+str(PMSSM_range[16])+'\\n')\n",
    "    f.write('MeR: '+str(PMSSM_range[17])+'\\n')\n",
    "    f.write('MtauR: '+str(PMSSM_range[18])+'\\n')\n",
    "    \n",
    "\n",
    "model.save('Advanced NN/GAN/GAN_run/'+folder_name+'/model.h5')\n",
    "    \n",
    "param_file = zip(M_param[0],M_param[1],M_param[2],A_param[0],A_param[1],A_param[2],mu,mA_param,\n",
    "                 mlL_param[0],mlL_param[1],mlL_param[2],mlR_param[0],mlR_param[2],mlR_param[2],\n",
    "                 mqL_param[0],mqL_param[1],mqL_param[2],quark_param[0],quark_param[1],quark_param[2],\n",
    "                 quark_param[3],quark_param[4],quark_param[5],tanB)\n",
    "\n",
    "header = ['M1', 'M2', 'M3', 'At', 'Ab', 'Atau', 'mu', 'mA', 'meL', 'mmuL', 'mtauL', 'meR', 'mmuR', 'mtauR', 'mqL1', 'mqL2', 'mqL3', 'muR', 'mcR', 'mtR', 'mdR', 'msR', 'mbR', 'tanb']\n",
    "\n",
    "import csv\n",
    "with open('Advanced NN/GAN/GAN_run/'+folder_name+'/data.csv', 'w') as f:\n",
    "    writer = csv.writer(f, delimiter='\\t')\n",
    "    writer.writerow(header)\n",
    "    writer.writerows(param_file)"
   ]
  },
  {
   "cell_type": "markdown",
   "id": "0fead181",
   "metadata": {},
   "source": [
    "# Plot"
   ]
  },
  {
   "cell_type": "markdown",
   "id": "a4fec06d",
   "metadata": {},
   "source": [
    "## Loss"
   ]
  },
  {
   "cell_type": "code",
   "execution_count": 15,
   "id": "a996c24f",
   "metadata": {},
   "outputs": [
    {
     "data": {
      "image/png": "[encoded data removed]",
      "text/plain": [
       "<Figure size 432x288 with 1 Axes>"
      ]
     },
     "metadata": {
      "needs_background": "light"
     },
     "output_type": "display_data"
    },
    {
     "data": {
      "image/png": "[encoded data removed]",
      "text/plain": [
       "<Figure size 432x288 with 1 Axes>"
      ]
     },
     "metadata": {
      "needs_background": "light"
     },
     "output_type": "display_data"
    }
   ],
   "source": [
    "time_epoch = [i+1 for i in range(epoch)]\n",
    "\n",
    "plt.figure()\n",
    "plt.title('Loss function evolution')\n",
    "plt.xlabel('Epochs')\n",
    "plt.ylabel('loss')\n",
    "plt.plot(time_epoch, loss_evolution, 'ob',label='loss')\n",
    "plt.yscale('log')\n",
    "plt.savefig('Advanced NN/GAN/GAN_run/'+folder_name+'/loss.svg')\n",
    "\n",
    "plt.figure()\n",
    "plt.title('Évolution efficacité')\n",
    "plt.xlabel('Epochs')\n",
    "plt.ylabel(r'Efficacité')\n",
    "plt.plot(time_epoch, efficacite, 'ob',label='efficacité')\n",
    "plt.savefig('Advanced NN/GAN/GAN_run/'+folder_name+'/efficacite.svg')"
   ]
  },
  {
   "cell_type": "markdown",
   "id": "764518c5",
   "metadata": {},
   "source": [
    "## Mass"
   ]
  },
  {
   "cell_type": "code",
   "execution_count": 16,
   "id": "c737191d",
   "metadata": {},
   "outputs": [],
   "source": [
    "def plot_histo(title, xlabel, ylabel, list_hist,bins, label, legend = False, histtype='bar', save=False, file_folder=''):\n",
    "    plt.figure()\n",
    "    for indice, hist in enumerate(list_hist):\n",
    "        plt.hist(hist,bins,label=label[indice],histtype=histtype)\n",
    "    plt.title(title)\n",
    "    plt.xlabel(xlabel)\n",
    "    plt.ylabel(ylabel)\n",
    "    if legend == True:\n",
    "        plt.legend()\n",
    "    if save == True:\n",
    "        plt.savefig(file_folder)\n",
    "    \n",
    "def subplot_histo(titre, xlabel, ylabel, x, y, share, subtitle, hist_list, label, legend = False, histtype='bar', save=False, file_folder=''):  \n",
    "    fig , ax = plt.subplots(x, y, sharex=share[0], sharey=share[1], constrained_layout = True)\n",
    "    plt.suptitle(titre)\n",
    "    fig.text(0.5, -0.05, xlabel, ha='center')\n",
    "    fig.text(-0.04, 0.5, ylabel, va='center', rotation='vertical')\n",
    "\n",
    "    for indice, hist in enumerate(hist_list): \n",
    "        compteur = 0\n",
    "        for i in range(x):\n",
    "            if y != 1:\n",
    "                for j in range(y):\n",
    "                    ax[i, j].hist(hist[compteur],100,histtype=histtype,label=label[indice])\n",
    "                    ax[i, j].set_title(subtitle[compteur])\n",
    "                    compteur+=1\n",
    "                    if legend == True:\n",
    "                        ax[i, j].legend()\n",
    "            else:\n",
    "                ax[i].hist(hist[compteur],100,histtype=histtype, label=label[indice])\n",
    "                ax[i].set_title(subtitle[compteur])\n",
    "                compteur+=1\n",
    "                if legend == True:\n",
    "                    ax[i].legend()\n",
    "    if save == True:\n",
    "        plt.savefig(file_folder)"
   ]
  },
  {
   "cell_type": "code",
   "execution_count": 17,
   "id": "3b5230bb",
   "metadata": {},
   "outputs": [
    {
     "data": {
      "image/png": "[encoded data removed]",
      "text/plain": [
       "<Figure size 432x288 with 1 Axes>"
      ]
     },
     "metadata": {
      "needs_background": "light"
     },
     "output_type": "display_data"
    },
    {
     "data": {
      "image/png": "[encoded data removed]",
      "text/plain": [
       "<Figure size 432x288 with 4 Axes>"
      ]
     },
     "metadata": {
      "needs_background": "light"
     },
     "output_type": "display_data"
    },
    {
     "data": {
      "image/png": "[encoded data removed]",
      "text/plain": [
       "<Figure size 432x288 with 6 Axes>"
      ]
     },
     "metadata": {
      "needs_background": "light"
     },
     "output_type": "display_data"
    },
    {
     "data": {
      "image/png": "[encoded data removed]",
      "text/plain": [
       "<Figure size 432x288 with 6 Axes>"
      ]
     },
     "metadata": {
      "needs_background": "light"
     },
     "output_type": "display_data"
    },
    {
     "data": {
      "image/png": "[encoded data removed]",
      "text/plain": [
       "<Figure size 432x288 with 2 Axes>"
      ]
     },
     "metadata": {
      "needs_background": "light"
     },
     "output_type": "display_data"
    },
    {
     "data": {
      "image/png": "[encoded data removed]",
      "text/plain": [
       "<Figure size 432x288 with 2 Axes>"
      ]
     },
     "metadata": {
      "needs_background": "light"
     },
     "output_type": "display_data"
    }
   ],
   "source": [
    "folder = 'Advanced NN/GAN/GAN_run/'+folder_name\n",
    "\n",
    "file = '/histo_gluinos.svg'\n",
    "titre = r'Histogramme de la masse du gluino $\\widetilde{g}$'\n",
    "xlabel = 'Masse (GeV)'\n",
    "ylabel = 'N'\n",
    "plot_histo(titre,xlabel,ylabel,[g_mass],100,['NN'],save=True,file_folder=folder+file)\n",
    "\n",
    "file = '/histo_neutralinos.svg'\n",
    "titre = 'Histogramme de la masse des neutralinos'\n",
    "subtitle = [r'$\\widetilde{\\chi_1^0}$',r'$\\widetilde{\\chi_2^0}$',r'$\\widetilde{\\chi_3^0}$',r'$\\widetilde{\\chi_4^0}$']\n",
    "share = [False,True]\n",
    "subplot_histo(titre,xlabel,ylabel,2,2,share,subtitle,[neutralino_mass],['NN'],save=True,file_folder=folder+file)\n",
    "\n",
    "file = '/histo_quarksL.svg'\n",
    "titre = 'Histogramme de la masse des quarks L'\n",
    "subtitle = [r'$\\widetilde{d}$',r'$\\widetilde{u}$',r'$\\widetilde{s}$',r'$\\widetilde{c}$',r'$\\widetilde{t}$',r'$\\widetilde{b}$']    \n",
    "subplot_histo(titre,xlabel,ylabel,2,3,share,subtitle,[squarkL_mass],['NN'],save=True,file_folder=folder+file)\n",
    "\n",
    "file = '/histo_quarksR.svg'\n",
    "titre = 'Histogramme de la masse des quarks R' \n",
    "subplot_histo(titre,xlabel,ylabel,2,3,share,subtitle,[squarkR_mass],['NN'],save=True,file_folder=folder+file)\n",
    "\n",
    "file = '/histo_higgs.svg'\n",
    "titre = 'Histogramme de la masse des bosons de Higgs'    \n",
    "subtitle = [r'$h_0$',r'$H_0$']\n",
    "subplot_histo(titre,xlabel,ylabel,2,1,share,subtitle,[higgs_mass],['NN'],save=True,file_folder=folder+file)\n",
    "\n",
    "file = '/histo_charginos.svg'\n",
    "titre = 'Histogramme de la masse des charginos'    \n",
    "subtitle = [r'$\\widetilde{\\chi_1^\\pm}$',r'$\\widetilde{\\chi_2^\\pm}$']\n",
    "subplot_histo(titre,xlabel,ylabel,2,1,share,subtitle,[chargino_mass],['NN'],save=True,file_folder=folder+file)"
   ]
  },
  {
   "cell_type": "markdown",
   "id": "ba64a010",
   "metadata": {},
   "source": [
    "## Param "
   ]
  },
  {
   "cell_type": "code",
   "execution_count": 18,
   "id": "f03e9344",
   "metadata": {
    "scrolled": false
   },
   "outputs": [
    {
     "data": {
      "image/png": "[encoded data removed]",
      "text/plain": [
       "<Figure size 432x288 with 1 Axes>"
      ]
     },
     "metadata": {
      "needs_background": "light"
     },
     "output_type": "display_data"
    },
    {
     "data": {
      "image/png": "[encoded data removed]",
      "text/plain": [
       "<Figure size 432x288 with 6 Axes>"
      ]
     },
     "metadata": {
      "needs_background": "light"
     },
     "output_type": "display_data"
    },
    {
     "data": {
      "image/png": "[encoded data removed]",
      "text/plain": [
       "<Figure size 432x288 with 3 Axes>"
      ]
     },
     "metadata": {
      "needs_background": "light"
     },
     "output_type": "display_data"
    },
    {
     "data": {
      "image/png": "[encoded data removed]",
      "text/plain": [
       "<Figure size 432x288 with 3 Axes>"
      ]
     },
     "metadata": {
      "needs_background": "light"
     },
     "output_type": "display_data"
    },
    {
     "data": {
      "image/png": "[encoded data removed]",
      "text/plain": [
       "<Figure size 432x288 with 1 Axes>"
      ]
     },
     "metadata": {
      "needs_background": "light"
     },
     "output_type": "display_data"
    },
    {
     "data": {
      "image/png": "[encoded data removed]",
      "text/plain": [
       "<Figure size 432x288 with 6 Axes>"
      ]
     },
     "metadata": {
      "needs_background": "light"
     },
     "output_type": "display_data"
    },
    {
     "data": {
      "image/png": "[encoded data removed]",
      "text/plain": [
       "<Figure size 432x288 with 3 Axes>"
      ]
     },
     "metadata": {
      "needs_background": "light"
     },
     "output_type": "display_data"
    },
    {
     "data": {
      "image/png": "[encoded data removed]",
      "text/plain": [
       "<Figure size 432x288 with 1 Axes>"
      ]
     },
     "metadata": {
      "needs_background": "light"
     },
     "output_type": "display_data"
    }
   ],
   "source": [
    "file = '/histo_mu.svg'\n",
    "titre = r'Histogramme du paramètre $\\mu$'\n",
    "plot_histo(titre,xlabel,ylabel,[mu],100,['NN'],save=True,file_folder=folder+file)\n",
    "\n",
    "file = '/histo_mquarks.svg'\n",
    "titre = 'Histogramme des paramètres de masse des quarks'\n",
    "subtitle = [r'$m_{\\widetilde{u_R}}$',r'$m_{\\widetilde{c_R}}$',r'$m_{\\widetilde{t_R}}$',r'$m_{\\widetilde{d_R}}$',r'$m_{\\widetilde{s_R}}$',r'$m_{\\widetilde{b_R}}$']\n",
    "subplot_histo(titre,xlabel,ylabel,2,3,share,subtitle,[quark_param],['NN'],save=True,file_folder=folder+file)\n",
    "\n",
    "file = '/histo_M.svg'\n",
    "titre = 'Histogramme des paramètres de masse'\n",
    "subtitle = [r'$M_1$',r'$M_2$',r'$M_3$']\n",
    "subplot_histo(titre,xlabel,ylabel,3,1,share,subtitle,[M_param],['NN'],save=True,file_folder=folder+file)\n",
    "\n",
    "file = '/histo_A.svg'\n",
    "titre = 'Histogramme des paramètres A'\n",
    "subtitle = [r'$A_t$',r'$A_b$',r'$A_\\tau$']\n",
    "subplot_histo(titre,xlabel,ylabel,3,1,share,subtitle,[A_param],['NN'],save=True,file_folder=folder+file)\n",
    "\n",
    "file = '/histo_mA.svg'\n",
    "titre = r'Histogramme du paramètre $M_A$'\n",
    "plot_histo(titre,xlabel,ylabel,[mA_param],100,['NN'],save=True,file_folder=folder+file)\n",
    "\n",
    "file = '/histo_mlL.svg'\n",
    "titre = r'Histogramme des paramètres $m_{\\widetilde{f}}$'\n",
    "subtitle = [r'$m_{\\widetilde{e_L}}$',r'$m_{\\widetilde{\\mu_L}}$',r'$m_{\\widetilde{\\tau_L}}$',r'$m_{\\widetilde{e_R}}$',r'$m_{\\widetilde{\\mu_R}}$',r'$m_{\\widetilde{\\tau_R}}$']\n",
    "subplot_histo(titre,xlabel,ylabel,2,3,share,subtitle,[mlL_param+mlR_param],['NN'],save=True,file_folder=folder+file)\n",
    "\n",
    "file = '/histo_mqL.svg'\n",
    "titre = 'Histogramme des paramètres de masse'\n",
    "subtitle = [r'$m_{\\widetilde{q_{1L}}}$',r'$m_{\\widetilde{q_{2L}}}$',r'$m_{\\widetilde{q_{3L}}}$']\n",
    "subplot_histo(titre,xlabel,ylabel,3,1,share,subtitle,[mqL_param],['NN'],save=True,file_folder=folder+file)\n",
    "\n",
    "file = '/histo_tanb.svg'\n",
    "titre = r'Histogramme du paramètre $\\tan \\beta$'\n",
    "plot_histo(titre,xlabel,ylabel,[tanB],100,['NN'],save=True,file_folder=folder+file)"
   ]
  },
  {
   "cell_type": "markdown",
   "id": "774304d5",
   "metadata": {},
   "source": [
    "# Statistique NN "
   ]
  },
  {
   "cell_type": "code",
   "execution_count": 19,
   "id": "903e9010",
   "metadata": {},
   "outputs": [
    {
     "name": "stdout",
     "output_type": "stream",
     "text": [
      "Statisique du Neural Network\n",
      "Nombre d'échecs: 834\n",
      "Nombre de succes: 24166\n",
      "Nombre warning: 0\n",
      "Éfficacité du Neural Network: 96.664 %\n",
      "\n",
      "\n"
     ]
    }
   ],
   "source": [
    "print('Statisique du Neural Network')\n",
    "print(\"Nombre d'échecs:\",ratio[0])\n",
    "print(\"Nombre de succes:\",ratio[1])\n",
    "print('Nombre warning:', warning)\n",
    "print('Éfficacité du Neural Network:',ratio[1]/taille_dataset*100/epoch/taille_batch,'%')\n",
    "print('\\n')"
   ]
  },
  {
   "cell_type": "code",
   "execution_count": 20,
   "id": "015cb8bf",
   "metadata": {},
   "outputs": [
    {
     "name": "stdout",
     "output_type": "stream",
     "text": [
      "[<tf.Variable 'dense/kernel:0' shape=(4, 57) dtype=float32, numpy=\n",
      "array([[-0.23811178,  0.09456042,  0.16429079,  0.29185462, -0.06275766,\n",
      "         0.19826849, -0.27499834, -0.07200683,  0.13966623,  0.10609321,\n",
      "        -0.26335132,  0.01019785, -0.3068139 ,  0.22891481, -0.23254016,\n",
      "        -0.07338736,  0.01611939, -0.01205036, -0.01297395, -0.30056068,\n",
      "        -0.22750917, -0.08362503,  0.21544357,  0.20866178,  0.14831461,\n",
      "        -0.25942102,  0.12162542, -0.25920734,  0.05639654,  0.11723151,\n",
      "        -0.26664552,  0.01489903, -0.03422109, -0.0770788 , -0.1380836 ,\n",
      "        -0.28397056,  0.19669628, -0.21620233, -0.22680718,  0.1500198 ,\n",
      "         0.0175874 ,  0.19429508, -0.00085531, -0.28314742,  0.17021392,\n",
      "        -0.28489897,  0.06739784,  0.01086728, -0.22738154,  0.07311822,\n",
      "         0.20289443,  0.12912798, -0.22575007,  0.22918494,  0.16136248,\n",
      "        -0.2569424 ,  0.22373933],\n",
      "       [ 0.02956669,  0.30773348, -0.11649103, -0.2984048 ,  0.02190283,\n",
      "        -0.12121553,  0.01866074,  0.05899763,  0.08390441,  0.08775216,\n",
      "         0.13448626, -0.27498594,  0.08352906, -0.28598616,  0.00986374,\n",
      "        -0.2767777 , -0.27658474,  0.03134232, -0.21361752,  0.03361181,\n",
      "        -0.02837744, -0.02749206,  0.08323024, -0.23224409,  0.08866223,\n",
      "         0.17924717, -0.1442884 ,  0.2899417 , -0.257456  ,  0.2254767 ,\n",
      "        -0.14743246,  0.21219134,  0.3132577 ,  0.0409064 ,  0.03277146,\n",
      "         0.10594514,  0.1974718 , -0.01305738, -0.0923297 , -0.14992423,\n",
      "        -0.01196935,  0.05454838, -0.18436845,  0.1662142 , -0.19401442,\n",
      "        -0.21720254,  0.21692868, -0.02851326,  0.25695306,  0.12906261,\n",
      "         0.17760515,  0.257407  ,  0.21238127,  0.283796  , -0.29445904,\n",
      "        -0.11959571,  0.20957617],\n",
      "       [-0.2326514 , -0.22200672, -0.02866687, -0.10744925,  0.03701887,\n",
      "        -0.02976833, -0.03145164, -0.20181918, -0.2571147 ,  0.10918222,\n",
      "         0.0724201 , -0.2532562 , -0.15214087, -0.22537652,  0.25933167,\n",
      "        -0.01905492,  0.14119455,  0.24693783,  0.20840101, -0.0247612 ,\n",
      "         0.01476872, -0.05085321, -0.1812024 , -0.02104967, -0.2713162 ,\n",
      "         0.03126513,  0.22599193, -0.2397276 ,  0.21159624, -0.00491064,\n",
      "        -0.24453302,  0.29890314, -0.28401655, -0.0282616 , -0.1902103 ,\n",
      "        -0.1392871 , -0.02821244,  0.08600971,  0.25771523, -0.18746056,\n",
      "        -0.17322293,  0.26191297, -0.03719682,  0.14200851,  0.02049567,\n",
      "         0.2792853 ,  0.20143025,  0.15967402, -0.05181997,  0.25165042,\n",
      "         0.22210358, -0.15693057,  0.22937407, -0.1605985 ,  0.16965106,\n",
      "         0.24344899,  0.26774278],\n",
      "       [-0.15623526, -0.00266112, -0.01150133, -0.11562572,  0.1842257 ,\n",
      "         0.2027039 ,  0.09363369, -0.00216504,  0.23399992, -0.00485901,\n",
      "         0.16881068,  0.30945972, -0.20346685,  0.26304036,  0.1940982 ,\n",
      "        -0.14494617, -0.26106763,  0.07631389,  0.17599615, -0.16195896,\n",
      "        -0.23508199, -0.2118377 ,  0.1490412 , -0.28710148,  0.23820122,\n",
      "         0.11381011, -0.23652598, -0.22302352, -0.01560425,  0.31016144,\n",
      "        -0.0758419 , -0.2264877 ,  0.04746254, -0.23466891,  0.19857123,\n",
      "        -0.0943984 ,  0.26169825, -0.29047984, -0.26908782, -0.14882413,\n",
      "        -0.22066696,  0.29394445, -0.2676946 ,  0.24476302,  0.21871497,\n",
      "        -0.12695113,  0.05569711,  0.15861839, -0.27284914,  0.05456895,\n",
      "        -0.0552939 , -0.04223704,  0.279217  , -0.06602374, -0.24379477,\n",
      "        -0.2832323 , -0.09864044]], dtype=float32)>, <tf.Variable 'dense/bias:0' shape=(57,) dtype=float32, numpy=\n",
      "array([ 0.04225421, -0.02239473, -0.00649379,  0.03950513, -0.01198505,\n",
      "        0.04494401, -0.01752072,  0.05439569, -0.02749313,  0.03520911,\n",
      "       -0.01072244, -0.00620962, -0.0328116 , -0.00720392, -0.03433596,\n",
      "       -0.03758223,  0.04765833,  0.05701159, -0.0263123 ,  0.04541864,\n",
      "        0.05409054, -0.01598763,  0.01052952,  0.03792028, -0.01431976,\n",
      "        0.04253161,  0.03390506,  0.04698292,  0.01601014, -0.04339004,\n",
      "       -0.00115469,  0.00929291,  0.03320858, -0.03969134,  0.04778805,\n",
      "        0.02194711,  0.05618739, -0.01029981,  0.04490842,  0.01312878,\n",
      "       -0.01371277, -0.00432397, -0.01883878, -0.02822326,  0.0285702 ,\n",
      "        0.02930042, -0.04842467, -0.02443253,  0.05256365, -0.04091287,\n",
      "        0.04439976,  0.01816983,  0.05226963, -0.03339085, -0.0427608 ,\n",
      "        0.05132819,  0.04901583], dtype=float32)>, <tf.Variable 'dense_1/kernel:0' shape=(57, 19) dtype=float32, numpy=\n",
      "array([[ 0.08095614, -0.24321592,  0.02019869, ..., -0.09192815,\n",
      "        -0.17485283, -0.0688465 ],\n",
      "       [ 0.13676433, -0.07584687,  0.28849322, ...,  0.14127238,\n",
      "         0.14323887,  0.00530348],\n",
      "       [ 0.05261286,  0.01701237, -0.08866318, ...,  0.017448  ,\n",
      "        -0.11849375,  0.22176415],\n",
      "       ...,\n",
      "       [-0.09507313,  0.21955568, -0.21503414, ..., -0.26661932,\n",
      "        -0.02746523, -0.21361096],\n",
      "       [-0.04689368, -0.1821802 ,  0.15648311, ...,  0.14830244,\n",
      "         0.07553518,  0.2967714 ],\n",
      "       [ 0.02609266,  0.24348706,  0.05263113, ...,  0.05405517,\n",
      "        -0.00847376,  0.28469345]], dtype=float32)>, <tf.Variable 'dense_1/bias:0' shape=(19,) dtype=float32, numpy=\n",
      "array([ 0.03981817, -0.01120376,  0.0253151 ,  0.06047994,  0.0449913 ,\n",
      "        0.04503028, -0.02028118,  0.00178179, -0.00962523,  0.04924427,\n",
      "       -0.03856279,  0.01473057,  0.05207117,  0.01430398, -0.03406469,\n",
      "        0.0375118 , -0.03324769,  0.0475715 ,  0.06035179], dtype=float32)>, <tf.Variable 'dense_2/kernel:0' shape=(19, 76) dtype=float32, numpy=\n",
      "array([[-0.19865711, -0.02432472, -0.19888224, ..., -0.2633567 ,\n",
      "         0.06456041, -0.0012854 ],\n",
      "       [-0.07561932, -0.09220655, -0.11579783, ..., -0.23158275,\n",
      "        -0.15839402,  0.11396141],\n",
      "       [-0.2430939 , -0.08041764, -0.14594233, ..., -0.1791773 ,\n",
      "         0.23670901, -0.0064513 ],\n",
      "       ...,\n",
      "       [ 0.15534762, -0.16211239, -0.2524731 , ..., -0.17167036,\n",
      "        -0.15603948,  0.09725168],\n",
      "       [ 0.11028735, -0.17405096, -0.19947946, ...,  0.126986  ,\n",
      "         0.29388437, -0.2077907 ],\n",
      "       [-0.08911074,  0.16669753, -0.2710783 , ..., -0.01453425,\n",
      "        -0.03572151, -0.15854684]], dtype=float32)>, <tf.Variable 'dense_2/bias:0' shape=(76,) dtype=float32, numpy=\n",
      "array([ 0.00175525,  0.04583897, -0.02269052, -0.04230305, -0.02859033,\n",
      "        0.02665957,  0.03996725,  0.03250262,  0.03693374,  0.00850705,\n",
      "       -0.02715998, -0.00505501,  0.02217026,  0.04920234,  0.04681995,\n",
      "        0.04614553, -0.01872419,  0.04054751, -0.0041185 , -0.03659982,\n",
      "        0.01595961, -0.02288947, -0.04012056,  0.03671717,  0.03484526,\n",
      "        0.0381373 ,  0.05138136,  0.03462634,  0.01914206,  0.03377   ,\n",
      "       -0.02201929,  0.03102307, -0.03206103, -0.00108906,  0.01279614,\n",
      "        0.04400555, -0.02350355, -0.00876838,  0.02646292,  0.02996769,\n",
      "        0.04119817, -0.00914793,  0.03993199,  0.02645074, -0.02624916,\n",
      "        0.04790743, -0.02610885,  0.04124187, -0.0303691 ,  0.0418656 ,\n",
      "       -0.00928127,  0.03678871,  0.00849548, -0.01161803, -0.02547446,\n",
      "       -0.03327308,  0.03583249,  0.02644332, -0.02748372, -0.00060452,\n",
      "        0.03719733,  0.02980796,  0.0432383 ,  0.0241861 ,  0.03933434,\n",
      "       -0.03627416, -0.01488775, -0.03285877,  0.03962609, -0.02537968,\n",
      "        0.03546824,  0.03199801,  0.0433173 , -0.01958367,  0.04199881,\n",
      "        0.02218019], dtype=float32)>, <tf.Variable 'dense_3/kernel:0' shape=(76, 19) dtype=float32, numpy=\n",
      "array([[ 0.06631214, -0.10958263,  0.13018587, ...,  0.24144058,\n",
      "         0.23301542, -0.16770451],\n",
      "       [ 0.01842663,  0.06875884, -0.16655783, ..., -0.11424217,\n",
      "         0.05629896,  0.28410375],\n",
      "       [-0.21739942, -0.00501663,  0.05400951, ...,  0.03671125,\n",
      "        -0.11835856,  0.08186377],\n",
      "       ...,\n",
      "       [ 0.2364008 , -0.02261991, -0.13842897, ..., -0.08669855,\n",
      "         0.1291193 ,  0.08944602],\n",
      "       [ 0.22238761,  0.09435046, -0.07149385, ...,  0.29841927,\n",
      "         0.23369345,  0.16345155],\n",
      "       [ 0.045933  , -0.01825343,  0.2425982 , ...,  0.03500475,\n",
      "        -0.01823445, -0.13621542]], dtype=float32)>, <tf.Variable 'dense_3/bias:0' shape=(19,) dtype=float32, numpy=\n",
      "array([-0.01333907, -0.03059211,  0.01586988, -0.04375456,  0.02099014,\n",
      "       -0.00209257, -0.03198254,  0.02767881, -0.04552246, -0.02317634,\n",
      "       -0.01285811, -0.03336857, -0.04219837,  0.02806216, -0.0322038 ,\n",
      "       -0.02403718,  0.04424812,  0.00557069,  0.03786505], dtype=float32)>, <tf.Variable 'dense_4/kernel:0' shape=(19, 19) dtype=float32, numpy=\n",
      "array([[ 0.34975666, -0.23467167, -0.24145652, -0.04840546, -0.29373455,\n",
      "         0.13143562, -0.24793477,  0.1979359 ,  0.37795776, -0.32144284,\n",
      "         0.23455873, -0.3484061 , -0.24832684,  0.2829907 ,  0.22096182,\n",
      "        -0.02777775, -0.24067792,  0.1604467 ,  0.29067767],\n",
      "       [-0.06102917,  0.36437434, -0.09937382,  0.35575724, -0.2185566 ,\n",
      "        -0.1431254 ,  0.15669286, -0.07623331, -0.06971309,  0.16530246,\n",
      "         0.00980304,  0.09573121, -0.3584296 , -0.15445574, -0.05074699,\n",
      "        -0.00064602, -0.05519027, -0.08301049, -0.2913273 ],\n",
      "       [ 0.1483681 ,  0.41061017,  0.4254551 , -0.2576708 ,  0.01230956,\n",
      "         0.02181308, -0.08818363,  0.36118177, -0.37342927, -0.26885268,\n",
      "         0.3558028 ,  0.05857576,  0.22359745, -0.3309011 , -0.26877686,\n",
      "         0.06799403, -0.0106319 ,  0.19090864,  0.13496976],\n",
      "       [-0.29105148,  0.06635658,  0.23394504, -0.20885798, -0.32078326,\n",
      "        -0.2562483 , -0.06270185,  0.02850929,  0.23195633,  0.25273985,\n",
      "         0.03219473,  0.2842439 ,  0.00303945,  0.34852558, -0.01731192,\n",
      "        -0.2506219 ,  0.09649546, -0.14317912,  0.03661947],\n",
      "       [ 0.23012146, -0.18787703, -0.17813236, -0.25541967,  0.06956447,\n",
      "        -0.0124061 , -0.0596844 ,  0.13223226, -0.06176949,  0.16304721,\n",
      "         0.00450194, -0.08752984, -0.41129395,  0.39328906,  0.03707472,\n",
      "        -0.04980553,  0.33596036,  0.43308225, -0.24274994],\n",
      "       [ 0.13154979,  0.16845706,  0.19216004, -0.04212625,  0.4070115 ,\n",
      "         0.14353764, -0.18075183,  0.16356508,  0.24420641,  0.14811952,\n",
      "        -0.02343338, -0.13711764,  0.01132615,  0.21250884,  0.2813954 ,\n",
      "        -0.07676943, -0.03822512, -0.12935556, -0.2681694 ],\n",
      "       [-0.40319514, -0.25080913,  0.38684395, -0.11052419, -0.19013752,\n",
      "        -0.09604421, -0.28807336,  0.22939402, -0.17084795, -0.2278911 ,\n",
      "         0.26821426,  0.22050634, -0.25721258,  0.31116855, -0.16818331,\n",
      "        -0.27087352, -0.2010187 , -0.08733433,  0.08763395],\n",
      "       [ 0.04036608, -0.15585108,  0.2830654 ,  0.0335947 ,  0.14846273,\n",
      "         0.37200794, -0.17773996,  0.05427155, -0.17058198,  0.01948743,\n",
      "         0.308217  ,  0.2648707 ,  0.29820436,  0.04108439,  0.22163513,\n",
      "         0.31322694,  0.1821856 , -0.14157294, -0.32677576],\n",
      "       [ 0.36143303,  0.11493621,  0.1736129 , -0.3202194 ,  0.0504036 ,\n",
      "        -0.2506061 , -0.28575456,  0.25334257,  0.0771145 ,  0.41665158,\n",
      "        -0.10852558, -0.14793469,  0.03416789,  0.32555392, -0.04444329,\n",
      "         0.06073972, -0.16622108, -0.16340615,  0.05498209],\n",
      "       [-0.22320709, -0.2894447 ,  0.23041028,  0.04217262, -0.14580022,\n",
      "         0.16972965,  0.3416561 , -0.2808645 , -0.17795078,  0.03095259,\n",
      "        -0.3023841 ,  0.23684666,  0.2307607 , -0.10471047,  0.37837496,\n",
      "        -0.3001676 , -0.11977525, -0.19399771,  0.32843304],\n",
      "       [ 0.36412096,  0.1574388 , -0.21770306,  0.18814017,  0.09098316,\n",
      "        -0.00200852,  0.2429941 ,  0.283155  ,  0.35387284, -0.13330626,\n",
      "        -0.01601386,  0.0950628 , -0.36282346, -0.3332505 , -0.13205431,\n",
      "         0.27696407, -0.05915423,  0.04366319, -0.1282238 ],\n",
      "       [ 0.3734731 , -0.00912213, -0.17928904,  0.3541074 , -0.349119  ,\n",
      "        -0.18790625,  0.22766447, -0.13668151, -0.11903791, -0.21909519,\n",
      "         0.41959435,  0.07750176, -0.27426058,  0.09952367, -0.27546734,\n",
      "         0.05392034, -0.19311595, -0.33335876,  0.40313315],\n",
      "       [ 0.3784654 ,  0.08784612, -0.30512634, -0.20948152, -0.02212762,\n",
      "        -0.17271528, -0.06739293, -0.4010358 ,  0.19698846, -0.26518002,\n",
      "        -0.3408218 , -0.21403645, -0.02810688,  0.14466979, -0.02425653,\n",
      "         0.20515873,  0.3183514 ,  0.34286934, -0.09964593],\n",
      "       [-0.14926182, -0.3029972 , -0.35368052,  0.15161477,  0.12115067,\n",
      "         0.17276886,  0.3412641 ,  0.02835771, -0.02353169, -0.33697763,\n",
      "        -0.29813924,  0.10134144,  0.36473733,  0.00572651, -0.07486854,\n",
      "        -0.10106135, -0.00106302,  0.04511177,  0.31299487],\n",
      "       [-0.20949022,  0.44536826,  0.23427938,  0.00844422,  0.1451742 ,\n",
      "        -0.18249698, -0.34282637,  0.15489368,  0.35006207,  0.23681289,\n",
      "         0.25244752,  0.2419156 , -0.08222112,  0.23421739, -0.06873135,\n",
      "        -0.14060391,  0.27301982, -0.2869613 ,  0.01649153],\n",
      "       [-0.03981749,  0.06861273,  0.31639782,  0.2907585 ,  0.20967865,\n",
      "         0.00096273, -0.09120355,  0.22554645,  0.00044644,  0.1967681 ,\n",
      "         0.27356103, -0.37958565, -0.33966973, -0.26774642, -0.02339245,\n",
      "        -0.0716299 , -0.2966919 , -0.2483371 , -0.31957847],\n",
      "       [ 0.29196608,  0.08413125,  0.17740737,  0.42970482,  0.16694345,\n",
      "         0.2941915 ,  0.19676459, -0.167995  ,  0.21636179,  0.3941848 ,\n",
      "         0.11239626,  0.2534503 ,  0.35765725,  0.22192791, -0.07301943,\n",
      "        -0.10800732,  0.03257917, -0.05271941,  0.3943542 ],\n",
      "       [-0.06987621,  0.16338456,  0.28433388,  0.15920793,  0.18850906,\n",
      "        -0.29450607,  0.35772565, -0.4025021 ,  0.23547333,  0.15338385,\n",
      "        -0.17503348,  0.26545087,  0.1231168 , -0.32392803,  0.35029337,\n",
      "         0.23060323,  0.16624118,  0.01086526,  0.08978281],\n",
      "       [-0.27369955,  0.41531423,  0.04456416,  0.10922069, -0.02935828,\n",
      "        -0.10037684,  0.13726689,  0.19705974,  0.0972181 ,  0.41664445,\n",
      "         0.05297646, -0.00992222,  0.23028862,  0.22245465,  0.21646538,\n",
      "         0.37009397,  0.23766117,  0.2408493 ,  0.06018807]],\n",
      "      dtype=float32)>, <tf.Variable 'dense_4/bias:0' shape=(19,) dtype=float32, numpy=\n",
      "array([-0.01762267,  0.05858413,  0.02892362,  0.04821705,  0.04914865,\n",
      "        0.06327809,  0.04952086, -0.01879831, -0.01600667,  0.03941161,\n",
      "        0.05677723, -0.00246802, -0.01651838,  0.04889528,  0.03362513,\n",
      "        0.02091673,  0.0191801 ,  0.05961402,  0.05558451], dtype=float32)>]\n"
     ]
    }
   ],
   "source": [
    "print(model.trainable_weights)"
   ]
  }
 ],
 "metadata": {
  "kernelspec": {
   "display_name": "Python 3 (ipykernel)",
   "language": "python",
   "name": "python3"
  },
  "language_info": {
   "codemirror_mode": {
    "name": "ipython",
    "version": 3
   },
   "file_extension": ".py",
   "mimetype": "text/x-python",
   "name": "python",
   "nbconvert_exporter": "python",
   "pygments_lexer": "ipython3",
   "version": "3.8.10"
  }
 },
 "nbformat": 4,
 "nbformat_minor": 5
}
