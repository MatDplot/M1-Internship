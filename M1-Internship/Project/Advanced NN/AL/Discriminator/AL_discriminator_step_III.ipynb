{
 "cells": [
  {
   "cell_type": "markdown",
   "id": "c3f38a5f",
   "metadata": {},
   "source": [
    "# Setup"
   ]
  },
  {
   "cell_type": "code",
   "execution_count": 1,
   "id": "49305665",
   "metadata": {},
   "outputs": [
    {
     "name": "stderr",
     "output_type": "stream",
     "text": [
      "2022-06-13 10:42:44.217619: W tensorflow/stream_executor/platform/default/dso_loader.cc:64] Could not load dynamic library 'libcudart.so.11.0'; dlerror: libcudart.so.11.0: cannot open shared object file: No such file or directory\n",
      "2022-06-13 10:42:44.217646: I tensorflow/stream_executor/cuda/cudart_stub.cc:29] Ignore above cudart dlerror if you do not have a GPU set up on your machine.\n"
     ]
    }
   ],
   "source": [
    "import numpy as np\n",
    "import tensorflow as tf\n",
    "from tensorflow import keras\n",
    "from tensorflow.keras import layers\n",
    "import tensorflow_probability as tfp\n",
    "import matplotlib.pyplot as plt\n",
    "import random as rd\n",
    "import os\n",
    "from tqdm import tqdm\n",
    "import tensorflow_addons as tfa\n",
    "import pandas as pd\n",
    "import matplotlib.gridspec as gridspec\n",
    "from matplotlib.colorbar import Colorbar\n",
    "\n",
    "\n",
    "plt.style.use(['science','ieee'])\n",
    "\n",
    "os.chdir('/home/mathis/Stage M1/')"
   ]
  },
  {
   "cell_type": "markdown",
   "id": "8e73bed5",
   "metadata": {},
   "source": [
    "# Oracle"
   ]
  },
  {
   "cell_type": "code",
   "execution_count": 2,
   "id": "63516bc9",
   "metadata": {},
   "outputs": [],
   "source": [
    "#GeV [min,max]\n",
    "\n",
    "M1_range = M2_range = M3_range = [50, 5000]\n",
    "mA_range = [50, 5000]\n",
    "tanB_range = [2, 60]\n",
    "mu_range = [-10**4, 10**4]\n",
    "At_range = Ab_range = Atau_range = [-10**4, 10**4]\n",
    "Mq1L_range = Mq3L_range = [50, 5000]\n",
    "MuR_range = MdR_range = MtR_range = MbR_range = [50, 5000]\n",
    "MeL_range = MtauL_range = MeR_range = MtauR_range = [50, 5000]\n",
    "\n",
    "PMSSM_range_big= [M1_range, M2_range, M3_range, mA_range, tanB_range, mu_range, At_range, Ab_range, \n",
    "              Atau_range, Mq1L_range, Mq3L_range, MuR_range, MdR_range, MtR_range, MbR_range,\n",
    "             MeL_range, MtauL_range, MeR_range, MtauR_range]\n",
    "\n",
    "PMSSM_min = np.array([i[0] for i in PMSSM_range_big])\n",
    "PMSSM_max = np.array([i[1] for i in PMSSM_range_big])\n",
    "\n",
    "PMSSM_sub = np.subtract(PMSSM_max, PMSSM_min)\n",
    "\n",
    "PMSSM_range = [PMSSM_min,PMSSM_max,PMSSM_sub]"
   ]
  },
  {
   "cell_type": "code",
   "execution_count": 3,
   "id": "bd866885",
   "metadata": {},
   "outputs": [],
   "source": [
    "def write_slha(PMSSM_NN, nom_slha):\n",
    "    f = open(nom_slha, \"w\")\n",
    "    \n",
    "    f.write(\"BLOCK MODSEL \\n\")\n",
    "    f.write(\" 1    0              #MSSM \\n\")\n",
    "    \n",
    "    f.write(\"BLOCK SMINPUTS \\n\")\n",
    "    f.write(\"  1   1.279340000e+02     # alpha^(-1) SM MSbar(M1) \\n\")\n",
    "    f.write(\"  2   1.663700000e-05     # G_Fermi \\n\")\n",
    "    f.write(\"  3   0.1179              # alphas(MS) SM MSbar \\n\")\n",
    "    f.write(\"  4   91.1876             # MZ(pole) \\n\")\n",
    "    f.write(\"  5   4.18                # mb(mb) SM MSbar \\n\")\n",
    "    f.write(\"  6   172.9               # mtop(pole) \\n\")\n",
    "    f.write(\"  7   1.776860000e+00     #m mtau(pole) \\n\")\n",
    "    \n",
    "    f.write(\"BLOCK MINPAR \\n\")\n",
    "    f.write(\"  3   \"+str(PMSSM_NN[4])+\"   #tanb \\n\")\n",
    "    \n",
    "    f.write(\"BLOCK VCKMIN   #CKM param (Wolfenstein) \\n\")\n",
    "    f.write(\"  1   0.22650  #lambda \\n\")\n",
    "    f.write(\"  2   0.790    #A \\n\")\n",
    "    f.write(\"  3   0.141    #rho \\n\")\n",
    "    f.write(\"  4   0.357    #eta \\n\")\n",
    "    \n",
    "    f.write(\"BLOCK EXTPAR \\n\")\n",
    "    f.write(\"  0   \"+str(-1.0)+\"               # Q \\n\")\n",
    "    f.write(\"  1   \"+str(PMSSM_NN[0])+\"        # M1 \\n\")\n",
    "    f.write(\"  2   \"+str(PMSSM_NN[1])+\"        # M2 \\n\")\n",
    "    f.write(\"  3   \"+str(PMSSM_NN[2])+\"        # M3 \\n\")\n",
    "    f.write(\"  11   \"+str(PMSSM_NN[6])+\"       # At \\n\")\n",
    "    f.write(\"  12   \"+str(PMSSM_NN[7])+\"       # Ab \\n\")\n",
    "    f.write(\"  13   \"+str(PMSSM_NN[8])+\"       # Atau \\n\")\n",
    "    f.write(\"  23   \"+str(PMSSM_NN[5])+\"       # Mu \\n\")\n",
    "    f.write(\"  26   \"+str(PMSSM_NN[3])+\"       # Ma \\n\")\n",
    "    f.write(\"  31   \"+str(PMSSM_NN[15])+\"      # MeL \\n\")\n",
    "    f.write(\"  32   \"+str(PMSSM_NN[15])+\"      # MmuL \\n\")\n",
    "    f.write(\"  33   \"+str(PMSSM_NN[16])+\"      # MstauL \\n\")\n",
    "    f.write(\"  34   \"+str(PMSSM_NN[17])+\"      # MeR \\n\")\n",
    "    f.write(\"  35   \"+str(PMSSM_NN[17])+\"      # MmuR \\n\")\n",
    "    f.write(\"  36   \"+str(PMSSM_NN[18])+\"      # MstauR \\n\")\n",
    "    f.write(\"  41   \"+str(PMSSM_NN[9])+\"       # Mq1L \\n\")\n",
    "    f.write(\"  42   \"+str(PMSSM_NN[9])+\"       # Mq2L \\n\")\n",
    "    f.write(\"  43   \"+str(PMSSM_NN[10])+\"      # Mq3L \\n\")\n",
    "    f.write(\"  44   \"+str(PMSSM_NN[11])+\"      # MquR \\n\")\n",
    "    f.write(\"  45   \"+str(PMSSM_NN[11])+\"      # MqcR \\n\")\n",
    "    f.write(\"  46   \"+str(PMSSM_NN[13])+\"      # MqtR \\n\")\n",
    "    f.write(\"  47   \"+str(PMSSM_NN[12])+\"      # MqdR \\n\")\n",
    "    f.write(\"  48   \"+str(PMSSM_NN[12])+\"      # MqsR \\n\")\n",
    "    f.write(\"  49   \"+str(PMSSM_NN[14])+\"      # MqbR \\n\")\n",
    "    \n",
    "    f.close()"
   ]
  },
  {
   "cell_type": "code",
   "execution_count": 4,
   "id": "46ebbf42",
   "metadata": {},
   "outputs": [],
   "source": [
    "def Oracle(logits, PMSSM_range, ratio, succes_path):\n",
    "    \n",
    "    PMSSM_AL = np.add(np.multiply(logits,PMSSM_range[2]),PMSSM_range[0])\n",
    "    \n",
    "    write_slha(PMSSM_AL, \"Advanced NN/AL/pmssm_al.in\")    \n",
    "    \n",
    "    os.system('./SUSY/softsusy-4.1.9/softpoint.x leshouches < Advanced\\ NN/AL/pmssm_al.in > Advanced\\ NN/AL/pmssm_al.out')\n",
    "            \n",
    "          \n",
    "    if os.path.getsize('/home/mathis/Stage M1/Advanced NN/AL/pmssm_al.out') == 0 :\n",
    "        ratio[0]+=1\n",
    "        return 0\n",
    "        \n",
    "    with open('Advanced NN/AL/pmssm_al.out') as slha_out:\n",
    "        content = slha_out.read()\n",
    "        if 'SOFTSUSY problem' in content:\n",
    "            ratio[0]+=1\n",
    "            return 0\n",
    "        if 'LSP # Warning' in content:\n",
    "            ratio[0]+=1\n",
    "            return 0\n",
    "    \n",
    "    \n",
    "    \n",
    "    ratio[1]+=1\n",
    "    commande = 'mv Advanced\\ NN/AL/pmssm_al.out '\n",
    "    nom_fichier = 'pmssm_al_succes_'+str(ratio[1])+'.out'\n",
    "    os.system(commande+succes_path+nom_fichier)\n",
    "    return 1   "
   ]
  },
  {
   "cell_type": "markdown",
   "id": "f6553a13",
   "metadata": {},
   "source": [
    "# Model"
   ]
  },
  {
   "cell_type": "code",
   "execution_count": 5,
   "id": "7be63031",
   "metadata": {},
   "outputs": [
    {
     "name": "stdout",
     "output_type": "stream",
     "text": [
      "WARNING:tensorflow:No training configuration found in the save file, so the model was *not* compiled. Compile it manually.\n",
      "Model: \"model\"\n",
      "_________________________________________________________________\n",
      " Layer (type)                Output Shape              Param #   \n",
      "=================================================================\n",
      " input_1 (InputLayer)        [(None, 19)]              0         \n",
      "                                                                 \n",
      " dense (Dense)               (None, 100)               2000      \n",
      "                                                                 \n",
      " dense_1 (Dense)             (None, 100)               10100     \n",
      "                                                                 \n",
      " dense_2 (Dense)             (None, 1)                 101       \n",
      "                                                                 \n",
      "=================================================================\n",
      "Total params: 12,201\n",
      "Trainable params: 12,201\n",
      "Non-trainable params: 0\n",
      "_________________________________________________________________\n"
     ]
    },
    {
     "name": "stderr",
     "output_type": "stream",
     "text": [
      "2022-06-13 10:42:47.452362: W tensorflow/stream_executor/platform/default/dso_loader.cc:64] Could not load dynamic library 'libcuda.so.1'; dlerror: libcuda.so.1: cannot open shared object file: No such file or directory\n",
      "2022-06-13 10:42:47.452395: W tensorflow/stream_executor/cuda/cuda_driver.cc:269] failed call to cuInit: UNKNOWN ERROR (303)\n",
      "2022-06-13 10:42:47.452418: I tensorflow/stream_executor/cuda/cuda_diagnostics.cc:156] kernel driver does not appear to be running on this host (MPC): /proc/driver/nvidia/version does not exist\n",
      "2022-06-13 10:42:47.452627: I tensorflow/core/platform/cpu_feature_guard.cc:151] This TensorFlow binary is optimized with oneAPI Deep Neural Network Library (oneDNN) to use the following CPU instructions in performance-critical operations:  AVX2 FMA\n",
      "To enable them in other operations, rebuild TensorFlow with the appropriate compiler flags.\n"
     ]
    }
   ],
   "source": [
    "path = 'Advanced NN/AL/AL_run/'\n",
    "folder_r = '2022-06-08-08:57:07_II'\n",
    "\n",
    "model = tf.keras.models.load_model(path+folder_r+'/model_II.h5')\n",
    "model.summary()\n",
    "\n",
    "lr = 1e-3\n",
    "\n",
    "optimizer = tf.keras.optimizers.Adam(learning_rate=lr)\n",
    "\n",
    "\n",
    "loss_fn = tf.keras.losses.BinaryCrossentropy(from_logits=False, reduction='sum_over_batch_size')\n",
    "#False pour une probabilité ie [0;1]"
   ]
  },
  {
   "cell_type": "markdown",
   "id": "23df54be",
   "metadata": {},
   "source": [
    "# Initial training"
   ]
  },
  {
   "cell_type": "code",
   "execution_count": 6,
   "id": "24227af5",
   "metadata": {},
   "outputs": [
    {
     "name": "stdout",
     "output_type": "stream",
     "text": [
      "Step 1 / 1\n",
      "   Verite\n"
     ]
    },
    {
     "name": "stderr",
     "output_type": "stream",
     "text": [
      "100%|█████████████████████████████████████████| 100/100 [00:09<00:00, 10.17it/s]"
     ]
    },
    {
     "name": "stdout",
     "output_type": "stream",
     "text": [
      "   Optimisation\n",
      "Nombre d'échecs: 90\n",
      "Nombre de succes: 10\n"
     ]
    },
    {
     "name": "stderr",
     "output_type": "stream",
     "text": [
      "\n"
     ]
    }
   ],
   "source": [
    "os.system('rm -r Advanced\\ NN/AL/softsusy_succes_IT/')\n",
    "os.system('mkdir -p Advanced\\ NN/AL/softsusy_succes_IT')\n",
    "succes_path_IT = 'Advanced\\ NN/AL/softsusy_succes_IT/'\n",
    "\n",
    "ratio_IT = [0,0]\n",
    "\n",
    "L_size = 500000\n",
    "K_size = 100\n",
    "train_step = 1\n",
    "\n",
    "a = 0.0001\n",
    "alpha = 0.5\n",
    "\n",
    "K_pool = []\n",
    "K_pred = []\n",
    "\n",
    "compteur = 0\n",
    "full_train = 0\n",
    "\n",
    "q = 1\n",
    "\n",
    "for step , i in enumerate(range(train_step)):\n",
    "    print('Step {} / {}'.format(i+1,train_step))\n",
    "    \n",
    "    p = 2*min(q,0.5)\n",
    "    p = round(p,1)\n",
    "    \n",
    "    if p == 1:\n",
    "        K = [[rd.uniform(0,1) for j in range(19)] for k in range(K_size)]\n",
    "    \n",
    "    if p < 1:\n",
    "        print('   Recherche points')\n",
    "        pK_size = int(K_size*p)\n",
    "        pm1 = round((1-p),1)\n",
    "        \n",
    "        pK = [[rd.uniform(0,1) for j in range(19)] for k in range(pK_size)]\n",
    "        \n",
    "        L = [[rd.uniform(0,1) for j in range(19)] for k in range(L_size)]\n",
    "        L = tf.convert_to_tensor(L)\n",
    "        L_logits = model(tf.convert_to_tensor(L))\n",
    "\n",
    "        s = tf.math.multiply(L_logits,tf.math.subtract(1,L_logits))\n",
    "        index = tf.math.argmax(s, axis=0).numpy()[0]\n",
    "\n",
    "        K = []\n",
    "        K.append(L[index].numpy().tolist())\n",
    "        s = tf.concat([s[0:index], s[index+1:len(s)]],0)\n",
    "        L = tf.concat([L[0:index], L[index+1:len(L)]],0)\n",
    "\n",
    "\n",
    "        rj_tensor = tf.zeros([len(s),1])\n",
    "        for j in range(int(pm1*K_size)-1):\n",
    "\n",
    "            ri = tf.convert_to_tensor(K[-1])\n",
    "            ri = tf.math.multiply(tf.ones([len(s),1]),ri)\n",
    "\n",
    "            dabs = tf.math.abs(tf.math.subtract(ri,L))\n",
    "            dsquared = tf.math.multiply(dabs, dabs)\n",
    "            dsquared = tf.reduce_mean(dsquared, axis=1)\n",
    "\n",
    "            rj_list = dsquared.numpy()\n",
    "            rj_list = np.where(rj_list<0.01**2, -a/(a+rj_list), rj_list*0)\n",
    "            rj_min = np.amin(rj_list)\n",
    "\n",
    "            rj_list = tf.convert_to_tensor([rj_list])\n",
    "            rj_list = tf.transpose(rj_list)\n",
    "            rj_tensor = tf.math.add(rj_tensor,rj_list)\n",
    "\n",
    "            sigma = s.numpy().std() \n",
    "\n",
    "            S_part1 = tf.math.multiply((1-alpha),s)\n",
    "            S_part2 = tf.math.multiply((alpha*sigma/(4*rj_min)),rj_tensor)\n",
    "            S = tf.math.add(S_part1 , S_part2)\n",
    "\n",
    "            index2 = tf.math.argmax(S, axis=0).numpy()[0]\n",
    "\n",
    "            K.append(L[index2].numpy().tolist())\n",
    "\n",
    "            s = tf.concat([s[0:index2], s[index2+1:len(s)]],0)\n",
    "            L = tf.concat([L[0:index2], L[index2+1:len(L)]],0)\n",
    "            rj_tensor = tf.concat([rj_tensor[0:index2], rj_tensor[index2+1:len(rj_tensor)]],0)\n",
    "        \n",
    "        K = K + pK\n",
    "        \n",
    "    assert len(K) == K_size\n",
    "    K_pool.append(K)\n",
    "    \n",
    "    pred_liste = []\n",
    "    print('   Verite')\n",
    "    for j in tqdm(K):\n",
    "        pred = Oracle(j, PMSSM_range, ratio_IT, succes_path_IT)\n",
    "        pred_liste.append(pred)\n",
    "    \n",
    "    assert len(pred_liste) == K_size\n",
    "    K_pred.append(pred_liste)     \n",
    "    \n",
    "    batch_pred = [K_pred[-1]]\n",
    "    all_batch = [K_pool[-1]]\n",
    "    '''\n",
    "    if compteur == full_train:\n",
    "        compteur = 0\n",
    "        all_batch = K_pool\n",
    "        batch_pred = K_pred\n",
    "    '''\n",
    "    \n",
    "    print('   Optimisation')\n",
    "    for j in range(len(all_batch)): \n",
    "        with tf.GradientTape() as tape:\n",
    "            logits = model(tf.convert_to_tensor(all_batch[j]))\n",
    "\n",
    "            true = tf.convert_to_tensor([batch_pred[j]])\n",
    "            true = tf.transpose(true)\n",
    "            \n",
    "            true_prime = tf.cast(true, dtype=tf.float32)\n",
    "            q = tf.math.abs(tf.math.subtract(true_prime,logits))\n",
    "            q = tf.reduce_mean(q, axis=0)\n",
    "            q = round(q.numpy()[0],1)\n",
    "            \n",
    "            loss = loss_fn(true,logits)\n",
    "\n",
    "        gradients = tape.gradient(loss, model.trainable_weights)\n",
    "        optimizer.apply_gradients(zip(gradients, model.trainable_weights))\n",
    "    \n",
    "    compteur += 1\n",
    "    \n",
    "    \n",
    "print(\"Nombre d'échecs:\",ratio_IT[0])\n",
    "print(\"Nombre de succes:\",ratio_IT[1])"
   ]
  },
  {
   "cell_type": "markdown",
   "id": "5935970d",
   "metadata": {},
   "source": [
    "# Récupération data"
   ]
  },
  {
   "cell_type": "code",
   "execution_count": 7,
   "id": "94816a95",
   "metadata": {},
   "outputs": [],
   "source": [
    "def recuperation_slha(folder,filename,sus_mass,param,succes):\n",
    "    warning = 0\n",
    "    for j in range(succes):\n",
    "        file_name =folder+filename+str(j+1)+'.out' \n",
    "        \n",
    "        with open(file_name) as file:\n",
    "            for indice, ligne in enumerate(file):\n",
    "                if 'tanb' in ligne:\n",
    "                    indice_tanb = indice\n",
    "                \n",
    "                if 'M_1(MX)' in ligne:\n",
    "                    indices_M = [indice+i for i in range(3)]\n",
    "                if 'At(MX)' in ligne:\n",
    "                    indices_A = [indice+i for i in range(3)]\n",
    "                if 'mu(MX)' in ligne:\n",
    "                    indice_mu = indice\n",
    "                if 'mA(pole)' in ligne:\n",
    "                    indice_mA = indice\n",
    "                if 'meL(MX)' in ligne:\n",
    "                    indices_mlL = [indice+i for i in range(3)]\n",
    "                if 'meR(MX)' in ligne:\n",
    "                    indices_mlR = [indice+i for i in range(3)]\n",
    "                if 'mqL1(MX)' in ligne:\n",
    "                    indices_qL = [indice+i for i in range(3)]\n",
    "                if 'muR(MX)' in ligne:\n",
    "                    indices_q = [indice+i for i in range(6)]\n",
    "                    \n",
    "                if 'h0' in ligne:\n",
    "                    indices_higgs = [indice+i for i in range(2)]\n",
    "                if '~g' in ligne:\n",
    "                    indice_g = indice\n",
    "                if '~neutralino(1)' in ligne:\n",
    "                    indices_neutralino = [indice,indice+1,indice+3,indice+4]\n",
    "                if '~d_L' in ligne:\n",
    "                    indices_squarkL = [indice+i for i in range(6)]\n",
    "                if '~d_R' in ligne:\n",
    "                    indices_squarkR = [indice+i for i in range(6)]\n",
    "                if '~chargino(1)' in ligne:\n",
    "                    indices_chargino = [indice,indice+3]\n",
    "        \n",
    "        \n",
    "        file = open(file_name)\n",
    "        lignes = file.readlines()\n",
    "        \n",
    "        for step, i in enumerate(param[0]):\n",
    "            i.append(float(lignes[indices_M[step]].split()[1]))\n",
    "\n",
    "        for step, i in enumerate(param[1]):\n",
    "            i.append(float(lignes[indices_A[step]].split()[1]))  \n",
    "            \n",
    "        param[2].append(float(lignes[indice_mu].split()[1]))\n",
    "        \n",
    "        param[3].append(float(lignes[indice_mA].split()[1]))\n",
    "        \n",
    "        for step, i in enumerate(param[4]):\n",
    "            i.append(float(lignes[indices_mlL[step]].split()[1]))\n",
    "            \n",
    "        for step, i in enumerate(param[5]):\n",
    "            i.append(float(lignes[indices_mlR[step]].split()[1]))\n",
    "            \n",
    "        for step, i in enumerate(param[6]):\n",
    "            i.append(float(lignes[indices_qL[step]].split()[1]))\n",
    "        \n",
    "        for step, i in enumerate(param[7]):\n",
    "            i.append(float(lignes[indices_q[step]].split()[1]))\n",
    "            \n",
    "        param[8].append(float(lignes[indice_tanb].split()[1]))\n",
    "            \n",
    "        \n",
    "        sus_mass[0].append(float(lignes[indice_g].split()[1]))\n",
    "        \n",
    "        for step, i in enumerate(sus_mass[1]):\n",
    "            i.append(float(lignes[indices_neutralino[step]].split()[1]))\n",
    "            \n",
    "        for step, i in enumerate(sus_mass[2]):\n",
    "            i.append(float(lignes[indices_squarkL[step]].split()[1]))\n",
    "\n",
    "        for step, i in enumerate(sus_mass[3]):\n",
    "            i.append(float(lignes[indices_squarkR[step]].split()[1]))\n",
    "        \n",
    "        for step, i in enumerate(sus_mass[4]):\n",
    "            i.append(float(lignes[indices_higgs[step]].split()[1]))\n",
    "\n",
    "        for step, i in enumerate(sus_mass[5]):\n",
    "            i.append(float(lignes[indices_chargino[step]].split()[1]))        \n",
    "    \n",
    "    \n",
    "        with open(file_name) as file:\n",
    "            if 'LSP # Warning' in file.read():\n",
    "                warning+=1\n",
    "    return warning"
   ]
  },
  {
   "cell_type": "code",
   "execution_count": 8,
   "id": "add38be6",
   "metadata": {},
   "outputs": [
    {
     "name": "stdout",
     "output_type": "stream",
     "text": [
      "Nombre warning: 0\n"
     ]
    }
   ],
   "source": [
    "g_mass = []\n",
    "neutralino_mass = [[] for i in range(4)]   #[N1 , N2 , N3 , N4]\n",
    "squarkL_mass = [[] for i in range(6)]      #[d , u , s , c , b , t]\n",
    "squarkR_mass = [[] for i in range(6)]       \n",
    "higgs_mass = [[] for i in range(2)]        #[h0 , H0]\n",
    "chargino_mass = [[] for i in range(2)]     #[neutralino1 , neutralino2]\n",
    "\n",
    "M_param = [[] for i in range(3)]           #[M1 , M2 , M3]\n",
    "A_param = [[] for i in range(3)]           #[At , Ab , Atau]\n",
    "mu = []\n",
    "mA_param = []\n",
    "mlL_param = [[] for i in range(3)]         #[meL , mmuL , mtauL]\n",
    "mlR_param = [[] for i in range(3)]         #[meR , mmuR , mtauR]\n",
    "mqL_param = [[] for i in range(3)]         #[mqL1 , mqL2 , mqL3]\n",
    "quark_param = [[] for i in range(6)]       #[u , c , t , d , s , b]\n",
    "tanB = []\n",
    "\n",
    "sus_mass = [g_mass,neutralino_mass,squarkL_mass,squarkR_mass,higgs_mass,chargino_mass]\n",
    "param = [M_param,A_param,mu,mA_param,mlL_param,mlR_param,mqL_param,quark_param,tanB]\n",
    "\n",
    "folder = 'Advanced NN/AL/softsusy_succes_IT/'\n",
    "file_name = 'pmssm_al_succes_'\n",
    "warning = recuperation_slha(folder,file_name,sus_mass,param,ratio_IT[1])\n",
    "\n",
    "print('Nombre warning:',warning)"
   ]
  },
  {
   "cell_type": "markdown",
   "id": "6fdd25eb",
   "metadata": {},
   "source": [
    "# Sauvegarde Run"
   ]
  },
  {
   "cell_type": "code",
   "execution_count": 9,
   "id": "0c4a27ca",
   "metadata": {},
   "outputs": [
    {
     "name": "stdout",
     "output_type": "stream",
     "text": [
      "WARNING:tensorflow:Compiled the loaded model, but the compiled metrics have yet to be built. `model.compile_metrics` will be empty until you train or evaluate the model.\n"
     ]
    },
    {
     "name": "stderr",
     "output_type": "stream",
     "text": [
      "mv: 'Advanced NN/AL/AL_run/2022-06-08-08:57:07_III/data_tot.csv' et 'Advanced NN/AL/AL_run/2022-06-08-08:57:07_III/data_tot.csv' identifient le même fichier\n",
      "mv: 'Advanced NN/AL/AL_run/2022-06-08-08:57:07_III/K_pool_tot.csv' et 'Advanced NN/AL/AL_run/2022-06-08-08:57:07_III/K_pool_tot.csv' identifient le même fichier\n"
     ]
    }
   ],
   "source": [
    "from datetime import date, datetime\n",
    "\n",
    "folder_name = folder_r + 'I'\n",
    "commande = 'mkdir -p Advanced\\ NN/AL/AL_run/'+folder_name\n",
    "os.system(commande)\n",
    "\n",
    "with open('Advanced NN/AL/AL_run/'+folder_name+'/config_III.txt', 'w') as f:\n",
    "    f.write('Suite entrainement run '+folder_r+'\\n \\n')\n",
    "    f.write('L: '+str(L_size)+'\\n')\n",
    "    f.write('K: '+str(K_size)+'\\n')\n",
    "    f.write('alpha: '+str(alpha)+'\\n')\n",
    "    f.write('a: '+str(a)+'\\n')\n",
    "    f.write('train steps: '+str(train_step)+'\\n')\n",
    "    f.write(\"Nombre d'échecs: \"+str(ratio_IT[0])+'\\n')\n",
    "    f.write(\"Nombre de succes: \"+str(ratio_IT[1])+'\\n')\n",
    "    f.write(\"Nombre Warning LSP: \"+str(warning)+'\\n')\n",
    "    f.write('\\n')\n",
    "    model.summary(print_fn=lambda x: f.write(x + '\\n'))\n",
    "    f.write('\\n')\n",
    "    f.write('\\n')\n",
    "    f.write('Range:')\n",
    "    f.write('M1: '+str(PMSSM_range_big[0])+'\\n')\n",
    "    f.write('M2: '+str(PMSSM_range_big[1])+'\\n')\n",
    "    f.write('M3: '+str(PMSSM_range_big[2])+'\\n')\n",
    "    f.write('mA: '+str(PMSSM_range_big[3])+'\\n')\n",
    "    f.write('tanB: '+str(PMSSM_range_big[4])+'\\n')\n",
    "    f.write('mu: '+str(PMSSM_range_big[5])+'\\n')\n",
    "    f.write('At: '+str(PMSSM_range_big[6])+'\\n')\n",
    "    f.write('Ab: '+str(PMSSM_range_big[7])+'\\n')\n",
    "    f.write('Atau: '+str(PMSSM_range_big[8])+'\\n')\n",
    "    f.write('Mq1L: '+str(PMSSM_range_big[9])+'\\n')\n",
    "    f.write('Mq3L: '+str(PMSSM_range_big[10])+'\\n')\n",
    "    f.write('MuR: '+str(PMSSM_range_big[11])+'\\n')\n",
    "    f.write('dR: '+str(PMSSM_range_big[12])+'\\n')\n",
    "    f.write('MtR: '+str(PMSSM_range_big[13])+'\\n')\n",
    "    f.write('MbR: '+str(PMSSM_range_big[14])+'\\n')\n",
    "    f.write('MeL: '+str(PMSSM_range_big[15])+'\\n')\n",
    "    f.write('MtauL: '+str(PMSSM_range_big[16])+'\\n')\n",
    "    f.write('MeR: '+str(PMSSM_range_big[17])+'\\n')\n",
    "    f.write('MtauR: '+str(PMSSM_range_big[18])+'\\n')\n",
    "    \n",
    "\n",
    "model.save('Advanced NN/AL/AL_run/'+folder_name+'/model_III.h5')\n",
    "    \n",
    "param_file = zip(M_param[0],M_param[1],M_param[2],A_param[0],A_param[1],A_param[2],mu,mA_param,\n",
    "                 mlL_param[0],mlL_param[1],mlL_param[2],mlR_param[0],mlR_param[2],mlR_param[2],\n",
    "                 mqL_param[0],mqL_param[1],mqL_param[2],quark_param[0],quark_param[1],quark_param[2],\n",
    "                 quark_param[3],quark_param[4],quark_param[5],tanB)\n",
    "\n",
    "param_file_c = zip(M_param[0],M_param[1],M_param[2],A_param[0],A_param[1],A_param[2],mu,mA_param,\n",
    "                 mlL_param[0],mlL_param[1],mlL_param[2],mlR_param[0],mlR_param[2],mlR_param[2],\n",
    "                 mqL_param[0],mqL_param[1],mqL_param[2],quark_param[0],quark_param[1],quark_param[2],\n",
    "                 quark_param[3],quark_param[4],quark_param[5],tanB)\n",
    "\n",
    "header = ['M1', 'M2', 'M3', 'At', 'Ab', 'Atau', 'mu', 'mA', 'meL', 'mmuL', 'mtauL', 'meR', 'mmuR', 'mtauR', 'mqL1', 'mqL2', 'mqL3', 'muR', 'mcR', 'mtR', 'mdR', 'msR', 'mbR', 'tanb']\n",
    "\n",
    "K_file = []\n",
    "\n",
    "for indice_i,i in enumerate(K_pool):\n",
    "    for indice_j,j in enumerate(i):\n",
    "        K_file.append(j+[K_pred[indice_i][indice_j]])\n",
    "        \n",
    "        \n",
    "os.system('cp Advanced\\ NN/AL/AL_run/'+folder_r+'/data_tot.csv Advanced\\ NN/AL/AL_run/'+folder_name+'/')        \n",
    "os.system('cp Advanced\\ NN/AL/AL_run/'+folder_r+'/K_pool_tot.csv Advanced\\ NN/AL/AL_run/'+folder_name+'/')      \n",
    "\n",
    "os.system('mv Advanced\\ NN/AL/AL_run/'+folder_name+'/data_tot.csv Advanced\\ NN/AL/AL_run/'+folder_name+'/data_tot.csv')\n",
    "os.system('mv Advanced\\ NN/AL/AL_run/'+folder_name+'/K_pool_tot.csv Advanced\\ NN/AL/AL_run/'+folder_name+'/K_pool_tot.csv')\n",
    "\n",
    "\n",
    "import csv\n",
    "\n",
    "with open('Advanced NN/AL/AL_run/'+folder_name+'/data_tot.csv', 'a') as f:\n",
    "    writer = csv.writer(f, delimiter='\\t')\n",
    "    writer.writerows(param_file_c)\n",
    "    f.flush()\n",
    "\n",
    "with open('Advanced NN/AL/AL_run/'+folder_name+'/K_pool_tot.csv', 'a') as f:\n",
    "    writer = csv.writer(f, delimiter='\\t')\n",
    "    writer.writerows(K_file)\n",
    "    f.flush()\n",
    "    \n",
    "with open('Advanced NN/AL/AL_run/'+folder_name+'/K_pool_III.csv', 'w') as f:\n",
    "    writer = csv.writer(f, delimiter='\\t')\n",
    "    writer.writerow(header+['pred'])\n",
    "    writer.writerows(K_file)\n",
    "    f.flush()\n",
    "    \n",
    "with open('Advanced NN/AL/AL_run/'+folder_name+'/data_III.csv', 'w') as f:\n",
    "    writer = csv.writer(f, delimiter='\\t')\n",
    "    writer.writerow(header)\n",
    "    writer.writerows(param_file)\n",
    "    f.flush()"
   ]
  },
  {
   "cell_type": "markdown",
   "id": "ec48281f",
   "metadata": {},
   "source": [
    "# Plot "
   ]
  },
  {
   "cell_type": "code",
   "execution_count": 10,
   "id": "9f388374",
   "metadata": {},
   "outputs": [],
   "source": [
    "def plot_histo(title, xlabel, ylabel, list_hist,bins, label, legend = False, histtype='bar', save=False, file_folder=''):\n",
    "    plt.figure()\n",
    "    for indice, hist in enumerate(list_hist):\n",
    "        plt.hist(hist,bins,label=label[indice],histtype=histtype)\n",
    "    plt.title(title)\n",
    "    plt.xlabel(xlabel)\n",
    "    plt.ylabel(ylabel)\n",
    "    if legend == True:\n",
    "        plt.legend()\n",
    "    if save == True:\n",
    "        plt.savefig(file_folder)\n",
    "    \n",
    "def subplot_histo(titre, xlabel, ylabel, x, y, share, subtitle, hist_list, label, legend = False, histtype='bar', save=False, file_folder=''):  \n",
    "    fig , ax = plt.subplots(x, y, sharex=share[0], sharey=share[1], constrained_layout = True)\n",
    "    plt.suptitle(titre)\n",
    "    fig.text(0.5, -0.05, xlabel, ha='center')\n",
    "    fig.text(-0.04, 0.5, ylabel, va='center', rotation='vertical')\n",
    "\n",
    "    for indice, hist in enumerate(hist_list): \n",
    "        compteur = 0\n",
    "        for i in range(x):\n",
    "            if y != 1:\n",
    "                for j in range(y):\n",
    "                    ax[i, j].hist(hist[compteur],100,histtype=histtype,label=label[indice])\n",
    "                    ax[i, j].set_title(subtitle[compteur])\n",
    "                    compteur+=1\n",
    "                    if legend == True:\n",
    "                        ax[i, j].legend()\n",
    "            else:\n",
    "                ax[i].hist(hist[compteur],100,histtype=histtype, label=label[indice])\n",
    "                ax[i].set_title(subtitle[compteur])\n",
    "                compteur+=1\n",
    "                if legend == True:\n",
    "                    ax[i].legend()\n",
    "    if save == True:\n",
    "        plt.savefig(file_folder)"
   ]
  },
  {
   "cell_type": "code",
   "execution_count": 11,
   "id": "1a141f83",
   "metadata": {},
   "outputs": [
    {
     "data": {
      "image/png": "[encoded data removed]",
      "text/plain": [
       "<Figure size 432x288 with 1 Axes>"
      ]
     },
     "metadata": {
      "needs_background": "light"
     },
     "output_type": "display_data"
    },
    {
     "data": {
      "image/png": "[encoded data removed]",
      "text/plain": [
       "<Figure size 432x288 with 4 Axes>"
      ]
     },
     "metadata": {
      "needs_background": "light"
     },
     "output_type": "display_data"
    },
    {
     "data": {
      "image/png": "[encoded data removed]",
      "text/plain": [
       "<Figure size 432x288 with 6 Axes>"
      ]
     },
     "metadata": {
      "needs_background": "light"
     },
     "output_type": "display_data"
    },
    {
     "data": {
      "image/png": "[encoded data removed]",
      "text/plain": [
       "<Figure size 432x288 with 6 Axes>"
      ]
     },
     "metadata": {
      "needs_background": "light"
     },
     "output_type": "display_data"
    },
    {
     "data": {
      "image/png": "[encoded data removed]",
      "text/plain": [
       "<Figure size 432x288 with 2 Axes>"
      ]
     },
     "metadata": {
      "needs_background": "light"
     },
     "output_type": "display_data"
    },
    {
     "data": {
      "image/png": "[encoded data removed]",
      "text/plain": [
       "<Figure size 432x288 with 2 Axes>"
      ]
     },
     "metadata": {
      "needs_background": "light"
     },
     "output_type": "display_data"
    }
   ],
   "source": [
    "folder = 'Advanced NN/AL/AL_run/'+folder_name\n",
    "\n",
    "file = '/histo_gluinos_III.svg'\n",
    "titre = r'Histogramme de la masse du gluino $\\widetilde{g}$'\n",
    "xlabel = 'Masse (GeV)'\n",
    "ylabel = 'N'\n",
    "plot_histo(titre,xlabel,ylabel,[g_mass],100,['NN'],save=True,file_folder=folder+file)\n",
    "\n",
    "file = '/histo_neutralinos_III.svg'\n",
    "titre = 'Histogramme de la masse des neutralinos'\n",
    "subtitle = [r'$\\widetilde{\\chi_1^0}$',r'$\\widetilde{\\chi_2^0}$',r'$\\widetilde{\\chi_3^0}$',r'$\\widetilde{\\chi_4^0}$']\n",
    "share = [False,True]\n",
    "subplot_histo(titre,xlabel,ylabel,2,2,share,subtitle,[neutralino_mass],['NN'],save=True,file_folder=folder+file)\n",
    "\n",
    "file = '/histo_quarksL_III.svg'\n",
    "titre = 'Histogramme de la masse des quarks L'\n",
    "subtitle = [r'$\\widetilde{d}$',r'$\\widetilde{u}$',r'$\\widetilde{s}$',r'$\\widetilde{c}$',r'$\\widetilde{t}$',r'$\\widetilde{b}$']    \n",
    "subplot_histo(titre,xlabel,ylabel,2,3,share,subtitle,[squarkL_mass],['NN'],save=True,file_folder=folder+file)\n",
    "\n",
    "file = '/histo_quarksR_III.svg'\n",
    "titre = 'Histogramme de la masse des quarks R' \n",
    "subplot_histo(titre,xlabel,ylabel,2,3,share,subtitle,[squarkR_mass],['NN'],save=True,file_folder=folder+file)\n",
    "\n",
    "file = '/histo_higgs_III.svg'\n",
    "titre = 'Histogramme de la masse des bosons de Higgs'    \n",
    "subtitle = [r'$h_0$',r'$H_0$']\n",
    "subplot_histo(titre,xlabel,ylabel,2,1,share,subtitle,[higgs_mass],['NN'],save=True,file_folder=folder+file)\n",
    "\n",
    "file = '/histo_charginos_II.svg'\n",
    "titre = 'Histogramme de la masse des charginos'    \n",
    "subtitle = [r'$\\widetilde{\\chi_1^\\pm}$',r'$\\widetilde{\\chi_2^\\pm}$']\n",
    "subplot_histo(titre,xlabel,ylabel,2,1,share,subtitle,[chargino_mass],['NN'],save=True,file_folder=folder+file)"
   ]
  },
  {
   "cell_type": "code",
   "execution_count": 12,
   "id": "c57f3930",
   "metadata": {},
   "outputs": [
    {
     "data": {
      "image/png": "[encoded data removed]",
      "text/plain": [
       "<Figure size 432x288 with 1 Axes>"
      ]
     },
     "metadata": {
      "needs_background": "light"
     },
     "output_type": "display_data"
    },
    {
     "data": {
      "image/png": "[encoded data removed]",
      "text/plain": [
       "<Figure size 432x288 with 6 Axes>"
      ]
     },
     "metadata": {
      "needs_background": "light"
     },
     "output_type": "display_data"
    },
    {
     "data": {
      "image/png": "[encoded data removed]",
      "text/plain": [
       "<Figure size 432x288 with 3 Axes>"
      ]
     },
     "metadata": {
      "needs_background": "light"
     },
     "output_type": "display_data"
    },
    {
     "data": {
      "image/png": "[encoded data removed]",
      "text/plain": [
       "<Figure size 432x288 with 3 Axes>"
      ]
     },
     "metadata": {
      "needs_background": "light"
     },
     "output_type": "display_data"
    },
    {
     "data": {
      "image/png": "[encoded data removed]",
      "text/plain": [
       "<Figure size 432x288 with 1 Axes>"
      ]
     },
     "metadata": {
      "needs_background": "light"
     },
     "output_type": "display_data"
    },
    {
     "data": {
      "image/png": "[encoded data removed]",
      "text/plain": [
       "<Figure size 432x288 with 6 Axes>"
      ]
     },
     "metadata": {
      "needs_background": "light"
     },
     "output_type": "display_data"
    },
    {
     "data": {
      "image/png": "[encoded data removed]",
      "text/plain": [
       "<Figure size 432x288 with 3 Axes>"
      ]
     },
     "metadata": {
      "needs_background": "light"
     },
     "output_type": "display_data"
    },
    {
     "data": {
      "image/png": "[encoded data removed]",
      "text/plain": [
       "<Figure size 432x288 with 1 Axes>"
      ]
     },
     "metadata": {
      "needs_background": "light"
     },
     "output_type": "display_data"
    }
   ],
   "source": [
    "file = '/histo_mu_III.svg'\n",
    "titre = r'Histogramme du paramètre $\\mu$'\n",
    "plot_histo(titre,xlabel,ylabel,[mu],100,['NN'],save=True,file_folder=folder+file)\n",
    "\n",
    "file = '/histo_mquarks_III.svg'\n",
    "titre = 'Histogramme des paramètres de masse des quarks'\n",
    "subtitle = [r'$m_{\\widetilde{u_R}}$',r'$m_{\\widetilde{c_R}}$',r'$m_{\\widetilde{t_R}}$',r'$m_{\\widetilde{d_R}}$',r'$m_{\\widetilde{s_R}}$',r'$m_{\\widetilde{b_R}}$']\n",
    "subplot_histo(titre,xlabel,ylabel,2,3,share,subtitle,[quark_param],['NN'],save=True,file_folder=folder+file)\n",
    "\n",
    "file = '/histo_M_III.svg'\n",
    "titre = 'Histogramme des paramètres de masse'\n",
    "subtitle = [r'$M_1$',r'$M_2$',r'$M_3$']\n",
    "subplot_histo(titre,xlabel,ylabel,3,1,share,subtitle,[M_param],['NN'],save=True,file_folder=folder+file)\n",
    "\n",
    "file = '/histo_A_III.svg'\n",
    "titre = 'Histogramme des paramètres A'\n",
    "subtitle = [r'$A_t$',r'$A_b$',r'$A_\\tau$']\n",
    "subplot_histo(titre,xlabel,ylabel,3,1,share,subtitle,[A_param],['NN'],save=True,file_folder=folder+file)\n",
    "\n",
    "file = '/histo_mA_III.svg'\n",
    "titre = r'Histogramme du paramètre $M_A$'\n",
    "plot_histo(titre,xlabel,ylabel,[mA_param],100,['NN'],save=True,file_folder=folder+file)\n",
    "\n",
    "file = '/histo_mlL_III.svg'\n",
    "titre = r'Histogramme des paramètres $m_{\\widetilde{f}}$'\n",
    "subtitle = [r'$m_{\\widetilde{e_L}}$',r'$m_{\\widetilde{\\mu_L}}$',r'$m_{\\widetilde{\\tau_L}}$',r'$m_{\\widetilde{e_R}}$',r'$m_{\\widetilde{\\mu_R}}$',r'$m_{\\widetilde{\\tau_R}}$']\n",
    "subplot_histo(titre,xlabel,ylabel,2,3,share,subtitle,[mlL_param+mlR_param],['NN'],save=True,file_folder=folder+file)\n",
    "\n",
    "file = '/histo_mqL_III.svg'\n",
    "titre = 'Histogramme des paramètres de masse'\n",
    "subtitle = [r'$m_{\\widetilde{q_{1L}}}$',r'$m_{\\widetilde{q_{2L}}}$',r'$m_{\\widetilde{q_{3L}}}$']\n",
    "subplot_histo(titre,xlabel,ylabel,3,1,share,subtitle,[mqL_param],['NN'],save=True,file_folder=folder+file)\n",
    "\n",
    "file = '/histo_tanb_III.svg'\n",
    "titre = r'Histogramme du paramètre $\\tan \\beta$'\n",
    "plot_histo(titre,xlabel,ylabel,[tanB],100,['NN'],save=True,file_folder=folder+file)"
   ]
  },
  {
   "cell_type": "code",
   "execution_count": 13,
   "id": "94c92df1",
   "metadata": {},
   "outputs": [
    {
     "name": "stdout",
     "output_type": "stream",
     "text": [
      "Statisique du Neural Network\n",
      "Nombre d'échecs: 90\n",
      "Nombre de succes: 10\n",
      "Nombre warning: 0\n",
      "Éfficacité du AL: 10.0 %\n",
      "\n",
      "\n"
     ]
    }
   ],
   "source": [
    "print('Statisique du Neural Network')\n",
    "print(\"Nombre d'échecs:\",ratio_IT[0])\n",
    "print(\"Nombre de succes:\",ratio_IT[1])\n",
    "print('Nombre warning:', warning)\n",
    "print('Éfficacité du AL:',100*ratio_IT[1]/(ratio_IT[0]+ratio_IT[1]),'%')\n",
    "print('\\n')"
   ]
  }
 ],
 "metadata": {
  "kernelspec": {
   "display_name": "Python 3 (ipykernel)",
   "language": "python",
   "name": "python3"
  },
  "language_info": {
   "codemirror_mode": {
    "name": "ipython",
    "version": 3
   },
   "file_extension": ".py",
   "mimetype": "text/x-python",
   "name": "python",
   "nbconvert_exporter": "python",
   "pygments_lexer": "ipython3",
   "version": "3.8.10"
  }
 },
 "nbformat": 4,
 "nbformat_minor": 5
}
