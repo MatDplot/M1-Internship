{
 "cells": [
  {
   "cell_type": "markdown",
   "id": "c3f38a5f",
   "metadata": {},
   "source": [
    "# Setup"
   ]
  },
  {
   "cell_type": "code",
   "execution_count": 1,
   "id": "49305665",
   "metadata": {},
   "outputs": [
    {
     "name": "stderr",
     "output_type": "stream",
     "text": [
      "2022-06-09 15:00:16.607381: W tensorflow/stream_executor/platform/default/dso_loader.cc:64] Could not load dynamic library 'libcudart.so.11.0'; dlerror: libcudart.so.11.0: cannot open shared object file: No such file or directory\n",
      "2022-06-09 15:00:16.607488: I tensorflow/stream_executor/cuda/cudart_stub.cc:29] Ignore above cudart dlerror if you do not have a GPU set up on your machine.\n"
     ]
    }
   ],
   "source": [
    "import numpy as np\n",
    "import tensorflow as tf\n",
    "from tensorflow import keras\n",
    "from tensorflow.keras import layers\n",
    "import tensorflow_probability as tfp\n",
    "import matplotlib.pyplot as plt\n",
    "import random as rd\n",
    "import os\n",
    "from tqdm import tqdm\n",
    "import tensorflow_addons as tfa\n",
    "import pandas as pd\n",
    "import matplotlib.gridspec as gridspec\n",
    "from matplotlib.colorbar import Colorbar\n",
    "\n",
    "\n",
    "plt.style.use(['science','ieee'])\n",
    "\n",
    "os.chdir('/home/mathis/Stage M1/')"
   ]
  },
  {
   "cell_type": "markdown",
   "id": "f6553a13",
   "metadata": {},
   "source": [
    "# Model"
   ]
  },
  {
   "cell_type": "code",
   "execution_count": 2,
   "id": "7be63031",
   "metadata": {},
   "outputs": [
    {
     "name": "stdout",
     "output_type": "stream",
     "text": [
      "Model: \"model\"\n",
      "_________________________________________________________________\n",
      " Layer (type)                Output Shape              Param #   \n",
      "=================================================================\n",
      " input_1 (InputLayer)        [(None, 1)]               0         \n",
      "                                                                 \n",
      " dense (Dense)               (None, 100)               200       \n",
      "                                                                 \n",
      " dense_1 (Dense)             (None, 100)               10100     \n",
      "                                                                 \n",
      " dense_2 (Dense)             (None, 100)               10100     \n",
      "                                                                 \n",
      " dense_3 (Dense)             (None, 100)               10100     \n",
      "                                                                 \n",
      " dense_4 (Dense)             (None, 100)               10100     \n",
      "                                                                 \n",
      " dense_5 (Dense)             (None, 19)                1919      \n",
      "                                                                 \n",
      "=================================================================\n",
      "Total params: 42,519\n",
      "Trainable params: 42,519\n",
      "Non-trainable params: 0\n",
      "_________________________________________________________________\n"
     ]
    },
    {
     "name": "stderr",
     "output_type": "stream",
     "text": [
      "2022-06-09 15:00:21.412602: W tensorflow/stream_executor/platform/default/dso_loader.cc:64] Could not load dynamic library 'libcuda.so.1'; dlerror: libcuda.so.1: cannot open shared object file: No such file or directory\n",
      "2022-06-09 15:00:21.412631: W tensorflow/stream_executor/cuda/cuda_driver.cc:269] failed call to cuInit: UNKNOWN ERROR (303)\n",
      "2022-06-09 15:00:21.412652: I tensorflow/stream_executor/cuda/cuda_diagnostics.cc:156] kernel driver does not appear to be running on this host (MPC): /proc/driver/nvidia/version does not exist\n",
      "2022-06-09 15:00:21.413470: I tensorflow/core/platform/cpu_feature_guard.cc:151] This TensorFlow binary is optimized with oneAPI Deep Neural Network Library (oneDNN) to use the following CPU instructions in performance-critical operations:  AVX2 FMA\n",
      "To enable them in other operations, rebuild TensorFlow with the appropriate compiler flags.\n"
     ]
    }
   ],
   "source": [
    "fnc_activation = 'relu'\n",
    "fnc_activation_output = 'sigmoid'\n",
    "inputs = tf.keras.Input(shape=(1,), dtype='float32')\n",
    "x = keras.layers.Dense(100, trainable=True, activation=fnc_activation)(inputs)\n",
    "x = keras.layers.Dense(100, trainable=True, activation=fnc_activation)(x)\n",
    "x = keras.layers.Dense(100, trainable=True, activation=fnc_activation)(x)\n",
    "x = keras.layers.Dense(100, trainable=True, activation=fnc_activation)(x)\n",
    "x = keras.layers.Dense(100, trainable=True, activation=fnc_activation)(x)\n",
    "outputs = keras.layers.Dense(19, activation=fnc_activation_output)(x)\n",
    "model = tf.keras.Model(inputs,outputs)\n",
    "\n",
    "lr = 1e-3\n",
    "\n",
    "optimizer = tf.keras.optimizers.Adam(learning_rate=lr)\n",
    "\n",
    "model.summary()\n",
    "\n",
    "\n",
    "\n",
    "loss_fn = tf.keras.losses.BinaryCrossentropy(from_logits=False, reduction='sum_over_batch_size')\n",
    "#False pour une probabilité ie [0;1]"
   ]
  },
  {
   "cell_type": "markdown",
   "id": "23df54be",
   "metadata": {},
   "source": [
    "# Initial training"
   ]
  },
  {
   "cell_type": "code",
   "execution_count": 4,
   "id": "24227af5",
   "metadata": {},
   "outputs": [],
   "source": [
    "path = 'Advanced NN/AL/AL_run/'\n",
    "folder_r = '2022-06-09-06:25:27/'\n",
    "file = 'K_pool.csv'\n",
    "\n",
    "import csv\n",
    "\n",
    "with open(path+folder_r+file) as f:\n",
    "    f.readline()\n",
    "    data = csv.reader(f, delimiter='\\t')\n",
    "    data = list(data)\n",
    "    \n",
    "\n",
    "input_pred = []\n",
    "output_param = []\n",
    "\n",
    "for i in data:\n",
    "    input_pred.append(float(i[-1]))\n",
    "    output_param.append([float(i[j]) for j in range(19)])"
   ]
  },
  {
   "cell_type": "code",
   "execution_count": 5,
   "id": "1152f3b2",
   "metadata": {},
   "outputs": [
    {
     "name": "stdout",
     "output_type": "stream",
     "text": [
      "500000 500000\n",
      "0.0 [0.3066120165389131, 0.44958650929318666, 0.23592232019813042, 0.7394182530355405, 0.9003227697596179, 0.5354988343407834, 0.9789974647335884, 0.5329378474347621, 0.9266503525665749, 0.8142123734139883, 0.5483963021700448, 0.037125969201673326, 0.17833101592911305, 0.4139354059411825, 0.6549951503151195, 0.25065056464590074, 0.027238105790891032, 0.3073638382632248, 0.5358189736458878]\n"
     ]
    }
   ],
   "source": [
    "print(len(input_pred),len(output_param))\n",
    "print(input_pred[0],output_param[0])"
   ]
  },
  {
   "cell_type": "code",
   "execution_count": 10,
   "id": "c1069870",
   "metadata": {},
   "outputs": [
    {
     "name": "stdout",
     "output_type": "stream",
     "text": [
      "Epochs 1 / 25\n"
     ]
    },
    {
     "name": "stderr",
     "output_type": "stream",
     "text": [
      "100%|███████████████████████████████████████| 5000/5000 [01:24<00:00, 59.13it/s]\n"
     ]
    },
    {
     "name": "stdout",
     "output_type": "stream",
     "text": [
      "Epochs 2 / 25\n"
     ]
    },
    {
     "name": "stderr",
     "output_type": "stream",
     "text": [
      "100%|███████████████████████████████████████| 5000/5000 [01:24<00:00, 59.29it/s]\n"
     ]
    },
    {
     "name": "stdout",
     "output_type": "stream",
     "text": [
      "Epochs 3 / 25\n"
     ]
    },
    {
     "name": "stderr",
     "output_type": "stream",
     "text": [
      "100%|███████████████████████████████████████| 5000/5000 [01:24<00:00, 59.33it/s]\n"
     ]
    },
    {
     "name": "stdout",
     "output_type": "stream",
     "text": [
      "Epochs 4 / 25\n"
     ]
    },
    {
     "name": "stderr",
     "output_type": "stream",
     "text": [
      "100%|███████████████████████████████████████| 5000/5000 [01:24<00:00, 59.47it/s]\n"
     ]
    },
    {
     "name": "stdout",
     "output_type": "stream",
     "text": [
      "Epochs 5 / 25\n"
     ]
    },
    {
     "name": "stderr",
     "output_type": "stream",
     "text": [
      "100%|███████████████████████████████████████| 5000/5000 [01:24<00:00, 59.41it/s]\n"
     ]
    },
    {
     "name": "stdout",
     "output_type": "stream",
     "text": [
      "Epochs 6 / 25\n"
     ]
    },
    {
     "name": "stderr",
     "output_type": "stream",
     "text": [
      "100%|███████████████████████████████████████| 5000/5000 [01:24<00:00, 59.43it/s]\n"
     ]
    },
    {
     "name": "stdout",
     "output_type": "stream",
     "text": [
      "Epochs 7 / 25\n"
     ]
    },
    {
     "name": "stderr",
     "output_type": "stream",
     "text": [
      "100%|███████████████████████████████████████| 5000/5000 [01:23<00:00, 59.53it/s]\n"
     ]
    },
    {
     "name": "stdout",
     "output_type": "stream",
     "text": [
      "Epochs 8 / 25\n"
     ]
    },
    {
     "name": "stderr",
     "output_type": "stream",
     "text": [
      "100%|███████████████████████████████████████| 5000/5000 [01:24<00:00, 59.32it/s]\n"
     ]
    },
    {
     "name": "stdout",
     "output_type": "stream",
     "text": [
      "Epochs 9 / 25\n"
     ]
    },
    {
     "name": "stderr",
     "output_type": "stream",
     "text": [
      "100%|███████████████████████████████████████| 5000/5000 [01:23<00:00, 59.53it/s]\n"
     ]
    },
    {
     "name": "stdout",
     "output_type": "stream",
     "text": [
      "Epochs 10 / 25\n"
     ]
    },
    {
     "name": "stderr",
     "output_type": "stream",
     "text": [
      "100%|███████████████████████████████████████| 5000/5000 [01:23<00:00, 59.56it/s]\n"
     ]
    },
    {
     "name": "stdout",
     "output_type": "stream",
     "text": [
      "Epochs 11 / 25\n"
     ]
    },
    {
     "name": "stderr",
     "output_type": "stream",
     "text": [
      "100%|███████████████████████████████████████| 5000/5000 [01:23<00:00, 59.63it/s]\n"
     ]
    },
    {
     "name": "stdout",
     "output_type": "stream",
     "text": [
      "Epochs 12 / 25\n"
     ]
    },
    {
     "name": "stderr",
     "output_type": "stream",
     "text": [
      "100%|███████████████████████████████████████| 5000/5000 [01:23<00:00, 59.54it/s]\n"
     ]
    },
    {
     "name": "stdout",
     "output_type": "stream",
     "text": [
      "Epochs 13 / 25\n"
     ]
    },
    {
     "name": "stderr",
     "output_type": "stream",
     "text": [
      "100%|███████████████████████████████████████| 5000/5000 [01:23<00:00, 59.79it/s]\n"
     ]
    },
    {
     "name": "stdout",
     "output_type": "stream",
     "text": [
      "Epochs 14 / 25\n"
     ]
    },
    {
     "name": "stderr",
     "output_type": "stream",
     "text": [
      "100%|███████████████████████████████████████| 5000/5000 [01:23<00:00, 59.69it/s]\n"
     ]
    },
    {
     "name": "stdout",
     "output_type": "stream",
     "text": [
      "Epochs 15 / 25\n"
     ]
    },
    {
     "name": "stderr",
     "output_type": "stream",
     "text": [
      "100%|███████████████████████████████████████| 5000/5000 [01:24<00:00, 59.43it/s]\n"
     ]
    },
    {
     "name": "stdout",
     "output_type": "stream",
     "text": [
      "Epochs 16 / 25\n"
     ]
    },
    {
     "name": "stderr",
     "output_type": "stream",
     "text": [
      "100%|███████████████████████████████████████| 5000/5000 [01:13<00:00, 68.03it/s]\n"
     ]
    },
    {
     "name": "stdout",
     "output_type": "stream",
     "text": [
      "Epochs 17 / 25\n"
     ]
    },
    {
     "name": "stderr",
     "output_type": "stream",
     "text": [
      "100%|███████████████████████████████████████| 5000/5000 [01:15<00:00, 66.02it/s]\n"
     ]
    },
    {
     "name": "stdout",
     "output_type": "stream",
     "text": [
      "Epochs 18 / 25\n"
     ]
    },
    {
     "name": "stderr",
     "output_type": "stream",
     "text": [
      "100%|███████████████████████████████████████| 5000/5000 [01:23<00:00, 59.77it/s]\n"
     ]
    },
    {
     "name": "stdout",
     "output_type": "stream",
     "text": [
      "Epochs 19 / 25\n"
     ]
    },
    {
     "name": "stderr",
     "output_type": "stream",
     "text": [
      "100%|███████████████████████████████████████| 5000/5000 [01:22<00:00, 60.56it/s]\n"
     ]
    },
    {
     "name": "stdout",
     "output_type": "stream",
     "text": [
      "Epochs 20 / 25\n"
     ]
    },
    {
     "name": "stderr",
     "output_type": "stream",
     "text": [
      "100%|███████████████████████████████████████| 5000/5000 [01:06<00:00, 74.72it/s]\n"
     ]
    },
    {
     "name": "stdout",
     "output_type": "stream",
     "text": [
      "Epochs 21 / 25\n"
     ]
    },
    {
     "name": "stderr",
     "output_type": "stream",
     "text": [
      "100%|███████████████████████████████████████| 5000/5000 [01:04<00:00, 78.01it/s]\n"
     ]
    },
    {
     "name": "stdout",
     "output_type": "stream",
     "text": [
      "Epochs 22 / 25\n"
     ]
    },
    {
     "name": "stderr",
     "output_type": "stream",
     "text": [
      "100%|███████████████████████████████████████| 5000/5000 [01:00<00:00, 83.25it/s]\n"
     ]
    },
    {
     "name": "stdout",
     "output_type": "stream",
     "text": [
      "Epochs 23 / 25\n"
     ]
    },
    {
     "name": "stderr",
     "output_type": "stream",
     "text": [
      "100%|███████████████████████████████████████| 5000/5000 [01:21<00:00, 61.47it/s]\n"
     ]
    },
    {
     "name": "stdout",
     "output_type": "stream",
     "text": [
      "Epochs 24 / 25\n"
     ]
    },
    {
     "name": "stderr",
     "output_type": "stream",
     "text": [
      "100%|███████████████████████████████████████| 5000/5000 [01:22<00:00, 60.65it/s]\n"
     ]
    },
    {
     "name": "stdout",
     "output_type": "stream",
     "text": [
      "Epochs 25 / 25\n"
     ]
    },
    {
     "name": "stderr",
     "output_type": "stream",
     "text": [
      "100%|███████████████████████████████████████| 5000/5000 [01:19<00:00, 62.69it/s]\n"
     ]
    }
   ],
   "source": [
    "loss_evolution = []\n",
    "epoch = 25\n",
    "taille_batch = 100\n",
    "\n",
    "for k in range(epoch):\n",
    "    print('Epochs {} / {}'.format(k+1,epoch))\n",
    "    sum_loss = 0\n",
    "    \n",
    "    last = 0\n",
    "    for i in tqdm(range(taille_batch,len(input_pred)+1,taille_batch)):\n",
    "        batch = tf.convert_to_tensor(input_pred[last:i])\n",
    "        true_param = tf.convert_to_tensor(output_param[last:i])\n",
    "        last = i\n",
    "        \n",
    "        with tf.GradientTape() as tape:\n",
    "            logits = model(batch)\n",
    "            loss = loss_fn(true_param,logits)\n",
    "            gradients = tape.gradient(loss, model.trainable_weights)\n",
    "\n",
    "            sum_loss+=loss\n",
    "    \n",
    "        optimizer.apply_gradients(zip(gradients, model.trainable_weights))\n",
    "    loss_evolution.append(sum_loss.numpy()*taille_batch/len(input_pred))"
   ]
  },
  {
   "cell_type": "code",
   "execution_count": 11,
   "id": "d4428044",
   "metadata": {},
   "outputs": [
    {
     "name": "stdout",
     "output_type": "stream",
     "text": [
      "[0.692031689453125, 0.692031640625, 0.692031494140625, 0.69203125, 0.69203125, 0.692031298828125, 0.69203095703125, 0.692030908203125, 0.69203095703125, 0.692030712890625, 0.692030810546875, 0.692030810546875, 0.692030712890625, 0.69203076171875, 0.6920306640625, 0.6920306640625, 0.692030615234375, 0.69203046875, 0.692030322265625, 0.692030322265625, 0.6920302734375, 0.692030322265625, 0.6920302734375, 0.69203017578125, 0.69202998046875]\n"
     ]
    },
    {
     "data": {
      "image/png": "[encoded data removed]",
      "text/plain": [
       "<Figure size 432x288 with 1 Axes>"
      ]
     },
     "metadata": {
      "needs_background": "light"
     },
     "output_type": "display_data"
    }
   ],
   "source": [
    "plt.plot([i for i in range(epoch)],loss_evolution,'ob')\n",
    "plt.title('Évolution du loss')\n",
    "\n",
    "print(loss_evolution)"
   ]
  },
  {
   "cell_type": "code",
   "execution_count": 48,
   "id": "511e1276",
   "metadata": {},
   "outputs": [],
   "source": [
    "#GeV [min,max]\n",
    "\n",
    "M1_range = M2_range = M3_range = [50, 5000]\n",
    "mA_range = [50, 5000]\n",
    "tanB_range = [2, 60]\n",
    "mu_range = [-10**4, 10**4]\n",
    "At_range = Ab_range = Atau_range = [-10**4, 10**4]\n",
    "Mq1L_range = Mq3L_range = [50, 5000]\n",
    "MuR_range = MdR_range = MtR_range = MbR_range = [50, 5000]\n",
    "MeL_range = MtauL_range = MeR_range = MtauR_range = [50, 5000]\n",
    "\n",
    "PMSSM_range_big = [M1_range, M2_range, M3_range, mA_range, tanB_range, mu_range, At_range, Ab_range, \n",
    "              Atau_range, Mq1L_range, Mq3L_range, MuR_range, MdR_range, MtR_range, MbR_range,\n",
    "             MeL_range, MtauL_range, MeR_range, MtauR_range]\n",
    "\n",
    "PMSSM_min = np.array([i[0] for i in PMSSM_range_big])\n",
    "PMSSM_max = np.array([i[1] for i in PMSSM_range_big])\n",
    "\n",
    "PMSSM_sub = np.subtract(PMSSM_max, PMSSM_min)\n",
    "\n",
    "PMSSM_range = [PMSSM_min,PMSSM_max,PMSSM_sub]"
   ]
  },
  {
   "cell_type": "code",
   "execution_count": 14,
   "id": "aa7339f3",
   "metadata": {},
   "outputs": [],
   "source": [
    "def write_slha(PMSSM_NN, nom_slha):\n",
    "    f = open(nom_slha, \"w\")\n",
    "    \n",
    "    f.write(\"BLOCK MODSEL \\n\")\n",
    "    f.write(\" 1    0              #MSSM \\n\")\n",
    "    \n",
    "    f.write(\"BLOCK SMINPUTS \\n\")\n",
    "    f.write(\"  1   1.279340000e+02     # alpha^(-1) SM MSbar(M1) \\n\")\n",
    "    f.write(\"  2   1.663700000e-05     # G_Fermi \\n\")\n",
    "    f.write(\"  3   0.1179              # alphas(MS) SM MSbar \\n\")\n",
    "    f.write(\"  4   91.1876             # MZ(pole) \\n\")\n",
    "    f.write(\"  5   4.18                # mb(mb) SM MSbar \\n\")\n",
    "    f.write(\"  6   172.9               # mtop(pole) \\n\")\n",
    "    f.write(\"  7   1.776860000e+00     #m mtau(pole) \\n\")\n",
    "    \n",
    "    f.write(\"BLOCK MINPAR \\n\")\n",
    "    f.write(\"  3   \"+str(PMSSM_NN[4])+\"   #tanb \\n\")\n",
    "    \n",
    "    f.write(\"BLOCK VCKMIN   #CKM param (Wolfenstein) \\n\")\n",
    "    f.write(\"  1   0.22650  #lambda \\n\")\n",
    "    f.write(\"  2   0.790    #A \\n\")\n",
    "    f.write(\"  3   0.141    #rho \\n\")\n",
    "    f.write(\"  4   0.357    #eta \\n\")\n",
    "    \n",
    "    f.write(\"BLOCK EXTPAR \\n\")\n",
    "    f.write(\"  0   \"+str(-1.0)+\"               # Q \\n\")\n",
    "    f.write(\"  1   \"+str(PMSSM_NN[0])+\"        # M1 \\n\")\n",
    "    f.write(\"  2   \"+str(PMSSM_NN[1])+\"        # M2 \\n\")\n",
    "    f.write(\"  3   \"+str(PMSSM_NN[2])+\"        # M3 \\n\")\n",
    "    f.write(\"  11   \"+str(PMSSM_NN[6])+\"       # At \\n\")\n",
    "    f.write(\"  12   \"+str(PMSSM_NN[7])+\"       # Ab \\n\")\n",
    "    f.write(\"  13   \"+str(PMSSM_NN[8])+\"       # Atau \\n\")\n",
    "    f.write(\"  23   \"+str(PMSSM_NN[5])+\"       # Mu \\n\")\n",
    "    f.write(\"  26   \"+str(PMSSM_NN[3])+\"       # Ma \\n\")\n",
    "    f.write(\"  31   \"+str(PMSSM_NN[15])+\"      # MeL \\n\")\n",
    "    f.write(\"  32   \"+str(PMSSM_NN[15])+\"      # MmuL \\n\")\n",
    "    f.write(\"  33   \"+str(PMSSM_NN[16])+\"      # MstauL \\n\")\n",
    "    f.write(\"  34   \"+str(PMSSM_NN[17])+\"      # MeR \\n\")\n",
    "    f.write(\"  35   \"+str(PMSSM_NN[17])+\"      # MmuR \\n\")\n",
    "    f.write(\"  36   \"+str(PMSSM_NN[18])+\"      # MstauR \\n\")\n",
    "    f.write(\"  41   \"+str(PMSSM_NN[9])+\"       # Mq1L \\n\")\n",
    "    f.write(\"  42   \"+str(PMSSM_NN[9])+\"       # Mq2L \\n\")\n",
    "    f.write(\"  43   \"+str(PMSSM_NN[10])+\"      # Mq3L \\n\")\n",
    "    f.write(\"  44   \"+str(PMSSM_NN[11])+\"      # MquR \\n\")\n",
    "    f.write(\"  45   \"+str(PMSSM_NN[11])+\"      # MqcR \\n\")\n",
    "    f.write(\"  46   \"+str(PMSSM_NN[13])+\"      # MqtR \\n\")\n",
    "    f.write(\"  47   \"+str(PMSSM_NN[12])+\"      # MqdR \\n\")\n",
    "    f.write(\"  48   \"+str(PMSSM_NN[12])+\"      # MqsR \\n\")\n",
    "    f.write(\"  49   \"+str(PMSSM_NN[14])+\"      # MqbR \\n\")\n",
    "    \n",
    "    f.close()"
   ]
  },
  {
   "cell_type": "code",
   "execution_count": 50,
   "id": "3c0913d3",
   "metadata": {},
   "outputs": [],
   "source": [
    "def Oracle(logits, PMSSM_range, ratio, succes_path):\n",
    "    \n",
    "    PMSSM_AL = np.add(np.multiply(logits,PMSSM_range[2]),PMSSM_range[0])\n",
    "    print(PMSSM_AL)\n",
    "    write_slha(PMSSM_AL, \"Advanced NN/AL/pmssm_al.in\")    \n",
    "    \n",
    "    os.system('./SUSY/softsusy-4.1.9/softpoint.x leshouches < Advanced\\ NN/AL/pmssm_al.in > Advanced\\ NN/AL/pmssm_al.out')\n",
    "            \n",
    "          \n",
    "    if os.path.getsize('/home/mathis/Stage M1/Advanced NN/AL/pmssm_al.out') == 0 :\n",
    "        ratio[0]+=1\n",
    "        return 0\n",
    "        \n",
    "    with open('Advanced NN/AL/pmssm_al.out') as slha_out:\n",
    "        content = slha_out.read()\n",
    "        if 'SOFTSUSY problem' in content:\n",
    "            ratio[0]+=1\n",
    "            return 0\n",
    "        if 'LSP # Warning' in content:\n",
    "            ratio[0]+=1\n",
    "            return 0\n",
    "    \n",
    "    \n",
    "    \n",
    "    ratio[1]+=1\n",
    "    commande = 'mv Advanced\\ NN/AL/pmssm_al.out '\n",
    "    nom_fichier = 'pmssm_al_succes_'+str(ratio[1])+'.out'\n",
    "    os.system(commande+succes_path+nom_fichier)\n",
    "    return 1   "
   ]
  },
  {
   "cell_type": "code",
   "execution_count": 58,
   "id": "b1a2b1e7",
   "metadata": {},
   "outputs": [],
   "source": [
    "os.system('rm -r Advanced\\ NN/AL/softsusy_succes_IT/')\n",
    "os.system('mkdir -p Advanced\\ NN/AL/softsusy_succes_IT')\n",
    "succes_path_IT = 'Advanced\\ NN/AL/softsusy_succes_IT/'"
   ]
  },
  {
   "cell_type": "code",
   "execution_count": 60,
   "id": "efe1e7b4",
   "metadata": {},
   "outputs": [
    {
     "name": "stdout",
     "output_type": "stream",
     "text": [
      "tf.Tensor(\n",
      "[[0.37874466 0.3752014  0.53303605 0.5545117  0.4216947  0.5080456\n",
      "  0.48956642 0.49815863 0.4995927  0.5179666  0.6200934  0.52310026\n",
      "  0.5246815  0.6354299  0.545625   0.5369338  0.5462842  0.5351379\n",
      "  0.563866  ]], shape=(1, 19), dtype=float32)\n",
      "tf.Tensor(\n",
      "[0.37874466 0.3752014  0.53303605 0.5545117  0.4216947  0.5080456\n",
      " 0.48956642 0.49815863 0.4995927  0.5179666  0.6200934  0.52310026\n",
      " 0.5246815  0.6354299  0.545625   0.5369338  0.5462842  0.5351379\n",
      " 0.563866  ], shape=(19,), dtype=float32)\n",
      "[1924.78607595 1907.24695027 2688.52846324 2794.83304322   26.45829237\n",
      "  160.91227531 -208.67168903  -36.82732582   -8.1461668  2613.93480897\n",
      " 3119.46235597 2639.34627175 2647.17346728 3195.37809789 2750.84360838\n",
      " 2707.8222096  2754.10678387 2698.93256426 2841.13679528]\n",
      "1\n"
     ]
    }
   ],
   "source": [
    "test = tf.convert_to_tensor([1])\n",
    "output_test = model(test)\n",
    "print(output_test)\n",
    "print(output_test[0])\n",
    "ratio = [0,0]\n",
    "\n",
    "print(Oracle(output_test[0], PMSSM_range, ratio, succes_path_IT))"
   ]
  },
  {
   "cell_type": "code",
   "execution_count": 61,
   "id": "8653fba1",
   "metadata": {},
   "outputs": [
    {
     "name": "stdout",
     "output_type": "stream",
     "text": [
      "tf.Tensor(\n",
      "[[0.51203734 0.51428425 0.49412724 0.49162298 0.5065828  0.49618828\n",
      "  0.50189763 0.50257874 0.4980009  0.49610868 0.48237148 0.49730772\n",
      "  0.49521157 0.48573396 0.4952667  0.49703783 0.49202865 0.49852982\n",
      "  0.49284247]], shape=(1, 19), dtype=float32)\n",
      "tf.Tensor(\n",
      "[0.51203734 0.51428425 0.49412724 0.49162298 0.5065828  0.49618828\n",
      " 0.50189763 0.50257874 0.4980009  0.49610868 0.48237148 0.49730772\n",
      " 0.49521157 0.48573396 0.4952667  0.49703783 0.49202865 0.49852982\n",
      " 0.49284247], shape=(19,), dtype=float32)\n",
      "[2584.58481729 2595.70705295 2495.9298566  2483.53377283   31.3818022\n",
      "  -76.23434067   37.95266151   51.57470703  -39.98219967 2505.73797077\n",
      " 2437.7388224  2511.67320311 2501.2972787  2454.38308269 2501.57019347\n",
      " 2510.33724844 2485.54183543 2517.72261709 2489.57020491]\n",
      "1\n"
     ]
    }
   ],
   "source": [
    "test = tf.convert_to_tensor([0])\n",
    "output_test = model(test)\n",
    "print(output_test)\n",
    "print(output_test[0])\n",
    "ratio = [0,0]\n",
    "\n",
    "print(Oracle(output_test[0], PMSSM_range, ratio, succes_path_IT))"
   ]
  }
 ],
 "metadata": {
  "kernelspec": {
   "display_name": "Python 3 (ipykernel)",
   "language": "python",
   "name": "python3"
  },
  "language_info": {
   "codemirror_mode": {
    "name": "ipython",
    "version": 3
   },
   "file_extension": ".py",
   "mimetype": "text/x-python",
   "name": "python",
   "nbconvert_exporter": "python",
   "pygments_lexer": "ipython3",
   "version": "3.8.10"
  }
 },
 "nbformat": 4,
 "nbformat_minor": 5
}
