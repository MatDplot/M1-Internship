{
 "cells": [
  {
   "cell_type": "markdown",
   "id": "bf63b8ed",
   "metadata": {},
   "source": [
    "# Setup"
   ]
  },
  {
   "cell_type": "code",
   "execution_count": 1,
   "id": "ad850180",
   "metadata": {
    "scrolled": false
   },
   "outputs": [
    {
     "name": "stderr",
     "output_type": "stream",
     "text": [
      "2022-06-23 13:51:53.690408: W tensorflow/stream_executor/platform/default/dso_loader.cc:64] Could not load dynamic library 'libcudart.so.11.0'; dlerror: libcudart.so.11.0: cannot open shared object file: No such file or directory\n",
      "2022-06-23 13:51:53.690475: I tensorflow/stream_executor/cuda/cudart_stub.cc:29] Ignore above cudart dlerror if you do not have a GPU set up on your machine.\n"
     ]
    }
   ],
   "source": [
    "import numpy as np\n",
    "import tensorflow as tf\n",
    "from tensorflow import keras\n",
    "from tensorflow.keras import layers\n",
    "import tensorflow_probability as tfp\n",
    "import matplotlib.pyplot as plt\n",
    "import random as rd\n",
    "import os\n",
    "from IPython.display import clear_output\n",
    "from tqdm import tqdm"
   ]
  },
  {
   "cell_type": "markdown",
   "id": "333b2508",
   "metadata": {},
   "source": [
    "# Intervalle parametres"
   ]
  },
  {
   "cell_type": "code",
   "execution_count": 2,
   "id": "47fc5bb7",
   "metadata": {},
   "outputs": [],
   "source": [
    "#GeV [min,max]\n",
    "\n",
    "M1_range = M2_range = M3_range = [50, 5000]\n",
    "mA_range = [50, 5000]\n",
    "tanB_range = [2, 60]\n",
    "mu_range = [-10**4, 10**4]\n",
    "At_range = Ab_range = Atau_range = [-10**4, 10**4]\n",
    "Mq1L_range = Mq3L_range = [50, 5000]\n",
    "MuR_range = MdR_range = MtR_range = MbR_range = [50, 5000]\n",
    "MeL_range = MtauL_range = MeR_range = MtauR_range = [50, 5000]\n",
    "\n",
    "PMSSM_range= [M1_range, M2_range, M3_range, mA_range, tanB_range, mu_range, At_range, Ab_range, \n",
    "              Atau_range, Mq1L_range, Mq3L_range, MuR_range, MdR_range, MtR_range, MbR_range,\n",
    "             MeL_range, MtauL_range, MeR_range, MtauR_range]\n",
    "\n",
    "\n",
    "def PMSSM_param_random(PMSSM_range):\n",
    "    PMSSM_sample_random = []\n",
    "    \n",
    "    for i in PMSSM_range:\n",
    "        random_value = rd.uniform(i[0],i[1])\n",
    "        normalized_value = (random_value - i[0]) / (i[1] -i[0] )\n",
    "        PMSSM_sample_random.append(normalized_value)\n",
    "    \n",
    "    return PMSSM_sample_random"
   ]
  },
  {
   "cell_type": "markdown",
   "id": "34bb9eed",
   "metadata": {},
   "source": [
    "# Dataset"
   ]
  },
  {
   "cell_type": "code",
   "execution_count": 3,
   "id": "90832d31",
   "metadata": {},
   "outputs": [
    {
     "name": "stderr",
     "output_type": "stream",
     "text": [
      "  0%|                                                   | 0/100 [00:00<?, ?it/s]2022-06-23 13:51:58.769015: W tensorflow/stream_executor/platform/default/dso_loader.cc:64] Could not load dynamic library 'libcuda.so.1'; dlerror: libcuda.so.1: cannot open shared object file: No such file or directory\n",
      "2022-06-23 13:51:58.769063: W tensorflow/stream_executor/cuda/cuda_driver.cc:269] failed call to cuInit: UNKNOWN ERROR (303)\n",
      "2022-06-23 13:51:58.769095: I tensorflow/stream_executor/cuda/cuda_diagnostics.cc:156] kernel driver does not appear to be running on this host (MPC): /proc/driver/nvidia/version does not exist\n",
      "2022-06-23 13:51:58.770579: I tensorflow/core/platform/cpu_feature_guard.cc:151] This TensorFlow binary is optimized with oneAPI Deep Neural Network Library (oneDNN) to use the following CPU instructions in performance-critical operations:  AVX2 FMA\n",
      "To enable them in other operations, rebuild TensorFlow with the appropriate compiler flags.\n",
      "100%|████████████████████████████████████████| 100/100 [00:00<00:00, 506.27it/s]\n"
     ]
    }
   ],
   "source": [
    "#Batch de len=128 avec 19 parametres donc matrice 19*126\n",
    "taille_dataset = 100\n",
    "dataset = []\n",
    "taille_batch = 100\n",
    "\n",
    "for i in tqdm(range(taille_dataset)):\n",
    "    batch = [0 for k in range(taille_batch)]\n",
    "    for j in range(len(batch)):\n",
    "        batch[j] = PMSSM_param_random(PMSSM_range)\n",
    "    batch = tf.convert_to_tensor(batch)\n",
    "    \n",
    "    dataset.append(batch)"
   ]
  },
  {
   "cell_type": "markdown",
   "id": "383004a5",
   "metadata": {},
   "source": [
    "# Fichier slha "
   ]
  },
  {
   "cell_type": "code",
   "execution_count": 4,
   "id": "1b320c5a",
   "metadata": {},
   "outputs": [],
   "source": [
    "def write_slha(PMSSM_NN, nom_slha):\n",
    "    f = open(nom_slha, \"w\")\n",
    "    \n",
    "    f.write(\"BLOCK MODSEL \\n\")\n",
    "    f.write(\" 1    0              #MSSM \\n\")\n",
    "    \n",
    "    f.write(\"BLOCK SMINPUTS \\n\")\n",
    "    f.write(\"  1   1.279340000e+02     # alpha^(-1) SM MSbar(M1) \\n\")\n",
    "    f.write(\"  2   1.663700000e-05     # G_Fermi \\n\")\n",
    "    f.write(\"  3   0.1179              # alphas(MS) SM MSbar \\n\")\n",
    "    f.write(\"  4   91.1876             # MZ(pole) \\n\")\n",
    "    f.write(\"  5   4.18                # mb(mb) SM MSbar \\n\")\n",
    "    f.write(\"  6   172.9               # mtop(pole) \\n\")\n",
    "    f.write(\"  7   1.776860000e+00     #m mtau(pole) \\n\")\n",
    "    \n",
    "    f.write(\"BLOCK MINPAR \\n\")\n",
    "    f.write(\"  3   \"+str(PMSSM_NN[4])+\"   #tanb \\n\")\n",
    "    \n",
    "    f.write(\"BLOCK VCKMIN   #CKM param (Wolfenstein) \\n\")\n",
    "    f.write(\"  1   0.22650  #lambda \\n\")\n",
    "    f.write(\"  2   0.790    #A \\n\")\n",
    "    f.write(\"  3   0.141    #rho \\n\")\n",
    "    f.write(\"  4   0.357    #eta \\n\")\n",
    "    \n",
    "    f.write(\"BLOCK EXTPAR \\n\")\n",
    "    f.write(\"  0   \"+str(-1.0)+\"               # Q \\n\")\n",
    "    f.write(\"  1   \"+str(PMSSM_NN[0])+\"        # M1 \\n\")\n",
    "    f.write(\"  2   \"+str(PMSSM_NN[1])+\"        # M2 \\n\")\n",
    "    f.write(\"  3   \"+str(PMSSM_NN[2])+\"        # M3 \\n\")\n",
    "    f.write(\"  11   \"+str(PMSSM_NN[6])+\"       # At \\n\")\n",
    "    f.write(\"  12   \"+str(PMSSM_NN[7])+\"       # Ab \\n\")\n",
    "    f.write(\"  13   \"+str(PMSSM_NN[8])+\"       # Atau \\n\")\n",
    "    f.write(\"  23   \"+str(PMSSM_NN[5])+\"       # Mu \\n\")\n",
    "    f.write(\"  26   \"+str(PMSSM_NN[3])+\"       # Ma \\n\")\n",
    "    f.write(\"  31   \"+str(PMSSM_NN[15])+\"      # MeL \\n\")\n",
    "    f.write(\"  32   \"+str(PMSSM_NN[15])+\"      # MmuL \\n\")\n",
    "    f.write(\"  33   \"+str(PMSSM_NN[16])+\"      # MstauL \\n\")\n",
    "    f.write(\"  34   \"+str(PMSSM_NN[17])+\"      # MeR \\n\")\n",
    "    f.write(\"  35   \"+str(PMSSM_NN[17])+\"      # MmuR \\n\")\n",
    "    f.write(\"  36   \"+str(PMSSM_NN[18])+\"      # MstauR \\n\")\n",
    "    f.write(\"  41   \"+str(PMSSM_NN[9])+\"       # Mq1L \\n\")\n",
    "    f.write(\"  42   \"+str(PMSSM_NN[9])+\"       # Mq2L \\n\")\n",
    "    f.write(\"  43   \"+str(PMSSM_NN[10])+\"      # Mq3L \\n\")\n",
    "    f.write(\"  44   \"+str(PMSSM_NN[11])+\"      # MquR \\n\")\n",
    "    f.write(\"  45   \"+str(PMSSM_NN[11])+\"      # MqcR \\n\")\n",
    "    f.write(\"  46   \"+str(PMSSM_NN[13])+\"      # MqtR \\n\")\n",
    "    f.write(\"  47   \"+str(PMSSM_NN[12])+\"      # MqdR \\n\")\n",
    "    f.write(\"  48   \"+str(PMSSM_NN[12])+\"      # MqsR \\n\")\n",
    "    f.write(\"  49   \"+str(PMSSM_NN[14])+\"      # MqbR \\n\")\n",
    "    \n",
    "    f.close()"
   ]
  },
  {
   "cell_type": "markdown",
   "id": "1ec00f6e",
   "metadata": {},
   "source": [
    "# Neural Network"
   ]
  },
  {
   "cell_type": "code",
   "execution_count": 5,
   "id": "5e4a9087",
   "metadata": {},
   "outputs": [
    {
     "name": "stdout",
     "output_type": "stream",
     "text": [
      "Model: \"model\"\n",
      "_________________________________________________________________\n",
      " Layer (type)                Output Shape              Param #   \n",
      "=================================================================\n",
      " input_1 (InputLayer)        [(None, 19)]              0         \n",
      "                                                                 \n",
      " dense (Dense)               (None, 38)                760       \n",
      "                                                                 \n",
      " dense_1 (Dense)             (None, 76)                2964      \n",
      "                                                                 \n",
      " dense_2 (Dense)             (None, 38)                2926      \n",
      "                                                                 \n",
      " dense_3 (Dense)             (None, 19)                741       \n",
      "                                                                 \n",
      "=================================================================\n",
      "Total params: 7,391\n",
      "Trainable params: 7,391\n",
      "Non-trainable params: 0\n",
      "_________________________________________________________________\n"
     ]
    }
   ],
   "source": [
    "inputs = tf.keras.Input(shape=(19,), dtype='float32')\n",
    "x = keras.layers.Dense(19*2, trainable=True, activation='relu')(inputs)\n",
    "x = keras.layers.Dense(19*4, trainable=True, activation='relu')(x)\n",
    "x = keras.layers.Dense(19*2, trainable=True, activation='relu')(x)\n",
    "outputs = keras.layers.Dense(19)(x)\n",
    "model = tf.keras.Model(inputs,outputs)\n",
    "\n",
    "optimizer = tf.keras.optimizers.Adam(learning_rate=1e-3)\n",
    "\n",
    "model.summary()"
   ]
  },
  {
   "cell_type": "markdown",
   "id": "8426a846",
   "metadata": {},
   "source": [
    "### Loss function"
   ]
  },
  {
   "cell_type": "code",
   "execution_count": 6,
   "id": "da39bb21",
   "metadata": {},
   "outputs": [],
   "source": [
    "def verification_param(PMSSM_NN):\n",
    "    loss = [rd.uniform(0,1) for i in range(len(PMSSM_NN))]\n",
    "    correction = False\n",
    "    \n",
    "    for i in range(4):\n",
    "        if PMSSM_NN[i] < 50.0 or PMSSM_NN[i] > 5000:\n",
    "            loss[i] = 1.0\n",
    "            correction = True\n",
    "    \n",
    "    if PMSSM_NN[4] < 2.0 or PMSSM_NN[4] > 60.0:\n",
    "        loss[4] = 1.0\n",
    "        correction = True\n",
    "    \n",
    "    for i in range(4):\n",
    "        if PMSSM_NN[i+5] < -10**4 or PMSSM_NN[i+5] > 10**4:\n",
    "            loss[i+5] = 1.0\n",
    "            correction = True\n",
    "        \n",
    "    for i in range(10):\n",
    "        if PMSSM_NN[i+9] < 0.0 or PMSSM_NN[i+9] > 5000:\n",
    "            loss[i+9] = 1.0\n",
    "            correction = True\n",
    "    \n",
    "    loss = tf.convert_to_tensor(loss)\n",
    "    return loss , correction"
   ]
  },
  {
   "cell_type": "code",
   "execution_count": 7,
   "id": "3b5727b6",
   "metadata": {},
   "outputs": [],
   "source": [
    "def denormalization(logits):\n",
    "    PMSSM_NN = []\n",
    "    \n",
    "    compteur = 0\n",
    "    for i in logits:\n",
    "        m = i * (PMSSM_range[compteur][1]-PMSSM_range[compteur][0]) + PMSSM_range[compteur][0]\n",
    "        compteur+=1\n",
    "        PMSSM_NN.append(m)\n",
    "        \n",
    "    return PMSSM_NN"
   ]
  },
  {
   "cell_type": "code",
   "execution_count": 8,
   "id": "63cb6a0a",
   "metadata": {},
   "outputs": [],
   "source": [
    "def loss_function(logits, PMSSM_range, ratio, succes_path):\n",
    "    logits_tensor = logits\n",
    "    logits = logits.numpy()\n",
    "    \n",
    "    PMSSM_NN = denormalization(logits)\n",
    "    \n",
    "    loss , correction = verification_param(PMSSM_NN)\n",
    "    if correction == True:\n",
    "        squared_difference = tf.square(logits_tensor - loss)\n",
    "        ratio[0]+=1\n",
    "        return tf.reduce_mean(squared_difference, axis=-1)\n",
    "                   \n",
    "                \n",
    "    write_slha(PMSSM_NN, \"Jupyter Notebook/pmssm_nn.in\")    \n",
    "    \n",
    "    os.system('./SUSY/softsusy-4.1.9/softpoint.x leshouches < Jupyter\\ Notebook/pmssm_nn.in > Jupyter\\ Notebook/pmssm_nn.out')\n",
    "    \n",
    "    erreur = False\n",
    "    with open('Jupyter Notebook/pmssm_nn.out') as slha_out:\n",
    "        content = slha_out.read()\n",
    "        if 'SOFTSUSY problem' in content:\n",
    "            erreur = True\n",
    "        if 'LSP # Warning' in content:\n",
    "            erreur = True\n",
    "\n",
    "    \n",
    "    if erreur == True:\n",
    "        loss = [1.0 for i in range(len(logits))]\n",
    "        loss = tf.convert_to_tensor(loss)\n",
    "        squared_difference = tf.square(logits_tensor - loss)\n",
    "        ratio[0]+=1\n",
    "        return tf.reduce_mean(squared_difference, axis=-1)\n",
    "    \n",
    "    \n",
    "    if erreur == False:\n",
    "        ratio[1]+=1\n",
    "        commande = 'mv Jupyter\\ Notebook/pmssm_nn.out '\n",
    "        nom_fichier = 'pmssm_nn_succes_'+str(ratio[1])+'.out'\n",
    "        os.system(commande+succes_path+nom_fichier)\n",
    "        loss = [rd.uniform(0,1) for i in range(len(logits))]\n",
    "        loss = tf.convert_to_tensor(loss)\n",
    "        squared_difference = tf.square(logits_tensor - loss)\n",
    "        return tf.reduce_mean(squared_difference, axis=-1)\n",
    "        "
   ]
  },
  {
   "cell_type": "code",
   "execution_count": 9,
   "id": "c1f68173",
   "metadata": {
    "scrolled": true
   },
   "outputs": [
    {
     "name": "stdout",
     "output_type": "stream",
     "text": [
      "Epochs 1 / 100\n"
     ]
    },
    {
     "name": "stderr",
     "output_type": "stream",
     "text": [
      "100%|█████████████████████████████████████████| 100/100 [00:04<00:00, 23.06it/s]\n"
     ]
    },
    {
     "name": "stdout",
     "output_type": "stream",
     "text": [
      "Epochs 2 / 100\n"
     ]
    },
    {
     "name": "stderr",
     "output_type": "stream",
     "text": [
      "100%|█████████████████████████████████████████| 100/100 [00:05<00:00, 19.53it/s]\n"
     ]
    },
    {
     "name": "stdout",
     "output_type": "stream",
     "text": [
      "Epochs 3 / 100\n"
     ]
    },
    {
     "name": "stderr",
     "output_type": "stream",
     "text": [
      "100%|█████████████████████████████████████████| 100/100 [00:06<00:00, 15.67it/s]\n"
     ]
    },
    {
     "name": "stdout",
     "output_type": "stream",
     "text": [
      "Epochs 4 / 100\n"
     ]
    },
    {
     "name": "stderr",
     "output_type": "stream",
     "text": [
      "100%|█████████████████████████████████████████| 100/100 [00:05<00:00, 16.69it/s]\n"
     ]
    },
    {
     "name": "stdout",
     "output_type": "stream",
     "text": [
      "Epochs 5 / 100\n"
     ]
    },
    {
     "name": "stderr",
     "output_type": "stream",
     "text": [
      "100%|█████████████████████████████████████████| 100/100 [00:04<00:00, 22.87it/s]\n"
     ]
    },
    {
     "name": "stdout",
     "output_type": "stream",
     "text": [
      "Epochs 6 / 100\n"
     ]
    },
    {
     "name": "stderr",
     "output_type": "stream",
     "text": [
      "100%|█████████████████████████████████████████| 100/100 [00:03<00:00, 25.14it/s]\n"
     ]
    },
    {
     "name": "stdout",
     "output_type": "stream",
     "text": [
      "Epochs 7 / 100\n"
     ]
    },
    {
     "name": "stderr",
     "output_type": "stream",
     "text": [
      "100%|█████████████████████████████████████████| 100/100 [00:05<00:00, 19.11it/s]\n"
     ]
    },
    {
     "name": "stdout",
     "output_type": "stream",
     "text": [
      "Epochs 8 / 100\n"
     ]
    },
    {
     "name": "stderr",
     "output_type": "stream",
     "text": [
      "100%|█████████████████████████████████████████| 100/100 [00:04<00:00, 21.48it/s]\n"
     ]
    },
    {
     "name": "stdout",
     "output_type": "stream",
     "text": [
      "Epochs 9 / 100\n"
     ]
    },
    {
     "name": "stderr",
     "output_type": "stream",
     "text": [
      "100%|█████████████████████████████████████████| 100/100 [00:06<00:00, 14.84it/s]\n"
     ]
    },
    {
     "name": "stdout",
     "output_type": "stream",
     "text": [
      "Epochs 10 / 100\n"
     ]
    },
    {
     "name": "stderr",
     "output_type": "stream",
     "text": [
      "100%|█████████████████████████████████████████| 100/100 [00:06<00:00, 15.31it/s]\n"
     ]
    },
    {
     "name": "stdout",
     "output_type": "stream",
     "text": [
      "Epochs 11 / 100\n"
     ]
    },
    {
     "name": "stderr",
     "output_type": "stream",
     "text": [
      "100%|█████████████████████████████████████████| 100/100 [00:06<00:00, 15.94it/s]\n"
     ]
    },
    {
     "name": "stdout",
     "output_type": "stream",
     "text": [
      "Epochs 12 / 100\n"
     ]
    },
    {
     "name": "stderr",
     "output_type": "stream",
     "text": [
      "100%|█████████████████████████████████████████| 100/100 [00:04<00:00, 20.09it/s]\n"
     ]
    },
    {
     "name": "stdout",
     "output_type": "stream",
     "text": [
      "Epochs 13 / 100\n"
     ]
    },
    {
     "name": "stderr",
     "output_type": "stream",
     "text": [
      "100%|█████████████████████████████████████████| 100/100 [00:05<00:00, 19.38it/s]\n"
     ]
    },
    {
     "name": "stdout",
     "output_type": "stream",
     "text": [
      "Epochs 14 / 100\n"
     ]
    },
    {
     "name": "stderr",
     "output_type": "stream",
     "text": [
      "100%|█████████████████████████████████████████| 100/100 [00:05<00:00, 17.79it/s]\n"
     ]
    },
    {
     "name": "stdout",
     "output_type": "stream",
     "text": [
      "Epochs 15 / 100\n"
     ]
    },
    {
     "name": "stderr",
     "output_type": "stream",
     "text": [
      "100%|█████████████████████████████████████████| 100/100 [00:06<00:00, 15.95it/s]\n"
     ]
    },
    {
     "name": "stdout",
     "output_type": "stream",
     "text": [
      "Epochs 16 / 100\n"
     ]
    },
    {
     "name": "stderr",
     "output_type": "stream",
     "text": [
      "100%|█████████████████████████████████████████| 100/100 [00:06<00:00, 14.84it/s]\n"
     ]
    },
    {
     "name": "stdout",
     "output_type": "stream",
     "text": [
      "Epochs 17 / 100\n"
     ]
    },
    {
     "name": "stderr",
     "output_type": "stream",
     "text": [
      "100%|█████████████████████████████████████████| 100/100 [00:06<00:00, 14.98it/s]\n"
     ]
    },
    {
     "name": "stdout",
     "output_type": "stream",
     "text": [
      "Epochs 18 / 100\n"
     ]
    },
    {
     "name": "stderr",
     "output_type": "stream",
     "text": [
      "100%|█████████████████████████████████████████| 100/100 [00:06<00:00, 15.65it/s]\n"
     ]
    },
    {
     "name": "stdout",
     "output_type": "stream",
     "text": [
      "Epochs 19 / 100\n"
     ]
    },
    {
     "name": "stderr",
     "output_type": "stream",
     "text": [
      "100%|█████████████████████████████████████████| 100/100 [00:06<00:00, 15.41it/s]\n"
     ]
    },
    {
     "name": "stdout",
     "output_type": "stream",
     "text": [
      "Epochs 20 / 100\n"
     ]
    },
    {
     "name": "stderr",
     "output_type": "stream",
     "text": [
      "100%|█████████████████████████████████████████| 100/100 [00:05<00:00, 16.90it/s]\n"
     ]
    },
    {
     "name": "stdout",
     "output_type": "stream",
     "text": [
      "Epochs 21 / 100\n"
     ]
    },
    {
     "name": "stderr",
     "output_type": "stream",
     "text": [
      "100%|█████████████████████████████████████████| 100/100 [00:05<00:00, 17.31it/s]\n"
     ]
    },
    {
     "name": "stdout",
     "output_type": "stream",
     "text": [
      "Epochs 22 / 100\n"
     ]
    },
    {
     "name": "stderr",
     "output_type": "stream",
     "text": [
      "100%|█████████████████████████████████████████| 100/100 [00:05<00:00, 18.48it/s]\n"
     ]
    },
    {
     "name": "stdout",
     "output_type": "stream",
     "text": [
      "Epochs 23 / 100\n"
     ]
    },
    {
     "name": "stderr",
     "output_type": "stream",
     "text": [
      "100%|█████████████████████████████████████████| 100/100 [00:06<00:00, 14.96it/s]\n"
     ]
    },
    {
     "name": "stdout",
     "output_type": "stream",
     "text": [
      "Epochs 24 / 100\n"
     ]
    },
    {
     "name": "stderr",
     "output_type": "stream",
     "text": [
      "100%|█████████████████████████████████████████| 100/100 [00:06<00:00, 15.71it/s]\n"
     ]
    },
    {
     "name": "stdout",
     "output_type": "stream",
     "text": [
      "Epochs 25 / 100\n"
     ]
    },
    {
     "name": "stderr",
     "output_type": "stream",
     "text": [
      "100%|█████████████████████████████████████████| 100/100 [00:06<00:00, 15.54it/s]\n"
     ]
    },
    {
     "name": "stdout",
     "output_type": "stream",
     "text": [
      "Epochs 26 / 100\n"
     ]
    },
    {
     "name": "stderr",
     "output_type": "stream",
     "text": [
      "100%|█████████████████████████████████████████| 100/100 [00:06<00:00, 14.88it/s]\n"
     ]
    },
    {
     "name": "stdout",
     "output_type": "stream",
     "text": [
      "Epochs 27 / 100\n"
     ]
    },
    {
     "name": "stderr",
     "output_type": "stream",
     "text": [
      "100%|█████████████████████████████████████████| 100/100 [00:06<00:00, 15.43it/s]\n"
     ]
    },
    {
     "name": "stdout",
     "output_type": "stream",
     "text": [
      "Epochs 28 / 100\n"
     ]
    },
    {
     "name": "stderr",
     "output_type": "stream",
     "text": [
      "100%|█████████████████████████████████████████| 100/100 [00:06<00:00, 15.53it/s]\n"
     ]
    },
    {
     "name": "stdout",
     "output_type": "stream",
     "text": [
      "Epochs 29 / 100\n"
     ]
    },
    {
     "name": "stderr",
     "output_type": "stream",
     "text": [
      "100%|█████████████████████████████████████████| 100/100 [00:06<00:00, 15.33it/s]\n"
     ]
    },
    {
     "name": "stdout",
     "output_type": "stream",
     "text": [
      "Epochs 30 / 100\n"
     ]
    },
    {
     "name": "stderr",
     "output_type": "stream",
     "text": [
      "100%|█████████████████████████████████████████| 100/100 [00:06<00:00, 15.53it/s]\n"
     ]
    },
    {
     "name": "stdout",
     "output_type": "stream",
     "text": [
      "Epochs 31 / 100\n"
     ]
    },
    {
     "name": "stderr",
     "output_type": "stream",
     "text": [
      "100%|█████████████████████████████████████████| 100/100 [00:04<00:00, 21.60it/s]\n"
     ]
    },
    {
     "name": "stdout",
     "output_type": "stream",
     "text": [
      "Epochs 32 / 100\n"
     ]
    },
    {
     "name": "stderr",
     "output_type": "stream",
     "text": [
      "100%|█████████████████████████████████████████| 100/100 [00:05<00:00, 18.88it/s]\n"
     ]
    },
    {
     "name": "stdout",
     "output_type": "stream",
     "text": [
      "Epochs 33 / 100\n"
     ]
    },
    {
     "name": "stderr",
     "output_type": "stream",
     "text": [
      "100%|█████████████████████████████████████████| 100/100 [00:05<00:00, 19.12it/s]\n"
     ]
    },
    {
     "name": "stdout",
     "output_type": "stream",
     "text": [
      "Epochs 34 / 100\n"
     ]
    },
    {
     "name": "stderr",
     "output_type": "stream",
     "text": [
      "100%|█████████████████████████████████████████| 100/100 [00:06<00:00, 16.49it/s]\n"
     ]
    },
    {
     "name": "stdout",
     "output_type": "stream",
     "text": [
      "Epochs 35 / 100\n"
     ]
    },
    {
     "name": "stderr",
     "output_type": "stream",
     "text": [
      "100%|█████████████████████████████████████████| 100/100 [00:06<00:00, 15.03it/s]\n"
     ]
    },
    {
     "name": "stdout",
     "output_type": "stream",
     "text": [
      "Epochs 36 / 100\n"
     ]
    },
    {
     "name": "stderr",
     "output_type": "stream",
     "text": [
      "100%|█████████████████████████████████████████| 100/100 [00:06<00:00, 15.79it/s]\n"
     ]
    },
    {
     "name": "stdout",
     "output_type": "stream",
     "text": [
      "Epochs 37 / 100\n"
     ]
    },
    {
     "name": "stderr",
     "output_type": "stream",
     "text": [
      "100%|█████████████████████████████████████████| 100/100 [00:06<00:00, 15.03it/s]\n"
     ]
    },
    {
     "name": "stdout",
     "output_type": "stream",
     "text": [
      "Epochs 38 / 100\n"
     ]
    },
    {
     "name": "stderr",
     "output_type": "stream",
     "text": [
      "100%|█████████████████████████████████████████| 100/100 [00:06<00:00, 14.89it/s]\n"
     ]
    },
    {
     "name": "stdout",
     "output_type": "stream",
     "text": [
      "Epochs 39 / 100\n"
     ]
    },
    {
     "name": "stderr",
     "output_type": "stream",
     "text": [
      "100%|█████████████████████████████████████████| 100/100 [00:06<00:00, 15.53it/s]\n"
     ]
    },
    {
     "name": "stdout",
     "output_type": "stream",
     "text": [
      "Epochs 40 / 100\n"
     ]
    },
    {
     "name": "stderr",
     "output_type": "stream",
     "text": [
      "100%|█████████████████████████████████████████| 100/100 [00:06<00:00, 15.40it/s]\n"
     ]
    },
    {
     "name": "stdout",
     "output_type": "stream",
     "text": [
      "Epochs 41 / 100\n"
     ]
    },
    {
     "name": "stderr",
     "output_type": "stream",
     "text": [
      "100%|█████████████████████████████████████████| 100/100 [00:06<00:00, 15.35it/s]\n"
     ]
    },
    {
     "name": "stdout",
     "output_type": "stream",
     "text": [
      "Epochs 42 / 100\n"
     ]
    },
    {
     "name": "stderr",
     "output_type": "stream",
     "text": [
      "100%|█████████████████████████████████████████| 100/100 [00:06<00:00, 15.56it/s]\n"
     ]
    },
    {
     "name": "stdout",
     "output_type": "stream",
     "text": [
      "Epochs 43 / 100\n"
     ]
    },
    {
     "name": "stderr",
     "output_type": "stream",
     "text": [
      "100%|█████████████████████████████████████████| 100/100 [00:06<00:00, 15.37it/s]\n"
     ]
    },
    {
     "name": "stdout",
     "output_type": "stream",
     "text": [
      "Epochs 44 / 100\n"
     ]
    },
    {
     "name": "stderr",
     "output_type": "stream",
     "text": [
      "100%|█████████████████████████████████████████| 100/100 [00:06<00:00, 15.43it/s]\n"
     ]
    },
    {
     "name": "stdout",
     "output_type": "stream",
     "text": [
      "Epochs 45 / 100\n"
     ]
    },
    {
     "name": "stderr",
     "output_type": "stream",
     "text": [
      "100%|█████████████████████████████████████████| 100/100 [00:06<00:00, 15.68it/s]\n"
     ]
    },
    {
     "name": "stdout",
     "output_type": "stream",
     "text": [
      "Epochs 46 / 100\n"
     ]
    },
    {
     "name": "stderr",
     "output_type": "stream",
     "text": [
      "100%|█████████████████████████████████████████| 100/100 [00:06<00:00, 15.38it/s]\n"
     ]
    },
    {
     "name": "stdout",
     "output_type": "stream",
     "text": [
      "Epochs 47 / 100\n"
     ]
    },
    {
     "name": "stderr",
     "output_type": "stream",
     "text": [
      "100%|█████████████████████████████████████████| 100/100 [00:06<00:00, 14.95it/s]\n"
     ]
    },
    {
     "name": "stdout",
     "output_type": "stream",
     "text": [
      "Epochs 48 / 100\n"
     ]
    },
    {
     "name": "stderr",
     "output_type": "stream",
     "text": [
      "100%|█████████████████████████████████████████| 100/100 [00:06<00:00, 15.65it/s]\n"
     ]
    },
    {
     "name": "stdout",
     "output_type": "stream",
     "text": [
      "Epochs 49 / 100\n"
     ]
    },
    {
     "name": "stderr",
     "output_type": "stream",
     "text": [
      "100%|█████████████████████████████████████████| 100/100 [00:06<00:00, 15.44it/s]\n"
     ]
    },
    {
     "name": "stdout",
     "output_type": "stream",
     "text": [
      "Epochs 50 / 100\n"
     ]
    },
    {
     "name": "stderr",
     "output_type": "stream",
     "text": [
      "100%|█████████████████████████████████████████| 100/100 [00:06<00:00, 16.33it/s]\n"
     ]
    },
    {
     "name": "stdout",
     "output_type": "stream",
     "text": [
      "Epochs 51 / 100\n"
     ]
    },
    {
     "name": "stderr",
     "output_type": "stream",
     "text": [
      "100%|█████████████████████████████████████████| 100/100 [00:04<00:00, 20.83it/s]\n"
     ]
    },
    {
     "name": "stdout",
     "output_type": "stream",
     "text": [
      "Epochs 52 / 100\n"
     ]
    },
    {
     "name": "stderr",
     "output_type": "stream",
     "text": [
      "100%|█████████████████████████████████████████| 100/100 [00:04<00:00, 23.28it/s]\n"
     ]
    },
    {
     "name": "stdout",
     "output_type": "stream",
     "text": [
      "Epochs 53 / 100\n"
     ]
    },
    {
     "name": "stderr",
     "output_type": "stream",
     "text": [
      "100%|█████████████████████████████████████████| 100/100 [00:04<00:00, 23.85it/s]\n"
     ]
    },
    {
     "name": "stdout",
     "output_type": "stream",
     "text": [
      "Epochs 54 / 100\n"
     ]
    },
    {
     "name": "stderr",
     "output_type": "stream",
     "text": [
      "100%|█████████████████████████████████████████| 100/100 [00:03<00:00, 28.56it/s]\n"
     ]
    },
    {
     "name": "stdout",
     "output_type": "stream",
     "text": [
      "Epochs 55 / 100\n"
     ]
    },
    {
     "name": "stderr",
     "output_type": "stream",
     "text": [
      "100%|█████████████████████████████████████████| 100/100 [00:04<00:00, 24.32it/s]\n"
     ]
    },
    {
     "name": "stdout",
     "output_type": "stream",
     "text": [
      "Epochs 56 / 100\n"
     ]
    },
    {
     "name": "stderr",
     "output_type": "stream",
     "text": [
      "100%|█████████████████████████████████████████| 100/100 [00:03<00:00, 25.11it/s]\n"
     ]
    },
    {
     "name": "stdout",
     "output_type": "stream",
     "text": [
      "Epochs 57 / 100\n"
     ]
    },
    {
     "name": "stderr",
     "output_type": "stream",
     "text": [
      "100%|█████████████████████████████████████████| 100/100 [00:03<00:00, 30.59it/s]\n"
     ]
    },
    {
     "name": "stdout",
     "output_type": "stream",
     "text": [
      "Epochs 58 / 100\n"
     ]
    },
    {
     "name": "stderr",
     "output_type": "stream",
     "text": [
      "100%|█████████████████████████████████████████| 100/100 [00:03<00:00, 29.43it/s]\n"
     ]
    },
    {
     "name": "stdout",
     "output_type": "stream",
     "text": [
      "Epochs 59 / 100\n"
     ]
    },
    {
     "name": "stderr",
     "output_type": "stream",
     "text": [
      "100%|█████████████████████████████████████████| 100/100 [00:03<00:00, 29.91it/s]\n"
     ]
    },
    {
     "name": "stdout",
     "output_type": "stream",
     "text": [
      "Epochs 60 / 100\n"
     ]
    },
    {
     "name": "stderr",
     "output_type": "stream",
     "text": [
      "100%|█████████████████████████████████████████| 100/100 [00:03<00:00, 31.44it/s]\n"
     ]
    },
    {
     "name": "stdout",
     "output_type": "stream",
     "text": [
      "Epochs 61 / 100\n"
     ]
    },
    {
     "name": "stderr",
     "output_type": "stream",
     "text": [
      "100%|█████████████████████████████████████████| 100/100 [00:03<00:00, 31.83it/s]\n"
     ]
    },
    {
     "name": "stdout",
     "output_type": "stream",
     "text": [
      "Epochs 62 / 100\n"
     ]
    },
    {
     "name": "stderr",
     "output_type": "stream",
     "text": [
      "100%|█████████████████████████████████████████| 100/100 [00:02<00:00, 34.35it/s]\n"
     ]
    },
    {
     "name": "stdout",
     "output_type": "stream",
     "text": [
      "Epochs 63 / 100\n"
     ]
    },
    {
     "name": "stderr",
     "output_type": "stream",
     "text": [
      "100%|█████████████████████████████████████████| 100/100 [00:03<00:00, 32.18it/s]\n"
     ]
    },
    {
     "name": "stdout",
     "output_type": "stream",
     "text": [
      "Epochs 64 / 100\n"
     ]
    },
    {
     "name": "stderr",
     "output_type": "stream",
     "text": [
      "100%|█████████████████████████████████████████| 100/100 [00:03<00:00, 32.55it/s]\n"
     ]
    },
    {
     "name": "stdout",
     "output_type": "stream",
     "text": [
      "Epochs 65 / 100\n"
     ]
    },
    {
     "name": "stderr",
     "output_type": "stream",
     "text": [
      "100%|█████████████████████████████████████████| 100/100 [00:03<00:00, 30.87it/s]\n"
     ]
    },
    {
     "name": "stdout",
     "output_type": "stream",
     "text": [
      "Epochs 66 / 100\n"
     ]
    },
    {
     "name": "stderr",
     "output_type": "stream",
     "text": [
      "100%|█████████████████████████████████████████| 100/100 [00:03<00:00, 29.56it/s]\n"
     ]
    },
    {
     "name": "stdout",
     "output_type": "stream",
     "text": [
      "Epochs 67 / 100\n"
     ]
    },
    {
     "name": "stderr",
     "output_type": "stream",
     "text": [
      "100%|█████████████████████████████████████████| 100/100 [00:03<00:00, 31.36it/s]\n"
     ]
    },
    {
     "name": "stdout",
     "output_type": "stream",
     "text": [
      "Epochs 68 / 100\n"
     ]
    },
    {
     "name": "stderr",
     "output_type": "stream",
     "text": [
      "100%|█████████████████████████████████████████| 100/100 [00:03<00:00, 25.99it/s]\n"
     ]
    },
    {
     "name": "stdout",
     "output_type": "stream",
     "text": [
      "Epochs 69 / 100\n"
     ]
    },
    {
     "name": "stderr",
     "output_type": "stream",
     "text": [
      "100%|█████████████████████████████████████████| 100/100 [00:03<00:00, 29.15it/s]\n"
     ]
    },
    {
     "name": "stdout",
     "output_type": "stream",
     "text": [
      "Epochs 70 / 100\n"
     ]
    },
    {
     "name": "stderr",
     "output_type": "stream",
     "text": [
      "100%|█████████████████████████████████████████| 100/100 [00:03<00:00, 26.15it/s]\n"
     ]
    },
    {
     "name": "stdout",
     "output_type": "stream",
     "text": [
      "Epochs 71 / 100\n"
     ]
    },
    {
     "name": "stderr",
     "output_type": "stream",
     "text": [
      "100%|█████████████████████████████████████████| 100/100 [00:03<00:00, 27.11it/s]\n"
     ]
    },
    {
     "name": "stdout",
     "output_type": "stream",
     "text": [
      "Epochs 72 / 100\n"
     ]
    },
    {
     "name": "stderr",
     "output_type": "stream",
     "text": [
      "100%|█████████████████████████████████████████| 100/100 [00:05<00:00, 17.91it/s]\n"
     ]
    },
    {
     "name": "stdout",
     "output_type": "stream",
     "text": [
      "Epochs 73 / 100\n"
     ]
    },
    {
     "name": "stderr",
     "output_type": "stream",
     "text": [
      "100%|█████████████████████████████████████████| 100/100 [00:06<00:00, 14.99it/s]\n"
     ]
    },
    {
     "name": "stdout",
     "output_type": "stream",
     "text": [
      "Epochs 74 / 100\n"
     ]
    },
    {
     "name": "stderr",
     "output_type": "stream",
     "text": [
      "100%|█████████████████████████████████████████| 100/100 [00:06<00:00, 15.50it/s]\n"
     ]
    },
    {
     "name": "stdout",
     "output_type": "stream",
     "text": [
      "Epochs 75 / 100\n"
     ]
    },
    {
     "name": "stderr",
     "output_type": "stream",
     "text": [
      "100%|█████████████████████████████████████████| 100/100 [00:06<00:00, 15.54it/s]\n"
     ]
    },
    {
     "name": "stdout",
     "output_type": "stream",
     "text": [
      "Epochs 76 / 100\n"
     ]
    },
    {
     "name": "stderr",
     "output_type": "stream",
     "text": [
      "100%|█████████████████████████████████████████| 100/100 [00:06<00:00, 14.95it/s]\n"
     ]
    },
    {
     "name": "stdout",
     "output_type": "stream",
     "text": [
      "Epochs 77 / 100\n"
     ]
    },
    {
     "name": "stderr",
     "output_type": "stream",
     "text": [
      "100%|█████████████████████████████████████████| 100/100 [00:06<00:00, 15.55it/s]\n"
     ]
    },
    {
     "name": "stdout",
     "output_type": "stream",
     "text": [
      "Epochs 78 / 100\n"
     ]
    },
    {
     "name": "stderr",
     "output_type": "stream",
     "text": [
      "100%|█████████████████████████████████████████| 100/100 [00:06<00:00, 15.59it/s]\n"
     ]
    },
    {
     "name": "stdout",
     "output_type": "stream",
     "text": [
      "Epochs 79 / 100\n"
     ]
    },
    {
     "name": "stderr",
     "output_type": "stream",
     "text": [
      "100%|█████████████████████████████████████████| 100/100 [00:06<00:00, 14.97it/s]\n"
     ]
    },
    {
     "name": "stdout",
     "output_type": "stream",
     "text": [
      "Epochs 80 / 100\n"
     ]
    },
    {
     "name": "stderr",
     "output_type": "stream",
     "text": [
      "100%|█████████████████████████████████████████| 100/100 [00:06<00:00, 15.60it/s]\n"
     ]
    },
    {
     "name": "stdout",
     "output_type": "stream",
     "text": [
      "Epochs 81 / 100\n"
     ]
    },
    {
     "name": "stderr",
     "output_type": "stream",
     "text": [
      "100%|█████████████████████████████████████████| 100/100 [00:06<00:00, 14.83it/s]\n"
     ]
    },
    {
     "name": "stdout",
     "output_type": "stream",
     "text": [
      "Epochs 82 / 100\n"
     ]
    },
    {
     "name": "stderr",
     "output_type": "stream",
     "text": [
      "100%|█████████████████████████████████████████| 100/100 [00:06<00:00, 15.17it/s]\n"
     ]
    },
    {
     "name": "stdout",
     "output_type": "stream",
     "text": [
      "Epochs 83 / 100\n"
     ]
    },
    {
     "name": "stderr",
     "output_type": "stream",
     "text": [
      "100%|█████████████████████████████████████████| 100/100 [00:06<00:00, 15.53it/s]\n"
     ]
    },
    {
     "name": "stdout",
     "output_type": "stream",
     "text": [
      "Epochs 84 / 100\n"
     ]
    },
    {
     "name": "stderr",
     "output_type": "stream",
     "text": [
      "100%|█████████████████████████████████████████| 100/100 [00:06<00:00, 14.72it/s]\n"
     ]
    },
    {
     "name": "stdout",
     "output_type": "stream",
     "text": [
      "Epochs 85 / 100\n"
     ]
    },
    {
     "name": "stderr",
     "output_type": "stream",
     "text": [
      "100%|█████████████████████████████████████████| 100/100 [00:05<00:00, 17.99it/s]\n"
     ]
    },
    {
     "name": "stdout",
     "output_type": "stream",
     "text": [
      "Epochs 86 / 100\n"
     ]
    },
    {
     "name": "stderr",
     "output_type": "stream",
     "text": [
      "100%|█████████████████████████████████████████| 100/100 [00:06<00:00, 14.53it/s]\n"
     ]
    },
    {
     "name": "stdout",
     "output_type": "stream",
     "text": [
      "Epochs 87 / 100\n"
     ]
    },
    {
     "name": "stderr",
     "output_type": "stream",
     "text": [
      "100%|█████████████████████████████████████████| 100/100 [00:06<00:00, 15.58it/s]\n"
     ]
    },
    {
     "name": "stdout",
     "output_type": "stream",
     "text": [
      "Epochs 88 / 100\n"
     ]
    },
    {
     "name": "stderr",
     "output_type": "stream",
     "text": [
      "100%|█████████████████████████████████████████| 100/100 [00:06<00:00, 15.38it/s]\n"
     ]
    },
    {
     "name": "stdout",
     "output_type": "stream",
     "text": [
      "Epochs 89 / 100\n"
     ]
    },
    {
     "name": "stderr",
     "output_type": "stream",
     "text": [
      "100%|█████████████████████████████████████████| 100/100 [00:06<00:00, 15.68it/s]\n"
     ]
    },
    {
     "name": "stdout",
     "output_type": "stream",
     "text": [
      "Epochs 90 / 100\n"
     ]
    },
    {
     "name": "stderr",
     "output_type": "stream",
     "text": [
      "100%|█████████████████████████████████████████| 100/100 [00:05<00:00, 17.99it/s]\n"
     ]
    },
    {
     "name": "stdout",
     "output_type": "stream",
     "text": [
      "Epochs 91 / 100\n"
     ]
    },
    {
     "name": "stderr",
     "output_type": "stream",
     "text": [
      "100%|█████████████████████████████████████████| 100/100 [00:06<00:00, 14.86it/s]\n"
     ]
    },
    {
     "name": "stdout",
     "output_type": "stream",
     "text": [
      "Epochs 92 / 100\n"
     ]
    },
    {
     "name": "stderr",
     "output_type": "stream",
     "text": [
      "100%|█████████████████████████████████████████| 100/100 [00:06<00:00, 15.61it/s]\n"
     ]
    },
    {
     "name": "stdout",
     "output_type": "stream",
     "text": [
      "Epochs 93 / 100\n"
     ]
    },
    {
     "name": "stderr",
     "output_type": "stream",
     "text": [
      "100%|█████████████████████████████████████████| 100/100 [00:06<00:00, 15.09it/s]\n"
     ]
    },
    {
     "name": "stdout",
     "output_type": "stream",
     "text": [
      "Epochs 94 / 100\n"
     ]
    },
    {
     "name": "stderr",
     "output_type": "stream",
     "text": [
      "100%|█████████████████████████████████████████| 100/100 [00:06<00:00, 15.28it/s]\n"
     ]
    },
    {
     "name": "stdout",
     "output_type": "stream",
     "text": [
      "Epochs 95 / 100\n"
     ]
    },
    {
     "name": "stderr",
     "output_type": "stream",
     "text": [
      "100%|█████████████████████████████████████████| 100/100 [00:06<00:00, 15.30it/s]\n"
     ]
    },
    {
     "name": "stdout",
     "output_type": "stream",
     "text": [
      "Epochs 96 / 100\n"
     ]
    },
    {
     "name": "stderr",
     "output_type": "stream",
     "text": [
      "100%|█████████████████████████████████████████| 100/100 [00:06<00:00, 14.49it/s]\n"
     ]
    },
    {
     "name": "stdout",
     "output_type": "stream",
     "text": [
      "Epochs 97 / 100\n"
     ]
    },
    {
     "name": "stderr",
     "output_type": "stream",
     "text": [
      "100%|█████████████████████████████████████████| 100/100 [00:06<00:00, 15.20it/s]\n"
     ]
    },
    {
     "name": "stdout",
     "output_type": "stream",
     "text": [
      "Epochs 98 / 100\n"
     ]
    },
    {
     "name": "stderr",
     "output_type": "stream",
     "text": [
      "100%|█████████████████████████████████████████| 100/100 [00:06<00:00, 15.02it/s]\n"
     ]
    },
    {
     "name": "stdout",
     "output_type": "stream",
     "text": [
      "Epochs 99 / 100\n"
     ]
    },
    {
     "name": "stderr",
     "output_type": "stream",
     "text": [
      "100%|█████████████████████████████████████████| 100/100 [00:06<00:00, 14.88it/s]\n"
     ]
    },
    {
     "name": "stdout",
     "output_type": "stream",
     "text": [
      "Epochs 100 / 100\n"
     ]
    },
    {
     "name": "stderr",
     "output_type": "stream",
     "text": [
      "100%|█████████████████████████████████████████| 100/100 [00:06<00:00, 15.22it/s]\n"
     ]
    }
   ],
   "source": [
    "loss_evolution = []\n",
    "ratio = [0,0]\n",
    "os.chdir('/home/mathis/Stage M1/')\n",
    "os.system('rm Jupyter\\ Notebook/softsusy_succes/*')\n",
    "succes_path = 'Jupyter\\ Notebook/softsusy_succes/'\n",
    "\n",
    "epoch = 100\n",
    "for k in range(epoch):\n",
    "    print('Epochs {} / {}'.format(k+1,epoch))\n",
    "    sum_loss = 0\n",
    "    for i in tqdm(dataset):\n",
    "        with tf.GradientTape() as tape:\n",
    "            logits = model(i)\n",
    "            loss = loss_function(logits[0], PMSSM_range, ratio, succes_path)  \n",
    "            gradients = tape.gradient(loss, model.trainable_weights)\n",
    "\n",
    "            sum_loss+=loss\n",
    "    \n",
    "        optimizer.apply_gradients(zip(gradients, model.trainable_weights))\n",
    "    loss_evolution.append(sum_loss/len(dataset))"
   ]
  },
  {
   "cell_type": "code",
   "execution_count": 10,
   "id": "bdc3945d",
   "metadata": {},
   "outputs": [
    {
     "name": "stdout",
     "output_type": "stream",
     "text": [
      "Nombre d'échecs: 3773\n",
      "Nombre de succes: 6227\n"
     ]
    }
   ],
   "source": [
    "print(\"Nombre d'échecs:\",ratio[0])\n",
    "print(\"Nombre de succes:\",ratio[1])"
   ]
  },
  {
   "cell_type": "markdown",
   "id": "d6a4c384",
   "metadata": {},
   "source": [
    "# Plots"
   ]
  },
  {
   "cell_type": "markdown",
   "id": "8f3c08de",
   "metadata": {},
   "source": [
    "## Loss"
   ]
  },
  {
   "cell_type": "code",
   "execution_count": 11,
   "id": "690056c0",
   "metadata": {},
   "outputs": [
    {
     "data": {
      "image/png": "[encoded data removed]",
      "text/plain": [
       "<Figure size 432x288 with 1 Axes>"
      ]
     },
     "metadata": {
      "needs_background": "light"
     },
     "output_type": "display_data"
    }
   ],
   "source": [
    "time = [i+1 for i in range(epoch)]\n",
    "\n",
    "plt.plot(time, loss_evolution, 'ob',label='loss')\n",
    "plt.yscale('log')"
   ]
  },
  {
   "cell_type": "markdown",
   "id": "bb32813d",
   "metadata": {},
   "source": [
    "## Récupération données "
   ]
  },
  {
   "cell_type": "code",
   "execution_count": 20,
   "id": "99d88a37",
   "metadata": {},
   "outputs": [],
   "source": [
    "def recuperation_slha(folder,filename,sus_mass,param,succes):\n",
    "    warning = 0\n",
    "    for j in range(succes):\n",
    "        file_name =folder+filename+str(j+1)+'.out' \n",
    "        \n",
    "        with open(file_name) as file:\n",
    "            for indice, ligne in enumerate(file):\n",
    "                if 'tanb' in ligne:\n",
    "                    indice_tanb = indice\n",
    "                \n",
    "                if 'M_1(MX)' in ligne:\n",
    "                    indices_M = [indice+i for i in range(3)]\n",
    "                if 'At(MX)' in ligne:\n",
    "                    indices_A = [indice+i for i in range(3)]\n",
    "                if 'mu(MX)' in ligne:\n",
    "                    indice_mu = indice\n",
    "                if 'mA(pole)' in ligne:\n",
    "                    indice_mA = indice\n",
    "                if 'meL(MX)' in ligne:\n",
    "                    indices_mlL = [indice+i for i in range(3)]\n",
    "                if 'meR(MX)' in ligne:\n",
    "                    indices_mlR = [indice+i for i in range(3)]\n",
    "                if 'mqL1(MX)' in ligne:\n",
    "                    indices_qL = [indice+i for i in range(3)]\n",
    "                if 'muR(MX)' in ligne:\n",
    "                    indices_q = [indice+i for i in range(6)]\n",
    "                    \n",
    "                if 'h0' in ligne:\n",
    "                    indices_higgs = [indice+i for i in range(2)]\n",
    "                if '~g' in ligne:\n",
    "                    indice_g = indice\n",
    "                if '~neutralino(1)' in ligne:\n",
    "                    indices_neutralino = [indice,indice+1,indice+3,indice+4]\n",
    "                if '~d_L' in ligne:\n",
    "                    indices_squarkL = [indice+i for i in range(6)]\n",
    "                if '~d_R' in ligne:\n",
    "                    indices_squarkR = [indice+i for i in range(6)]\n",
    "                if '~chargino(1)' in ligne:\n",
    "                    indices_chargino = [indice,indice+3]\n",
    "        \n",
    "        \n",
    "        file = open(file_name)\n",
    "        lignes = file.readlines()\n",
    "        \n",
    "        for step, i in enumerate(param[0]):\n",
    "            i.append(float(lignes[indices_M[step]].split()[1]))\n",
    "\n",
    "        for step, i in enumerate(param[1]):\n",
    "            i.append(float(lignes[indices_A[step]].split()[1]))  \n",
    "            \n",
    "        param[2].append(float(lignes[indice_mu].split()[1]))\n",
    "        \n",
    "        param[3].append(float(lignes[indice_mA].split()[1]))\n",
    "        \n",
    "        for step, i in enumerate(param[4]):\n",
    "            i.append(float(lignes[indices_mlL[step]].split()[1]))\n",
    "            \n",
    "        for step, i in enumerate(param[5]):\n",
    "            i.append(float(lignes[indices_mlR[step]].split()[1]))\n",
    "            \n",
    "        for step, i in enumerate(param[6]):\n",
    "            i.append(float(lignes[indices_qL[step]].split()[1]))\n",
    "        \n",
    "        for step, i in enumerate(param[7]):\n",
    "            i.append(float(lignes[indices_q[step]].split()[1]))\n",
    "            \n",
    "        param[8].append(float(lignes[indice_tanb].split()[1]))\n",
    "            \n",
    "        \n",
    "        sus_mass[0].append(float(lignes[indice_g].split()[1]))\n",
    "        \n",
    "        for step, i in enumerate(sus_mass[1]):\n",
    "            i.append(float(lignes[indices_neutralino[step]].split()[1]))\n",
    "            \n",
    "        for step, i in enumerate(sus_mass[2]):\n",
    "            i.append(float(lignes[indices_squarkL[step]].split()[1]))\n",
    "\n",
    "        for step, i in enumerate(sus_mass[3]):\n",
    "            i.append(float(lignes[indices_squarkR[step]].split()[1]))\n",
    "        \n",
    "        for step, i in enumerate(sus_mass[4]):\n",
    "            i.append(float(lignes[indices_higgs[step]].split()[1]))\n",
    "\n",
    "        for step, i in enumerate(sus_mass[5]):\n",
    "            i.append(float(lignes[indices_chargino[step]].split()[1]))        \n",
    "    \n",
    "    \n",
    "        with open(file_name) as file:\n",
    "            if 'LSP # Warning' in file.read():\n",
    "                warning+=1\n",
    "    return warning"
   ]
  },
  {
   "cell_type": "code",
   "execution_count": 21,
   "id": "1c1eb73a",
   "metadata": {},
   "outputs": [
    {
     "name": "stdout",
     "output_type": "stream",
     "text": [
      "Nombre warning: 0\n"
     ]
    }
   ],
   "source": [
    "g_mass = []\n",
    "neutralino_mass = [[] for i in range(4)]   #[N1 , N2 , N3 , N4]\n",
    "squarkL_mass = [[] for i in range(6)]      #[d , u , s , c , b , t]\n",
    "squarkR_mass = [[] for i in range(6)]       \n",
    "higgs_mass = [[] for i in range(2)]        #[h0 , H0]\n",
    "chargino_mass = [[] for i in range(2)]     #[neutralino1 , neutralino2]\n",
    "\n",
    "M_param = [[] for i in range(3)]           #[M1 , M2 , M3]\n",
    "A_param = [[] for i in range(3)]           #[At , Ab , Atau]\n",
    "mu = []\n",
    "mA_param = []\n",
    "mlL_param = [[] for i in range(3)]         #[meL , mmuL , mtauL]\n",
    "mlR_param = [[] for i in range(3)]         #[meR , mmuR , mtauR]\n",
    "mqL_param = [[] for i in range(3)]         #[mqL1 , mqL2 , mqL3]\n",
    "quark_param = [[] for i in range(6)]       #[u , c , t , d , s , b]\n",
    "tanB = []\n",
    "\n",
    "sus_mass = [g_mass,neutralino_mass,squarkL_mass,squarkR_mass,higgs_mass,chargino_mass]\n",
    "param = [M_param,A_param,mu,mA_param,mlL_param,mlR_param,mqL_param,quark_param,tanB]\n",
    "\n",
    "folder = 'Jupyter Notebook/softsusy_succes/'\n",
    "file_name = 'pmssm_nn_succes_'\n",
    "warning = recuperation_slha(folder,file_name,sus_mass,param,ratio[1])\n",
    "\n",
    "print('Nombre warning:',warning)"
   ]
  },
  {
   "cell_type": "markdown",
   "id": "94469399",
   "metadata": {},
   "source": [
    "## Plot mass "
   ]
  },
  {
   "cell_type": "code",
   "execution_count": 14,
   "id": "806681a2",
   "metadata": {},
   "outputs": [],
   "source": [
    "def plot_histo(title, xlabel, ylabel, list_hist,bins, label, legend = False, histtype='bar'):\n",
    "    for indice, hist in enumerate(list_hist):\n",
    "        plt.hist(hist,bins,label=label[indice],histtype=histtype)\n",
    "    plt.title(title)\n",
    "    plt.xlabel(xlabel)\n",
    "    plt.ylabel(ylabel)\n",
    "    if legend == True:\n",
    "        plt.legend()\n",
    "    \n",
    "def subplot_histo(titre, xlabel, ylabel, x, y, share, subtitle, hist_list, label, legend = False, histtype='bar'):  \n",
    "    fig , ax = plt.subplots(x, y, sharex=share[0], sharey=share[1], constrained_layout = True)\n",
    "    plt.suptitle(titre)\n",
    "    fig.text(0.5, -0.05, xlabel, ha='center')\n",
    "    fig.text(-0.04, 0.5, ylabel, va='center', rotation='vertical')\n",
    "\n",
    "    for indice, hist in enumerate(hist_list): \n",
    "        compteur = 0\n",
    "        for i in range(x):\n",
    "            if y != 1:\n",
    "                for j in range(y):\n",
    "                    ax[i, j].hist(hist[compteur],100,histtype=histtype,label=label[indice])\n",
    "                    ax[i, j].set_title(subtitle[compteur])\n",
    "                    compteur+=1\n",
    "                    if legend == True:\n",
    "                        ax[i, j].legend()\n",
    "            else:\n",
    "                ax[i].hist(hist[compteur],100,histtype=histtype, label=label[indice])\n",
    "                ax[i].set_title(subtitle[compteur])\n",
    "                compteur+=1\n",
    "                if legend == True:\n",
    "                    ax[i].legend()"
   ]
  },
  {
   "cell_type": "code",
   "execution_count": 15,
   "id": "6b97c888",
   "metadata": {},
   "outputs": [
    {
     "data": {
      "image/png": "[encoded data removed]",
      "text/plain": [
       "<Figure size 432x288 with 1 Axes>"
      ]
     },
     "metadata": {
      "needs_background": "light"
     },
     "output_type": "display_data"
    },
    {
     "data": {
      "image/png": "[encoded data removed]",
      "text/plain": [
       "<Figure size 432x288 with 4 Axes>"
      ]
     },
     "metadata": {
      "needs_background": "light"
     },
     "output_type": "display_data"
    },
    {
     "data": {
      "image/png": "[encoded data removed]",
      "text/plain": [
       "<Figure size 432x288 with 6 Axes>"
      ]
     },
     "metadata": {
      "needs_background": "light"
     },
     "output_type": "display_data"
    },
    {
     "data": {
      "image/png": "[encoded data removed]",
      "text/plain": [
       "<Figure size 432x288 with 6 Axes>"
      ]
     },
     "metadata": {
      "needs_background": "light"
     },
     "output_type": "display_data"
    },
    {
     "data": {
      "image/png": "[encoded data removed]",
      "text/plain": [
       "<Figure size 432x288 with 2 Axes>"
      ]
     },
     "metadata": {
      "needs_background": "light"
     },
     "output_type": "display_data"
    },
    {
     "data": {
      "image/png": "[encoded data removed]",
      "text/plain": [
       "<Figure size 432x288 with 2 Axes>"
      ]
     },
     "metadata": {
      "needs_background": "light"
     },
     "output_type": "display_data"
    }
   ],
   "source": [
    "titre = r'Histogramme de la masse du gluino $\\widetilde{g}$'\n",
    "xlabel = 'Masse (MeV)'\n",
    "ylabel = 'N'\n",
    "plot_histo(titre,xlabel,ylabel,[g_mass],100,['NN'])\n",
    "\n",
    "titre = 'Histogramme de la masse des neutralinos'\n",
    "subtitle = [r'$\\widetilde{\\chi_1^0}$',r'$\\widetilde{\\chi_2^0}$',r'$\\widetilde{\\chi_3^0}$',r'$\\widetilde{\\chi_4^0}$']\n",
    "share = [False,True]\n",
    "subplot_histo(titre,xlabel,ylabel,2,2,share,subtitle,[neutralino_mass],['NN'])\n",
    "\n",
    "titre = 'Histogramme de la masse des quarks L'\n",
    "subtitle = [r'$\\widetilde{d}$',r'$\\widetilde{u}$',r'$\\widetilde{s}$',r'$\\widetilde{c}$',r'$\\widetilde{t}$',r'$\\widetilde{b}$']    \n",
    "subplot_histo(titre,xlabel,ylabel,2,3,share,subtitle,[squarkL_mass],['NN'])\n",
    "\n",
    "titre = 'Histogramme de la masse des quarks R' \n",
    "subplot_histo(titre,xlabel,ylabel,2,3,share,subtitle,[squarkR_mass],['NN'])\n",
    "\n",
    "titre = 'Histogramme de la masse des bosons de Higgs'    \n",
    "subtitle = [r'$h_0$',r'$H_0$']\n",
    "subplot_histo(titre,xlabel,ylabel,2,1,share,subtitle,[higgs_mass],['NN'])\n",
    "\n",
    "titre = 'Histogramme de la masse des charginos'    \n",
    "subtitle = [r'$\\widetilde{\\chi_1^+}$',r'$\\widetilde{\\chi_1^-}$']\n",
    "subplot_histo(titre,xlabel,ylabel,2,1,share,subtitle,[chargino_mass],['NN'])"
   ]
  },
  {
   "cell_type": "markdown",
   "id": "1c4b5982",
   "metadata": {},
   "source": [
    "## Plots param "
   ]
  },
  {
   "cell_type": "code",
   "execution_count": 16,
   "id": "78b08b1d",
   "metadata": {},
   "outputs": [
    {
     "data": {
      "image/png": "[encoded data removed]",
      "text/plain": [
       "<Figure size 432x288 with 1 Axes>"
      ]
     },
     "metadata": {
      "needs_background": "light"
     },
     "output_type": "display_data"
    },
    {
     "data": {
      "image/png": "[encoded data removed]",
      "text/plain": [
       "<Figure size 432x288 with 6 Axes>"
      ]
     },
     "metadata": {
      "needs_background": "light"
     },
     "output_type": "display_data"
    },
    {
     "data": {
      "image/png": "[encoded data removed]",
      "text/plain": [
       "<Figure size 432x288 with 3 Axes>"
      ]
     },
     "metadata": {
      "needs_background": "light"
     },
     "output_type": "display_data"
    }
   ],
   "source": [
    "titre = r'Histogramme du paramètre $\\mu$'\n",
    "plot_histo(titre,xlabel,ylabel,[mu],100,['NN'])\n",
    "\n",
    "titre = 'Histogramme des paramètres de masse des quarks'\n",
    "subtitle = [r'$\\widetilde{u}$',r'$\\widetilde{c}$',r'$\\widetilde{t}$',r'$\\widetilde{d}$',r'$\\widetilde{s}$',r'$\\widetilde{b}$']\n",
    "subplot_histo(titre,xlabel,ylabel,2,3,share,subtitle,[quark_param],['NN'])\n",
    "\n",
    "titre = 'Histogramme des paramètres de masse'\n",
    "subtitle_M = [r'$M_1$',r'$M_2$',r'$M_3$']\n",
    "subplot_histo(titre,xlabel,ylabel,3,1,share,subtitle,[M_param],['NN'])"
   ]
  },
  {
   "cell_type": "code",
   "execution_count": 43,
   "id": "b9956968",
   "metadata": {},
   "outputs": [
    {
     "data": {
      "image/png": "[encoded data removed]",
      "text/plain": [
       "<Figure size 432x288 with 19 Axes>"
      ]
     },
     "metadata": {
      "needs_background": "light"
     },
     "output_type": "display_data"
    }
   ],
   "source": [
    "import matplotlib.gridspec as gridspec\n",
    "color = 'blue'\n",
    "titre_all = r'Histogramme des paramètres du PMSSM \\n MLP'\n",
    "subtitle_M = [r'$M_1$',r'$M_2$',r'$M_3$']\n",
    "subtitle_A = [r'$A_t$',r'$A_b$',r'$A_\\tau$']\n",
    "subtitle_qL = [r'$m_{\\widetilde{q_{1L}}}$',r'$m_{\\widetilde{q_{3L}}}$']\n",
    "subtitle_quark = [r'$m_{\\widetilde{u_R}}$',r'$m_{\\widetilde{d_R}}$',r'$m_{\\widetilde{t_R}}$',r'$m_{\\widetilde{b_R}}$']\n",
    "subtitle_ml = [r'$m_{\\widetilde{e_L}}$',r'$m_{\\widetilde{\\tau_L}}$',r'$m_{\\widetilde{e_R}}$',r'$m_{\\widetilde{\\tau_R}}$']\n",
    "\n",
    "subtitle_all = subtitle_M + [r'$M_{A}$',r'$\\tan \\beta$',r'$\\mu$'] + subtitle_A + subtitle_qL\n",
    "subtitle_all += subtitle_quark + subtitle_ml\n",
    "\n",
    "PMSSM_all = M_param + [mA_param,tanB,mu] + A_param + mqL_param + quark_param + mlL_param + mlR_param\n",
    "bins = 100\n",
    "\n",
    "fig = plt.figure()\n",
    "\n",
    "gs = gridspec.GridSpec(4, 10)\n",
    "gs.update(wspace=3.5,hspace=1.1)\n",
    "\n",
    "ax0 = plt.subplot(gs[0, 0:2])\n",
    "ax0.hist(PMSSM_all[0],bins,color=color)\n",
    "ax0.set_title(subtitle_all[0])\n",
    "\n",
    "ax1 = plt.subplot(gs[0, 2:4])\n",
    "ax1.hist(PMSSM_all[1],bins,color=color)\n",
    "ax1.set_title(subtitle_all[1])\n",
    "\n",
    "ax2 = plt.subplot(gs[0, 4:6])\n",
    "ax2.hist(PMSSM_all[2],bins,color=color)\n",
    "ax2.set_title(subtitle_all[2])\n",
    "\n",
    "ax3 = plt.subplot(gs[0, 6:8])\n",
    "ax3.hist(PMSSM_all[3],bins,color=color)\n",
    "ax3.set_title(subtitle_all[3])\n",
    "\n",
    "ax4 = plt.subplot(gs[0, 8:10])\n",
    "ax4.hist(PMSSM_all[4],bins,color=color)\n",
    "ax4.set_title(subtitle_all[4])\n",
    "\n",
    "ax5 = plt.subplot(gs[1, 0:2])\n",
    "ax5.hist(PMSSM_all[5],bins,color=color)\n",
    "ax5.set_title(subtitle_all[5])\n",
    "\n",
    "ax6 = plt.subplot(gs[1, 2:4])\n",
    "ax6.hist(PMSSM_all[6],bins,color=color)\n",
    "ax6.set_title(subtitle_all[6])\n",
    "\n",
    "ax7 = plt.subplot(gs[1, 4:6])\n",
    "ax7.hist(PMSSM_all[7],bins,color=color)\n",
    "ax7.set_title(subtitle_all[7])\n",
    "\n",
    "ax8 = plt.subplot(gs[1, 6:8])\n",
    "ax8.hist(PMSSM_all[8],bins,color=color)\n",
    "ax8.set_title(subtitle_all[8])\n",
    "\n",
    "ax9 = plt.subplot(gs[1, 8:10])\n",
    "ax9.hist(PMSSM_all[9],bins,color=color)\n",
    "ax9.set_title(subtitle_all[9])\n",
    "\n",
    "ax10 = plt.subplot(gs[2, 0:2])\n",
    "ax10.hist(PMSSM_all[10],bins,color=color)\n",
    "ax10.set_title(subtitle_all[10])\n",
    "\n",
    "ax11 = plt.subplot(gs[2, 2:4])\n",
    "ax11.hist(PMSSM_all[11],bins,color=color)\n",
    "ax11.set_title(subtitle_all[11])\n",
    "\n",
    "ax12 = plt.subplot(gs[2, 4:6])\n",
    "ax12.hist(PMSSM_all[12],bins,color=color)\n",
    "ax12.set_title(subtitle_all[12])\n",
    "\n",
    "ax13 = plt.subplot(gs[2, 6:8])\n",
    "ax13.hist(PMSSM_all[13],bins,color=color)\n",
    "ax13.set_title(subtitle_all[13])\n",
    "\n",
    "ax14 = plt.subplot(gs[2, 8:10])\n",
    "ax14.hist(PMSSM_all[14],bins,color=color)\n",
    "ax14.set_title(subtitle_all[14])\n",
    "\n",
    "ax15 = plt.subplot(gs[3, 1:3])\n",
    "ax15.hist(PMSSM_all[15],bins,color=color)\n",
    "ax15.set_title(subtitle_all[15])\n",
    "\n",
    "ax16 = plt.subplot(gs[3, 3:5])\n",
    "ax16.hist(PMSSM_all[16],bins,color=color)\n",
    "ax16.set_title(subtitle_all[16])\n",
    "\n",
    "ax17 = plt.subplot(gs[3, 5:7])\n",
    "ax17.hist(PMSSM_all[17],bins,color=color)\n",
    "ax17.set_title(subtitle_all[17])\n",
    "\n",
    "ax18 = plt.subplot(gs[3, 7:9])\n",
    "ax18.hist(PMSSM_all[18],bins,color=color)\n",
    "ax18.set_title(subtitle_all[18])\n",
    "\n",
    "fig.text(0.5, 1, titre_all, ha='center')\n",
    "fig.text(0.5, 0, 'Valeur paramètres (GeV)', ha='center')\n",
    "fig.text(0.05, 0.5, 'N', va='center', rotation='vertical')\n",
    "\n",
    "plt.savefig('Jupyter Notebook/pmssm_mlp_plot.svg')\n",
    "plt.show()"
   ]
  },
  {
   "cell_type": "markdown",
   "id": "e0f55a27",
   "metadata": {},
   "source": [
    "# Comparaison Random"
   ]
  },
  {
   "cell_type": "code",
   "execution_count": 30,
   "id": "ebc4c789",
   "metadata": {},
   "outputs": [],
   "source": [
    "def PMSSM_param_random_no_normalization(PMSSM_range):\n",
    "    PMSSM_sample_random = []\n",
    "    \n",
    "    for i in PMSSM_range:\n",
    "        PMSSM_sample_random.append(rd.uniform(i[0],i[1]))\n",
    "    \n",
    "    return PMSSM_sample_random"
   ]
  },
  {
   "cell_type": "markdown",
   "id": "f2d9ed3d",
   "metadata": {},
   "source": [
    "## Random dataset"
   ]
  },
  {
   "cell_type": "code",
   "execution_count": 31,
   "id": "9f24d77c",
   "metadata": {},
   "outputs": [
    {
     "name": "stdout",
     "output_type": "stream",
     "text": [
      "Génération sample\n"
     ]
    },
    {
     "name": "stderr",
     "output_type": "stream",
     "text": [
      "100%|█████████████████████████████████| 10000/10000 [00:00<00:00, 116343.30it/s]\n",
      "rm: impossible de supprimer 'Jupyter Notebook/softsusy_random/*': Aucun fichier ou dossier de ce type\n",
      "100%|█████████████████████████████████████| 10000/10000 [17:52<00:00,  9.32it/s]\n",
      "rm: impossible de supprimer 'Jupyter Notebook/*.out': Aucun fichier ou dossier de ce type\n"
     ]
    },
    {
     "data": {
      "text/plain": [
       "256"
      ]
     },
     "execution_count": 31,
     "metadata": {},
     "output_type": "execute_result"
    }
   ],
   "source": [
    "random_dataset = []\n",
    "\n",
    "print('Génération sample')\n",
    "for i in tqdm(range(taille_dataset*epoch)):\n",
    "    random_dataset.append(PMSSM_param_random_no_normalization(PMSSM_range))\n",
    "\n",
    "succes_rd=0\n",
    "os.system('rm Jupyter\\ Notebook/softsusy_random/*')\n",
    "for step, i in enumerate(tqdm(random_dataset)):\n",
    "    write_slha(i, \"Jupyter Notebook/pmssm_nn_random.in\")\n",
    "    output_name = 'pmssm_nn_random_'+str(step+1)+'.out'\n",
    "    os.system('./SUSY/softsusy-4.1.9/softpoint.x leshouches < Jupyter\\ Notebook/pmssm_nn_random.in > Jupyter\\ Notebook/'+output_name)\n",
    "    erreur = False\n",
    "    with open('Jupyter Notebook/'+output_name) as slha_out:\n",
    "        content = slha_out.read()\n",
    "        if 'SOFTSUSY problem' in content:\n",
    "            erreur = True\n",
    "        if 'LSP # Warning' in content:\n",
    "            erreur = True\n",
    "\n",
    "    if erreur == True:\n",
    "        os.system('rm Jupyter\\ Notebook/'+output_name)\n",
    "    if erreur == False: \n",
    "        succes_rd+=1\n",
    "        output_name_succes = 'pmssm_nn_random_'+str(succes_rd)+'.out'\n",
    "        commande = 'mv Jupyter\\ Notebook/'+output_name+' Jupyter\\ Notebook/softsusy_random/'+output_name_succes\n",
    "        os.system(commande)\n",
    "\n",
    "os.system('rm Jupyter\\ Notebook/*.out')"
   ]
  },
  {
   "cell_type": "code",
   "execution_count": 36,
   "id": "1e28be59",
   "metadata": {},
   "outputs": [
    {
     "name": "stdout",
     "output_type": "stream",
     "text": [
      "Nombre d'échecs: 9026\n",
      "Nombre de succes: 974\n"
     ]
    }
   ],
   "source": [
    "print(\"Nombre d'échecs:\",taille_dataset*epoch-succes_rd)\n",
    "print(\"Nombre de succes:\",succes_rd)"
   ]
  },
  {
   "cell_type": "markdown",
   "id": "bc1d4a73",
   "metadata": {},
   "source": [
    "## Récupération données"
   ]
  },
  {
   "cell_type": "code",
   "execution_count": 41,
   "id": "b62d8825",
   "metadata": {},
   "outputs": [
    {
     "name": "stdout",
     "output_type": "stream",
     "text": [
      "Nombre warning: 0\n"
     ]
    }
   ],
   "source": [
    "g_mass_rd = []\n",
    "neutralino_mass_rd = [[] for i in range(4)]   #[N1 , N2 , N3 , N4]\n",
    "squarkL_mass_rd = [[] for i in range(6)]      #[d , u , s , c , b , t]\n",
    "squarkR_mass_rd = [[] for i in range(6)]       \n",
    "higgs_mass_rd = [[] for i in range(2)]        #[h0 , H0]\n",
    "chargino_mass_rd = [[] for i in range(2)]     #[neutralino1 , neutralino2]\n",
    "\n",
    "M_param_rd = [[] for i in range(3)]           #[M1 , M2 , M3]\n",
    "A_param_rd = [[] for i in range(3)]           #[At , Ab , Atau]\n",
    "mu_rd = []\n",
    "mA_param_rd = []\n",
    "mlL_param_rd = [[] for i in range(3)]         #[meL , mmuL , mtauL]\n",
    "mlR_param_rd = [[] for i in range(3)]         #[meR , mmuR , mtauR]\n",
    "mqL_param_rd = [[] for i in range(3)]         #[mqL1 , mqL2 , mqL3]\n",
    "quark_param_rd = [[] for i in range(6)]       #[u , c , t , d , s , b]\n",
    "tanB_rd = []\n",
    "\n",
    "folder = 'Jupyter Notebook/softsusy_random/'\n",
    "file_name = 'pmssm_nn_random_'\n",
    "\n",
    "sus_mass = [g_mass_rd,neutralino_mass_rd,squarkL_mass_rd,squarkR_mass_rd,\n",
    "            higgs_mass_rd,chargino_mass_rd]\n",
    "param = [M_param_rd,A_param_rd,mu_rd,mA_param_rd,mlL_param_rd,mlR_param_rd,\n",
    "         mqL_param_rd,quark_param_rd,tanB_rd]\n",
    "warning_rd = recuperation_slha(folder,file_name,sus_mass,param,succes_rd)\n",
    "\n",
    "print('Nombre warning:',warning_rd)"
   ]
  },
  {
   "cell_type": "code",
   "execution_count": 44,
   "id": "50690db5",
   "metadata": {},
   "outputs": [
    {
     "data": {
      "image/png": "[encoded data removed]",
      "text/plain": [
       "<Figure size 432x288 with 19 Axes>"
      ]
     },
     "metadata": {
      "needs_background": "light"
     },
     "output_type": "display_data"
    }
   ],
   "source": [
    "color = 'blue'\n",
    "titre_all = r'Histogramme des paramètres du PMSSM avec Uniform grid sampling'\n",
    "subtitle_M = [r'$M_1$',r'$M_2$',r'$M_3$']\n",
    "subtitle_A = [r'$A_t$',r'$A_b$',r'$A_\\tau$']\n",
    "subtitle_qL = [r'$m_{\\widetilde{q_{1L}}}$',r'$m_{\\widetilde{q_{3L}}}$']\n",
    "subtitle_quark = [r'$m_{\\widetilde{u_R}}$',r'$m_{\\widetilde{d_R}}$',r'$m_{\\widetilde{t_R}}$',r'$m_{\\widetilde{b_R}}$']\n",
    "subtitle_ml = [r'$m_{\\widetilde{e_L}}$',r'$m_{\\widetilde{\\tau_L}}$',r'$m_{\\widetilde{e_R}}$',r'$m_{\\widetilde{\\tau_R}}$']\n",
    "\n",
    "subtitle_all = subtitle_M + [r'$M_{A}$',r'$\\tan \\beta$',r'$\\mu$'] + subtitle_A + subtitle_qL\n",
    "subtitle_all += subtitle_quark + subtitle_ml\n",
    "\n",
    "PMSSM_all_rd = M_param_rd + [mA_param_rd,tanB_rd,mu_rd] + A_param_rd + mqL_param_rd + quark_param_rd+ mlL_param_rd + mlR_param_rd\n",
    "bins = 100\n",
    "\n",
    "fig = plt.figure()\n",
    "\n",
    "gs = gridspec.GridSpec(4, 10)\n",
    "gs.update(wspace=3.5,hspace=1.1)\n",
    "\n",
    "ax0 = plt.subplot(gs[0, 0:2])\n",
    "ax0.hist(PMSSM_all_rd[0],bins,color=color)\n",
    "ax0.set_title(subtitle_all[0])\n",
    "\n",
    "ax1 = plt.subplot(gs[0, 2:4])\n",
    "ax1.hist(PMSSM_all_rd[1],bins,color=color)\n",
    "ax1.set_title(subtitle_all[1])\n",
    "\n",
    "ax2 = plt.subplot(gs[0, 4:6])\n",
    "ax2.hist(PMSSM_all_rd[2],bins,color=color)\n",
    "ax2.set_title(subtitle_all[2])\n",
    "\n",
    "ax3 = plt.subplot(gs[0, 6:8])\n",
    "ax3.hist(PMSSM_all_rd[3],bins,color=color)\n",
    "ax3.set_title(subtitle_all[3])\n",
    "\n",
    "ax4 = plt.subplot(gs[0, 8:10])\n",
    "ax4.hist(PMSSM_all_rd[4],bins,color=color)\n",
    "ax4.set_title(subtitle_all[4])\n",
    "\n",
    "ax5 = plt.subplot(gs[1, 0:2])\n",
    "ax5.hist(PMSSM_all_rd[5],bins,color=color)\n",
    "ax5.set_title(subtitle_all[5])\n",
    "\n",
    "ax6 = plt.subplot(gs[1, 2:4])\n",
    "ax6.hist(PMSSM_all_rd[6],bins,color=color)\n",
    "ax6.set_title(subtitle_all[6])\n",
    "\n",
    "ax7 = plt.subplot(gs[1, 4:6])\n",
    "ax7.hist(PMSSM_all_rd[7],bins,color=color)\n",
    "ax7.set_title(subtitle_all[7])\n",
    "\n",
    "ax8 = plt.subplot(gs[1, 6:8])\n",
    "ax8.hist(PMSSM_all_rd[8],bins,color=color)\n",
    "ax8.set_title(subtitle_all[8])\n",
    "\n",
    "ax9 = plt.subplot(gs[1, 8:10])\n",
    "ax9.hist(PMSSM_all_rd[9],bins,color=color)\n",
    "ax9.set_title(subtitle_all[9])\n",
    "\n",
    "ax10 = plt.subplot(gs[2, 0:2])\n",
    "ax10.hist(PMSSM_all_rd[10],bins,color=color)\n",
    "ax10.set_title(subtitle_all[10])\n",
    "\n",
    "ax11 = plt.subplot(gs[2, 2:4])\n",
    "ax11.hist(PMSSM_all_rd[11],bins,color=color)\n",
    "ax11.set_title(subtitle_all[11])\n",
    "\n",
    "ax12 = plt.subplot(gs[2, 4:6])\n",
    "ax12.hist(PMSSM_all_rd[12],bins,color=color)\n",
    "ax12.set_title(subtitle_all[12])\n",
    "\n",
    "ax13 = plt.subplot(gs[2, 6:8])\n",
    "ax13.hist(PMSSM_all_rd[13],bins,color=color)\n",
    "ax13.set_title(subtitle_all[13])\n",
    "\n",
    "ax14 = plt.subplot(gs[2, 8:10])\n",
    "ax14.hist(PMSSM_all_rd[14],bins,color=color)\n",
    "ax14.set_title(subtitle_all[14])\n",
    "\n",
    "ax15 = plt.subplot(gs[3, 1:3])\n",
    "ax15.hist(PMSSM_all_rd[15],bins,color=color)\n",
    "ax15.set_title(subtitle_all[15])\n",
    "\n",
    "ax16 = plt.subplot(gs[3, 3:5])\n",
    "ax16.hist(PMSSM_all_rd[16],bins,color=color)\n",
    "ax16.set_title(subtitle_all[16])\n",
    "\n",
    "ax17 = plt.subplot(gs[3, 5:7])\n",
    "ax17.hist(PMSSM_all_rd[17],bins,color=color)\n",
    "ax17.set_title(subtitle_all[17])\n",
    "\n",
    "ax18 = plt.subplot(gs[3, 7:9])\n",
    "ax18.hist(PMSSM_all_rd[18],bins,color=color)\n",
    "ax18.set_title(subtitle_all[18])\n",
    "\n",
    "fig.text(0.5, 1, titre_all, ha='center')\n",
    "fig.text(0.5, 0, 'Valeur paramètres (GeV)', ha='center')\n",
    "fig.text(0.05, 0.5, 'N', va='center', rotation='vertical')\n",
    "\n",
    "plt.savefig('Jupyter Notebook/pmssm_mlp_plot_rd.svg')\n",
    "plt.show()"
   ]
  },
  {
   "cell_type": "markdown",
   "id": "e2516ea6",
   "metadata": {},
   "source": [
    "## Plots"
   ]
  },
  {
   "cell_type": "markdown",
   "id": "7455238e",
   "metadata": {},
   "source": [
    "### Plots mass"
   ]
  },
  {
   "cell_type": "code",
   "execution_count": null,
   "id": "dce97f3f",
   "metadata": {},
   "outputs": [],
   "source": [
    "titre = r'Histogramme de la masse du gluino $\\widetilde{g}$'\n",
    "xlabel = 'Masse (MeV)'\n",
    "ylabel = 'N'\n",
    "plot_histo(titre,xlabel,ylabel,[g_mass,g_mass_rd],100,['NN','rd'],True,'step')\n",
    "\n",
    "titre = 'Histogramme de la masse des neutralinos'\n",
    "subtitle = [r'$\\widetilde{\\chi_1^0}$',r'$\\widetilde{\\chi_2^0}$',r'$\\widetilde{\\chi_3^0}$',r'$\\widetilde{\\chi_4^0}$']\n",
    "share = [False,True]\n",
    "subplot_histo(titre,xlabel,ylabel,2,2,share,subtitle,[neutralino_mass,neutralino_mass_rd],['NN','rd'],True,'step')\n",
    "\n",
    "titre = 'Histogramme de la masse des quarks L'\n",
    "subtitle = [r'$\\widetilde{d}$',r'$\\widetilde{u}$',r'$\\widetilde{s}$',r'$\\widetilde{c}$',r'$\\widetilde{t}$',r'$\\widetilde{b}$']    \n",
    "subplot_histo(titre,xlabel,ylabel,2,3,share,subtitle,[squarkL_mass,squarkL_mass_rd],['NN','rd'],True,'step')\n",
    "\n",
    "titre = 'Histogramme de la masse des quarks R' \n",
    "subplot_histo(titre,xlabel,ylabel,2,3,share,subtitle,[squarkR_mass,squarkR_mass_rd],['NN','rd'],True,'step')\n",
    "\n",
    "titre = 'Histogramme de la masse des bosons de Higgs'    \n",
    "subtitle = [r'$h_0$',r'$H_0$']\n",
    "subplot_histo(titre,xlabel,ylabel,2,1,share,subtitle,[higgs_mass,higgs_mass_rd],['NN','rd'],True,'step')\n",
    "\n",
    "titre = 'Histogramme de la masse des charginos'    \n",
    "subtitle = [r'$\\widetilde{\\chi_1^+}$',r'$\\widetilde{\\chi_1^-}$']\n",
    "subplot_histo(titre,xlabel,ylabel,2,1,share,subtitle,[chargino_mass,chargino_mass_rd],['NN','rd'],True,'step')"
   ]
  },
  {
   "cell_type": "markdown",
   "id": "1aa49cf9",
   "metadata": {},
   "source": [
    "### Plot param "
   ]
  },
  {
   "cell_type": "code",
   "execution_count": null,
   "id": "ab450319",
   "metadata": {},
   "outputs": [],
   "source": [
    "titre = r'Histogramme du paramètre $\\mu$'\n",
    "plot_histo(titre,xlabel,ylabel,[mu,mu_rd],100,['NN','rd'],True,'step')\n",
    "\n",
    "titre = 'Histogramme des paramètres de masse des quarks'\n",
    "subtitle = [r'$\\widetilde{u}$',r'$\\widetilde{c}$',r'$\\widetilde{t}$',r'$\\widetilde{d}$',r'$\\widetilde{s}$',r'$\\widetilde{b}$']\n",
    "subplot_histo(titre,xlabel,ylabel,2,2,share,subtitle,[quark_param,quark_param_rd],['NN','rd'],True,'step')\n",
    "\n",
    "titre = 'Histogramme des paramètres de masse'\n",
    "subtitle = [r'$M_1$',r'$M_2$',r'$M_3$']\n",
    "subplot_histo(titre,xlabel,ylabel,3,1,share,subtitle,[M_param,M_param_rd],['NN','rd'],True,'step')"
   ]
  },
  {
   "cell_type": "markdown",
   "id": "cf56ab8a",
   "metadata": {},
   "source": [
    "# Comparaison NN et random"
   ]
  },
  {
   "cell_type": "code",
   "execution_count": null,
   "id": "8eb282cc",
   "metadata": {},
   "outputs": [],
   "source": [
    "print('Statisique du Neural Network')\n",
    "print(\"Nombre d'échecs:\",ratio[0])\n",
    "print(\"Nombre de succes:\",ratio[1])\n",
    "print('Nombre warning:', warning)\n",
    "print('Éfficacité du Neural Network:',ratio[1]/taille_dataset*100/epoch,'%')\n",
    "print('\\n')\n",
    "\n",
    "print('Statisique du random')\n",
    "print(\"Nombre d'échecs:\",taille_dataset*epoch-succes_rd)\n",
    "print(\"Nombre de succes:\",succes_rd)\n",
    "print('Nombre warning:', warning_rd)\n",
    "print('Éfficacité du random:',succes_rd/(taille_dataset*epoch)*100,'%')"
   ]
  },
  {
   "cell_type": "code",
   "execution_count": null,
   "id": "de6eaa00",
   "metadata": {},
   "outputs": [],
   "source": [
    "import pandas as pd\n",
    "import six\n",
    "\n",
    "df = pd.DataFrame()\n",
    "df['Méthode utilisée'] = ['Neural Network','Random']\n",
    "df[\"Nombre d'échecs\"] = [ratio[0],taille_dataset*epoch-succes_rd]\n",
    "df['Nombre de succès'] = [ratio[1],succes_rd]\n",
    "df['Nombre de warning LSP'] = [warning,warning_rd]\n",
    "df['Éfficacité (%)'] = [ratio[1]/taille_dataset*100/epoch,succes_rd/(taille_dataset*epoch)*100]\n",
    "\n",
    "\n",
    "def render_mpl_table(data, col_width=3.0, row_height=0.625, font_size=14,\n",
    "                     header_color='#40466e', row_colors=['#f1f1f2', 'w'], edge_color='w',\n",
    "                     bbox=[0, 0, 1, 1], header_columns=0,\n",
    "                     ax=None, **kwargs):\n",
    "    if ax is None:\n",
    "        size = (np.array(data.shape[::-1]) + np.array([0, 1])) * np.array([col_width, row_height])\n",
    "        fig, ax = plt.subplots(figsize=size)\n",
    "        ax.axis('off')\n",
    "\n",
    "    mpl_table = ax.table(cellText=data.values, bbox=bbox, colLabels=data.columns, **kwargs)\n",
    "\n",
    "    mpl_table.auto_set_font_size(False)\n",
    "    mpl_table.set_fontsize(font_size)\n",
    "\n",
    "    for k, cell in  six.iteritems(mpl_table._cells):\n",
    "        cell.set_edgecolor(edge_color)\n",
    "        if k[0] == 0 or k[1] < header_columns:\n",
    "            cell.set_text_props(weight='bold', color='w')\n",
    "            cell.set_facecolor(header_color)\n",
    "        else:\n",
    "            cell.set_facecolor(row_colors[k[0]%len(row_colors) ])\n",
    "    return ax\n",
    "\n",
    "render_mpl_table(df, header_columns=1, col_width=5.0, cellLoc='center')"
   ]
  }
 ],
 "metadata": {
  "kernelspec": {
   "display_name": "Python 3 (ipykernel)",
   "language": "python",
   "name": "python3"
  },
  "language_info": {
   "codemirror_mode": {
    "name": "ipython",
    "version": 3
   },
   "file_extension": ".py",
   "mimetype": "text/x-python",
   "name": "python",
   "nbconvert_exporter": "python",
   "pygments_lexer": "ipython3",
   "version": "3.8.10"
  }
 },
 "nbformat": 4,
 "nbformat_minor": 5
}
